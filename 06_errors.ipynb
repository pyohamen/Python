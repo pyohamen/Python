{
  "nbformat": 4,
  "nbformat_minor": 0,
  "metadata": {
    "kernelspec": {
      "display_name": "Python 3",
      "language": "python",
      "name": "python3"
    },
    "language_info": {
      "codemirror_mode": {
        "name": "ipython",
        "version": 3
      },
      "file_extension": ".py",
      "mimetype": "text/x-python",
      "name": "python",
      "nbconvert_exporter": "python",
      "pygments_lexer": "ipython3",
      "version": "3.7.3"
    },
    "latex_envs": {
      "LaTeX_envs_menu_present": true,
      "autoclose": false,
      "autocomplete": true,
      "bibliofile": "biblio.bib",
      "cite_by": "apalike",
      "current_citInitial": 1,
      "eqLabelWithNumbers": true,
      "eqNumInitial": 1,
      "hotkeys": {
        "equation": "Ctrl-E",
        "itemize": "Ctrl-I"
      },
      "labels_anchors": false,
      "latex_user_defs": false,
      "report_style_numbering": false,
      "user_envs_cfg": false
    },
    "toc": {
      "base_numbering": 1,
      "nav_menu": {},
      "number_sections": true,
      "sideBar": true,
      "skip_h1_title": false,
      "title_cell": "Table of Contents",
      "title_sidebar": "Contents",
      "toc_cell": false,
      "toc_position": {},
      "toc_section_display": true,
      "toc_window_display": false
    },
    "colab": {
      "name": "06_errors.ipynb",
      "provenance": [],
      "include_colab_link": true
    }
  },
  "cells": [
    {
      "cell_type": "markdown",
      "metadata": {
        "id": "view-in-github",
        "colab_type": "text"
      },
      "source": [
        "<a href=\"https://colab.research.google.com/github/pyohamen/SSAFY/blob/master/Python/06_errors.ipynb\" target=\"_parent\"><img src=\"https://colab.research.google.com/assets/colab-badge.svg\" alt=\"Open In Colab\"/></a>"
      ]
    },
    {
      "cell_type": "markdown",
      "metadata": {
        "id": "OGZyakiadrsS"
      },
      "source": [
        "# Errors and Exceptions\n",
        "\n",
        "발생할 수 있는 오류와 예외처리를 확인해봅시다."
      ]
    },
    {
      "cell_type": "markdown",
      "metadata": {
        "id": "zyXmN4vXdrsW"
      },
      "source": [
        "## 문법 에러 (Syntax Error)\n",
        "\n",
        "가장 많이 만날 수 있는 에러로 발생한 `파일 이름`과 `줄번호`, `^` 문자 을 통해 파이썬이 읽어 들일 때(parser)의 문제 발생 위치를 표현합니다.\n",
        "\n",
        "`parser` 는 문제가 되는 줄을 다시 보여주고 줄에서 에러가 감지된 가장 앞의 위치를 가리키는 작은 '화살표(`^`)'를 표시합니다."
      ]
    },
    {
      "cell_type": "code",
      "metadata": {
        "id": "pWz9spakdrsX"
      },
      "source": [
        "# if문을 통해 발생시켜봅시다."
      ],
      "execution_count": null,
      "outputs": []
    },
    {
      "cell_type": "code",
      "metadata": {
        "id": "PnOLHPNMdrsY",
        "outputId": "f8974e57-b58c-4494-8854-f9eec6ca59aa"
      },
      "source": [
        "if True:\n",
        "    print('참')\n",
        "else\n",
        "    print('거짓')"
      ],
      "execution_count": null,
      "outputs": [
        {
          "output_type": "error",
          "ename": "SyntaxError",
          "evalue": "invalid syntax (<ipython-input-1-04c4e0453d50>, line 3)",
          "traceback": [
            "\u001b[1;36m  File \u001b[1;32m\"<ipython-input-1-04c4e0453d50>\"\u001b[1;36m, line \u001b[1;32m3\u001b[0m\n\u001b[1;33m    else\u001b[0m\n\u001b[1;37m        ^\u001b[0m\n\u001b[1;31mSyntaxError\u001b[0m\u001b[1;31m:\u001b[0m invalid syntax\n"
          ]
        }
      ]
    },
    {
      "cell_type": "code",
      "metadata": {
        "id": "8beW0zCUdrsa"
      },
      "source": [
        "# print문을 통해 다른 오류를 발생시켜봅시다.\n",
        "# EOL 오류(따옴표 오류) 를 봅시다."
      ],
      "execution_count": null,
      "outputs": []
    },
    {
      "cell_type": "code",
      "metadata": {
        "id": "tblFe0hPdrsb",
        "outputId": "59ffda76-da19-4677-b397-56bd682c8472"
      },
      "source": [
        "print('hi)"
      ],
      "execution_count": null,
      "outputs": [
        {
          "output_type": "error",
          "ename": "SyntaxError",
          "evalue": "EOL while scanning string literal (<ipython-input-2-8878a92e9096>, line 1)",
          "traceback": [
            "\u001b[1;36m  File \u001b[1;32m\"<ipython-input-2-8878a92e9096>\"\u001b[1;36m, line \u001b[1;32m1\u001b[0m\n\u001b[1;33m    print('hi)\u001b[0m\n\u001b[1;37m              ^\u001b[0m\n\u001b[1;31mSyntaxError\u001b[0m\u001b[1;31m:\u001b[0m EOL while scanning string literal\n"
          ]
        }
      ]
    },
    {
      "cell_type": "code",
      "metadata": {
        "id": "cVkZXa9Bdrsc"
      },
      "source": [
        "# EOF 에러(괄호 닫기 오류)도 보게됩니다."
      ],
      "execution_count": null,
      "outputs": []
    },
    {
      "cell_type": "code",
      "metadata": {
        "id": "p1BjYQq8drsc",
        "outputId": "b0880a1b-55fc-402f-c9e1-161cc93bab00"
      },
      "source": [
        "print('hi'"
      ],
      "execution_count": null,
      "outputs": [
        {
          "output_type": "error",
          "ename": "SyntaxError",
          "evalue": "unexpected EOF while parsing (<ipython-input-3-b298cb61b70b>, line 1)",
          "traceback": [
            "\u001b[1;36m  File \u001b[1;32m\"<ipython-input-3-b298cb61b70b>\"\u001b[1;36m, line \u001b[1;32m1\u001b[0m\n\u001b[1;33m    print('hi'\u001b[0m\n\u001b[1;37m              ^\u001b[0m\n\u001b[1;31mSyntaxError\u001b[0m\u001b[1;31m:\u001b[0m unexpected EOF while parsing\n"
          ]
        }
      ]
    },
    {
      "cell_type": "code",
      "metadata": {
        "id": "cP8y689rdrsd"
      },
      "source": [
        "# 정확한 위치를 지정하지 않을 수도 있으므로 앞뒤로 모두 확인을 해봐야합니다."
      ],
      "execution_count": null,
      "outputs": []
    },
    {
      "cell_type": "code",
      "metadata": {
        "id": "S7DBLTd2drsd",
        "outputId": "2e31cd6c-2172-4bbc-8c48-6ddeb0456f23"
      },
      "source": [
        "if True print('참')"
      ],
      "execution_count": null,
      "outputs": [
        {
          "output_type": "error",
          "ename": "SyntaxError",
          "evalue": "invalid syntax (<ipython-input-5-ae56d80f3d7b>, line 1)",
          "traceback": [
            "\u001b[1;36m  File \u001b[1;32m\"<ipython-input-5-ae56d80f3d7b>\"\u001b[1;36m, line \u001b[1;32m1\u001b[0m\n\u001b[1;33m    if True print('참')\u001b[0m\n\u001b[1;37m                ^\u001b[0m\n\u001b[1;31mSyntaxError\u001b[0m\u001b[1;31m:\u001b[0m invalid syntax\n"
          ]
        }
      ]
    },
    {
      "cell_type": "markdown",
      "metadata": {
        "id": "xFUm_TyVdrse"
      },
      "source": [
        "## 예외 (Exceptions)\n",
        "\n",
        "* 문법이나 표현식이 바르게 되어있지만, 실행시 발생하는 에러다.\n",
        "\n",
        "* 아래 제시된 모든 에러는 Exception을 상속받아 이뤄진다."
      ]
    },
    {
      "cell_type": "code",
      "metadata": {
        "id": "G2BGkWradrse"
      },
      "source": [
        "# ZeroDivisionError를 확인해봅시다."
      ],
      "execution_count": null,
      "outputs": []
    },
    {
      "cell_type": "code",
      "metadata": {
        "id": "-8eTplWHdrse",
        "outputId": "8fa4aa6b-869f-4cdc-93b1-2ed2e6c7d917"
      },
      "source": [
        "# 0으로 나눌수는 없습니다.\n",
        "10*(1/0)"
      ],
      "execution_count": null,
      "outputs": [
        {
          "output_type": "error",
          "ename": "ZeroDivisionError",
          "evalue": "division by zero",
          "traceback": [
            "\u001b[1;31m---------------------------------------------------------------------------\u001b[0m",
            "\u001b[1;31mZeroDivisionError\u001b[0m                         Traceback (most recent call last)",
            "\u001b[1;32m<ipython-input-6-07a5659b36d6>\u001b[0m in \u001b[0;36m<module>\u001b[1;34m\u001b[0m\n\u001b[0;32m      1\u001b[0m \u001b[1;31m# 0으로 나눌수는 없습니다.\u001b[0m\u001b[1;33m\u001b[0m\u001b[1;33m\u001b[0m\u001b[1;33m\u001b[0m\u001b[0m\n\u001b[1;32m----> 2\u001b[1;33m \u001b[1;36m10\u001b[0m\u001b[1;33m*\u001b[0m\u001b[1;33m(\u001b[0m\u001b[1;36m1\u001b[0m\u001b[1;33m/\u001b[0m\u001b[1;36m0\u001b[0m\u001b[1;33m)\u001b[0m\u001b[1;33m\u001b[0m\u001b[1;33m\u001b[0m\u001b[0m\n\u001b[0m",
            "\u001b[1;31mZeroDivisionError\u001b[0m: division by zero"
          ]
        }
      ]
    },
    {
      "cell_type": "code",
      "metadata": {
        "id": "jlVqwGg8drsf"
      },
      "source": [
        "# NameError를 확인해봅시다. "
      ],
      "execution_count": null,
      "outputs": []
    },
    {
      "cell_type": "code",
      "metadata": {
        "id": "MYX6Rsxsdrsf",
        "outputId": "0f0601a0-39ec-414b-bbf5-09bf7357a1d4"
      },
      "source": [
        "# 지역 혹은 전역 이름 공간내에서 유효하지 않는 이름\n",
        "# 즉 정의되지 않은 변수를 호출 하였을 경우\n",
        "print(abc)"
      ],
      "execution_count": null,
      "outputs": [
        {
          "output_type": "error",
          "ename": "NameError",
          "evalue": "name 'abc' is not defined",
          "traceback": [
            "\u001b[1;31m---------------------------------------------------------------------------\u001b[0m",
            "\u001b[1;31mNameError\u001b[0m                                 Traceback (most recent call last)",
            "\u001b[1;32m<ipython-input-7-2beba0d725dd>\u001b[0m in \u001b[0;36m<module>\u001b[1;34m\u001b[0m\n\u001b[0;32m      1\u001b[0m \u001b[1;31m# 지역 혹은 전역 이름 공간내에서 유효하지 않는 이름\u001b[0m\u001b[1;33m\u001b[0m\u001b[1;33m\u001b[0m\u001b[1;33m\u001b[0m\u001b[0m\n\u001b[0;32m      2\u001b[0m \u001b[1;31m# 즉 정의되지 않은 변수를 호출 하였을 경우\u001b[0m\u001b[1;33m\u001b[0m\u001b[1;33m\u001b[0m\u001b[1;33m\u001b[0m\u001b[0m\n\u001b[1;32m----> 3\u001b[1;33m \u001b[0mprint\u001b[0m\u001b[1;33m(\u001b[0m\u001b[0mabc\u001b[0m\u001b[1;33m)\u001b[0m\u001b[1;33m\u001b[0m\u001b[1;33m\u001b[0m\u001b[0m\n\u001b[0m",
            "\u001b[1;31mNameError\u001b[0m: name 'abc' is not defined"
          ]
        }
      ]
    },
    {
      "cell_type": "code",
      "metadata": {
        "id": "vKC9ZLrgdrsf"
      },
      "source": [
        "# TypeError를 확인해봅시다."
      ],
      "execution_count": null,
      "outputs": []
    },
    {
      "cell_type": "code",
      "metadata": {
        "id": "pnjXc1LDdrsg",
        "outputId": "0a6d9410-0f1d-4527-b01b-3ab9fa167caf"
      },
      "source": [
        "# 자료형에 대한 타입 자체가 잘못 되었을 경우\n",
        "1+'1'"
      ],
      "execution_count": null,
      "outputs": [
        {
          "output_type": "error",
          "ename": "TypeError",
          "evalue": "unsupported operand type(s) for +: 'int' and 'str'",
          "traceback": [
            "\u001b[1;31m---------------------------------------------------------------------------\u001b[0m",
            "\u001b[1;31mTypeError\u001b[0m                                 Traceback (most recent call last)",
            "\u001b[1;32m<ipython-input-8-d2e20813d981>\u001b[0m in \u001b[0;36m<module>\u001b[1;34m\u001b[0m\n\u001b[0;32m      1\u001b[0m \u001b[1;31m# 자료형에 대한 타입 자체가 잘못 되었을 경우\u001b[0m\u001b[1;33m\u001b[0m\u001b[1;33m\u001b[0m\u001b[1;33m\u001b[0m\u001b[0m\n\u001b[1;32m----> 2\u001b[1;33m \u001b[1;36m1\u001b[0m\u001b[1;33m+\u001b[0m\u001b[1;34m'1'\u001b[0m\u001b[1;33m\u001b[0m\u001b[1;33m\u001b[0m\u001b[0m\n\u001b[0m",
            "\u001b[1;31mTypeError\u001b[0m: unsupported operand type(s) for +: 'int' and 'str'"
          ]
        }
      ]
    },
    {
      "cell_type": "code",
      "metadata": {
        "id": "gErp7of8drsg"
      },
      "source": [
        "# 함수 호출과정에서 TypeError도 발생하게 됩니다. 확인해봅시다."
      ],
      "execution_count": null,
      "outputs": []
    },
    {
      "cell_type": "code",
      "metadata": {
        "id": "x4Nulq0adrsg",
        "outputId": "314caa7c-f310-4a0e-ee20-307e2f7faf73"
      },
      "source": [
        "round('3.5')"
      ],
      "execution_count": null,
      "outputs": [
        {
          "output_type": "error",
          "ename": "TypeError",
          "evalue": "type str doesn't define __round__ method",
          "traceback": [
            "\u001b[1;31m---------------------------------------------------------------------------\u001b[0m",
            "\u001b[1;31mTypeError\u001b[0m                                 Traceback (most recent call last)",
            "\u001b[1;32m<ipython-input-9-ebbc9f47e959>\u001b[0m in \u001b[0;36m<module>\u001b[1;34m\u001b[0m\n\u001b[1;32m----> 1\u001b[1;33m \u001b[0mround\u001b[0m\u001b[1;33m(\u001b[0m\u001b[1;34m'3.5'\u001b[0m\u001b[1;33m)\u001b[0m\u001b[1;33m\u001b[0m\u001b[1;33m\u001b[0m\u001b[0m\n\u001b[0m",
            "\u001b[1;31mTypeError\u001b[0m: type str doesn't define __round__ method"
          ]
        }
      ]
    },
    {
      "cell_type": "code",
      "metadata": {
        "id": "bVleUuEodrsi"
      },
      "source": [
        "# 함수호출 과정에서 다양한 오류를 확인할 수 있습니다. : 필수 argument 누락"
      ],
      "execution_count": null,
      "outputs": []
    },
    {
      "cell_type": "code",
      "metadata": {
        "id": "fOQzKwDRdrsi",
        "outputId": "b32b6db3-8694-4823-bc87-792c9d5362c7"
      },
      "source": [
        "import random\n",
        "random.sample([1,2,3])"
      ],
      "execution_count": null,
      "outputs": [
        {
          "output_type": "error",
          "ename": "TypeError",
          "evalue": "sample() missing 1 required positional argument: 'k'",
          "traceback": [
            "\u001b[1;31m---------------------------------------------------------------------------\u001b[0m",
            "\u001b[1;31mTypeError\u001b[0m                                 Traceback (most recent call last)",
            "\u001b[1;32m<ipython-input-10-336aecb5aa2f>\u001b[0m in \u001b[0;36m<module>\u001b[1;34m\u001b[0m\n\u001b[0;32m      1\u001b[0m \u001b[1;32mimport\u001b[0m \u001b[0mrandom\u001b[0m\u001b[1;33m\u001b[0m\u001b[1;33m\u001b[0m\u001b[0m\n\u001b[1;32m----> 2\u001b[1;33m \u001b[0mrandom\u001b[0m\u001b[1;33m.\u001b[0m\u001b[0msample\u001b[0m\u001b[1;33m(\u001b[0m\u001b[1;33m[\u001b[0m\u001b[1;36m1\u001b[0m\u001b[1;33m,\u001b[0m\u001b[1;36m2\u001b[0m\u001b[1;33m,\u001b[0m\u001b[1;36m3\u001b[0m\u001b[1;33m]\u001b[0m\u001b[1;33m)\u001b[0m\u001b[1;33m\u001b[0m\u001b[1;33m\u001b[0m\u001b[0m\n\u001b[0m",
            "\u001b[1;31mTypeError\u001b[0m: sample() missing 1 required positional argument: 'k'"
          ]
        }
      ]
    },
    {
      "cell_type": "code",
      "metadata": {
        "id": "u49GI5FZdrsj"
      },
      "source": [
        "# 함수호출 과정에서 다양한 오류를 확인할 수 있습니다. : argument 많은 경우"
      ],
      "execution_count": null,
      "outputs": []
    },
    {
      "cell_type": "code",
      "metadata": {
        "id": "xq67zXkVdrsj",
        "outputId": "cf3572db-7775-423a-e557-de852ed49e09"
      },
      "source": [
        "random.choice([1,2,3],6)"
      ],
      "execution_count": null,
      "outputs": [
        {
          "output_type": "error",
          "ename": "TypeError",
          "evalue": "choice() takes 2 positional arguments but 3 were given",
          "traceback": [
            "\u001b[1;31m---------------------------------------------------------------------------\u001b[0m",
            "\u001b[1;31mTypeError\u001b[0m                                 Traceback (most recent call last)",
            "\u001b[1;32m<ipython-input-11-d628a8ea2bee>\u001b[0m in \u001b[0;36m<module>\u001b[1;34m\u001b[0m\n\u001b[1;32m----> 1\u001b[1;33m \u001b[0mrandom\u001b[0m\u001b[1;33m.\u001b[0m\u001b[0mchoice\u001b[0m\u001b[1;33m(\u001b[0m\u001b[1;33m[\u001b[0m\u001b[1;36m1\u001b[0m\u001b[1;33m,\u001b[0m\u001b[1;36m2\u001b[0m\u001b[1;33m,\u001b[0m\u001b[1;36m3\u001b[0m\u001b[1;33m]\u001b[0m\u001b[1;33m,\u001b[0m\u001b[1;36m6\u001b[0m\u001b[1;33m)\u001b[0m\u001b[1;33m\u001b[0m\u001b[1;33m\u001b[0m\u001b[0m\n\u001b[0m",
            "\u001b[1;31mTypeError\u001b[0m: choice() takes 2 positional arguments but 3 were given"
          ]
        }
      ]
    },
    {
      "cell_type": "code",
      "metadata": {
        "id": "xSco0HDGdrsk"
      },
      "source": [
        "# ValueError를 확인해봅시다."
      ],
      "execution_count": null,
      "outputs": []
    },
    {
      "cell_type": "code",
      "metadata": {
        "id": "Yc0WTb6idrsk",
        "outputId": "3afddd29-694d-44d6-88f8-de3caec8fe40"
      },
      "source": [
        "# 자료형에 대한 타입은 올바르나 값이 적절하지 않는 경우\n",
        "int('3.5')"
      ],
      "execution_count": null,
      "outputs": [
        {
          "output_type": "error",
          "ename": "ValueError",
          "evalue": "invalid literal for int() with base 10: '3.5'",
          "traceback": [
            "\u001b[1;31m---------------------------------------------------------------------------\u001b[0m",
            "\u001b[1;31mValueError\u001b[0m                                Traceback (most recent call last)",
            "\u001b[1;32m<ipython-input-12-8ea914687a01>\u001b[0m in \u001b[0;36m<module>\u001b[1;34m\u001b[0m\n\u001b[0;32m      1\u001b[0m \u001b[1;31m# 자료형에 대한 타입은 올바르나 값이 적절하지 않는 경우\u001b[0m\u001b[1;33m\u001b[0m\u001b[1;33m\u001b[0m\u001b[1;33m\u001b[0m\u001b[0m\n\u001b[1;32m----> 2\u001b[1;33m \u001b[0mint\u001b[0m\u001b[1;33m(\u001b[0m\u001b[1;34m'3.5'\u001b[0m\u001b[1;33m)\u001b[0m\u001b[1;33m\u001b[0m\u001b[1;33m\u001b[0m\u001b[0m\n\u001b[0m",
            "\u001b[1;31mValueError\u001b[0m: invalid literal for int() with base 10: '3.5'"
          ]
        }
      ]
    },
    {
      "cell_type": "code",
      "metadata": {
        "id": "n0si-PzDdrsk"
      },
      "source": [
        "# ValueError를 확인해봅시다."
      ],
      "execution_count": null,
      "outputs": []
    },
    {
      "cell_type": "code",
      "metadata": {
        "id": "dy5yNh_bdrsl",
        "outputId": "cac37f2a-2429-46fe-9cb3-bc5a91677281"
      },
      "source": [
        "# 값이 적절하지 않은 경우(값이 없는데 찾으려고함)\n",
        "numbers=[1,2]\n",
        "numbers.index(3)"
      ],
      "execution_count": null,
      "outputs": [
        {
          "output_type": "error",
          "ename": "ValueError",
          "evalue": "3 is not in list",
          "traceback": [
            "\u001b[1;31m---------------------------------------------------------------------------\u001b[0m",
            "\u001b[1;31mValueError\u001b[0m                                Traceback (most recent call last)",
            "\u001b[1;32m<ipython-input-13-289fd7ad63ee>\u001b[0m in \u001b[0;36m<module>\u001b[1;34m\u001b[0m\n\u001b[0;32m      1\u001b[0m \u001b[1;31m# 값이 적절하지 않은 경우(값이 없는데 찾으려고함)\u001b[0m\u001b[1;33m\u001b[0m\u001b[1;33m\u001b[0m\u001b[1;33m\u001b[0m\u001b[0m\n\u001b[0;32m      2\u001b[0m \u001b[0mnumbers\u001b[0m\u001b[1;33m=\u001b[0m\u001b[1;33m[\u001b[0m\u001b[1;36m1\u001b[0m\u001b[1;33m,\u001b[0m\u001b[1;36m2\u001b[0m\u001b[1;33m]\u001b[0m\u001b[1;33m\u001b[0m\u001b[1;33m\u001b[0m\u001b[0m\n\u001b[1;32m----> 3\u001b[1;33m \u001b[0mnumbers\u001b[0m\u001b[1;33m.\u001b[0m\u001b[0mindex\u001b[0m\u001b[1;33m(\u001b[0m\u001b[1;36m3\u001b[0m\u001b[1;33m)\u001b[0m\u001b[1;33m\u001b[0m\u001b[1;33m\u001b[0m\u001b[0m\n\u001b[0m",
            "\u001b[1;31mValueError\u001b[0m: 3 is not in list"
          ]
        }
      ]
    },
    {
      "cell_type": "code",
      "metadata": {
        "id": "HU7rh50Fdrsl"
      },
      "source": [
        "# IndexError를 확인해봅시다."
      ],
      "execution_count": null,
      "outputs": []
    },
    {
      "cell_type": "code",
      "metadata": {
        "id": "UdDJaPtidrsm",
        "outputId": "e9fdbae5-e06f-4cf4-d0a1-c41da4e75c19"
      },
      "source": [
        "empty = []\n",
        "empty[-1]"
      ],
      "execution_count": null,
      "outputs": [
        {
          "output_type": "error",
          "ename": "IndexError",
          "evalue": "list index out of range",
          "traceback": [
            "\u001b[1;31m---------------------------------------------------------------------------\u001b[0m",
            "\u001b[1;31mIndexError\u001b[0m                                Traceback (most recent call last)",
            "\u001b[1;32m<ipython-input-7-d32a91922687>\u001b[0m in \u001b[0;36m<module>\u001b[1;34m\u001b[0m\n\u001b[0;32m      1\u001b[0m \u001b[0mempty\u001b[0m \u001b[1;33m=\u001b[0m \u001b[1;33m[\u001b[0m\u001b[1;33m]\u001b[0m\u001b[1;33m\u001b[0m\u001b[1;33m\u001b[0m\u001b[0m\n\u001b[1;32m----> 2\u001b[1;33m \u001b[0mempty\u001b[0m\u001b[1;33m[\u001b[0m\u001b[1;33m-\u001b[0m\u001b[1;36m1\u001b[0m\u001b[1;33m]\u001b[0m\u001b[1;33m\u001b[0m\u001b[1;33m\u001b[0m\u001b[0m\n\u001b[0m",
            "\u001b[1;31mIndexError\u001b[0m: list index out of range"
          ]
        }
      ]
    },
    {
      "cell_type": "code",
      "metadata": {
        "id": "-iBwwLVfdrsm"
      },
      "source": [
        "# KeyError를 확인해봅시다. "
      ],
      "execution_count": null,
      "outputs": []
    },
    {
      "cell_type": "code",
      "metadata": {
        "id": "OrpIOPdgdrsm",
        "outputId": "a8a7cd72-b892-4a06-9ef4-ffdee5258415"
      },
      "source": [
        "# 딕셔너리에서 Key가 없는 경우 발생합니다.\n",
        "playlist = {'zico':'아무노래'}\n",
        "playlist['iu']"
      ],
      "execution_count": null,
      "outputs": [
        {
          "output_type": "error",
          "ename": "KeyError",
          "evalue": "'iu'",
          "traceback": [
            "\u001b[1;31m---------------------------------------------------------------------------\u001b[0m",
            "\u001b[1;31mKeyError\u001b[0m                                  Traceback (most recent call last)",
            "\u001b[1;32m<ipython-input-4-6542c944ef0e>\u001b[0m in \u001b[0;36m<module>\u001b[1;34m\u001b[0m\n\u001b[0;32m      1\u001b[0m \u001b[1;31m# 딕셔너리에서 Key가 없는 경우 발생합니다.\u001b[0m\u001b[1;33m\u001b[0m\u001b[1;33m\u001b[0m\u001b[1;33m\u001b[0m\u001b[0m\n\u001b[0;32m      2\u001b[0m \u001b[0mplaylist\u001b[0m \u001b[1;33m=\u001b[0m \u001b[1;33m{\u001b[0m\u001b[1;34m'zico'\u001b[0m\u001b[1;33m:\u001b[0m\u001b[1;34m'아무노래'\u001b[0m\u001b[1;33m}\u001b[0m\u001b[1;33m\u001b[0m\u001b[1;33m\u001b[0m\u001b[0m\n\u001b[1;32m----> 3\u001b[1;33m \u001b[0mplaylist\u001b[0m\u001b[1;33m[\u001b[0m\u001b[1;34m'iu'\u001b[0m\u001b[1;33m]\u001b[0m\u001b[1;33m\u001b[0m\u001b[1;33m\u001b[0m\u001b[0m\n\u001b[0m",
            "\u001b[1;31mKeyError\u001b[0m: 'iu'"
          ]
        }
      ]
    },
    {
      "cell_type": "code",
      "metadata": {
        "id": "JQuQflUodrsn"
      },
      "source": [
        "# ModuleNotFoundError를 확인해봅시다."
      ],
      "execution_count": null,
      "outputs": []
    },
    {
      "cell_type": "code",
      "metadata": {
        "id": "cVR46eWRdrsn",
        "outputId": "7c7ea8cb-d15d-490b-febc-5e1f957bfe35"
      },
      "source": [
        "# 모듈을 찾을 수 없는 경우 \n",
        "import reque"
      ],
      "execution_count": null,
      "outputs": [
        {
          "output_type": "error",
          "ename": "ModuleNotFoundError",
          "evalue": "No module named 'reque'",
          "traceback": [
            "\u001b[1;31m---------------------------------------------------------------------------\u001b[0m",
            "\u001b[1;31mModuleNotFoundError\u001b[0m                       Traceback (most recent call last)",
            "\u001b[1;32m<ipython-input-14-9f47dcdc4362>\u001b[0m in \u001b[0;36m<module>\u001b[1;34m\u001b[0m\n\u001b[0;32m      1\u001b[0m \u001b[1;31m# 모듈을 찾을 수 없는 경우\u001b[0m\u001b[1;33m\u001b[0m\u001b[1;33m\u001b[0m\u001b[1;33m\u001b[0m\u001b[0m\n\u001b[1;32m----> 2\u001b[1;33m \u001b[1;32mimport\u001b[0m \u001b[0mreque\u001b[0m\u001b[1;33m\u001b[0m\u001b[1;33m\u001b[0m\u001b[0m\n\u001b[0m",
            "\u001b[1;31mModuleNotFoundError\u001b[0m: No module named 'reque'"
          ]
        }
      ]
    },
    {
      "cell_type": "code",
      "metadata": {
        "id": "RzHfw-oedrso"
      },
      "source": [
        "# ImportError를 확인해봅시다."
      ],
      "execution_count": null,
      "outputs": []
    },
    {
      "cell_type": "code",
      "metadata": {
        "id": "K931ymBudrso",
        "outputId": "4312c5eb-e0a0-4ff3-b75f-67f617e2800c"
      },
      "source": [
        "# 모듈을 찾았으나 가져오는 과정에서 실패하는 경우(대부분 없는 클래스/메소드를 불러옴)\n",
        "from random import sampl"
      ],
      "execution_count": null,
      "outputs": [
        {
          "output_type": "error",
          "ename": "ImportError",
          "evalue": "cannot import name 'sampl' from 'random' (c:\\users\\multicampus\\appdata\\local\\programs\\python\\python37\\lib\\random.py)",
          "traceback": [
            "\u001b[1;31m---------------------------------------------------------------------------\u001b[0m",
            "\u001b[1;31mImportError\u001b[0m                               Traceback (most recent call last)",
            "\u001b[1;32m<ipython-input-16-34f166e62a4c>\u001b[0m in \u001b[0;36m<module>\u001b[1;34m\u001b[0m\n\u001b[0;32m      1\u001b[0m \u001b[1;31m# 모듈을 찾았으나 가져오는 과정에서 실패하는 경우(대부분 없는 클래스/메소드를 불러옴)\u001b[0m\u001b[1;33m\u001b[0m\u001b[1;33m\u001b[0m\u001b[1;33m\u001b[0m\u001b[0m\n\u001b[1;32m----> 2\u001b[1;33m \u001b[1;32mfrom\u001b[0m \u001b[0mrandom\u001b[0m \u001b[1;32mimport\u001b[0m \u001b[0msampl\u001b[0m\u001b[1;33m\u001b[0m\u001b[1;33m\u001b[0m\u001b[0m\n\u001b[0m",
            "\u001b[1;31mImportError\u001b[0m: cannot import name 'sampl' from 'random' (c:\\users\\multicampus\\appdata\\local\\programs\\python\\python37\\lib\\random.py)"
          ]
        }
      ]
    },
    {
      "cell_type": "code",
      "metadata": {
        "id": "LdAJNgIHdrso"
      },
      "source": [
        "# KeyboardInterrupt를 확인해봅시다."
      ],
      "execution_count": null,
      "outputs": []
    },
    {
      "cell_type": "code",
      "metadata": {
        "id": "xe9uiDcidrsp"
      },
      "source": [
        "# 주피터 노트북에서는 정지 버튼이지만, 실제로 우리가 돌릴 때는 ctrl+c를 통해 종료하였을 때 발생한다.\n",
        "while"
      ],
      "execution_count": null,
      "outputs": []
    },
    {
      "cell_type": "markdown",
      "metadata": {
        "id": "Mh6B9lnddrsp"
      },
      "source": [
        "# 예외 처리 \n",
        "\n",
        "## 기본  - `try` `except`\n",
        "`try` 구문을 이용하여 예외 처리를 할 수 있습니다.\n",
        "\n",
        "---\n",
        "\n",
        "**활용법**\n",
        "\n",
        "```python\n",
        "try:\n",
        "    codeblock1\n",
        "except 예외:\n",
        "    codeblock2\n",
        "```\n",
        "\n",
        "* `try`절이 실행된다. \n",
        "\n",
        "* 예외가 발생되지 않으면, `except`없이 실행이 종료 된다.\n",
        "\n",
        "* 예외가 중간에 발생하면, **남은 부분을 수행하지 않고**, `except`가 실행된다."
      ]
    },
    {
      "cell_type": "code",
      "metadata": {
        "id": "N_G1tFtpdrsq"
      },
      "source": [
        "# 사용자로부터 값을 받아 정수로 변환하여 출력해봅시다."
      ],
      "execution_count": null,
      "outputs": []
    },
    {
      "cell_type": "code",
      "metadata": {
        "id": "hB44uHa1drsq",
        "outputId": "78fabfff-9663-42d0-879a-6cc123580bc1"
      },
      "source": [
        "num = input('값을 입력하시오:')\n",
        "print(int(num))"
      ],
      "execution_count": null,
      "outputs": [
        {
          "output_type": "stream",
          "text": [
            "값을 입력하시오:3\n",
            "3\n"
          ],
          "name": "stdout"
        }
      ]
    },
    {
      "cell_type": "code",
      "metadata": {
        "id": "QWl-C3Emdrsr"
      },
      "source": [
        "# 사용자가 문자열을 넣어 해당 오류(ValueError)가 발생하면, 숫자를 입력하라고 출력해봅시다."
      ],
      "execution_count": null,
      "outputs": []
    },
    {
      "cell_type": "code",
      "metadata": {
        "id": "vsTFT9Isdrsr",
        "outputId": "b244d304-4f23-4ef8-d827-eb0a6373bd7f"
      },
      "source": [
        "try:\n",
        "    num = input('값을 입력하시오:')\n",
        "    print(int(num))\n",
        "except ValueError:\n",
        "    print('숫자 입력하라고')"
      ],
      "execution_count": null,
      "outputs": [
        {
          "output_type": "stream",
          "text": [
            "값을 입력하시오:ㅁㄴㅇ\n",
            "숫자 입력하라고\n"
          ],
          "name": "stdout"
        }
      ]
    },
    {
      "cell_type": "markdown",
      "metadata": {
        "id": "P4AAVXJedrsr"
      },
      "source": [
        "## 복수의 예외 처리\n",
        "\n",
        "하나 이상의 예외를 모두 처리할 수 있습니다. \n",
        "\n",
        "괄호가 있는 튜플로 여러 개의 예외를 지정할 수 있습니다.\n",
        "\n",
        "---\n",
        "\n",
        "**활용법**\n",
        "\n",
        "```python\n",
        "try:\n",
        "    codeblock1\n",
        "except (예외1, 예외2):\n",
        "    codeblock2\n",
        "\n",
        "\n",
        "try:\n",
        "    codeblock1\n",
        "except 예외1:\n",
        "    codeblock2\n",
        "except 예외2:\n",
        "    codeblock3\n",
        "```"
      ]
    },
    {
      "cell_type": "code",
      "metadata": {
        "id": "ALFPBr9edrss"
      },
      "source": [
        "# 100을 사용자가 입력한 값으로 나눈 후 출력하는 코드를 작성해봅시다."
      ],
      "execution_count": null,
      "outputs": []
    },
    {
      "cell_type": "code",
      "metadata": {
        "id": "wRB9LP-Fdrss",
        "outputId": "5868e233-00f2-44ec-bf6e-47a3b40699e0"
      },
      "source": [
        "num = input('100을 나눌 값을 입력하시오:')\n",
        "print(100/int(num))"
      ],
      "execution_count": null,
      "outputs": [
        {
          "output_type": "stream",
          "text": [
            "100을 나눌 값을 입력하시오:0\n"
          ],
          "name": "stdout"
        },
        {
          "output_type": "error",
          "ename": "ZeroDivisionError",
          "evalue": "division by zero",
          "traceback": [
            "\u001b[1;31m---------------------------------------------------------------------------\u001b[0m",
            "\u001b[1;31mZeroDivisionError\u001b[0m                         Traceback (most recent call last)",
            "\u001b[1;32m<ipython-input-21-7ea4b74fbe62>\u001b[0m in \u001b[0;36m<module>\u001b[1;34m\u001b[0m\n\u001b[0;32m      1\u001b[0m \u001b[0mnum\u001b[0m \u001b[1;33m=\u001b[0m \u001b[0minput\u001b[0m\u001b[1;33m(\u001b[0m\u001b[1;34m'100을 나눌 값을 입력하시오:'\u001b[0m\u001b[1;33m)\u001b[0m\u001b[1;33m\u001b[0m\u001b[1;33m\u001b[0m\u001b[0m\n\u001b[1;32m----> 2\u001b[1;33m \u001b[0mprint\u001b[0m\u001b[1;33m(\u001b[0m\u001b[1;36m100\u001b[0m\u001b[1;33m/\u001b[0m\u001b[0mint\u001b[0m\u001b[1;33m(\u001b[0m\u001b[0mnum\u001b[0m\u001b[1;33m)\u001b[0m\u001b[1;33m)\u001b[0m\u001b[1;33m\u001b[0m\u001b[1;33m\u001b[0m\u001b[0m\n\u001b[0m",
            "\u001b[1;31mZeroDivisionError\u001b[0m: division by zero"
          ]
        }
      ]
    },
    {
      "cell_type": "code",
      "metadata": {
        "id": "vzgkB76Wdrss"
      },
      "source": [
        "# 문자열일때와 0일때 모두 처리를 해봅시다."
      ],
      "execution_count": null,
      "outputs": []
    },
    {
      "cell_type": "code",
      "metadata": {
        "id": "gy--sCgSdrss",
        "outputId": "3012d1d9-c4fd-460f-c654-fefc629386f3"
      },
      "source": [
        "try:\n",
        "    num = input('100을 나눌 값을 입력하시오: ')\n",
        "    print(100/int(num))\n",
        "except (ValueError, ZeroDivisionError):\n",
        "    print('바보냐')"
      ],
      "execution_count": null,
      "outputs": [
        {
          "output_type": "stream",
          "text": [
            "100을 나눌 값을 입력하시오: 0\n",
            "바보냐\n"
          ],
          "name": "stdout"
        }
      ]
    },
    {
      "cell_type": "code",
      "metadata": {
        "id": "uqPDzbsNdrst"
      },
      "source": [
        "# 각각 다른 오류를 출력할 수 있습니다."
      ],
      "execution_count": null,
      "outputs": []
    },
    {
      "cell_type": "code",
      "metadata": {
        "id": "ejsi7t58drst",
        "outputId": "8018e130-930c-4d37-a538-6f90df4eb1c5"
      },
      "source": [
        "try:\n",
        "    num = input('100을 나눌 값을 입력하시오:')\n",
        "    print(100/int(num))\n",
        "except ValueError:\n",
        "    print('숫자를 넣으라고')\n",
        "except ZeroDivisionError:\n",
        "    print('0으로 못 나눈다고')\n",
        "except:\n",
        "    print('안돼')"
      ],
      "execution_count": null,
      "outputs": [
        {
          "output_type": "stream",
          "text": [
            "100을 나눌 값을 입력하시오:0\n",
            "0으로 못 나눈다고\n"
          ],
          "name": "stdout"
        }
      ]
    },
    {
      "cell_type": "markdown",
      "metadata": {
        "id": "78EsIKMxdrst"
      },
      "source": [
        "- 여기서 중요한 내용은 **에러가 순차적으로 수행됨**으로, 가장 작은 범주부터 시작해야 합니다."
      ]
    },
    {
      "cell_type": "code",
      "metadata": {
        "id": "regPLP0vdrsu",
        "outputId": "44f4ba2a-e007-4073-bd5e-a16c687d8184"
      },
      "source": [
        "try:\n",
        "    num = input('100을 나눌 값을 입력하시오:')\n",
        "    print(100/int(num))\n",
        "except Exception: #가장 큰 범주\n",
        "    print('모르겠지만 안돼')\n",
        "except ValueError:\n",
        "    print('숫자를 넣으라고')"
      ],
      "execution_count": null,
      "outputs": [
        {
          "output_type": "stream",
          "text": [
            "100을 나눌 값을 입력하시오:0\n",
            "모르겠지만 안돼\n"
          ],
          "name": "stdout"
        }
      ]
    },
    {
      "cell_type": "markdown",
      "metadata": {
        "id": "8r8udNgddrsu"
      },
      "source": [
        "## 에러 문구 처리\n",
        "\n",
        "에러 문구를 함께 넘겨줄 수 있습니다.\n",
        "\n",
        "---\n",
        "\n",
        "**활용법**\n",
        "\n",
        "```python\n",
        "try:\n",
        "    codeblock1\n",
        "except 예외 as err:\n",
        "    codeblock2\n",
        "```"
      ]
    },
    {
      "cell_type": "code",
      "metadata": {
        "id": "PMA21Ycadrsu"
      },
      "source": [
        "# 에러 메세지를 넘겨줄 수도 있습니다."
      ],
      "execution_count": null,
      "outputs": []
    },
    {
      "cell_type": "code",
      "metadata": {
        "id": "Mj8AwLx9drsv",
        "outputId": "f31b6b65-f0b7-4099-c076-b0eff64d7e89"
      },
      "source": [
        "try:\n",
        "    empty_list = []\n",
        "    print(empty_list[-1])\n",
        "except IndexError as err:\n",
        "    print('{}, 오류가 발생했습니다.'.format(err))"
      ],
      "execution_count": null,
      "outputs": [
        {
          "output_type": "stream",
          "text": [
            "list index out of range, 오류가 발생했습니다.\n"
          ],
          "name": "stdout"
        }
      ]
    },
    {
      "cell_type": "markdown",
      "metadata": {
        "id": "xBF5BDYfdrsv"
      },
      "source": [
        "## `else`\n",
        "\n",
        "* 에러가 발생하지 않는 경우 수행되는 문장은 `else`를 이용한다.\n",
        "* 모든 except 절 뒤에와야 한다.\n",
        "* try 절이 예외를 일으키지 않을 때 실행되어야만 하는 코드에 적절하다.\n",
        "\n",
        "---\n",
        "\n",
        "**활용법**\n",
        "\n",
        "```python\n",
        "try:\n",
        "    codeblock1\n",
        "except 예외:\n",
        "    codeblock2\n",
        "else:\n",
        "    codeblock3\n",
        "```"
      ]
    },
    {
      "cell_type": "code",
      "metadata": {
        "id": "zkUXPc8ydrsw"
      },
      "source": [
        "# else를 사용해봅시다."
      ],
      "execution_count": null,
      "outputs": []
    },
    {
      "cell_type": "code",
      "metadata": {
        "id": "kuXpINSldrsw",
        "outputId": "9f9659cd-6f7f-4251-9c58-b46f70e49c82"
      },
      "source": [
        "try:\n",
        "    numbers = [1,2,3]\n",
        "    number = numbers[2]\n",
        "except IndexError:\n",
        "    print('오류 발생')\n",
        "else:\n",
        "    print(number*100)"
      ],
      "execution_count": null,
      "outputs": [
        {
          "output_type": "stream",
          "text": [
            "300\n"
          ],
          "name": "stdout"
        }
      ]
    },
    {
      "cell_type": "markdown",
      "metadata": {
        "id": "PD1qaB78drsx"
      },
      "source": [
        "## `finally` \n",
        "\n",
        "* 반드시 수행해야하는 문장은 `finally`를 활용한다.\n",
        "* 즉, 모든 상황에 실행되어야만 하는 코드를 정의하는데 활용한다.\n",
        "* 예외의 발생 여부과 관계없이 try 문을 떠날 때 항상 실행한다.\n",
        "\n",
        "---\n",
        "\n",
        "**활용법**\n",
        "\n",
        "```python\n",
        "try:\n",
        "    codeblock1\n",
        "except 예외:\n",
        "    codeblock2\n",
        "finally:\n",
        "    codeblock3\n",
        "```"
      ]
    },
    {
      "cell_type": "code",
      "metadata": {
        "id": "JpwtiMXvdrsx"
      },
      "source": [
        "# finally를 사용해봅시다."
      ],
      "execution_count": null,
      "outputs": []
    },
    {
      "cell_type": "code",
      "metadata": {
        "id": "eKfiEt-jdrsy",
        "outputId": "48319cf2-ee03-466b-918e-de66e15ae29f"
      },
      "source": [
        "try:\n",
        "    languages = {'python':'good'}\n",
        "    languages['java']\n",
        "except KeyError as err:\n",
        "    print('{}는 딕셔너리에 없는 키입니다.'.format(err))\n",
        "finally:\n",
        "    print('finally, end')"
      ],
      "execution_count": null,
      "outputs": [
        {
          "output_type": "stream",
          "text": [
            "'java'는 딕셔너리에 없는 키입니다.\n",
            "finally, end\n"
          ],
          "name": "stdout"
        }
      ]
    },
    {
      "cell_type": "markdown",
      "metadata": {
        "id": "zybxfGxjdrsy"
      },
      "source": [
        "# 예외 발생시키기\n",
        "\n",
        "`raise`를 통해 예외를 강제로 발생시킬 수 있습니다."
      ]
    },
    {
      "cell_type": "code",
      "metadata": {
        "id": "gzjwO9Yidrsy"
      },
      "source": [
        "# raise를 사용해봅시다."
      ],
      "execution_count": null,
      "outputs": []
    },
    {
      "cell_type": "code",
      "metadata": {
        "scrolled": true,
        "id": "CXbpW60Zdrsz",
        "outputId": "769ba4ca-d581-4a97-bc9b-c87eb7ce34c8"
      },
      "source": [
        "raise\n"
      ],
      "execution_count": null,
      "outputs": [
        {
          "output_type": "error",
          "ename": "RuntimeError",
          "evalue": "No active exception to reraise",
          "traceback": [
            "\u001b[1;31m---------------------------------------------------------------------------\u001b[0m",
            "\u001b[1;31mRuntimeError\u001b[0m                              Traceback (most recent call last)",
            "\u001b[1;32m<ipython-input-3-9c9a2cba73bf>\u001b[0m in \u001b[0;36m<module>\u001b[1;34m\u001b[0m\n\u001b[1;32m----> 1\u001b[1;33m \u001b[1;32mraise\u001b[0m\u001b[1;33m\u001b[0m\u001b[1;33m\u001b[0m\u001b[0m\n\u001b[0m",
            "\u001b[1;31mRuntimeError\u001b[0m: No active exception to reraise"
          ]
        }
      ]
    },
    {
      "cell_type": "code",
      "metadata": {
        "scrolled": true,
        "id": "2pUr_w3-drsz",
        "outputId": "7b693a7c-2259-4a8d-836e-5d8e7bba17bc"
      },
      "source": [
        "raise ValueError('hi')"
      ],
      "execution_count": null,
      "outputs": [
        {
          "output_type": "error",
          "ename": "ValueError",
          "evalue": "hi",
          "traceback": [
            "\u001b[1;31m---------------------------------------------------------------------------\u001b[0m",
            "\u001b[1;31mValueError\u001b[0m                                Traceback (most recent call last)",
            "\u001b[1;32m<ipython-input-4-7365820dd368>\u001b[0m in \u001b[0;36m<module>\u001b[1;34m\u001b[0m\n\u001b[1;32m----> 1\u001b[1;33m \u001b[1;32mraise\u001b[0m \u001b[0mValueError\u001b[0m\u001b[1;33m(\u001b[0m\u001b[1;34m'hi'\u001b[0m\u001b[1;33m)\u001b[0m\u001b[1;33m\u001b[0m\u001b[1;33m\u001b[0m\u001b[0m\n\u001b[0m",
            "\u001b[1;31mValueError\u001b[0m: hi"
          ]
        }
      ]
    },
    {
      "cell_type": "markdown",
      "metadata": {
        "id": "mQN6rd_vdrsz"
      },
      "source": [
        "## 실습 문제 1\n",
        "\n",
        ">양의 정수 두개를 받아 몫을 출력하는 함수 `def my_div(num1, num2)`를 작성하세요.\n",
        "\n",
        "---\n",
        "\n",
        "- num2 가 0 이여서 발생하는 오류인 경우 **에러메시지**를 출력합니다.\n",
        "    - *예) division by zero 오류가 발생하였습니다.*\n",
        " \n",
        " \n",
        "- 인자가 string 이여서 발생하는 경우는 **ValueError와 함께 '숫자를 넣어주세요'를 출력**합니다.\n",
        "    - (실제로 이 경우에 발생하는 것은 `TypeError`입니다.)\n",
        "\n",
        "\n",
        "- 정상적인 경우에는 결과를 return합니다."
      ]
    },
    {
      "cell_type": "code",
      "metadata": {
        "id": "sCHRBRqldrs0"
      },
      "source": [
        "# 아래에 코드를 작성하세요."
      ],
      "execution_count": null,
      "outputs": []
    },
    {
      "cell_type": "code",
      "metadata": {
        "id": "IRfu8nvcdrs1"
      },
      "source": [
        "def my_div(num1,num2):\n",
        "    try:\n",
        "        print(num1//num2)\n",
        "    "
      ],
      "execution_count": null,
      "outputs": []
    },
    {
      "cell_type": "code",
      "metadata": {
        "id": "T76Y326kdrs1"
      },
      "source": [
        "# 해당 코드를 통해 올바른 결과가 나오는지 확인하세요.\n",
        "my_div(1, 0)\n",
        "my_div('1', '5')"
      ],
      "execution_count": null,
      "outputs": []
    },
    {
      "cell_type": "markdown",
      "metadata": {
        "id": "qkMTuVqsdrs2"
      },
      "source": [
        "# `assert`\n",
        "\n",
        "`assert` 문은 예외를 발생시키는 다른 방법입니다. \n",
        "\n",
        "보통 **상태를 검증하는데 사용**되며 무조건 `AssertionError`가 발생합니다.\n",
        "\n",
        "---\n",
        "\n",
        "**활용법**\n",
        "\n",
        "```python\n",
        "assert Boolean expression, error message\n",
        "\n",
        "assert type(1) == int, '문자열을 입력하였습니다.'\n",
        "```\n",
        "\n",
        "---\n",
        "\n",
        "위의 검증식이 거짓일 경우를 발생합니다.\n",
        "\n",
        "`raise`는 항상 예외를 발생시키고, 지정한 예외가 발생한다는 점에서 다릅니다."
      ]
    },
    {
      "cell_type": "markdown",
      "metadata": {
        "id": "2ZN90-Tfdrs2"
      },
      "source": [
        "## 실습 문제 2\n",
        "\n",
        "> 양의 정수 두개를 받아 몫과 나머지로 출력하는 함수 `def my_div(num1, num2)`를 작성하세요.\n",
        "- assert를 활용하여, int가 아닌 경우 AssertionError를 발생시켜주세요."
      ]
    },
    {
      "cell_type": "code",
      "metadata": {
        "id": "AwAnGBFJdrs2"
      },
      "source": [
        "# 아래에 코드를 작성하세요."
      ],
      "execution_count": null,
      "outputs": []
    },
    {
      "cell_type": "code",
      "metadata": {
        "id": "2ZfiWUO1drs2"
      },
      "source": [
        "def my_div(num1,num2):\n",
        "    assert type(num1)== int and type(num2)==int, '문자열을 입력하였습니다.'\n",
        "    try:\n",
        "        result = num1 / num2\n",
        "    except ZeroDivisionError as err:\n",
        "        print('{} 오류가 발생하였습니다.'.format(err))\n",
        "    else:\n",
        "        return result"
      ],
      "execution_count": null,
      "outputs": []
    },
    {
      "cell_type": "code",
      "metadata": {
        "id": "pbN6o5YLdrs3",
        "outputId": "7e719e90-deec-48f9-a5e4-b0495644fabf"
      },
      "source": [
        "# 해당 코드를 통해 올바른 결과가 나오는지 확인하세요.\n",
        "my_div('1', '2')"
      ],
      "execution_count": null,
      "outputs": [
        {
          "output_type": "error",
          "ename": "AssertionError",
          "evalue": "문자열을 입력하였습니다.",
          "traceback": [
            "\u001b[1;31m---------------------------------------------------------------------------\u001b[0m",
            "\u001b[1;31mAssertionError\u001b[0m                            Traceback (most recent call last)",
            "\u001b[1;32m<ipython-input-20-3ee56f4cdb50>\u001b[0m in \u001b[0;36m<module>\u001b[1;34m\u001b[0m\n\u001b[0;32m      1\u001b[0m \u001b[1;31m# 해당 코드를 통해 올바른 결과가 나오는지 확인하세요.\u001b[0m\u001b[1;33m\u001b[0m\u001b[1;33m\u001b[0m\u001b[1;33m\u001b[0m\u001b[0m\n\u001b[1;32m----> 2\u001b[1;33m \u001b[0mmy_div\u001b[0m\u001b[1;33m(\u001b[0m\u001b[1;34m'1'\u001b[0m\u001b[1;33m,\u001b[0m \u001b[1;34m'2'\u001b[0m\u001b[1;33m)\u001b[0m\u001b[1;33m\u001b[0m\u001b[1;33m\u001b[0m\u001b[0m\n\u001b[0m",
            "\u001b[1;32m<ipython-input-19-658127e10b62>\u001b[0m in \u001b[0;36mmy_div\u001b[1;34m(num1, num2)\u001b[0m\n\u001b[0;32m      1\u001b[0m \u001b[1;32mdef\u001b[0m \u001b[0mmy_div\u001b[0m\u001b[1;33m(\u001b[0m\u001b[0mnum1\u001b[0m\u001b[1;33m,\u001b[0m\u001b[0mnum2\u001b[0m\u001b[1;33m)\u001b[0m\u001b[1;33m:\u001b[0m\u001b[1;33m\u001b[0m\u001b[1;33m\u001b[0m\u001b[0m\n\u001b[1;32m----> 2\u001b[1;33m     \u001b[1;32massert\u001b[0m \u001b[0mtype\u001b[0m\u001b[1;33m(\u001b[0m\u001b[0mnum1\u001b[0m\u001b[1;33m)\u001b[0m\u001b[1;33m==\u001b[0m \u001b[0mint\u001b[0m \u001b[1;32mand\u001b[0m \u001b[0mtype\u001b[0m\u001b[1;33m(\u001b[0m\u001b[0mnum2\u001b[0m\u001b[1;33m)\u001b[0m\u001b[1;33m==\u001b[0m\u001b[0mint\u001b[0m\u001b[1;33m,\u001b[0m \u001b[1;34m'문자열을 입력하였습니다.'\u001b[0m\u001b[1;33m\u001b[0m\u001b[1;33m\u001b[0m\u001b[0m\n\u001b[0m\u001b[0;32m      3\u001b[0m     \u001b[1;32mtry\u001b[0m\u001b[1;33m:\u001b[0m\u001b[1;33m\u001b[0m\u001b[1;33m\u001b[0m\u001b[0m\n\u001b[0;32m      4\u001b[0m         \u001b[0mresult\u001b[0m \u001b[1;33m=\u001b[0m \u001b[0mnum1\u001b[0m \u001b[1;33m/\u001b[0m \u001b[0mnum2\u001b[0m\u001b[1;33m\u001b[0m\u001b[1;33m\u001b[0m\u001b[0m\n\u001b[0;32m      5\u001b[0m     \u001b[1;32mexcept\u001b[0m \u001b[0mZeroDivisionError\u001b[0m \u001b[1;32mas\u001b[0m \u001b[0merr\u001b[0m\u001b[1;33m:\u001b[0m\u001b[1;33m\u001b[0m\u001b[1;33m\u001b[0m\u001b[0m\n",
            "\u001b[1;31mAssertionError\u001b[0m: 문자열을 입력하였습니다."
          ]
        }
      ]
    },
    {
      "cell_type": "code",
      "metadata": {
        "id": "sd51FDjwdrs3"
      },
      "source": [
        ""
      ],
      "execution_count": null,
      "outputs": []
    }
  ]
}
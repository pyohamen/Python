{
  "nbformat": 4,
  "nbformat_minor": 0,
  "metadata": {
    "kernelspec": {
      "display_name": "Python 3",
      "language": "python",
      "name": "python3"
    },
    "language_info": {
      "codemirror_mode": {
        "name": "ipython",
        "version": 3
      },
      "file_extension": ".py",
      "mimetype": "text/x-python",
      "name": "python",
      "nbconvert_exporter": "python",
      "pygments_lexer": "ipython3",
      "version": "3.7.3"
    },
    "latex_envs": {
      "LaTeX_envs_menu_present": true,
      "autoclose": false,
      "autocomplete": true,
      "bibliofile": "biblio.bib",
      "cite_by": "apalike",
      "current_citInitial": 1,
      "eqLabelWithNumbers": true,
      "eqNumInitial": 1,
      "hotkeys": {
        "equation": "Ctrl-E",
        "itemize": "Ctrl-I"
      },
      "labels_anchors": false,
      "latex_user_defs": false,
      "report_style_numbering": false,
      "user_envs_cfg": false
    },
    "toc": {
      "base_numbering": 1,
      "nav_menu": {},
      "number_sections": true,
      "sideBar": true,
      "skip_h1_title": false,
      "title_cell": "Table of Contents",
      "title_sidebar": "Contents",
      "toc_cell": false,
      "toc_position": {
        "height": "calc(100% - 180px)",
        "left": "10px",
        "top": "150px",
        "width": "361px"
      },
      "toc_section_display": true,
      "toc_window_display": false
    },
    "colab": {
      "name": "08_OOP_advanced.ipynb",
      "provenance": [],
      "include_colab_link": true
    }
  },
  "cells": [
    {
      "cell_type": "markdown",
      "metadata": {
        "id": "view-in-github",
        "colab_type": "text"
      },
      "source": [
        "<a href=\"https://colab.research.google.com/github/pyohamen/SSAFY/blob/master/Python/08_OOP_advanced.ipynb\" target=\"_parent\"><img src=\"https://colab.research.google.com/assets/colab-badge.svg\" alt=\"Open In Colab\"/></a>"
      ]
    },
    {
      "cell_type": "markdown",
      "metadata": {
        "id": "aXtVfl_-d1Ej"
      },
      "source": [
        "# OOP advanced"
      ]
    },
    {
      "cell_type": "markdown",
      "metadata": {
        "id": "FAWNwPbmd1Ek"
      },
      "source": [
        "## 클래스 변수와 인스턴스 변수\n",
        "\n",
        "### 클래스 변수\n",
        "* 클래스의 속성\n",
        "* 모든 인스턴스가 공유\n",
        "* 클래스 선언 블록 최상단에 위치\n",
        "* `Class.class_variable` 과 같이 접근(할당)\n",
        "\n",
        "---\n",
        "\n",
        "**활용법**\n",
        "\n",
        "```python\n",
        "class TestClass:\n",
        "    \n",
        "    class_variable = '클래스 변수'\n",
        "    ...\n",
        "\n",
        "TestClass.class_variable  # '클래스 변수'\n",
        "TestClass.class_variable = 'class variable'\n",
        "TestClass.class_variable  # 'class variable'\n",
        "\n",
        "tc = TestClass()\n",
        "tc.class_variable  \n",
        "# 인스턴스 => 클래스 => 전역 순서로 이름공간을 탐색하기 때문에, 접근하게 됩니다.\n",
        "```"
      ]
    },
    {
      "cell_type": "markdown",
      "metadata": {
        "id": "jBSTCcn8d1El"
      },
      "source": [
        "### 인스턴스 변수\n",
        "* 인스턴스의 속성\n",
        "* 각 인스턴스들의 고유한 변수\n",
        "* 메서드 정의에서 `self.instance_variable` 로 접근(할당)\n",
        "* 인스턴스가 생성된 이후 `instance.instance_variable` 로 접근(할당)\n",
        "\n",
        "---\n",
        "\n",
        "**활용법**\n",
        "\n",
        "```python\n",
        "class TestClass:\n",
        "    \n",
        "    def __init__(self, arg1, arg2):\n",
        "        self.instance_var1 = arg1    # 인스턴스 변수\n",
        "        self.instance_var2 = arg2\n",
        "\n",
        "    def status(self):\n",
        "        return self.instance_var1, self.instance_var2   \n",
        "\n",
        "    \n",
        "tc = TestClass(1, 2)\n",
        "tc.instance_var1  # 1\n",
        "tc.instance_var2  # 2\n",
        "tc.status()  # (1, 2)\n",
        "```"
      ]
    },
    {
      "cell_type": "code",
      "metadata": {
        "id": "CRTnuuBed1Em"
      },
      "source": [
        "# 확인해봅시다."
      ],
      "execution_count": null,
      "outputs": []
    },
    {
      "cell_type": "code",
      "metadata": {
        "id": "v_jI8BJud1En"
      },
      "source": [
        "class TestClass:\n",
        "    class_var = '클래스 변수'\n",
        "    \n",
        "    def __init__(self, arg1, arg2):\n",
        "        self.instance_var1 = arg1\n",
        "        self.instance_var2 = arg2\n",
        "        \n",
        "    def status(self):\n",
        "        return self.instance_var1, self.instance_var2"
      ],
      "execution_count": null,
      "outputs": []
    },
    {
      "cell_type": "code",
      "metadata": {
        "id": "9wzkWj-Nd1En"
      },
      "source": [
        "# 클래스 변수에 접근/재할당 해봅시다."
      ],
      "execution_count": null,
      "outputs": []
    },
    {
      "cell_type": "code",
      "metadata": {
        "id": "_SvbVXSCd1Eo",
        "outputId": "86a198af-2b17-4f1e-bc8e-1f691bbafc8d"
      },
      "source": [
        "TestClass.class_var = '클래스 변수 수정수정'\n",
        "print(TestClass.class_var)"
      ],
      "execution_count": null,
      "outputs": [
        {
          "output_type": "stream",
          "text": [
            "클래스 변수 수정수정\n"
          ],
          "name": "stdout"
        }
      ]
    },
    {
      "cell_type": "code",
      "metadata": {
        "id": "ilBw02aSd1Ep"
      },
      "source": [
        ""
      ],
      "execution_count": null,
      "outputs": []
    },
    {
      "cell_type": "code",
      "metadata": {
        "id": "iEQfTGP0d1Eq"
      },
      "source": [
        "# 인스턴스를 생성하고 확인해봅시다."
      ],
      "execution_count": null,
      "outputs": []
    },
    {
      "cell_type": "code",
      "metadata": {
        "id": "L2mHuEhFd1Eq",
        "outputId": "ec9db77b-b8de-45e2-9ddb-c4421feb3668"
      },
      "source": [
        "tc = TestClass('변수1','변수2')\n",
        "print(tc.instance_var1, tc.instance_var2)"
      ],
      "execution_count": null,
      "outputs": [
        {
          "output_type": "stream",
          "text": [
            "변수1 변수2\n"
          ],
          "name": "stdout"
        }
      ]
    },
    {
      "cell_type": "code",
      "metadata": {
        "id": "E7IKC3OEd1Er"
      },
      "source": [
        "# 인스턴스 변수를 재할당 해봅시다."
      ],
      "execution_count": null,
      "outputs": []
    },
    {
      "cell_type": "code",
      "metadata": {
        "id": "vOQDX-_Id1Er",
        "outputId": "884f870d-525a-4bc2-f0f4-b181b107af7e"
      },
      "source": [
        "tc.instance_var1 = '변수1 수정수정'\n",
        "tc.instance_var2 = '변수2 수정수정'\n",
        "print(tc.instance_var1, tc.instance_var2)"
      ],
      "execution_count": null,
      "outputs": [
        {
          "output_type": "stream",
          "text": [
            "변수1 수정수정 변수2 수정수정\n"
          ],
          "name": "stdout"
        }
      ]
    },
    {
      "cell_type": "markdown",
      "metadata": {
        "id": "mXk7Qv8-d1Es"
      },
      "source": [
        "## 인스턴스 메서드 / 클래스 메서드 / 스태틱(정적) 메서드 \n",
        "\n",
        "### 인스턴스 메서드\n",
        "* 인스턴스가 사용할 메서드이다.\n",
        "* 메서드 정의 위에 어떠한 데코레이터도 없으면, 자동으로 인스턴스 메서드가 된다.\n",
        "* **첫 번째 인자로 `self` 를 받도록 정의합니다. 이 때, 자동으로 인스턴스 객체가 `self` 가 된다.**\n",
        "\n",
        "---\n",
        "\n",
        "**활용법**\n",
        "\n",
        "```python\n",
        "class MyClass:\n",
        "    def instance_method_name(self, arg1, arg2, ...):\n",
        "        ...\n",
        "\n",
        "my_instance = MyClass()\n",
        "# 인스턴스 생성 후 메서드를 호출하면 자동으로 첫 번째 인자로 인스턴스(my_instance)가 들어갑니다.\n",
        "my_instance.instance_method_name(.., ..)  \n",
        "```"
      ]
    },
    {
      "cell_type": "markdown",
      "metadata": {
        "id": "J86PjVaRd1Es"
      },
      "source": [
        "### 클래스 메서드\n",
        "* 클래스가 사용할 메서드다.\n",
        "* 정의 위에 `@classmethod` 데코레이터를 사용한다.\n",
        "* **첫 번째 인자로 클래스(`cls`) 를 받도록 정의합니다. 이 때, 자동으로 클래스 객체가 `cls` 가 된다.**\n",
        "\n",
        "---\n",
        "\n",
        "**활용법**\n",
        "\n",
        "```python\n",
        "class MyClass:\n",
        "    @classmethod\n",
        "    def class_method_name(cls, arg1, arg2, ...):\n",
        "        ...\n",
        "\n",
        "# 자동으로 첫 번째 인자로 클래스(MyClass)가 들어갑니다.\n",
        "MyClass.class_method_name(.., ..)  \n",
        "```"
      ]
    },
    {
      "cell_type": "markdown",
      "metadata": {
        "id": "YzSaaAodd1Et"
      },
      "source": [
        "### 스태틱(정적) 메서드\n",
        "* 클래스가 사용할 메서드다.\n",
        "* 정의 위에 `@staticmethod` 데코레이터를 사용한다.\n",
        "* 묵시적인 첫 번째 인자를 받지 않습니다. 즉, 인자 정의는 자유롭게 한다. \n",
        "* **어떠한 인자도 자동으로 넘어가지 않는다.**\n",
        "\n",
        "---\n",
        "\n",
        "**활용법**\n",
        "\n",
        "```python\n",
        "class MyClass:\n",
        "    @staticmethod\n",
        "    def static_method_name(arg1, arg2, ...):\n",
        "        ...\n",
        "\n",
        "# 아무런 일도 자동으로 일어나지 않습니다.\n",
        "MyClass.static_method_name(.., ..)\n",
        "```"
      ]
    },
    {
      "cell_type": "code",
      "metadata": {
        "id": "vrvwnuJUd1Et"
      },
      "source": [
        "class MyClass:\n",
        "    def instance_method(self):\n",
        "        return self\n",
        "    \n",
        "    @classmethod\n",
        "    def class_method(cls):\n",
        "        return cls\n",
        "    \n",
        "    @staticmethod\n",
        "    def static_method(arg):\n",
        "        return arg"
      ],
      "execution_count": null,
      "outputs": []
    },
    {
      "cell_type": "code",
      "metadata": {
        "id": "Kk5GDjGDd1Eu"
      },
      "source": [
        "# 인스턴스 생성\n",
        "mc = MyClass()"
      ],
      "execution_count": null,
      "outputs": []
    },
    {
      "cell_type": "code",
      "metadata": {
        "id": "V6yIy5J7d1Eu"
      },
      "source": [
        "# 인스턴스 입장에서 확인해 봅시다."
      ],
      "execution_count": null,
      "outputs": []
    },
    {
      "cell_type": "code",
      "metadata": {
        "id": "iwJR98Nid1Eu",
        "outputId": "f717abb3-5bfc-4463-f346-480f12ffb025"
      },
      "source": [
        "# 인스턴스는 인스턴스 메서드에 접근 가능합니다.\n",
        "mc.instance_method()"
      ],
      "execution_count": null,
      "outputs": [
        {
          "output_type": "execute_result",
          "data": {
            "text/plain": [
              "<__main__.MyClass at 0x2ef8092f898>"
            ]
          },
          "metadata": {
            "tags": []
          },
          "execution_count": 16
        }
      ]
    },
    {
      "cell_type": "code",
      "metadata": {
        "id": "y4_TCjN0d1Ev",
        "outputId": "4b945faa-4bad-4cb1-ace7-6545c37f7279"
      },
      "source": [
        "# 인스턴스는 클래스 메서드에 접근 가능합니다.\n",
        "mc.class_method()"
      ],
      "execution_count": null,
      "outputs": [
        {
          "output_type": "execute_result",
          "data": {
            "text/plain": [
              "__main__.MyClass"
            ]
          },
          "metadata": {
            "tags": []
          },
          "execution_count": 17
        }
      ]
    },
    {
      "cell_type": "code",
      "metadata": {
        "id": "krfQQdxmd1Ev",
        "outputId": "7e3331a0-4356-41a1-9e93-e0e851be613f"
      },
      "source": [
        "# Error => 첫 번째 인자가 없다. 위와 같이 자동으로 첫 번째 인자로 들어가는 것이 없습니다.   \n",
        "mc.static_method()"
      ],
      "execution_count": null,
      "outputs": [
        {
          "output_type": "error",
          "ename": "TypeError",
          "evalue": "static_method() missing 1 required positional argument: 'arg'",
          "traceback": [
            "\u001b[1;31m---------------------------------------------------------------------------\u001b[0m",
            "\u001b[1;31mTypeError\u001b[0m                                 Traceback (most recent call last)",
            "\u001b[1;32m<ipython-input-18-c9cd4dcf9ba4>\u001b[0m in \u001b[0;36m<module>\u001b[1;34m\u001b[0m\n\u001b[0;32m      1\u001b[0m \u001b[1;31m# Error => 첫 번째 인자가 없다. 위와 같이 자동으로 첫 번째 인자로 들어가는 것이 없습니다.\u001b[0m\u001b[1;33m\u001b[0m\u001b[1;33m\u001b[0m\u001b[1;33m\u001b[0m\u001b[0m\n\u001b[1;32m----> 2\u001b[1;33m \u001b[0mmc\u001b[0m\u001b[1;33m.\u001b[0m\u001b[0mstatic_method\u001b[0m\u001b[1;33m(\u001b[0m\u001b[1;33m)\u001b[0m\u001b[1;33m\u001b[0m\u001b[1;33m\u001b[0m\u001b[0m\n\u001b[0m",
            "\u001b[1;31mTypeError\u001b[0m: static_method() missing 1 required positional argument: 'arg'"
          ]
        }
      ]
    },
    {
      "cell_type": "code",
      "metadata": {
        "id": "WvOE1mjZd1Ew",
        "outputId": "f1f204f4-ab61-4e4f-d319-f23957979699"
      },
      "source": [
        "# 인스턴스는 스태틱 메서드에 접근 가능합니다.\n",
        "mc.static_mathod(1)"
      ],
      "execution_count": null,
      "outputs": [
        {
          "output_type": "error",
          "ename": "AttributeError",
          "evalue": "'MyClass' object has no attribute 'static_mathod'",
          "traceback": [
            "\u001b[1;31m---------------------------------------------------------------------------\u001b[0m",
            "\u001b[1;31mAttributeError\u001b[0m                            Traceback (most recent call last)",
            "\u001b[1;32m<ipython-input-19-73fb34137206>\u001b[0m in \u001b[0;36m<module>\u001b[1;34m\u001b[0m\n\u001b[0;32m      1\u001b[0m \u001b[1;31m# 인스턴스는 스태틱 메서드에 접근 가능합니다.\u001b[0m\u001b[1;33m\u001b[0m\u001b[1;33m\u001b[0m\u001b[1;33m\u001b[0m\u001b[0m\n\u001b[1;32m----> 2\u001b[1;33m \u001b[0mmc\u001b[0m\u001b[1;33m.\u001b[0m\u001b[0mstatic_mathod\u001b[0m\u001b[1;33m(\u001b[0m\u001b[1;36m1\u001b[0m\u001b[1;33m)\u001b[0m\u001b[1;33m\u001b[0m\u001b[1;33m\u001b[0m\u001b[0m\n\u001b[0m",
            "\u001b[1;31mAttributeError\u001b[0m: 'MyClass' object has no attribute 'static_mathod'"
          ]
        }
      ]
    },
    {
      "cell_type": "markdown",
      "metadata": {
        "id": "JqUDFmCOd1Ew"
      },
      "source": [
        "---"
      ]
    },
    {
      "cell_type": "markdown",
      "metadata": {
        "id": "ACfuAtyzd1Ex"
      },
      "source": [
        "### 정리 1 - 인스턴스와 메서드\n",
        "- 인스턴스는, 3가지 메서드 모두에 접근할 수 있다.\n",
        "- 하지만 인스턴스에서 클래스 메서드와 스태틱 메서드는 호출하지 않아야 한다. (가능하다 != 사용한다)\n",
        "- 인스턴스가 할 행동은 모두 인스턴스 메서드로 한정 지어서 설계한다."
      ]
    },
    {
      "cell_type": "code",
      "metadata": {
        "id": "USwdaak2d1Ex"
      },
      "source": [
        "# 클래스 입장에서 확인해 봅시다."
      ],
      "execution_count": null,
      "outputs": []
    },
    {
      "cell_type": "code",
      "metadata": {
        "id": "uTns3ECud1Ey",
        "outputId": "98fb99c5-2813-4f80-bf03-39fd8d844178"
      },
      "source": [
        "MyClass.class_method()"
      ],
      "execution_count": null,
      "outputs": [
        {
          "output_type": "execute_result",
          "data": {
            "text/plain": [
              "__main__.MyClass"
            ]
          },
          "metadata": {
            "tags": []
          },
          "execution_count": 20
        }
      ]
    },
    {
      "cell_type": "code",
      "metadata": {
        "id": "U8sK-tepd1Ey",
        "outputId": "a8e93427-4f93-4d65-a1b1-88d500abe8f8"
      },
      "source": [
        "MyClass.static_method(1)"
      ],
      "execution_count": null,
      "outputs": [
        {
          "output_type": "execute_result",
          "data": {
            "text/plain": [
              "1"
            ]
          },
          "metadata": {
            "tags": []
          },
          "execution_count": 21
        }
      ]
    },
    {
      "cell_type": "code",
      "metadata": {
        "id": "_7U7208ld1Ez",
        "outputId": "359719ac-f22b-4212-aa8b-339f5d6ea8ca"
      },
      "source": [
        "MyClass.instance_method(mc)"
      ],
      "execution_count": null,
      "outputs": [
        {
          "output_type": "execute_result",
          "data": {
            "text/plain": [
              "<__main__.MyClass at 0x2ef8092f898>"
            ]
          },
          "metadata": {
            "tags": []
          },
          "execution_count": 22
        }
      ]
    },
    {
      "cell_type": "markdown",
      "metadata": {
        "id": "Y9ipqYKZd1Ez"
      },
      "source": [
        "### 정리 2 - 클래스와 메서드\n",
        "- 클래스도 3가지 메서드 모두에 접근할 수 있다.\n",
        "- 하지만 클래스에서 인스턴스 메서드는 호출하지 않는다. (가능하다 != 사용한다)\n",
        "- 클래스가 할 행동은 다음 원칙에 따라 설계한다.\n",
        "    - 클래스 자체(`cls`)와 그 속성에 접근할 필요가 있다면 클래스 메서드로 정의한다.\n",
        "    - 클래스와 클래스 속성에 접근할 필요가 없다면 스태틱 메서드로 정의한다.  \n",
        "    \n",
        "---\n",
        "\n",
        "**활용법**\n",
        "\n",
        "```python\n",
        "\n",
        "@classmethod\n",
        "def methodname(cls):\n",
        "    codeblock\n",
        "```"
      ]
    },
    {
      "cell_type": "markdown",
      "metadata": {
        "id": "sziiuCS5d1E0"
      },
      "source": [
        "### 실습 1 - Doggy (같이) \n",
        "\n",
        "- Doggy 클래스의 속성에 접근하는 클래스 메서드를 생성해 봅시다.\n",
        "- 클래스 변수 `num_of_dogs`를 통해 개가 생길 때마다 증가 시키도록 하겠습니다.\n",
        "- 개들은 각자의 이름/나이를 갖고 있습니다.\n",
        "- `bark()` 메서드를 호출하면 짖을 수 있습니다."
      ]
    },
    {
      "cell_type": "markdown",
      "metadata": {
        "id": "1bMoZocpd1E0"
      },
      "source": [
        "#### 클래스 메서드\n",
        "\n",
        "```python\n",
        "\n",
        "@classmethod\n",
        "def methodname():\n",
        "    codeblock\n",
        "```"
      ]
    },
    {
      "cell_type": "code",
      "metadata": {
        "id": "Xz2hLXC8d1E0"
      },
      "source": [
        "class Doggy:\n",
        "    num_of_dogs = 0\n",
        "    \n",
        "    def __init__(self, name, age):\n",
        "        self.name = name\n",
        "        self.age = age\n",
        "        Doggy.num_of_dogs += 1\n",
        "        \n",
        "    def bark(self):\n",
        "        return '댕댕댕'\n",
        "    @classmethod\n",
        "    def status(cls):\n",
        "        return f'현재 {cls.num_of_dogs}마리가 입양되었습니다.'\n",
        "    \n",
        "    @staticmethod\n",
        "    def what():\n",
        "        return '어쩌라고??'"
      ],
      "execution_count": null,
      "outputs": []
    },
    {
      "cell_type": "code",
      "metadata": {
        "id": "gJ3aJj2xd1E1"
      },
      "source": [
        "# Doggy 3 마리를 만들어보고,"
      ],
      "execution_count": null,
      "outputs": []
    },
    {
      "cell_type": "code",
      "metadata": {
        "id": "HsqRF8dld1E1"
      },
      "source": [
        "dog1 = Doggy('다롱',3)\n",
        "dog2 = Doggy('믿음',6)\n",
        "dog3 = Doggy('초코',4)"
      ],
      "execution_count": null,
      "outputs": []
    },
    {
      "cell_type": "code",
      "metadata": {
        "id": "JltAhtz1d1E1"
      },
      "source": [
        "# 함수를 호출해봅시다."
      ],
      "execution_count": null,
      "outputs": []
    },
    {
      "cell_type": "code",
      "metadata": {
        "id": "L86iMd3pd1E2",
        "outputId": "602b235d-70fa-4aec-be50-d9605d8dcf52"
      },
      "source": [
        "print(dog1.name, dog2.name, dog3.name)"
      ],
      "execution_count": null,
      "outputs": [
        {
          "output_type": "stream",
          "text": [
            "다롱 믿음 초코\n"
          ],
          "name": "stdout"
        }
      ]
    },
    {
      "cell_type": "code",
      "metadata": {
        "id": "ZVejcaSjd1E3",
        "outputId": "f5b46dfd-567f-423d-df76-7c053cf5e28b"
      },
      "source": [
        "Doggy.status()"
      ],
      "execution_count": null,
      "outputs": [
        {
          "output_type": "execute_result",
          "data": {
            "text/plain": [
              "'현재 3마리가 입양되었습니다.'"
            ]
          },
          "metadata": {
            "tags": []
          },
          "execution_count": 26
        }
      ]
    },
    {
      "cell_type": "code",
      "metadata": {
        "id": "ambi46rPd1E4",
        "outputId": "f518cec5-8715-4846-81eb-2422c94d6d75"
      },
      "source": [
        "Doggy.what()"
      ],
      "execution_count": null,
      "outputs": [
        {
          "output_type": "execute_result",
          "data": {
            "text/plain": [
              "'어쩌라고??'"
            ]
          },
          "metadata": {
            "tags": []
          },
          "execution_count": 28
        }
      ]
    },
    {
      "cell_type": "markdown",
      "metadata": {
        "id": "2ukVpIx7d1E5"
      },
      "source": [
        "#### 스태틱 메서드\n",
        "\n",
        "```python\n",
        "\n",
        "@staticmethod\n",
        "def methodname():\n",
        "    codeblock\n",
        "```"
      ]
    },
    {
      "cell_type": "code",
      "metadata": {
        "id": "3F97ir7hd1E6"
      },
      "source": [
        "# Doggy 에 어떠한 속성에도 접근하지 않는 스태틱 메서드를 만들어보겠습니다."
      ],
      "execution_count": null,
      "outputs": []
    },
    {
      "cell_type": "code",
      "metadata": {
        "id": "ajIC2eP3d1E6"
      },
      "source": [
        "class Doggy:\n",
        "    num_of_dogs = 0\n",
        "    \n",
        "    def __init__(self, name, age):\n",
        "        self.name = name\n",
        "        self.age = age\n",
        "        Doggy.num_of_dogs += 1\n",
        "    \n",
        "    def bark(self):\n",
        "        return '댕댕!'\n",
        "    \n",
        "    @classmethod\n",
        "    def get_status(cls):\n",
        "        return f'현재 {cls.num_of_dogs}마리의 강아지가 있습니다.'"
      ],
      "execution_count": null,
      "outputs": []
    },
    {
      "cell_type": "code",
      "metadata": {
        "id": "Yo5F5sKKd1E7"
      },
      "source": [
        "# Doggy 3 마리를 만들어보고,"
      ],
      "execution_count": null,
      "outputs": []
    },
    {
      "cell_type": "code",
      "metadata": {
        "id": "RnJeD0tRd1E7"
      },
      "source": [
        ""
      ],
      "execution_count": null,
      "outputs": []
    },
    {
      "cell_type": "code",
      "metadata": {
        "id": "VFDGpql8d1E7"
      },
      "source": [
        "# 함수를 호출해 봅시다."
      ],
      "execution_count": null,
      "outputs": []
    },
    {
      "cell_type": "code",
      "metadata": {
        "id": "TMV3latMd1E7"
      },
      "source": [
        ""
      ],
      "execution_count": null,
      "outputs": []
    },
    {
      "cell_type": "markdown",
      "metadata": {
        "id": "8GyqMh5Jd1E7"
      },
      "source": [
        "### 실습 2 - Calculator (정적/스태틱 메서드)\n",
        "\n",
        "> 계산기 class인 `Calculator`를 만들어 봅시다.\n",
        "\n",
        "* 다음과 같이 정적 메서드를 구성한다. \n",
        "* 모든 정적 메서드는, 두 수를 받아서 각각의 연산을 한 결과를 리턴한다.\n",
        "* `a` 연산자 `b` 의 순서로 연산한다. (`a - b`, `a / b`)\n",
        "    1. `add(a, b)` : 덧셈\n",
        "    2. `sub(a, b)` : 뺄셈 \n",
        "    3. `mul(a, b)` : 곱셈\n",
        "    4. `div(a, b)` : 나눗셈"
      ]
    },
    {
      "cell_type": "code",
      "metadata": {
        "id": "kcAQQZONd1E8"
      },
      "source": [
        "# 아래에 코드를 작성하세요."
      ],
      "execution_count": null,
      "outputs": []
    },
    {
      "cell_type": "code",
      "metadata": {
        "id": "H4AdHPA9d1E8"
      },
      "source": [
        "class Calculator:\n",
        "    @staticmethod\n",
        "    def add(a,b):\n",
        "        return a+b\n",
        "    @staticmethod\n",
        "    def sub(a,b):\n",
        "        return a-b\n",
        "    @staticmethod\n",
        "    def mul(a,b):\n",
        "        return a*b\n",
        "    @staticmethod\n",
        "    def div(a,b):\n",
        "        return a/b"
      ],
      "execution_count": null,
      "outputs": []
    },
    {
      "cell_type": "code",
      "metadata": {
        "id": "UJfcfvRPd1E8"
      },
      "source": [
        "# 정적 메서드를 호출하세요."
      ],
      "execution_count": null,
      "outputs": []
    },
    {
      "cell_type": "code",
      "metadata": {
        "id": "JppESO-Ed1E9",
        "outputId": "23ab2d5c-d5f0-4434-cdfd-022c8508b33e"
      },
      "source": [
        "Calculator.div(1,2)"
      ],
      "execution_count": null,
      "outputs": [
        {
          "output_type": "execute_result",
          "data": {
            "text/plain": [
              "0.5"
            ]
          },
          "metadata": {
            "tags": []
          },
          "execution_count": 32
        }
      ]
    },
    {
      "cell_type": "markdown",
      "metadata": {
        "id": "UR7Q2Vr4d1E9"
      },
      "source": [
        "# 상속 \n",
        "\n",
        "## 기초\n",
        "\n",
        "클래스에서 가장 큰 특징은 '상속' 기능을 가지고 있다는 것입니다. \n",
        "\n",
        "부모 클래스의 모든 속성이 자식 클래스에게 상속 되므로 코드 재사용성이 높아집니다.\n",
        "\n",
        "---\n",
        "\n",
        "**활용법**\n",
        "\n",
        "\n",
        "```python\n",
        "class DerivedClassName(BaseClassName):\n",
        "    code block\n",
        "```"
      ]
    },
    {
      "cell_type": "code",
      "metadata": {
        "id": "Zfh4jnKXd1E9"
      },
      "source": [
        "# 인사만 할 수 있는 간단한 Person 클래스를 만들어 봅시다."
      ],
      "execution_count": null,
      "outputs": []
    },
    {
      "cell_type": "code",
      "metadata": {
        "id": "CQeHADIId1E-"
      },
      "source": [
        "class Person:\n",
        "    population = 0\n",
        "    \n",
        "    def __init__(self, name='사람'):\n",
        "        self.name = name\n",
        "        Person.population += 1\n",
        "        \n",
        "    def greeting(self):\n",
        "        print(f'반갑습니다. {self.name} 입니다.')\n",
        "        "
      ],
      "execution_count": null,
      "outputs": []
    },
    {
      "cell_type": "code",
      "metadata": {
        "id": "uow2omZPd1E-",
        "outputId": "c5148ac3-9a5d-4d88-89a2-3159e1f8895c"
      },
      "source": [
        "p1 = Person()\n",
        "p1.greeting()"
      ],
      "execution_count": null,
      "outputs": [
        {
          "output_type": "stream",
          "text": [
            "반갑습니다. 사람 입니다.\n"
          ],
          "name": "stdout"
        }
      ]
    },
    {
      "cell_type": "code",
      "metadata": {
        "id": "y2v7r8vdd1E-",
        "outputId": "bea1e09a-2825-4c3b-80ab-00eb13986a9e"
      },
      "source": [
        "Person.population"
      ],
      "execution_count": null,
      "outputs": [
        {
          "output_type": "execute_result",
          "data": {
            "text/plain": [
              "1"
            ]
          },
          "metadata": {
            "tags": []
          },
          "execution_count": 36
        }
      ]
    },
    {
      "cell_type": "code",
      "metadata": {
        "id": "NvSzmc70d1E_"
      },
      "source": [
        "# Person 클래스를 상속받아 Student 클래스를 만들어봅시다."
      ],
      "execution_count": null,
      "outputs": []
    },
    {
      "cell_type": "code",
      "metadata": {
        "id": "0WI0vxkPd1E_"
      },
      "source": [
        "class Student(Person):\n",
        "    def __init__(self, student_id, name='학생'):\n",
        "        self.name = name\n",
        "        self.student_id = student_id\n",
        "        Person.population += 1"
      ],
      "execution_count": null,
      "outputs": []
    },
    {
      "cell_type": "code",
      "metadata": {
        "id": "T5P_e6_Nd1E_"
      },
      "source": [
        "# 학생을 만들어봅시다."
      ],
      "execution_count": null,
      "outputs": []
    },
    {
      "cell_type": "code",
      "metadata": {
        "id": "hfRd9AZvd1E_",
        "outputId": "6dfd7ff6-bad3-4f14-9ebe-57adc397e1f2"
      },
      "source": [
        "s1 = Student(123)\n",
        "s1.name"
      ],
      "execution_count": null,
      "outputs": [
        {
          "output_type": "execute_result",
          "data": {
            "text/plain": [
              "'학생'"
            ]
          },
          "metadata": {
            "tags": []
          },
          "execution_count": 38
        }
      ]
    },
    {
      "cell_type": "code",
      "metadata": {
        "id": "IapPZyiWd1FA"
      },
      "source": [
        ""
      ],
      "execution_count": null,
      "outputs": []
    },
    {
      "cell_type": "code",
      "metadata": {
        "id": "eB3ZU9wAd1FA"
      },
      "source": [
        "# 부모 클래스에 정의된 메서드를 호출 할 수 있습니다."
      ],
      "execution_count": null,
      "outputs": []
    },
    {
      "cell_type": "code",
      "metadata": {
        "id": "QO2PdZ0-d1FA"
      },
      "source": [
        ""
      ],
      "execution_count": null,
      "outputs": []
    },
    {
      "cell_type": "markdown",
      "metadata": {
        "id": "pFuMYt4hd1FA"
      },
      "source": [
        "> 이처럼 상속은 공통된 속성이나 메서드를 부모 클래스에 정의하고, 이를 상속받아 다양한 형태의 사람들을 만들 수 있습니다."
      ]
    },
    {
      "cell_type": "code",
      "metadata": {
        "id": "U5QjPvhzd1FB"
      },
      "source": [
        "# 진짜 상속관계인지 확인해봅시다. (클래스 상속 검사)"
      ],
      "execution_count": null,
      "outputs": []
    },
    {
      "cell_type": "code",
      "metadata": {
        "id": "dNPSsii-d1FB",
        "outputId": "f9a9f4e1-e108-4635-b809-6a133590e6a5"
      },
      "source": [
        "issubclass(Student, Person)"
      ],
      "execution_count": null,
      "outputs": [
        {
          "output_type": "execute_result",
          "data": {
            "text/plain": [
              "True"
            ]
          },
          "metadata": {
            "tags": []
          },
          "execution_count": 39
        }
      ]
    },
    {
      "cell_type": "code",
      "metadata": {
        "id": "Q4DxRhMSd1FB",
        "outputId": "4c0a1655-60d8-4855-eb44-c16b7c6ec905"
      },
      "source": [
        "isinstance(s1, Student)"
      ],
      "execution_count": null,
      "outputs": [
        {
          "output_type": "execute_result",
          "data": {
            "text/plain": [
              "True"
            ]
          },
          "metadata": {
            "tags": []
          },
          "execution_count": 40
        }
      ]
    },
    {
      "cell_type": "code",
      "metadata": {
        "id": "Ui7H-1P9d1FC"
      },
      "source": [
        "# issubclass 참고"
      ],
      "execution_count": null,
      "outputs": []
    },
    {
      "cell_type": "code",
      "metadata": {
        "id": "R9eFl-lQd1FC",
        "outputId": "de8e8d52-b4f5-4060-a9cd-8533b80407f4"
      },
      "source": [
        "isinstance(s1, Person)"
      ],
      "execution_count": null,
      "outputs": [
        {
          "output_type": "execute_result",
          "data": {
            "text/plain": [
              "True"
            ]
          },
          "metadata": {
            "tags": []
          },
          "execution_count": 41
        }
      ]
    },
    {
      "cell_type": "markdown",
      "metadata": {
        "id": "1zkLCJrHd1FC"
      },
      "source": [
        "## super()\n",
        "\n",
        "* 자식 클래스에 메서드를 추가로 구현할 수 있다.\n",
        "\n",
        "* 부모 클래스의 내용을 사용하고자 할 때, `super()`를 사용할 수 있다.\n",
        "\n",
        "---\n",
        "\n",
        "**활용법**\n",
        "\n",
        "\n",
        "```python\n",
        "class BabyClass(ParentClass):\n",
        "    def method(self, arg):\n",
        "        super().method(arg) \n",
        "```"
      ]
    },
    {
      "cell_type": "code",
      "metadata": {
        "id": "NEKxNHZ6d1FC"
      },
      "source": [
        "class Person:\n",
        "    def __init__(self, name, age, number, email):\n",
        "        self.name = name\n",
        "        self.age = age\n",
        "        self.number = number\n",
        "        self.email = email\n",
        "        \n",
        "    def greeting(self):\n",
        "        print(f'반갑습니다. {self.name} 입니다')\n",
        "\n",
        "class Student(Person):\n",
        "    def __init__(self, name, age, number, email, student_id):\n",
        "        self.name = name\n",
        "        self.age = age\n",
        "        self.number = number\n",
        "        self.email = email\n",
        "        self.student_id = student_id\n",
        "        \n",
        "p1 = Person('홍길동', 200, '01012345678', 'hong@gmail.com')\n",
        "p2 = Student('학생', 15, '01098765432', 'stu@gamil.com',200220)"
      ],
      "execution_count": null,
      "outputs": []
    },
    {
      "cell_type": "code",
      "metadata": {
        "id": "xOM8Nx2Ld1FD",
        "outputId": "f571d24c-5239-4496-8998-eb8ff84421f4"
      },
      "source": [
        "p1.greeting()"
      ],
      "execution_count": null,
      "outputs": [
        {
          "output_type": "stream",
          "text": [
            "반갑습니다. 홍길동 입니다\n"
          ],
          "name": "stdout"
        }
      ]
    },
    {
      "cell_type": "markdown",
      "metadata": {
        "id": "qi7-ZvZxd1FD"
      },
      "source": [
        "위의 코드를 보면, 상속을 했음에도 불구하고 동일한 코드가 반복됩니다. \n",
        "\n",
        "이를 수정해봅시다."
      ]
    },
    {
      "cell_type": "code",
      "metadata": {
        "id": "j-y2va9Jd1FE",
        "outputId": "20646158-b952-4d48-830e-20adc803b5a0"
      },
      "source": [
        "s1.greeting()"
      ],
      "execution_count": null,
      "outputs": [
        {
          "output_type": "stream",
          "text": [
            "반갑습니다. 학생 입니다.\n"
          ],
          "name": "stdout"
        }
      ]
    },
    {
      "cell_type": "code",
      "metadata": {
        "id": "nZc7nCKhd1FF"
      },
      "source": [
        ""
      ],
      "execution_count": null,
      "outputs": []
    },
    {
      "cell_type": "markdown",
      "metadata": {
        "id": "ReaRjpaGd1FF"
      },
      "source": [
        "### 실습 1 - Rectangle & Square class\n",
        "\n",
        "아래의 조건에 만족하는 클래스 `Rectangle` 을 작성하세요.\n",
        "\n",
        "---\n",
        "\n",
        "> Rectangle 클래스는 아래와 같은 속성과 메서드를 갖는다.\n",
        "- 인스턴스 속성\n",
        "    - `width`: 가로 길이\n",
        "    - `height`: 세로 길이\n",
        ">\n",
        ">   \n",
        "- 인스턴스 메서드\n",
        "    - `area`: 직사각형의 넓이를 리턴한다.\n",
        "    - `perimeter`: 직사각형의 둘레의 길이를 리턴한다."
      ]
    },
    {
      "cell_type": "code",
      "metadata": {
        "id": "r2qCqI6bd1FG"
      },
      "source": [
        "# 아래에 코드를 작성하세요."
      ],
      "execution_count": null,
      "outputs": []
    },
    {
      "cell_type": "code",
      "metadata": {
        "id": "CpCUpzdAd1FG"
      },
      "source": [
        "class Rectangle:\n",
        "    def __init__(self,width,height):\n",
        "        self.width = width\n",
        "        self.height = height\n",
        "    def area(self):\n",
        "        return self.width * self.height\n",
        "    def perimeter(self):\n",
        "        return 2*(self.width+self.height)"
      ],
      "execution_count": null,
      "outputs": []
    },
    {
      "cell_type": "code",
      "metadata": {
        "id": "AtR11fThd1FG"
      },
      "source": [
        "# Rectangle 클래스로부터 인스턴스를 하나 만들어 가로 길이 4, 세로 길이 8인 직사각형의 넓이와 둘레 길이를 구해주세요."
      ],
      "execution_count": null,
      "outputs": []
    },
    {
      "cell_type": "code",
      "metadata": {
        "id": "yDmhmNwdd1FH",
        "outputId": "7ddb1980-b74d-4d18-da92-f2d2089d6d4a"
      },
      "source": [
        "rec = Rectangle(4,8)\n",
        "print(rec.area())\n",
        "print(rec.perimeter())"
      ],
      "execution_count": null,
      "outputs": [
        {
          "output_type": "stream",
          "text": [
            "32\n",
            "24\n"
          ],
          "name": "stdout"
        }
      ]
    },
    {
      "cell_type": "code",
      "metadata": {
        "id": "MYt6r5phd1FH"
      },
      "source": [
        "# Rectangle 클래스를 상속받아 Sqaure 클래스를 만들어 주세요.\n",
        "# Square 클래스는 Rectangle 클래스에서 상속받은 속성 외 추가 속성을 가지고 있지 않습니다."
      ],
      "execution_count": null,
      "outputs": []
    },
    {
      "cell_type": "code",
      "metadata": {
        "id": "rT-NwcOvd1FI"
      },
      "source": [
        "class Square(Rectangle):\n",
        "    def __init__(self, length):\n",
        "        super().__init__(length, length)"
      ],
      "execution_count": null,
      "outputs": []
    },
    {
      "cell_type": "code",
      "metadata": {
        "id": "EcfxAdN-d1FI"
      },
      "source": [
        "# Square 클래스로부터 인스턴스를 하나 만들어 가로/세로 길이가 4인 정사각형의 넓이와 둘레 길이를 구해주세요."
      ],
      "execution_count": null,
      "outputs": []
    },
    {
      "cell_type": "code",
      "metadata": {
        "id": "q0PRQHF8d1FI",
        "outputId": "b687aa17-a37d-4dc6-a55a-b23af3fe9b61"
      },
      "source": [
        "squ = Square(6)\n",
        "print(squ.area())\n",
        "print(squ.perimeter())"
      ],
      "execution_count": null,
      "outputs": [
        {
          "output_type": "stream",
          "text": [
            "36\n",
            "24\n"
          ],
          "name": "stdout"
        }
      ]
    },
    {
      "cell_type": "markdown",
      "metadata": {
        "id": "KYzSDuNUd1FJ"
      },
      "source": [
        "## 메서드 오버라이딩\n",
        "> method overriding\n",
        "\n",
        "* 메서드를 재정의할 수도 있다.\n",
        "* 상속 받은 클래스에서 메서드를 덮어쓴다."
      ]
    },
    {
      "cell_type": "code",
      "metadata": {
        "id": "Gso0ORg_d1FJ"
      },
      "source": [
        "# Person 클래스의 상속을 받아 군인처럼 인사하는 Soldier 클래스를 만들어봅시다.\n",
        "\n",
        "class Person:\n",
        "    def __init__(self, name, age, number, email):\n",
        "        self.name = name\n",
        "        self.age = age\n",
        "        self.number = number\n",
        "        self.email = email \n",
        "        \n",
        "    def greeting(self):\n",
        "        print(f'안녕, {self.name}')"
      ],
      "execution_count": null,
      "outputs": []
    },
    {
      "cell_type": "code",
      "metadata": {
        "id": "uQxPnO-rd1FJ"
      },
      "source": [
        "class Sodier(Person):\n",
        "    def __init__(self, name, age, number, email, army):\n",
        "        super().__init__(name, age, number, email)\n",
        "        self.army = army\n",
        "        \n",
        "    def greeting(self):\n",
        "        print(f'충성! {self.army} {self.name}')"
      ],
      "execution_count": null,
      "outputs": []
    },
    {
      "cell_type": "code",
      "metadata": {
        "id": "Wikgdegkd1FJ"
      },
      "source": [
        "sod = Sodier('호국이',25, '01011112222','test@gmail.com','태풍부대')"
      ],
      "execution_count": null,
      "outputs": []
    },
    {
      "cell_type": "code",
      "metadata": {
        "id": "Z4NuyVcud1FK",
        "outputId": "58d5c4ee-fc3a-4026-d937-3cf069cf012a"
      },
      "source": [
        "sod.greeting()"
      ],
      "execution_count": null,
      "outputs": [
        {
          "output_type": "stream",
          "text": [
            "충성! 태풍부대 호국이\n"
          ],
          "name": "stdout"
        }
      ]
    },
    {
      "cell_type": "code",
      "metadata": {
        "id": "4abJoZxAd1FK"
      },
      "source": [
        ""
      ],
      "execution_count": null,
      "outputs": []
    },
    {
      "cell_type": "code",
      "metadata": {
        "id": "Xc86VsTpd1FK"
      },
      "source": [
        ""
      ],
      "execution_count": null,
      "outputs": []
    },
    {
      "cell_type": "markdown",
      "metadata": {
        "id": "LuQ0Gc9Id1FK"
      },
      "source": [
        "## 상속관계에서의 이름공간\n",
        "\n",
        "* 기존의 `인스턴스 -> 클래스` 순으로 이름 공간을 탐색해나가는 과정에서 상속관계에 있으면 아래와 같이 확장된다.\n",
        "\n",
        "* 인스턴스 -> 클래스 -> 전역\n",
        "* 인스턴스 -> 자식 클래스 -> 부모 클래스 -> 전역"
      ]
    },
    {
      "cell_type": "markdown",
      "metadata": {
        "id": "SittTlD7d1FL"
      },
      "source": [
        "## 다중 상속\n",
        "두개 이상의 클래스를 상속받는 경우, 다중 상속이 됩니다."
      ]
    },
    {
      "cell_type": "code",
      "metadata": {
        "id": "7uQZQZIod1FL"
      },
      "source": [
        "# Person 클래스를 정의합니다."
      ],
      "execution_count": null,
      "outputs": []
    },
    {
      "cell_type": "code",
      "metadata": {
        "id": "aQndXGpmd1FL"
      },
      "source": [
        ""
      ],
      "execution_count": null,
      "outputs": []
    },
    {
      "cell_type": "code",
      "metadata": {
        "id": "E5ZQEnr_d1FL"
      },
      "source": [
        "# Mom 클래스를 정의합니다."
      ],
      "execution_count": null,
      "outputs": []
    },
    {
      "cell_type": "code",
      "metadata": {
        "id": "s9XdII--d1FL"
      },
      "source": [
        ""
      ],
      "execution_count": null,
      "outputs": []
    },
    {
      "cell_type": "code",
      "metadata": {
        "id": "pWLt7_v9d1FM"
      },
      "source": [
        "# Dad 클래스를 정의합니다."
      ],
      "execution_count": null,
      "outputs": []
    },
    {
      "cell_type": "code",
      "metadata": {
        "id": "G4hl9r8nd1FM"
      },
      "source": [
        ""
      ],
      "execution_count": null,
      "outputs": []
    },
    {
      "cell_type": "code",
      "metadata": {
        "id": "FPZQdezFd1FM"
      },
      "source": [
        "# FirstChild 클래스를 정의합니다."
      ],
      "execution_count": null,
      "outputs": []
    },
    {
      "cell_type": "code",
      "metadata": {
        "id": "VZxwEv1Ud1FM"
      },
      "source": [
        ""
      ],
      "execution_count": null,
      "outputs": []
    },
    {
      "cell_type": "code",
      "metadata": {
        "id": "tTdlBkcBd1FM"
      },
      "source": [
        "# FirstChild 의 인스턴스 객체를 확인합니다."
      ],
      "execution_count": null,
      "outputs": []
    },
    {
      "cell_type": "code",
      "metadata": {
        "id": "VM5UrjAHd1FN"
      },
      "source": [
        ""
      ],
      "execution_count": null,
      "outputs": []
    },
    {
      "cell_type": "code",
      "metadata": {
        "id": "oKz41ewnd1FN"
      },
      "source": [
        "# cry 메서드를 실행합니다."
      ],
      "execution_count": null,
      "outputs": []
    },
    {
      "cell_type": "code",
      "metadata": {
        "id": "QFwu6O6_d1FN"
      },
      "source": [
        ""
      ],
      "execution_count": null,
      "outputs": []
    },
    {
      "cell_type": "code",
      "metadata": {
        "id": "W0PEKBSsd1FN"
      },
      "source": [
        "# swim 메서드를 실행합니다."
      ],
      "execution_count": null,
      "outputs": []
    },
    {
      "cell_type": "code",
      "metadata": {
        "id": "gLACJiQGd1FN"
      },
      "source": [
        ""
      ],
      "execution_count": null,
      "outputs": []
    },
    {
      "cell_type": "code",
      "metadata": {
        "id": "OJuKuXZTd1FN"
      },
      "source": [
        "# walk 메서드를 실행합니다."
      ],
      "execution_count": null,
      "outputs": []
    },
    {
      "cell_type": "code",
      "metadata": {
        "id": "DLRbA6w8d1FO"
      },
      "source": [
        ""
      ],
      "execution_count": null,
      "outputs": []
    },
    {
      "cell_type": "code",
      "metadata": {
        "id": "sBKPaBYtd1FO"
      },
      "source": [
        "# gene 은 누구의 속성을 참조할까요?"
      ],
      "execution_count": null,
      "outputs": []
    },
    {
      "cell_type": "code",
      "metadata": {
        "id": "1OMnJMrNd1FO"
      },
      "source": [
        ""
      ],
      "execution_count": null,
      "outputs": []
    },
    {
      "cell_type": "code",
      "metadata": {
        "id": "ttjBXHISd1FO"
      },
      "source": [
        "# 그렇다면 상속 순서를 바꿔봅시다."
      ],
      "execution_count": null,
      "outputs": []
    },
    {
      "cell_type": "code",
      "metadata": {
        "id": "f83EmbHqd1FP"
      },
      "source": [
        ""
      ],
      "execution_count": null,
      "outputs": []
    },
    {
      "cell_type": "code",
      "metadata": {
        "id": "2WaQFTKFd1FP"
      },
      "source": [
        "# SecondChild 의 인스턴스 객체를 확인합니다."
      ],
      "execution_count": null,
      "outputs": []
    },
    {
      "cell_type": "code",
      "metadata": {
        "id": "BpfM1Mgud1FP"
      },
      "source": [
        ""
      ],
      "execution_count": null,
      "outputs": []
    },
    {
      "cell_type": "code",
      "metadata": {
        "id": "Hkwxg-U0d1FQ"
      },
      "source": [
        "# cry 메서드를 실행합니다."
      ],
      "execution_count": null,
      "outputs": []
    },
    {
      "cell_type": "code",
      "metadata": {
        "id": "GLZi09EZd1FQ"
      },
      "source": [
        ""
      ],
      "execution_count": null,
      "outputs": []
    },
    {
      "cell_type": "code",
      "metadata": {
        "id": "b7n_JM6kd1FQ"
      },
      "source": [
        "# walk 메서드를 실행합니다."
      ],
      "execution_count": null,
      "outputs": []
    },
    {
      "cell_type": "code",
      "metadata": {
        "id": "i0uA2y0md1FR"
      },
      "source": [
        ""
      ],
      "execution_count": null,
      "outputs": []
    },
    {
      "cell_type": "code",
      "metadata": {
        "id": "SQZYnXq0d1FV"
      },
      "source": [
        "# swim 메서드를 실행합니다."
      ],
      "execution_count": null,
      "outputs": []
    },
    {
      "cell_type": "code",
      "metadata": {
        "id": "GVey8moPd1FV"
      },
      "source": [
        ""
      ],
      "execution_count": null,
      "outputs": []
    },
    {
      "cell_type": "code",
      "metadata": {
        "id": "jAbJMsGcd1FV"
      },
      "source": [
        "# gene 은 누구의 속성을 참조할까요?"
      ],
      "execution_count": null,
      "outputs": []
    },
    {
      "cell_type": "code",
      "metadata": {
        "id": "bwYN18W4d1FV"
      },
      "source": [
        ""
      ],
      "execution_count": null,
      "outputs": []
    }
  ]
}
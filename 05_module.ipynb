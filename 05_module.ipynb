{
  "nbformat": 4,
  "nbformat_minor": 0,
  "metadata": {
    "kernelspec": {
      "display_name": "Python 3",
      "language": "python",
      "name": "python3"
    },
    "language_info": {
      "codemirror_mode": {
        "name": "ipython",
        "version": 3
      },
      "file_extension": ".py",
      "mimetype": "text/x-python",
      "name": "python",
      "nbconvert_exporter": "python",
      "pygments_lexer": "ipython3",
      "version": "3.7.3"
    },
    "latex_envs": {
      "LaTeX_envs_menu_present": true,
      "autoclose": false,
      "autocomplete": true,
      "bibliofile": "biblio.bib",
      "cite_by": "apalike",
      "current_citInitial": 1,
      "eqLabelWithNumbers": true,
      "eqNumInitial": 1,
      "hotkeys": {
        "equation": "Ctrl-E",
        "itemize": "Ctrl-I"
      },
      "labels_anchors": false,
      "latex_user_defs": false,
      "report_style_numbering": false,
      "user_envs_cfg": false
    },
    "toc": {
      "base_numbering": 1,
      "nav_menu": {},
      "number_sections": true,
      "sideBar": true,
      "skip_h1_title": false,
      "title_cell": "Table of Contents",
      "title_sidebar": "Contents",
      "toc_cell": false,
      "toc_position": {},
      "toc_section_display": true,
      "toc_window_display": false
    },
    "colab": {
      "name": "05_module.ipynb",
      "provenance": [],
      "include_colab_link": true
    }
  },
  "cells": [
    {
      "cell_type": "markdown",
      "metadata": {
        "id": "view-in-github",
        "colab_type": "text"
      },
      "source": [
        "<a href=\"https://colab.research.google.com/github/pyohamen/SSAFY/blob/master/Python/05_module.ipynb\" target=\"_parent\"><img src=\"https://colab.research.google.com/assets/colab-badge.svg\" alt=\"Open In Colab\"/></a>"
      ]
    },
    {
      "cell_type": "markdown",
      "metadata": {
        "id": "eNkHbZVPdmmM"
      },
      "source": [
        "# 모듈\n",
        "모듈은 파이썬 정의와 문장들을 담고 있는 파일입니다. 파일의 이름은 모듈 이름에 확장자 `.py`를 붙입니다.\n",
        "\n",
        "|         |            |\n",
        "| -------- | ------------------- |\n",
        "|    모듈    | 특정 기능을 .py 파일 단위로 작성한 것. |\n",
        "|   패키지   | 특정 기능과 관련된 여러 모듈들의 집합. 패키지 안에는 또다른 서브 패키지를 포함 할수도 있음. 보통 인터넷에 있는 패키지를 설치해서 사용  |\n",
        "| 파이썬 표준 라이브러리 | 파이썬에 기본적으로 설치된 모듈과 내장 함수를 묶어서 파이썬 표준 라이브러리 (Python Standard Library, PSL) 라 함 |\n",
        "| pip (패키지 관리자) | `PyPI` 에 저장된 외부 패키지들을 설치하도록 도와줌 |"
      ]
    },
    {
      "cell_type": "markdown",
      "metadata": {
        "id": "C2ZCbJROdmmN"
      },
      "source": [
        "## 모듈을 만들어봅시다."
      ]
    },
    {
      "cell_type": "markdown",
      "metadata": {
        "id": "is75RMJ2dmmO"
      },
      "source": [
        "- jupyter notebook 파일트리화면에서 New > Text File\n",
        "- 파일의 이름을 fibo.py 로 저장"
      ]
    },
    {
      "cell_type": "code",
      "metadata": {
        "id": "SvW2GIN-dmmO"
      },
      "source": [
        "# 함수에서 작성했던 피보나치 함수 두가지(재귀, 반복문)를 작성합니다."
      ],
      "execution_count": null,
      "outputs": []
    },
    {
      "cell_type": "code",
      "metadata": {
        "id": "4hMrVjHOdmmP"
      },
      "source": [
        "# fibo.py\n",
        "def fibo_recursion(n):\n",
        "    if n < 2:\n",
        "        return n\n",
        "    else:\n",
        "        return fibo_recursion(n-1) + fibo_recursion(n-2)\n",
        "    \n",
        "\n",
        "def fibo_for(n):\n",
        "    if n < 2: \n",
        "        return n\n",
        "    \n",
        "    a, b = 0, 1\n",
        "    for i in range(n-1):\n",
        "        a, b = b, a+b\n",
        "    return b"
      ],
      "execution_count": null,
      "outputs": []
    },
    {
      "cell_type": "markdown",
      "metadata": {
        "id": "BuhCDY7xdmmP"
      },
      "source": [
        "## `import`\n",
        "모듈을 활용하기 위해서는 반드시 `import`문을 통해 내장 모듈을 이름 공간으로 가져와야합니다."
      ]
    },
    {
      "cell_type": "code",
      "metadata": {
        "id": "8qDh8dnpdmmQ"
      },
      "source": [
        "# import를 이용하여 fibo.py를 가져옵니다.\n",
        "import fibo"
      ],
      "execution_count": null,
      "outputs": []
    },
    {
      "cell_type": "code",
      "metadata": {
        "id": "215B7PoJdmmQ",
        "outputId": "add5a541-e585-4a32-cd3a-1968d0278b9b"
      },
      "source": [
        "# 우리가 만든 fibo_for, fibo_recursion 함수를 확인할 수 있습니다.\n",
        "print(dir(fibo))"
      ],
      "execution_count": null,
      "outputs": [
        {
          "output_type": "stream",
          "text": [
            "['__builtins__', '__cached__', '__doc__', '__file__', '__loader__', '__name__', '__package__', '__spec__', 'fibo_for', 'fibo_recursion']\n"
          ],
          "name": "stdout"
        }
      ]
    },
    {
      "cell_type": "code",
      "metadata": {
        "id": "h6sxHKvfdmmR",
        "outputId": "01ce9668-1f06-4a5c-ac64-1b63f92210a0"
      },
      "source": [
        "fibo.fibo_recursion(10)"
      ],
      "execution_count": null,
      "outputs": [
        {
          "output_type": "execute_result",
          "data": {
            "text/plain": [
              "55"
            ]
          },
          "metadata": {
            "tags": []
          },
          "execution_count": 5
        }
      ]
    },
    {
      "cell_type": "code",
      "metadata": {
        "id": "HjFAzw4MdmmR",
        "outputId": "118b8cfb-57d5-4683-cc5f-a7a8c63e2999"
      },
      "source": [
        "fibo.fibo_for(10)"
      ],
      "execution_count": null,
      "outputs": [
        {
          "output_type": "execute_result",
          "data": {
            "text/plain": [
              "55"
            ]
          },
          "metadata": {
            "tags": []
          },
          "execution_count": 6
        }
      ]
    },
    {
      "cell_type": "code",
      "metadata": {
        "id": "E0z3jl6VdmmS"
      },
      "source": [
        "# 함수를 자주 사용할거라면, 변수에 할당해서 사용할 수도 있습니다. \n",
        "## 함수 자체를 변수로 할당할 수 있음"
      ],
      "execution_count": null,
      "outputs": []
    },
    {
      "cell_type": "code",
      "metadata": {
        "id": "lqKY9AObdmmS",
        "outputId": "83f495a1-909d-41f0-f1c1-74b76586c48b"
      },
      "source": [
        "ssafy_fibo = fibo.fibo_recursion\n",
        "ssafy_fibo(10)"
      ],
      "execution_count": null,
      "outputs": [
        {
          "output_type": "execute_result",
          "data": {
            "text/plain": [
              "55"
            ]
          },
          "metadata": {
            "tags": []
          },
          "execution_count": 9
        }
      ]
    },
    {
      "cell_type": "markdown",
      "metadata": {
        "id": "bmmAflfqdmmT"
      },
      "source": [
        "## 패키지"
      ]
    },
    {
      "cell_type": "markdown",
      "metadata": {
        "id": "8MMBEiSbdmmT"
      },
      "source": [
        "- jupyter notebook 파일트리화면에서 New > Folder\n",
        "- 다음과 같은 폴더구조 생성\n",
        "\n",
        "```python\n",
        "myPackage/\n",
        "    __init__.py\n",
        "    math/\n",
        "        __init__.py\n",
        "        formula.py\n",
        "    web/\n",
        "        __init__.py\n",
        "        url.py\n",
        "```\n",
        "> 패키지는 '점으로 구분된 모듈 이름' 을 써서 파이썬의 모듈 이름 공간을 구조화하는 방법입니다. 예를 들어, 모듈 이름 `myPackage.math`는 `myPackage`라는 이름의 패키지에 있는 `math`라는 이름의 서브 모듈을 가리킵니다.\n",
        "\n",
        "\n",
        "> 단, 파이썬이 디렉터리를 패키지로 취급하게 만들기 위해서 `__init__.py` 파일이 필요합니다. 그러나 python3.3 버전부터는 `__init__.py` 파일이 없어도 패키지로 인식합니다(PEP 420). 하지만 하위 버전 호환을 위해 `__init__.py` 파일을 생성하는 것이 안전한 방법입니다."
      ]
    },
    {
      "cell_type": "markdown",
      "metadata": {
        "id": "4mv583MsdmmT"
      },
      "source": [
        "bash 에서도\n",
        "touch 하면 새파일\n",
        "mkdir 하면 새 폴더\n",
        "ls "
      ]
    },
    {
      "cell_type": "code",
      "metadata": {
        "id": "AhjH0Ti2dmmU"
      },
      "source": [
        "# __init__.py\n",
        "# 모든 __init__.py 파일은 비워둡니다."
      ],
      "execution_count": null,
      "outputs": []
    },
    {
      "cell_type": "code",
      "metadata": {
        "id": "_pjkoCwedmmU"
      },
      "source": [
        "# math/formula.py\n",
        "\n",
        "pi = 3.14\n",
        "\n",
        "def my_max(a, b):\n",
        "    if a > b:\n",
        "        print(f'{a}가 더 큽니다') \n",
        "    else:\n",
        "        print(f'{b}가 더 큽니다')"
      ],
      "execution_count": null,
      "outputs": []
    },
    {
      "cell_type": "code",
      "metadata": {
        "id": "P--d0LxKdmmU"
      },
      "source": [
        "# web/url.py\n",
        "\n",
        "def my_url(itemPerPage=10, **kwargs):\n",
        "    if 'key' not in kwargs or 'targetDt' not in kwargs:\n",
        "        return '필수 요청변수가 누락되었습니다.'\n",
        "    if int(itemPerPage) not in range(1, 11):\n",
        "        return '1~10까지의 값을 넣어주세요.'\n",
        "    base_url = 'http://www.kobis.or.kr/kobisopenapi/webservice/rest/boxoffice/searchDailyBoxOfficeList.json?'\n",
        "    base_url += f'itemPerPage={itemPerPage}'\n",
        "    for key, value in kwargs.items():\n",
        "        base_url += f'&{key}={value}'\n",
        "    return base_url"
      ],
      "execution_count": null,
      "outputs": []
    },
    {
      "cell_type": "markdown",
      "metadata": {
        "id": "rJ9zAvRUdmmV"
      },
      "source": [
        "## `from` *모듈명* `import` *어트리뷰트*\n",
        "\n",
        "`import`는 다양한 방법으로 할 수 있습니다.\n",
        "\n",
        "특정한 함수 혹은 어트리뷰트만 활용하고 싶을 때, 위와 같이 작성합니다."
      ]
    },
    {
      "cell_type": "code",
      "metadata": {
        "id": "DJ9wypIAdmmV"
      },
      "source": [
        "# 패키지를 import 해봅시다."
      ],
      "execution_count": null,
      "outputs": []
    },
    {
      "cell_type": "code",
      "metadata": {
        "id": "Qik9zbRGdmmV",
        "outputId": "86f24dcd-2f0e-4c5d-a7a1-39b744cdd0c0"
      },
      "source": [
        "import myPackage\n",
        "print(dir(myPackage))"
      ],
      "execution_count": null,
      "outputs": [
        {
          "output_type": "stream",
          "text": [
            "['__doc__', '__file__', '__loader__', '__name__', '__package__', '__path__', '__spec__', 'math', 'web']\n"
          ],
          "name": "stdout"
        }
      ]
    },
    {
      "cell_type": "code",
      "metadata": {
        "id": "2rHHc2NGdmmW"
      },
      "source": [
        "# web 모듈을 추가해봅시다."
      ],
      "execution_count": null,
      "outputs": []
    },
    {
      "cell_type": "code",
      "metadata": {
        "id": "rzLoDCdJdmmW",
        "outputId": "a0dec39e-0830-43bd-9698-270213481a10"
      },
      "source": [
        "from myPackage.web import url\n",
        "url.my_url()"
      ],
      "execution_count": null,
      "outputs": [
        {
          "output_type": "execute_result",
          "data": {
            "text/plain": [
              "'필수 요청변수가 누락되었습니다.'"
            ]
          },
          "metadata": {
            "tags": []
          },
          "execution_count": 25
        }
      ]
    },
    {
      "cell_type": "markdown",
      "metadata": {
        "id": "DpNENTHLdmmX"
      },
      "source": [
        "## `from` *모듈명* `import` `*`\n",
        "\n",
        "해당하는 모듈 내의 모든 변수, 함수, 클래스를 가져옵니다."
      ]
    },
    {
      "cell_type": "code",
      "metadata": {
        "id": "KksBTipxdmmX"
      },
      "source": [
        "# formula 모듈에서 모든 변수와 함수를 가져와봅시다."
      ],
      "execution_count": null,
      "outputs": []
    },
    {
      "cell_type": "code",
      "metadata": {
        "id": "6b-NeIE5dmmX",
        "outputId": "c58d51c9-e513-413c-9191-d51af392d443"
      },
      "source": [
        "from myPackage.math.formular import *\n",
        "print(pi)"
      ],
      "execution_count": null,
      "outputs": [
        {
          "output_type": "stream",
          "text": [
            "3.14\n"
          ],
          "name": "stdout"
        }
      ]
    },
    {
      "cell_type": "markdown",
      "metadata": {
        "id": "8FWVIxDodmmY"
      },
      "source": [
        "## `from` *모듈명* `import` *어트리뷰트*  `as` \n",
        "\n",
        "내가 지정하는 이름을 붙여 가져올 수 있습니다."
      ]
    },
    {
      "cell_type": "code",
      "metadata": {
        "id": "Hx4pj90fdmmY",
        "outputId": "aefa07f7-c7aa-43c3-801f-33f595d76530"
      },
      "source": [
        "from myPackage.web.url import my_url as api_url\n",
        "api_url()"
      ],
      "execution_count": null,
      "outputs": [
        {
          "output_type": "execute_result",
          "data": {
            "text/plain": [
              "'필수 요청변수가 누락되었습니다.'"
            ]
          },
          "metadata": {
            "tags": []
          },
          "execution_count": 28
        }
      ]
    },
    {
      "cell_type": "markdown",
      "metadata": {
        "id": "EOrG3ge0dmmY"
      },
      "source": [
        "## 다양한 모듈 사용법\n",
        "```python\n",
        "import module\n",
        "import pakage1.module1, pakage2.module2\n",
        "from module import var\n",
        "from module import function\n",
        "from module import Class\n",
        "from module import *\n",
        "from pakage.module import var, function, Class\n",
        "```"
      ]
    },
    {
      "cell_type": "markdown",
      "metadata": {
        "id": "RjND-yWsdmmZ"
      },
      "source": [
        "# 파이썬 기본 모듈\n",
        "\n",
        "python에는 기본적으로 제공되는 모듈들이 있습니다.\n",
        "\n",
        "[표준 라이브러리](https://docs.python.org/ko/3/library/index.html)에서 제공되는 모듈을 확인해보세요!\n",
        "\n",
        "여기 있는 모든 내용을 외울 필요도 없고, 이런 것이 있다만 확인해보세요 :)"
      ]
    },
    {
      "cell_type": "markdown",
      "metadata": {
        "id": "si0xrKgXdmmZ"
      },
      "source": [
        "## 수학 관련 함수(math)\n",
        "\n",
        "숫자 관련 함수로는 이외에도 분수(fractions), 십진(decimal), 통계(statistics)등이 있습니다."
      ]
    },
    {
      "cell_type": "markdown",
      "metadata": {
        "id": "-NUWHFzIdmmZ"
      },
      "source": [
        "다음의 기본 함수는 `import`없이 활용하였습니다. \n",
        "\n",
        "`sum`, `max`, `min`, `abs`, `pow`, `round`, `divmod`"
      ]
    },
    {
      "cell_type": "code",
      "metadata": {
        "id": "q2KUVVvUdmmZ"
      },
      "source": [
        "import math"
      ],
      "execution_count": null,
      "outputs": []
    },
    {
      "cell_type": "markdown",
      "metadata": {
        "id": "98x_IX7mdmma"
      },
      "source": [
        "### 상수"
      ]
    },
    {
      "cell_type": "code",
      "metadata": {
        "id": "NdLXkgXGdmma"
      },
      "source": [
        "# 원주율(pi)"
      ],
      "execution_count": null,
      "outputs": []
    },
    {
      "cell_type": "code",
      "metadata": {
        "id": "IhvpYRq3dmma",
        "outputId": "f428a939-2336-4006-978d-00981d4f2a06"
      },
      "source": [
        "math.pi"
      ],
      "execution_count": null,
      "outputs": [
        {
          "output_type": "execute_result",
          "data": {
            "text/plain": [
              "3.141592653589793"
            ]
          },
          "metadata": {
            "tags": []
          },
          "execution_count": 31
        }
      ]
    },
    {
      "cell_type": "code",
      "metadata": {
        "id": "6GOX0_brdmma"
      },
      "source": [
        "# 자연 로그의 밑 (상수 e)"
      ],
      "execution_count": null,
      "outputs": []
    },
    {
      "cell_type": "code",
      "metadata": {
        "id": "tpbcsJwzdmmb",
        "outputId": "32b71029-c38f-45f0-eccd-fb959dee4cd4"
      },
      "source": [
        "math.e"
      ],
      "execution_count": null,
      "outputs": [
        {
          "output_type": "execute_result",
          "data": {
            "text/plain": [
              "2.718281828459045"
            ]
          },
          "metadata": {
            "tags": []
          },
          "execution_count": 33
        }
      ]
    },
    {
      "cell_type": "markdown",
      "metadata": {
        "id": "SVmSC-yFdmmb"
      },
      "source": [
        "### 연산 관련 함수\n",
        "\n",
        "|함수|비고|\n",
        "|---|---|\n",
        "|math.ceil(x)|소수점 올림|\n",
        "|math.floor(x)|소수점 내림|\n",
        "|math.trunc(x)|소수점 버림|\n",
        "|math.copysign(x, y)|y의 부호를 x에 적용한 값|\n",
        "|math.fabs(x)|float 절대값 - 복소수 오류 발생|\n",
        "|math.factorial(x)|팩토리얼 계산 값|\n",
        "|math.fmod(x, y)|float 나머지 계산|\n",
        "|math.fsum(iterable)|float 합|\n",
        "|math.modf(x)|소수부 정수부 분리|"
      ]
    },
    {
      "cell_type": "code",
      "metadata": {
        "id": "OGLJJTyOdmmb"
      },
      "source": [
        "# 올림"
      ],
      "execution_count": null,
      "outputs": []
    },
    {
      "cell_type": "code",
      "metadata": {
        "id": "oW2Z5P4Bdmmb",
        "outputId": "de64e553-3634-4cec-c744-ed2a9aa0f86d"
      },
      "source": [
        "pi = 3.141592\n",
        "math.ceil(pi)"
      ],
      "execution_count": null,
      "outputs": [
        {
          "output_type": "execute_result",
          "data": {
            "text/plain": [
              "4"
            ]
          },
          "metadata": {
            "tags": []
          },
          "execution_count": 35
        }
      ]
    },
    {
      "cell_type": "code",
      "metadata": {
        "id": "TLmcZBtWdmmc"
      },
      "source": [
        "# 내림"
      ],
      "execution_count": null,
      "outputs": []
    },
    {
      "cell_type": "code",
      "metadata": {
        "id": "_g66shomdmmc",
        "outputId": "4b212ea1-d301-4c19-ce3c-f9bc9a01f024"
      },
      "source": [
        "math.trunc(pi)"
      ],
      "execution_count": null,
      "outputs": [
        {
          "output_type": "execute_result",
          "data": {
            "text/plain": [
              "3"
            ]
          },
          "metadata": {
            "tags": []
          },
          "execution_count": 37
        }
      ]
    },
    {
      "cell_type": "code",
      "metadata": {
        "id": "NhnGB2ZOdmmc"
      },
      "source": [
        "# 버림"
      ],
      "execution_count": null,
      "outputs": []
    },
    {
      "cell_type": "code",
      "metadata": {
        "id": "W9Wp45Rhdmmd",
        "outputId": "c967433a-7719-41b7-b98a-6d91fe529b2a"
      },
      "source": [
        "math.floor(-pi)"
      ],
      "execution_count": null,
      "outputs": [
        {
          "output_type": "execute_result",
          "data": {
            "text/plain": [
              "-4"
            ]
          },
          "metadata": {
            "tags": []
          },
          "execution_count": 39
        }
      ]
    },
    {
      "cell_type": "code",
      "metadata": {
        "id": "evYZZVz1dmmd"
      },
      "source": [
        "# 내림과 버림은 음수에서 처리가 다르다."
      ],
      "execution_count": null,
      "outputs": []
    },
    {
      "cell_type": "code",
      "metadata": {
        "id": "wKYC8bkrdmmd"
      },
      "source": [
        "# 음수 내림\n"
      ],
      "execution_count": null,
      "outputs": []
    },
    {
      "cell_type": "code",
      "metadata": {
        "id": "yoaDP4JWdmmd"
      },
      "source": [
        "# 음수 버림\n"
      ],
      "execution_count": null,
      "outputs": []
    },
    {
      "cell_type": "code",
      "metadata": {
        "id": "bPGt68rwdmme"
      },
      "source": [
        "# 프로그래밍에서 나눗셈은 음수로 하거나 양수로 하거나 두가지 상황이 있습니다. \n",
        "# % 는 정수를, fmod 는 float를\n",
        "# 부호가 다른 경우 서로 다르게 출력합니다."
      ],
      "execution_count": null,
      "outputs": []
    },
    {
      "cell_type": "code",
      "metadata": {
        "id": "NU56BcgAdmme",
        "outputId": "b738b76b-fef0-40c0-b0a9-d8f15e2eed3e"
      },
      "source": [
        "math.fmod(-5,2)"
      ],
      "execution_count": null,
      "outputs": [
        {
          "output_type": "execute_result",
          "data": {
            "text/plain": [
              "-1.0"
            ]
          },
          "metadata": {
            "tags": []
          },
          "execution_count": 40
        }
      ]
    },
    {
      "cell_type": "code",
      "metadata": {
        "id": "STX_Z5GDdmme",
        "outputId": "8b907280-8cbc-466b-ee7e-c3729caa3d94"
      },
      "source": [
        "-5%2"
      ],
      "execution_count": null,
      "outputs": [
        {
          "output_type": "execute_result",
          "data": {
            "text/plain": [
              "1"
            ]
          },
          "metadata": {
            "tags": []
          },
          "execution_count": 41
        }
      ]
    },
    {
      "cell_type": "markdown",
      "metadata": {
        "id": "ItI8JA91dmme"
      },
      "source": [
        "### 로그, 지수 연산\n",
        "\n",
        "|함수|비고|\n",
        "|---|---|\n",
        "|math.pow(x,y)|x의 y제곱의 결과|\n",
        "|math.sqrt(x)|x의 제곱근의 결과|\n",
        "|math.exp(x)|e^x 결과|\n",
        "|math.log(x[, base])|밑을 base로 하는 logx (base default 값은 e)|"
      ]
    },
    {
      "cell_type": "code",
      "metadata": {
        "id": "XOHLDnMbdmmf"
      },
      "source": [
        "# 제곱"
      ],
      "execution_count": null,
      "outputs": []
    },
    {
      "cell_type": "code",
      "metadata": {
        "id": "1gGTLLKfdmmf",
        "outputId": "0e6e9132-4cdb-4e6e-d71f-c6fb3fc58857"
      },
      "source": [
        "math.pow(2,5)"
      ],
      "execution_count": null,
      "outputs": [
        {
          "output_type": "execute_result",
          "data": {
            "text/plain": [
              "32.0"
            ]
          },
          "metadata": {
            "tags": []
          },
          "execution_count": 42
        }
      ]
    },
    {
      "cell_type": "code",
      "metadata": {
        "id": "EIWzyG1edmmf"
      },
      "source": [
        "# 제곱근"
      ],
      "execution_count": null,
      "outputs": []
    },
    {
      "cell_type": "code",
      "metadata": {
        "id": "fpE8qWF2dmmf"
      },
      "source": [
        "math."
      ],
      "execution_count": null,
      "outputs": []
    },
    {
      "cell_type": "code",
      "metadata": {
        "id": "5nf2pAFodmmg"
      },
      "source": [
        "# e"
      ],
      "execution_count": null,
      "outputs": []
    },
    {
      "cell_type": "code",
      "metadata": {
        "id": "G77wSp9bdmmg",
        "outputId": "fbaf4d04-15c7-44cd-9485-a883bd2b44a6"
      },
      "source": [
        "math.exp(1)"
      ],
      "execution_count": null,
      "outputs": [
        {
          "output_type": "execute_result",
          "data": {
            "text/plain": [
              "2.718281828459045"
            ]
          },
          "metadata": {
            "tags": []
          },
          "execution_count": 20
        }
      ]
    },
    {
      "cell_type": "code",
      "metadata": {
        "id": "ys4x7fxndmmg"
      },
      "source": [
        "# 로그계산"
      ],
      "execution_count": null,
      "outputs": []
    },
    {
      "cell_type": "code",
      "metadata": {
        "id": "I6BFIxNNdmmg",
        "outputId": "6931c300-bcd7-404b-fb5f-8203ec8ef931"
      },
      "source": [
        "math.log(math.e)"
      ],
      "execution_count": null,
      "outputs": [
        {
          "output_type": "execute_result",
          "data": {
            "text/plain": [
              "1.0"
            ]
          },
          "metadata": {
            "tags": []
          },
          "execution_count": 21
        }
      ]
    },
    {
      "cell_type": "code",
      "metadata": {
        "id": "JVnBk-Cmdmmh"
      },
      "source": [
        "math.log(10,10)"
      ],
      "execution_count": null,
      "outputs": []
    },
    {
      "cell_type": "markdown",
      "metadata": {
        "id": "DUlRlce6dmmh"
      },
      "source": [
        "### 삼각함수\n",
        "\n",
        "```\n",
        "sin, cos, tan\n",
        "asin, acos, atan, \n",
        "sinh, cosh, tanh,\n",
        "ashinh, acosh, atanh\n",
        "```"
      ]
    },
    {
      "cell_type": "code",
      "metadata": {
        "id": "U7VTYirkdmmi"
      },
      "source": [
        "# 삼각함수를 사용해봅시다."
      ],
      "execution_count": null,
      "outputs": []
    },
    {
      "cell_type": "code",
      "metadata": {
        "id": "s0nMNJRwdmmi",
        "outputId": "717230a6-e444-4e88-d894-fab14865b75b"
      },
      "source": [
        "math.sin(0)"
      ],
      "execution_count": null,
      "outputs": [
        {
          "output_type": "execute_result",
          "data": {
            "text/plain": [
              "0.0"
            ]
          },
          "metadata": {
            "tags": []
          },
          "execution_count": 22
        }
      ]
    },
    {
      "cell_type": "code",
      "metadata": {
        "id": "wLqJgQlbdmmj",
        "outputId": "5f3ec048-c578-4533-94a0-4bdcafc36cde"
      },
      "source": [
        "math.cos(0)"
      ],
      "execution_count": null,
      "outputs": [
        {
          "output_type": "execute_result",
          "data": {
            "text/plain": [
              "1.0"
            ]
          },
          "metadata": {
            "tags": []
          },
          "execution_count": 23
        }
      ]
    },
    {
      "cell_type": "markdown",
      "metadata": {
        "id": "Pn5L61d4dmmj"
      },
      "source": [
        "## 난수 발생관련 함수(random)\n",
        "우리가 사용했던 `random` 역시도 표준라이브러리에서 제공되고 있는 모듈이며, 난수를 발생시키는 모듈입니다."
      ]
    },
    {
      "cell_type": "code",
      "metadata": {
        "id": "7NPZEgh5dmmk",
        "outputId": "bb1136e2-87ef-46c0-871d-6f9441ef9965"
      },
      "source": [
        "# 로또 번호를 생성해보세요!\n",
        "import random\n",
        "\n",
        "lotto = random.sample(range(1, 46), 6)\n",
        "print(sorted(lotto))"
      ],
      "execution_count": null,
      "outputs": [
        {
          "output_type": "stream",
          "text": [
            "[10, 23, 26, 31, 42, 45]\n"
          ],
          "name": "stdout"
        }
      ]
    },
    {
      "cell_type": "code",
      "metadata": {
        "id": "nSX5Mckydmmk"
      },
      "source": [
        "# 난수 생성"
      ],
      "execution_count": null,
      "outputs": []
    },
    {
      "cell_type": "code",
      "metadata": {
        "id": "LL1hYNvXdmmk",
        "outputId": "63253208-f4e7-4575-93d1-9107fb3e2470"
      },
      "source": [
        "random.random()"
      ],
      "execution_count": null,
      "outputs": [
        {
          "output_type": "execute_result",
          "data": {
            "text/plain": [
              "0.34565414128727356"
            ]
          },
          "metadata": {
            "tags": []
          },
          "execution_count": 48
        }
      ]
    },
    {
      "cell_type": "code",
      "metadata": {
        "id": "hizRpChvdmml"
      },
      "source": [
        "# 임의의 정수 반환"
      ],
      "execution_count": null,
      "outputs": []
    },
    {
      "cell_type": "code",
      "metadata": {
        "id": "7EgqvjQadmml",
        "outputId": "1669189f-b054-4342-c7de-6bdacbed73a1"
      },
      "source": [
        "random.randint(1,5)"
      ],
      "execution_count": null,
      "outputs": [
        {
          "output_type": "execute_result",
          "data": {
            "text/plain": [
              "4"
            ]
          },
          "metadata": {
            "tags": []
          },
          "execution_count": 49
        }
      ]
    },
    {
      "cell_type": "code",
      "metadata": {
        "id": "WbVDipNzdmml"
      },
      "source": [
        "# 시퀀스 객체를 섞는다."
      ],
      "execution_count": null,
      "outputs": []
    },
    {
      "cell_type": "code",
      "metadata": {
        "id": "oL9_8vKodmml"
      },
      "source": [
        ""
      ],
      "execution_count": null,
      "outputs": []
    },
    {
      "cell_type": "markdown",
      "metadata": {
        "id": "sigH4Cwhdmml"
      },
      "source": [
        "### seed\n",
        "* 경우에 따라서(보통 디버깅 등을 위해 ) 동일한 순서로 난수를 발생시켜야 할 경우가 있다. \n",
        "* 난수 발생을 위해서는 적절한 시드(seed)를 난수발생기에 주어야 한다. \n",
        "* 만약 시드가 같다면 동일한 난수를 발생시키게 된다. \n",
        "* 시드 설정을 하지 않으면 현재 시간을 기반으로 만든다."
      ]
    },
    {
      "cell_type": "code",
      "metadata": {
        "id": "C_fCHgjbdmmm"
      },
      "source": [
        "random.seed(1)\n",
        "\n",
        "# 시드 설정 후에 첫번째 값을 확인해봅시다."
      ],
      "execution_count": null,
      "outputs": []
    },
    {
      "cell_type": "code",
      "metadata": {
        "id": "OMhYY_Uodmmm",
        "outputId": "dd4322c3-3d09-4f4e-ca14-77f033b6250f"
      },
      "source": [
        "random.random()"
      ],
      "execution_count": null,
      "outputs": [
        {
          "output_type": "execute_result",
          "data": {
            "text/plain": [
              "0.13436424411240122"
            ]
          },
          "metadata": {
            "tags": []
          },
          "execution_count": 28
        }
      ]
    },
    {
      "cell_type": "code",
      "metadata": {
        "scrolled": true,
        "id": "HRHY82Iddmmm",
        "outputId": "0cac289b-e2fb-4c1d-b9ec-bf0aac738c1e"
      },
      "source": [
        "random.random()"
      ],
      "execution_count": null,
      "outputs": [
        {
          "output_type": "execute_result",
          "data": {
            "text/plain": [
              "0.8474337369372327"
            ]
          },
          "metadata": {
            "tags": []
          },
          "execution_count": 29
        }
      ]
    },
    {
      "cell_type": "code",
      "metadata": {
        "id": "kJrxF152dmmm",
        "outputId": "6d20ad47-78d3-431d-83a7-b91662eebc0e"
      },
      "source": [
        "random.seed(1)\n",
        "random.random()"
      ],
      "execution_count": null,
      "outputs": [
        {
          "output_type": "execute_result",
          "data": {
            "text/plain": [
              "0.13436424411240122"
            ]
          },
          "metadata": {
            "tags": []
          },
          "execution_count": 30
        }
      ]
    },
    {
      "cell_type": "markdown",
      "metadata": {
        "id": "HYuGIfuidmmn"
      },
      "source": [
        "## 날짜 관련 모듈(datetime)\n",
        "\n",
        "### datetime\n",
        "\n",
        "날짜와 시간의 조합에 관련된 모듈입니다.\n",
        "\n",
        "* 어트리뷰트: year, month, day, hour, minute, second, microsecond 및 tzinfo."
      ]
    },
    {
      "cell_type": "code",
      "metadata": {
        "scrolled": true,
        "id": "cZLX4_mkdmmn"
      },
      "source": [
        "# 1970년 1월 1일부터 1초씩 증가합니다.\n",
        "# 오늘을 출력해봅시다."
      ],
      "execution_count": null,
      "outputs": []
    },
    {
      "cell_type": "code",
      "metadata": {
        "id": "ZNMJsae1dmmn"
      },
      "source": [
        "from datetime import datetime\n",
        "now = datetime"
      ],
      "execution_count": null,
      "outputs": []
    },
    {
      "cell_type": "code",
      "metadata": {
        "id": "qeLjAitjdmmn"
      },
      "source": [
        "# 오늘을 출력하는 다른 방법도 있습니다."
      ],
      "execution_count": null,
      "outputs": []
    },
    {
      "cell_type": "code",
      "metadata": {
        "id": "h9o0cuMFdmmo"
      },
      "source": [
        ""
      ],
      "execution_count": null,
      "outputs": []
    },
    {
      "cell_type": "code",
      "metadata": {
        "id": "HT-uKTM9dmmo"
      },
      "source": [
        "# UTC기준시도 출력가능합니다."
      ],
      "execution_count": null,
      "outputs": []
    },
    {
      "cell_type": "code",
      "metadata": {
        "id": "jVyKbpoUdmmo"
      },
      "source": [
        ""
      ],
      "execution_count": null,
      "outputs": []
    },
    {
      "cell_type": "markdown",
      "metadata": {
        "id": "3li7EGJMdmmo"
      },
      "source": [
        "* 시간 형식지정\n",
        "\n",
        "|형식 지시자(directive)|의미|\n",
        "|-------------------|---|\n",
        "|%y|연도표기(00~99)|\n",
        "|%Y|연도표기(전체)|\n",
        "|%b|월 이름(축약)|\n",
        "|%B|월 이름(전체)|\n",
        "|%m|월 숫자(01~12)|\n",
        "|%d|일(01~31)|\n",
        "|%H|24시간 기준(00~23)|\n",
        "|%I|12시간 기준(01~12)|\n",
        "|%M|분(00~59)|\n",
        "|%S|초(00~61)|\n",
        "|%p|오전/오후|\n",
        "|%a|요일(축약)|\n",
        "|%A|요일(전체)|\n",
        "|%w|요일(숫자 : 일요일(0))|\n",
        "|%j|1월 1일부터 누적 날짜|"
      ]
    },
    {
      "cell_type": "code",
      "metadata": {
        "id": "pDR3nenrdmmo"
      },
      "source": [
        "# 원하는 대로 예쁘게 출력해봅시다."
      ],
      "execution_count": null,
      "outputs": []
    },
    {
      "cell_type": "code",
      "metadata": {
        "id": "WkyGn2aLdmmo"
      },
      "source": [
        ""
      ],
      "execution_count": null,
      "outputs": []
    },
    {
      "cell_type": "code",
      "metadata": {
        "id": "oUOeJrhFdmmp"
      },
      "source": [
        ""
      ],
      "execution_count": null,
      "outputs": []
    },
    {
      "cell_type": "markdown",
      "metadata": {
        "id": "B11HvNEwdmmp"
      },
      "source": [
        "|속성/메소드|내용|\n",
        "|-------------------|---|\n",
        "|.year|년|\n",
        "|.month|월|\n",
        "|.day|일|\n",
        "|.hour|시|\n",
        "|.minute|분|\n",
        "|.second|초|\n",
        "|.weekday()|월요일을 0부터 6까지|"
      ]
    },
    {
      "cell_type": "code",
      "metadata": {
        "id": "rUDPDcyLdmmp"
      },
      "source": [
        "# 속성을 출력해봅시다."
      ],
      "execution_count": null,
      "outputs": []
    },
    {
      "cell_type": "code",
      "metadata": {
        "id": "mWZ39DYCdmmp"
      },
      "source": [
        ""
      ],
      "execution_count": null,
      "outputs": []
    },
    {
      "cell_type": "code",
      "metadata": {
        "id": "JBH2tWhldmmp"
      },
      "source": [
        "# 월요일을 시작으로 0~6"
      ],
      "execution_count": null,
      "outputs": []
    },
    {
      "cell_type": "code",
      "metadata": {
        "id": "shhYn7OBdmmp"
      },
      "source": [
        ""
      ],
      "execution_count": null,
      "outputs": []
    },
    {
      "cell_type": "markdown",
      "metadata": {
        "id": "2UIDe2t4dmmq"
      },
      "source": [
        "* 특정한 날짜 만들기\n",
        "\n",
        "`datetime(year, month, day, hour, minute, second, microsecond)`"
      ]
    },
    {
      "cell_type": "code",
      "metadata": {
        "id": "fhxH1MfNdmmq"
      },
      "source": [
        "# 크리스마스를 만들어봅시다."
      ],
      "execution_count": null,
      "outputs": []
    },
    {
      "cell_type": "code",
      "metadata": {
        "id": "VwEpsZDJdmmq"
      },
      "source": [
        ""
      ],
      "execution_count": null,
      "outputs": []
    },
    {
      "cell_type": "code",
      "metadata": {
        "id": "QPP10zqfdmmq"
      },
      "source": [
        "# 예쁘게 출력해봅시다."
      ],
      "execution_count": null,
      "outputs": []
    },
    {
      "cell_type": "code",
      "metadata": {
        "id": "J9Xrw3TRdmmr"
      },
      "source": [
        ""
      ],
      "execution_count": null,
      "outputs": []
    },
    {
      "cell_type": "markdown",
      "metadata": {
        "id": "ZOHLfVkldmmr"
      },
      "source": [
        "### timedelta\n",
        "두 date, time 또는 datetime 인스턴스 간의 차이를 마이크로초 해상도로 나타내는 기간입니다."
      ]
    },
    {
      "cell_type": "code",
      "metadata": {
        "id": "bngweRBNdmmr"
      },
      "source": [
        "from datetime import timedelta"
      ],
      "execution_count": null,
      "outputs": []
    },
    {
      "cell_type": "code",
      "metadata": {
        "id": "8M7gwuU7dmmr"
      },
      "source": [
        "# 활용해봅시다."
      ],
      "execution_count": null,
      "outputs": []
    },
    {
      "cell_type": "code",
      "metadata": {
        "id": "MBQTy8bEdmmr",
        "outputId": "8143dafe-68a6-4d6f-f0e0-114ec012efe9"
      },
      "source": [
        "now + ago"
      ],
      "execution_count": null,
      "outputs": [
        {
          "output_type": "error",
          "ename": "NameError",
          "evalue": "name 'now' is not defined",
          "traceback": [
            "\u001b[1;31m---------------------------------------------------------------------------\u001b[0m",
            "\u001b[1;31mNameError\u001b[0m                                 Traceback (most recent call last)",
            "\u001b[1;32m<ipython-input-2-cee678b0f893>\u001b[0m in \u001b[0;36m<module>\u001b[1;34m\u001b[0m\n\u001b[1;32m----> 1\u001b[1;33m \u001b[0mnow\u001b[0m \u001b[1;33m+\u001b[0m \u001b[0mago\u001b[0m\u001b[1;33m\u001b[0m\u001b[1;33m\u001b[0m\u001b[0m\n\u001b[0m",
            "\u001b[1;31mNameError\u001b[0m: name 'now' is not defined"
          ]
        }
      ]
    },
    {
      "cell_type": "code",
      "metadata": {
        "id": "S3KlgSOmdmms"
      },
      "source": [
        "# 비교 및 연산이 가능합니다."
      ],
      "execution_count": null,
      "outputs": []
    },
    {
      "cell_type": "code",
      "metadata": {
        "id": "Dyjcolfwdmms"
      },
      "source": [
        ""
      ],
      "execution_count": null,
      "outputs": []
    },
    {
      "cell_type": "code",
      "metadata": {
        "id": "vY5dIzzNdmms"
      },
      "source": [
        "# 오늘부터 1일일 때, 100일 뒤는?"
      ],
      "execution_count": null,
      "outputs": []
    },
    {
      "cell_type": "code",
      "metadata": {
        "id": "UHmDQh7rdmms",
        "outputId": "07a6154d-11cb-4153-8bef-ce0cbbde8a5b"
      },
      "source": [
        "from datetime import timedelta as TD\n",
        "print(DT.now() + TD(days=100))"
      ],
      "execution_count": null,
      "outputs": [
        {
          "output_type": "error",
          "ename": "NameError",
          "evalue": "name 'DT' is not defined",
          "traceback": [
            "\u001b[1;31m---------------------------------------------------------------------------\u001b[0m",
            "\u001b[1;31mNameError\u001b[0m                                 Traceback (most recent call last)",
            "\u001b[1;32m<ipython-input-3-8250b5042450>\u001b[0m in \u001b[0;36m<module>\u001b[1;34m\u001b[0m\n\u001b[0;32m      1\u001b[0m \u001b[1;32mfrom\u001b[0m \u001b[0mdatetime\u001b[0m \u001b[1;32mimport\u001b[0m \u001b[0mtimedelta\u001b[0m \u001b[1;32mas\u001b[0m \u001b[0mTD\u001b[0m\u001b[1;33m\u001b[0m\u001b[1;33m\u001b[0m\u001b[0m\n\u001b[1;32m----> 2\u001b[1;33m \u001b[0mprint\u001b[0m\u001b[1;33m(\u001b[0m\u001b[0mDT\u001b[0m\u001b[1;33m.\u001b[0m\u001b[0mnow\u001b[0m\u001b[1;33m(\u001b[0m\u001b[1;33m)\u001b[0m \u001b[1;33m+\u001b[0m \u001b[0mTD\u001b[0m\u001b[1;33m(\u001b[0m\u001b[0mdays\u001b[0m\u001b[1;33m=\u001b[0m\u001b[1;36m100\u001b[0m\u001b[1;33m)\u001b[0m\u001b[1;33m)\u001b[0m\u001b[1;33m\u001b[0m\u001b[1;33m\u001b[0m\u001b[0m\n\u001b[0m",
            "\u001b[1;31mNameError\u001b[0m: name 'DT' is not defined"
          ]
        }
      ]
    },
    {
      "cell_type": "code",
      "metadata": {
        "id": "QxA3XlQRdmmt"
      },
      "source": [
        "# 지금부터 크리스마스까지 얼마나 남았을까?"
      ],
      "execution_count": null,
      "outputs": []
    },
    {
      "cell_type": "code",
      "metadata": {
        "id": "-NImFfQ3dmmt"
      },
      "source": [
        ""
      ],
      "execution_count": null,
      "outputs": []
    },
    {
      "cell_type": "code",
      "metadata": {
        "id": "7ycf1pDmdmmt"
      },
      "source": [
        "# 초로 만들어봅시다."
      ],
      "execution_count": null,
      "outputs": []
    },
    {
      "cell_type": "code",
      "metadata": {
        "id": "lUmq-rvCdmmt",
        "outputId": "77ba6490-9e5e-4555-e5e6-631cb130ae03"
      },
      "source": [
        "diff_seconds = diff.total_seconds()\n",
        "print(diff_seconds)"
      ],
      "execution_count": null,
      "outputs": [
        {
          "output_type": "error",
          "ename": "NameError",
          "evalue": "name 'diff' is not defined",
          "traceback": [
            "\u001b[1;31m---------------------------------------------------------------------------\u001b[0m",
            "\u001b[1;31mNameError\u001b[0m                                 Traceback (most recent call last)",
            "\u001b[1;32m<ipython-input-4-54bcd434691c>\u001b[0m in \u001b[0;36m<module>\u001b[1;34m\u001b[0m\n\u001b[1;32m----> 1\u001b[1;33m \u001b[0mdiff_seconds\u001b[0m \u001b[1;33m=\u001b[0m \u001b[0mdiff\u001b[0m\u001b[1;33m.\u001b[0m\u001b[0mtotal_seconds\u001b[0m\u001b[1;33m(\u001b[0m\u001b[1;33m)\u001b[0m\u001b[1;33m\u001b[0m\u001b[1;33m\u001b[0m\u001b[0m\n\u001b[0m\u001b[0;32m      2\u001b[0m \u001b[0mprint\u001b[0m\u001b[1;33m(\u001b[0m\u001b[0mdiff_seconds\u001b[0m\u001b[1;33m)\u001b[0m\u001b[1;33m\u001b[0m\u001b[1;33m\u001b[0m\u001b[0m\n",
            "\u001b[1;31mNameError\u001b[0m: name 'diff' is not defined"
          ]
        }
      ]
    },
    {
      "cell_type": "markdown",
      "metadata": {
        "id": "xrsl8XG_dmmu"
      },
      "source": [
        "**실습**\n",
        "\n",
        "> 초를 예쁘게 출력하는 함수 `print_time_delta()` 를 작성하세요.\n",
        "---\n",
        "\n",
        "```\n",
        "예시 출력)\n",
        "'10일 1시간 18분 51초 전'\n",
        "```"
      ]
    },
    {
      "cell_type": "code",
      "metadata": {
        "id": "JMMZh_4Mdmmu"
      },
      "source": [
        ""
      ],
      "execution_count": null,
      "outputs": []
    },
    {
      "cell_type": "code",
      "metadata": {
        "id": "frnAWiNldmmu"
      },
      "source": [
        "# 해당 코드를 통해 올바른 결과가 나오는지 확인하세요.\n",
        "print(print_time_delta(diff_seconds))"
      ],
      "execution_count": null,
      "outputs": []
    }
  ]
}
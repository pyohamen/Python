{
  "nbformat": 4,
  "nbformat_minor": 0,
  "metadata": {
    "kernelspec": {
      "display_name": "Python 3",
      "language": "python",
      "name": "python3"
    },
    "language_info": {
      "codemirror_mode": {
        "name": "ipython",
        "version": 3
      },
      "file_extension": ".py",
      "mimetype": "text/x-python",
      "name": "python",
      "nbconvert_exporter": "python",
      "pygments_lexer": "ipython3",
      "version": "3.7.3"
    },
    "latex_envs": {
      "LaTeX_envs_menu_present": true,
      "autoclose": false,
      "autocomplete": true,
      "bibliofile": "biblio.bib",
      "cite_by": "apalike",
      "current_citInitial": 1,
      "eqLabelWithNumbers": true,
      "eqNumInitial": 1,
      "hotkeys": {
        "equation": "Ctrl-E",
        "itemize": "Ctrl-I"
      },
      "labels_anchors": false,
      "latex_user_defs": false,
      "report_style_numbering": false,
      "user_envs_cfg": false
    },
    "toc": {
      "base_numbering": 1,
      "nav_menu": {},
      "number_sections": true,
      "sideBar": true,
      "skip_h1_title": false,
      "title_cell": "Table of Contents",
      "title_sidebar": "Contents",
      "toc_cell": false,
      "toc_position": {
        "height": "calc(100% - 180px)",
        "left": "10px",
        "top": "150px",
        "width": "336px"
      },
      "toc_section_display": true,
      "toc_window_display": true
    },
    "colab": {
      "name": "07_OOP_basic.ipynb",
      "provenance": [],
      "include_colab_link": true
    }
  },
  "cells": [
    {
      "cell_type": "markdown",
      "metadata": {
        "id": "view-in-github",
        "colab_type": "text"
      },
      "source": [
        "<a href=\"https://colab.research.google.com/github/pyohamen/SSAFY/blob/master/Python/07_OOP_basic.ipynb\" target=\"_parent\"><img src=\"https://colab.research.google.com/assets/colab-badge.svg\" alt=\"Open In Colab\"/></a>"
      ]
    },
    {
      "cell_type": "markdown",
      "metadata": {
        "id": "hRqLHUwBdw81"
      },
      "source": [
        "# OOP with python\n",
        "\n",
        "## 시작하기전에\n",
        "\n",
        "**<wikipedia - 객체지향 프로그래밍>**\n",
        ">\n",
        "> 객체 지향 프로그래밍(영어: Object-Oriented Programming, OOP)은 컴퓨터 프로그래밍의 패러다임의 하나이다. 객체 지향 프로그래밍은 컴퓨터 프로그램을 명령어의 목록으로 보는 시각에서 벗어나 여러 개의 독립된 단위, 즉 \"객체\"들의 모임으로 파악하고자 하는 것이다. 각각의 객체는 메시지를 주고받고, 데이터를 처리할 수 있다.\n",
        ">\n",
        "> 명령형 프로그래밍인 절차지향 프로그래밍에서 발전된 형태를 나타내며, 기본 구성요소는 다음과 같다.\n",
        "\n",
        "* 클래스(Class) \n",
        "    - 객체를 표현하는 문법\n",
        "    - 같은 종류(또는 문제 해결을 위한)의 집단에 속하는 **속성(attribute)**과 **행위(behavior)**를 정의한 것으로 객체지향 프로그램의 기본적인 사용자 정의 데이터형(user define data type)이라고 할 수 있다.\n",
        "    - 클래스는 프로그래머가 아니지만 해결해야 할 문제가 속하는 영역에 종사하는 사람이라면 사용할 수 있고, 다른 클래스 또는 외부 요소와 독립적으로 디자인하여야 한다.\n",
        "\n",
        "\n",
        "* 인스턴스(instance) \n",
        "    - 클래스의 인스턴스/객체(실제로 메모리상에 할당된 것) \n",
        "    - 객체는 자신 고유의 속성(attribute)을 가지며 클래스에서 정의한 행위(behavior)를 수행할 수 있다. \n",
        "    - 객체의 행위는 클래스에 정의된 행위에 대한 정의(메서드)를 공유함으로써 메모리를 경제적으로 사용한다.\n",
        "\n",
        "\n",
        "* 속성(attribute) \n",
        "    - 클래스/인스턴스 가 가지고 있는 속성(값)\n",
        "\n",
        "\n",
        "* 메서드(Method) \n",
        "    - 클래스/인스턴스 가 할 수 있는 행위(함수)"
      ]
    },
    {
      "cell_type": "markdown",
      "metadata": {
        "id": "2_F7pD1tdw83"
      },
      "source": [
        "## 객체의 속성과 메서드\n",
        "class의 속성(값)과 행위(메서드)를 명확히 구분해 봅시다.\n",
        "\n",
        "| class / type | instance                 | attributes       | methods                                |\n",
        "| ------------ | ------------------------ | ---------------- | -------------------------------------- |\n",
        "| `str`        | `''`, `'hello'`, `'123'` |       _          | `.capitalize()`, `.join()`, `.split()` |\n",
        "| `list`       | `[]`, `['a', 'b']`       |       _          | `.append()`, `.reverse()`, `.sort()`     |\n",
        "| `dict`       | `{}`, `{'key': 'value'}` |       _          | `.keys()`, `.values()`, `.items()`    |\n",
        "| `int`        | `0`, `1`, `2`            | `.real`, `.imag` |                                        |"
      ]
    },
    {
      "cell_type": "code",
      "metadata": {
        "id": "YbfmlnZodw85"
      },
      "source": [
        "# 복소수를 하나 만들어보고, 타입을 출력해봅시다."
      ],
      "execution_count": null,
      "outputs": []
    },
    {
      "cell_type": "code",
      "metadata": {
        "id": "EcU9WAxNdw86",
        "outputId": "bae0c107-1566-43c2-b40e-1e6546c41dc8"
      },
      "source": [
        "img_number = 3+5j\n",
        "print(type(img_number))"
      ],
      "execution_count": null,
      "outputs": [
        {
          "output_type": "stream",
          "text": [
            "<class 'complex'>\n"
          ],
          "name": "stdout"
        }
      ]
    },
    {
      "cell_type": "code",
      "metadata": {
        "id": "PpbYNOPxdw87"
      },
      "source": [
        "# 허수부랑 실수부를 함께 출력해봅시다. complex 객체의 실수 속성과 허수 속성이라고도 표현 가능합니다."
      ],
      "execution_count": null,
      "outputs": []
    },
    {
      "cell_type": "code",
      "metadata": {
        "id": "Hflw1CQUdw88",
        "outputId": "aa16a7d9-bc04-44f8-9708-79b95c0d62e5"
      },
      "source": [
        "print(img_number.real)\n",
        "print(img_number.imag)"
      ],
      "execution_count": null,
      "outputs": [
        {
          "output_type": "stream",
          "text": [
            "3.0\n",
            "5.0\n"
          ],
          "name": "stdout"
        }
      ]
    },
    {
      "cell_type": "code",
      "metadata": {
        "id": "tgEcGANkdw88",
        "outputId": "2c89c108-0242-429b-ea94-9f1fd2f1f26b"
      },
      "source": [
        "# help(complex)\n",
        "help(complex.imag)"
      ],
      "execution_count": null,
      "outputs": [
        {
          "output_type": "stream",
          "text": [
            "Help on member descriptor builtins.complex.imag:\n",
            "\n",
            "imag\n",
            "    the imaginary part of a complex number\n",
            "\n"
          ],
          "name": "stdout"
        }
      ]
    },
    {
      "cell_type": "markdown",
      "metadata": {
        "id": "aXg7u1Dmdw89"
      },
      "source": [
        "`list` class의 객체들이 할 수 있는 행위(메서드)들을 확인해 봅시다."
      ]
    },
    {
      "cell_type": "code",
      "metadata": {
        "id": "fp87vwSXdw89"
      },
      "source": [
        "# 리스트를 하나 만들고 정렬해봅시다. list 객체의 메서드 실행이라고도 표현 가능합니다."
      ],
      "execution_count": null,
      "outputs": []
    },
    {
      "cell_type": "code",
      "metadata": {
        "scrolled": true,
        "id": "LLD3v_Yqdw8-",
        "outputId": "afcfa3d9-66e5-49c1-a9ae-156a50857138"
      },
      "source": [
        "my_list = [3,2,1]\n",
        "print(type(my_list))"
      ],
      "execution_count": null,
      "outputs": [
        {
          "output_type": "stream",
          "text": [
            "<class 'list'>\n"
          ],
          "name": "stdout"
        }
      ]
    },
    {
      "cell_type": "code",
      "metadata": {
        "id": "En8Mq1uFdw8-",
        "outputId": "98f08353-bb0f-4dd0-beb7-81bc35ab857e"
      },
      "source": [
        "help(list)"
      ],
      "execution_count": null,
      "outputs": [
        {
          "output_type": "stream",
          "text": [
            "Help on class list in module builtins:\n",
            "\n",
            "class list(object)\n",
            " |  list(iterable=(), /)\n",
            " |  \n",
            " |  Built-in mutable sequence.\n",
            " |  \n",
            " |  If no argument is given, the constructor creates a new empty list.\n",
            " |  The argument must be an iterable if specified.\n",
            " |  \n",
            " |  Methods defined here:\n",
            " |  \n",
            " |  __add__(self, value, /)\n",
            " |      Return self+value.\n",
            " |  \n",
            " |  __contains__(self, key, /)\n",
            " |      Return key in self.\n",
            " |  \n",
            " |  __delitem__(self, key, /)\n",
            " |      Delete self[key].\n",
            " |  \n",
            " |  __eq__(self, value, /)\n",
            " |      Return self==value.\n",
            " |  \n",
            " |  __ge__(self, value, /)\n",
            " |      Return self>=value.\n",
            " |  \n",
            " |  __getattribute__(self, name, /)\n",
            " |      Return getattr(self, name).\n",
            " |  \n",
            " |  __getitem__(...)\n",
            " |      x.__getitem__(y) <==> x[y]\n",
            " |  \n",
            " |  __gt__(self, value, /)\n",
            " |      Return self>value.\n",
            " |  \n",
            " |  __iadd__(self, value, /)\n",
            " |      Implement self+=value.\n",
            " |  \n",
            " |  __imul__(self, value, /)\n",
            " |      Implement self*=value.\n",
            " |  \n",
            " |  __init__(self, /, *args, **kwargs)\n",
            " |      Initialize self.  See help(type(self)) for accurate signature.\n",
            " |  \n",
            " |  __iter__(self, /)\n",
            " |      Implement iter(self).\n",
            " |  \n",
            " |  __le__(self, value, /)\n",
            " |      Return self<=value.\n",
            " |  \n",
            " |  __len__(self, /)\n",
            " |      Return len(self).\n",
            " |  \n",
            " |  __lt__(self, value, /)\n",
            " |      Return self<value.\n",
            " |  \n",
            " |  __mul__(self, value, /)\n",
            " |      Return self*value.\n",
            " |  \n",
            " |  __ne__(self, value, /)\n",
            " |      Return self!=value.\n",
            " |  \n",
            " |  __repr__(self, /)\n",
            " |      Return repr(self).\n",
            " |  \n",
            " |  __reversed__(self, /)\n",
            " |      Return a reverse iterator over the list.\n",
            " |  \n",
            " |  __rmul__(self, value, /)\n",
            " |      Return value*self.\n",
            " |  \n",
            " |  __setitem__(self, key, value, /)\n",
            " |      Set self[key] to value.\n",
            " |  \n",
            " |  __sizeof__(self, /)\n",
            " |      Return the size of the list in memory, in bytes.\n",
            " |  \n",
            " |  append(self, object, /)\n",
            " |      Append object to the end of the list.\n",
            " |  \n",
            " |  clear(self, /)\n",
            " |      Remove all items from list.\n",
            " |  \n",
            " |  copy(self, /)\n",
            " |      Return a shallow copy of the list.\n",
            " |  \n",
            " |  count(self, value, /)\n",
            " |      Return number of occurrences of value.\n",
            " |  \n",
            " |  extend(self, iterable, /)\n",
            " |      Extend list by appending elements from the iterable.\n",
            " |  \n",
            " |  index(self, value, start=0, stop=9223372036854775807, /)\n",
            " |      Return first index of value.\n",
            " |      \n",
            " |      Raises ValueError if the value is not present.\n",
            " |  \n",
            " |  insert(self, index, object, /)\n",
            " |      Insert object before index.\n",
            " |  \n",
            " |  pop(self, index=-1, /)\n",
            " |      Remove and return item at index (default last).\n",
            " |      \n",
            " |      Raises IndexError if list is empty or index is out of range.\n",
            " |  \n",
            " |  remove(self, value, /)\n",
            " |      Remove first occurrence of value.\n",
            " |      \n",
            " |      Raises ValueError if the value is not present.\n",
            " |  \n",
            " |  reverse(self, /)\n",
            " |      Reverse *IN PLACE*.\n",
            " |  \n",
            " |  sort(self, /, *, key=None, reverse=False)\n",
            " |      Stable sort *IN PLACE*.\n",
            " |  \n",
            " |  ----------------------------------------------------------------------\n",
            " |  Static methods defined here:\n",
            " |  \n",
            " |  __new__(*args, **kwargs) from builtins.type\n",
            " |      Create and return a new object.  See help(type) for accurate signature.\n",
            " |  \n",
            " |  ----------------------------------------------------------------------\n",
            " |  Data and other attributes defined here:\n",
            " |  \n",
            " |  __hash__ = None\n",
            "\n"
          ],
          "name": "stdout"
        }
      ]
    },
    {
      "cell_type": "code",
      "metadata": {
        "id": "gc43C7cudw8_",
        "outputId": "129932be-1f51-46da-a928-7342eaa2e80f"
      },
      "source": [
        "my_list.sort()\n",
        "print(my_list)"
      ],
      "execution_count": null,
      "outputs": [
        {
          "output_type": "stream",
          "text": [
            "[1, 2, 3]\n"
          ],
          "name": "stdout"
        }
      ]
    },
    {
      "cell_type": "code",
      "metadata": {
        "id": "GbvXN-G7dw8_"
      },
      "source": [
        "# list class 의 객체들이 할 수 있는 것들을 알아봅시다. (*list 객체가 가지고 있는 모든 속성과 메서드를 보여줍니다.*)"
      ],
      "execution_count": null,
      "outputs": []
    },
    {
      "cell_type": "code",
      "metadata": {
        "id": "8Hk57tAUdw9A",
        "outputId": "c355e79a-1132-4c92-99fd-b91462568398"
      },
      "source": [
        "from pprint import pprint\n",
        "pprint(dir(list))"
      ],
      "execution_count": null,
      "outputs": [
        {
          "output_type": "stream",
          "text": [
            "['__add__',\n",
            " '__class__',\n",
            " '__contains__',\n",
            " '__delattr__',\n",
            " '__delitem__',\n",
            " '__dir__',\n",
            " '__doc__',\n",
            " '__eq__',\n",
            " '__format__',\n",
            " '__ge__',\n",
            " '__getattribute__',\n",
            " '__getitem__',\n",
            " '__gt__',\n",
            " '__hash__',\n",
            " '__iadd__',\n",
            " '__imul__',\n",
            " '__init__',\n",
            " '__init_subclass__',\n",
            " '__iter__',\n",
            " '__le__',\n",
            " '__len__',\n",
            " '__lt__',\n",
            " '__mul__',\n",
            " '__ne__',\n",
            " '__new__',\n",
            " '__reduce__',\n",
            " '__reduce_ex__',\n",
            " '__repr__',\n",
            " '__reversed__',\n",
            " '__rmul__',\n",
            " '__setattr__',\n",
            " '__setitem__',\n",
            " '__sizeof__',\n",
            " '__str__',\n",
            " '__subclasshook__',\n",
            " 'append',\n",
            " 'clear',\n",
            " 'copy',\n",
            " 'count',\n",
            " 'extend',\n",
            " 'index',\n",
            " 'insert',\n",
            " 'pop',\n",
            " 'remove',\n",
            " 'reverse',\n",
            " 'sort']\n"
          ],
          "name": "stdout"
        }
      ]
    },
    {
      "cell_type": "code",
      "metadata": {
        "id": "52X5fZwjdw9A",
        "outputId": "030a20c8-46fa-43af-bdfd-1c0967c70ae3"
      },
      "source": [
        "dir(str)"
      ],
      "execution_count": null,
      "outputs": [
        {
          "output_type": "execute_result",
          "data": {
            "text/plain": [
              "['__add__',\n",
              " '__class__',\n",
              " '__contains__',\n",
              " '__delattr__',\n",
              " '__dir__',\n",
              " '__doc__',\n",
              " '__eq__',\n",
              " '__format__',\n",
              " '__ge__',\n",
              " '__getattribute__',\n",
              " '__getitem__',\n",
              " '__getnewargs__',\n",
              " '__gt__',\n",
              " '__hash__',\n",
              " '__init__',\n",
              " '__init_subclass__',\n",
              " '__iter__',\n",
              " '__le__',\n",
              " '__len__',\n",
              " '__lt__',\n",
              " '__mod__',\n",
              " '__mul__',\n",
              " '__ne__',\n",
              " '__new__',\n",
              " '__reduce__',\n",
              " '__reduce_ex__',\n",
              " '__repr__',\n",
              " '__rmod__',\n",
              " '__rmul__',\n",
              " '__setattr__',\n",
              " '__sizeof__',\n",
              " '__str__',\n",
              " '__subclasshook__',\n",
              " 'capitalize',\n",
              " 'casefold',\n",
              " 'center',\n",
              " 'count',\n",
              " 'encode',\n",
              " 'endswith',\n",
              " 'expandtabs',\n",
              " 'find',\n",
              " 'format',\n",
              " 'format_map',\n",
              " 'index',\n",
              " 'isalnum',\n",
              " 'isalpha',\n",
              " 'isascii',\n",
              " 'isdecimal',\n",
              " 'isdigit',\n",
              " 'isidentifier',\n",
              " 'islower',\n",
              " 'isnumeric',\n",
              " 'isprintable',\n",
              " 'isspace',\n",
              " 'istitle',\n",
              " 'isupper',\n",
              " 'join',\n",
              " 'ljust',\n",
              " 'lower',\n",
              " 'lstrip',\n",
              " 'maketrans',\n",
              " 'partition',\n",
              " 'replace',\n",
              " 'rfind',\n",
              " 'rindex',\n",
              " 'rjust',\n",
              " 'rpartition',\n",
              " 'rsplit',\n",
              " 'rstrip',\n",
              " 'split',\n",
              " 'splitlines',\n",
              " 'startswith',\n",
              " 'strip',\n",
              " 'swapcase',\n",
              " 'title',\n",
              " 'translate',\n",
              " 'upper',\n",
              " 'zfill']"
            ]
          },
          "metadata": {
            "tags": []
          },
          "execution_count": 17
        }
      ]
    },
    {
      "cell_type": "code",
      "metadata": {
        "id": "lzbMkx6Idw9B",
        "outputId": "36eb64e9-08d8-4ed7-c622-bbef9da2f0b7"
      },
      "source": [
        "dir(dict)"
      ],
      "execution_count": null,
      "outputs": [
        {
          "output_type": "execute_result",
          "data": {
            "text/plain": [
              "['__class__',\n",
              " '__contains__',\n",
              " '__delattr__',\n",
              " '__delitem__',\n",
              " '__dir__',\n",
              " '__doc__',\n",
              " '__eq__',\n",
              " '__format__',\n",
              " '__ge__',\n",
              " '__getattribute__',\n",
              " '__getitem__',\n",
              " '__gt__',\n",
              " '__hash__',\n",
              " '__init__',\n",
              " '__init_subclass__',\n",
              " '__iter__',\n",
              " '__le__',\n",
              " '__len__',\n",
              " '__lt__',\n",
              " '__ne__',\n",
              " '__new__',\n",
              " '__reduce__',\n",
              " '__reduce_ex__',\n",
              " '__repr__',\n",
              " '__setattr__',\n",
              " '__setitem__',\n",
              " '__sizeof__',\n",
              " '__str__',\n",
              " '__subclasshook__',\n",
              " 'clear',\n",
              " 'copy',\n",
              " 'fromkeys',\n",
              " 'get',\n",
              " 'items',\n",
              " 'keys',\n",
              " 'pop',\n",
              " 'popitem',\n",
              " 'setdefault',\n",
              " 'update',\n",
              " 'values']"
            ]
          },
          "metadata": {
            "tags": []
          },
          "execution_count": 201
        }
      ]
    },
    {
      "cell_type": "code",
      "metadata": {
        "id": "uk4S3rFHdw9C"
      },
      "source": [
        ""
      ],
      "execution_count": null,
      "outputs": []
    },
    {
      "cell_type": "code",
      "metadata": {
        "id": "LKBM-RfIdw9C",
        "outputId": "efc2cbe6-4384-4625-c865-efa0cfb9b3c2"
      },
      "source": [
        "str(1)"
      ],
      "execution_count": null,
      "outputs": [
        {
          "output_type": "execute_result",
          "data": {
            "text/plain": [
              "'1'"
            ]
          },
          "metadata": {
            "tags": []
          },
          "execution_count": 15
        }
      ]
    },
    {
      "cell_type": "code",
      "metadata": {
        "id": "1UAL9KWudw9D",
        "outputId": "b63e0a39-8b88-4d25-fdfd-436def483258"
      },
      "source": [
        "# str 클래스 내의 모든 매서드는 첫번째 인자가 문자열이어야 하므로,\n",
        "# 어떠 ㄴ클래스든 클래스내의 모든 매서드는 첫번째 인자가 그 클래스의 객체(즉,인스턴스)다\n",
        "\n",
        "# 절차지향\n",
        "str.capitalize('apple')"
      ],
      "execution_count": null,
      "outputs": [
        {
          "output_type": "execute_result",
          "data": {
            "text/plain": [
              "'Apple'"
            ]
          },
          "metadata": {
            "tags": []
          },
          "execution_count": 16
        }
      ]
    },
    {
      "cell_type": "code",
      "metadata": {
        "id": "pprbJZqodw9E",
        "outputId": "b12adc04-f7e7-4f76-fa2d-6c236ef4ff80"
      },
      "source": [
        "# 객체지향(단축형)\n",
        "'apple'.capitalize()"
      ],
      "execution_count": null,
      "outputs": [
        {
          "output_type": "execute_result",
          "data": {
            "text/plain": [
              "'Apple'"
            ]
          },
          "metadata": {
            "tags": []
          },
          "execution_count": 18
        }
      ]
    },
    {
      "cell_type": "markdown",
      "metadata": {
        "id": "kO8mmFRddw9F"
      },
      "source": [
        "## User without OOP\n",
        "\n",
        "서비스를 만들었다고 가정하고, 사용자들이 로그인을 한 뒤 해당 정보를 기록하고 있는 모듈을 만들어봅시다."
      ]
    },
    {
      "cell_type": "code",
      "metadata": {
        "id": "CavavAfKdw9F"
      },
      "source": [
        "username = '홍길동'\n",
        "password = '1q2w3e4r'\n",
        "\n",
        "def change_password(old_password, new_password):\n",
        "    global password #전역변수\n",
        "    \n",
        "    if old_password == password:\n",
        "        password = new_password\n",
        "        print('비밀번호가 변경되었습니다.')\n",
        "    else:\n",
        "        print('비밀번호가 일치하지 않습니다.')"
      ],
      "execution_count": null,
      "outputs": []
    },
    {
      "cell_type": "code",
      "metadata": {
        "id": "h3S_1G3Zdw9G",
        "outputId": "f3152fe2-49a1-43d1-912d-76fe08f74dec"
      },
      "source": [
        "# 유저가 비밀번호를 변경을 요청\n",
        "change_password('1q2w3e4r','1q2w3e4r5t')"
      ],
      "execution_count": null,
      "outputs": [
        {
          "output_type": "stream",
          "text": [
            "비밀번호가 변경되었습니다.\n"
          ],
          "name": "stdout"
        }
      ]
    },
    {
      "cell_type": "code",
      "metadata": {
        "id": "2Wmbzozvdw9G",
        "outputId": "25e152d7-e7d1-42fe-e837-728ff9a8ead7"
      },
      "source": [
        "# 비밀번호가 변경되었는지 확인해봅시다.\n",
        "print(password)"
      ],
      "execution_count": null,
      "outputs": [
        {
          "output_type": "stream",
          "text": [
            "1q2w3e4r5t\n"
          ],
          "name": "stdout"
        }
      ]
    },
    {
      "cell_type": "markdown",
      "metadata": {
        "id": "mtG6Py3Qdw9G"
      },
      "source": [
        "### 문제점\n",
        "\n",
        "> `username`과 `password` 는 global namespace 에 작성되어있기 때문에 해당 모듈로는 한사람의 정보 밖에 담지 못한다.\n",
        ">\n",
        "> 바꾸어 말하면 여러 사람이 로그인을 한다면 똑같이 생긴 모듈을 여러개 만들어야 하는 상황이 오게 될 것이다.\n",
        ">\n",
        "> 어떻게하면 동일한 `username`과 `password`를 global namespace 가 아닌 **독립적인 namespace**에 가지고 있으며 `change_password` 함수를 실행했을 때 **본인의 `password`만** 바꿀 수 있는 여러명의 `User` 만들고 관리할 수 있을까?"
      ]
    },
    {
      "cell_type": "markdown",
      "metadata": {
        "id": "9NU0bXREdw9H"
      },
      "source": [
        "# 클래스 및 인스턴스"
      ]
    },
    {
      "cell_type": "markdown",
      "metadata": {
        "id": "ZXG9k3sfdw9H"
      },
      "source": [
        "## 클래스 정의하기 (클래스 객체 생성하기)\n",
        "\n",
        "\n",
        "* 선언과 동시에 클래스 객체가 생성된다.\n",
        "\n",
        "* 또한, 선언된 공간은 지역 스코프(local scope)로 사용된다.\n",
        "\n",
        "* 정의된 어트리뷰트 중 변수는 멤버 변수로 불린다.\n",
        "\n",
        "* 정의된 함수(`def`)는 메서드로 불린다.\n",
        "\n",
        "---\n",
        "\n",
        "**활용법**\n",
        "\n",
        "```python\n",
        "class ClassName:\n",
        "    attributes\n",
        "    methods\n",
        "```"
      ]
    },
    {
      "cell_type": "code",
      "metadata": {
        "id": "rh3Y4thxdw9I"
      },
      "source": [
        "# Class를 만들어봅시다."
      ],
      "execution_count": null,
      "outputs": []
    },
    {
      "cell_type": "code",
      "metadata": {
        "id": "mSNtUv7ldw9I"
      },
      "source": [
        "class User:\n",
        "    '''\n",
        "    This is User Class\n",
        "    '''\n",
        "    name = 'UserClass'"
      ],
      "execution_count": null,
      "outputs": []
    },
    {
      "cell_type": "code",
      "metadata": {
        "id": "ulqPGCGedw9I",
        "outputId": "d2a58d5d-963c-46bd-9e9d-ee19879f9b20"
      },
      "source": [
        "print(type(User))"
      ],
      "execution_count": null,
      "outputs": [
        {
          "output_type": "stream",
          "text": [
            "<class 'type'>\n"
          ],
          "name": "stdout"
        }
      ]
    },
    {
      "cell_type": "code",
      "metadata": {
        "id": "dhXkcduEdw9J",
        "outputId": "7740df39-ca72-4748-c4ec-adbefc470139"
      },
      "source": [
        "print(User.__doc__)"
      ],
      "execution_count": null,
      "outputs": [
        {
          "output_type": "stream",
          "text": [
            "\n",
            "    This is User Class\n",
            "    \n"
          ],
          "name": "stdout"
        }
      ]
    },
    {
      "cell_type": "markdown",
      "metadata": {
        "id": "1hE2swotdw9K"
      },
      "source": [
        "## 인스턴스 생성하기\n",
        "\n",
        "* 인스턴스 객체는 `ClassName()`을 호출함으로써 생성된다.\n",
        "\n",
        "* 인스턴스 객체와 클래스 객체는 서로 다른 이름 공간을 가지고 있다.\n",
        "\n",
        "* **인스턴스(instance) => 클래스(class) => 전역(global) 순으로 탐색을 한다.**\n",
        "\n",
        "```python\n",
        "# 인스턴스 = 클래스()\n",
        "puppy = Dog()\n",
        "```\n",
        "- 클래스는 특정 개념을 표현하는 껍데기고 실제 사용하려면 인스턴스를 생성해야 한다."
      ]
    },
    {
      "cell_type": "code",
      "metadata": {
        "id": "n1Zrw6Eddw9K"
      },
      "source": [
        "# User class 의 인스턴스를 만들어 봅시다.\n",
        "# 인스턴스의 type과 우리가 위에서 정의한 클래스의 doc의 출력해 봅시다."
      ],
      "execution_count": null,
      "outputs": []
    },
    {
      "cell_type": "code",
      "metadata": {
        "id": "-wGDCPB-dw9L",
        "outputId": "bbede756-1607-408c-f909-fbdb900e20b0"
      },
      "source": [
        "user = User()\n",
        "print(type(user))\n",
        "print(user.__doc__)"
      ],
      "execution_count": null,
      "outputs": [
        {
          "output_type": "stream",
          "text": [
            "<class '__main__.User'>\n",
            "\n",
            "    This is User Class\n",
            "    \n"
          ],
          "name": "stdout"
        }
      ]
    },
    {
      "cell_type": "code",
      "metadata": {
        "id": "ooT7ZgOedw9L"
      },
      "source": [
        "# namespace를 확인해봅시다."
      ],
      "execution_count": null,
      "outputs": []
    },
    {
      "cell_type": "code",
      "metadata": {
        "id": "gtRaWslEdw9L",
        "outputId": "18ced3ba-50f4-4d83-b548-9abb4c034de4"
      },
      "source": [
        "# tc 는 현재 name 이 없습니다. 그래서 User class 의 name 을 탐색하여 가져옵니다.\n",
        "print(user.name)"
      ],
      "execution_count": null,
      "outputs": [
        {
          "output_type": "stream",
          "text": [
            "UserClass\n"
          ],
          "name": "stdout"
        }
      ]
    },
    {
      "cell_type": "code",
      "metadata": {
        "id": "lxY3wJtVdw9M"
      },
      "source": [
        "# user 인스턴스에게 이름을 부여해봅시다.\n",
        "user.name = '홍길동'\n"
      ],
      "execution_count": null,
      "outputs": []
    },
    {
      "cell_type": "code",
      "metadata": {
        "id": "6lDc_Jbndw9M",
        "outputId": "5e3137b2-0ae6-4c42-cbbc-7b639001c424"
      },
      "source": [
        "# user 의 이름을 가져옵니다. 그렇다고 User class 의 name 이 바뀐 것은 아닙니다.\n",
        "# User class 와 인스턴스는 서로 다른 namespace 를 가지고 있습니다.\n",
        "print(user.name)\n",
        "print(User.name)"
      ],
      "execution_count": null,
      "outputs": [
        {
          "output_type": "stream",
          "text": [
            "홍길동\n",
            "UserClass\n"
          ],
          "name": "stdout"
        }
      ]
    },
    {
      "cell_type": "markdown",
      "metadata": {
        "id": "Tnn4h80bdw9M"
      },
      "source": [
        "### User with OOP\n",
        "서비스를 만들었다고 가정하고, 사용자들이 로그인을 한 뒤 해당 정보를 기록할 클래스를 만들어봅시다."
      ]
    },
    {
      "cell_type": "code",
      "metadata": {
        "id": "NoxBbnAcdw9N"
      },
      "source": [
        "class User:\n",
        "    username = '홍길동'\n",
        "    password = ''\n",
        "    \n",
        "    def change_password(self, old_password, new_password):\n",
        "        if old_password == self.password:\n",
        "            self.password = new_password\n",
        "            print('비밀번호가 변경되었습니다.')\n",
        "        else:\n",
        "            print('비밀번호가 일치하지 않습니다.')"
      ],
      "execution_count": null,
      "outputs": []
    },
    {
      "cell_type": "code",
      "metadata": {
        "id": "UWdB_KCgdw9N"
      },
      "source": [
        "# 유저를 생성하고 이름과 비밀번호를 확인해봅시다."
      ],
      "execution_count": null,
      "outputs": []
    },
    {
      "cell_type": "code",
      "metadata": {
        "id": "T5_Pz1RLdw9N",
        "outputId": "8ae5d87f-73a7-4fa7-efdd-8d86af73cd0f"
      },
      "source": [
        "user = User()\n",
        "print(type(user)) #이건 뭘 의미..?\n",
        "print(user.username) #위에 username에 아무것도 없으면 아무것도 안 나옴\n",
        "# print(user.password)"
      ],
      "execution_count": null,
      "outputs": [
        {
          "output_type": "stream",
          "text": [
            "<class '__main__.User'>\n",
            "홍길동\n"
          ],
          "name": "stdout"
        }
      ]
    },
    {
      "cell_type": "code",
      "metadata": {
        "id": "d1q8nxb7dw9O"
      },
      "source": [
        "# 이름과 비밀번호를 부여하고 확인해봅시다."
      ],
      "execution_count": null,
      "outputs": []
    },
    {
      "cell_type": "code",
      "metadata": {
        "id": "ClXe-Z2bdw9O",
        "outputId": "714e8943-e836-429e-9a40-ee35da7779ab"
      },
      "source": [
        "user.username = '홍길동'\n",
        "user.password = '1q2w3e4r'\n",
        "print(user.username)\n",
        "print(user.password)"
      ],
      "execution_count": null,
      "outputs": [
        {
          "output_type": "stream",
          "text": [
            "홍길동\n",
            "1q2w3e4r\n"
          ],
          "name": "stdout"
        }
      ]
    },
    {
      "cell_type": "code",
      "metadata": {
        "id": "Av2MQMBudw9O"
      },
      "source": [
        "# 비밀번호를 변경하고 확인해봅시다."
      ],
      "execution_count": null,
      "outputs": []
    },
    {
      "cell_type": "code",
      "metadata": {
        "id": "gqv8bBVfdw9O",
        "outputId": "b45f0f6c-df1a-4a4b-fbd6-21ea8b8d13d5"
      },
      "source": [
        "user.change_password('1q2w3e4r','1q2w3e4r5t')"
      ],
      "execution_count": null,
      "outputs": [
        {
          "output_type": "stream",
          "text": [
            "비밀번호가 변경되었습니다.\n"
          ],
          "name": "stdout"
        }
      ]
    },
    {
      "cell_type": "code",
      "metadata": {
        "id": "Vatiyv8ddw9P"
      },
      "source": [
        "# 실습\n",
        "# 새로운 유저를 생성하고 반복해봅시다."
      ],
      "execution_count": null,
      "outputs": []
    },
    {
      "cell_type": "code",
      "metadata": {
        "id": "itsUzayhdw9P",
        "outputId": "624ec1c1-36c9-4fc9-cd73-468f602d9e2b"
      },
      "source": [
        "user2 = User()\n",
        "user2.username = '표하민'\n",
        "user2.password = '789789'\n",
        "user2.change_password('789789','120506')\n",
        "print(user2.username)\n",
        "print(user2.password)\n",
        "\n",
        "#객체지향(단축형)\n",
        "user2.change_password('120506','1q2w3e4r')\n",
        "#절차지향\n",
        "User.change_password(user2, '1q2w3e4r','q1w2e3r4')\n",
        "\n",
        "def change_password(self, old_password, new_password):\n",
        "    global password #전역변수\n",
        "    \n",
        "    if old_password == password:\n",
        "        password = new_password\n",
        "        print('비밀번호가 변경되었습니다.')\n",
        "    else:\n",
        "        print('비밀번호가 일치하지 않습니다.')"
      ],
      "execution_count": null,
      "outputs": [
        {
          "output_type": "stream",
          "text": [
            "비밀번호가 변경되었습니다.\n",
            "표하민\n",
            "120506\n",
            "비밀번호가 변경되었습니다.\n",
            "비밀번호가 변경되었습니다.\n"
          ],
          "name": "stdout"
        }
      ]
    },
    {
      "cell_type": "markdown",
      "metadata": {
        "id": "gFeVhK5zdw9Q"
      },
      "source": [
        "### python 출력의 비밀  __str__ 과 __repr__ \n",
        "- 특정 객체를 print() 할 때 보이는 값\n",
        "- 그냥 객체 자체가 보여주는 값\n",
        "- 그리고 우리는 위의 두 값을 모두 우리가 원하는 방식으로 수정할 수 있습니다."
      ]
    },
    {
      "cell_type": "code",
      "metadata": {
        "id": "5HWkTleTdw9Q"
      },
      "source": [
        "class User:\n",
        "    username = ''\n",
        "    password = ''\n",
        "            \n",
        "    \n",
        "    def __str__(self):\n",
        "        return 'print 안에 넣으면 이렇게 나오고'\n",
        "    \n",
        "    \n",
        "    def __repr__(self):\n",
        "        return '그냥 객체만 놔두면 이게 나오지요'"
      ],
      "execution_count": null,
      "outputs": []
    },
    {
      "cell_type": "code",
      "metadata": {
        "id": "ET4hhHpkdw9Q",
        "outputId": "85b75dd0-e561-4680-c8f6-141b4addbaf3"
      },
      "source": [
        "user = User()\n",
        "print(user)\n",
        "user"
      ],
      "execution_count": null,
      "outputs": [
        {
          "output_type": "stream",
          "text": [
            "print 안에 넣으면 이렇게 나오고\n"
          ],
          "name": "stdout"
        },
        {
          "output_type": "execute_result",
          "data": {
            "text/plain": [
              "그냥 객체만 놔두면 이게 나오지요"
            ]
          },
          "metadata": {
            "tags": []
          },
          "execution_count": 56
        }
      ]
    },
    {
      "cell_type": "code",
      "metadata": {
        "id": "z1kHMRANdw9R"
      },
      "source": [
        "from datetime import datetime\n",
        "today = datetime.now()"
      ],
      "execution_count": null,
      "outputs": []
    },
    {
      "cell_type": "code",
      "metadata": {
        "id": "PlNGlbH6dw9S",
        "outputId": "5b9bad8c-f814-427d-a09a-95628ae52893"
      },
      "source": [
        "print(today) # __str__ -> for 사용자 / print를 써서 씀"
      ],
      "execution_count": null,
      "outputs": [
        {
          "output_type": "stream",
          "text": [
            "2020-02-20 10:28:15.927190\n"
          ],
          "name": "stdout"
        }
      ]
    },
    {
      "cell_type": "code",
      "metadata": {
        "id": "0ijz1V-Adw9S",
        "outputId": "60210b45-141b-4a7d-fd63-97fbb56eb606"
      },
      "source": [
        "today # __repr__ -> for 개발자"
      ],
      "execution_count": null,
      "outputs": [
        {
          "output_type": "execute_result",
          "data": {
            "text/plain": [
              "datetime.datetime(2020, 2, 20, 10, 28, 15, 927190)"
            ]
          },
          "metadata": {
            "tags": []
          },
          "execution_count": 59
        }
      ]
    },
    {
      "cell_type": "code",
      "metadata": {
        "id": "V8zQ-rRmdw9T"
      },
      "source": [
        ""
      ],
      "execution_count": null,
      "outputs": []
    },
    {
      "cell_type": "markdown",
      "metadata": {
        "id": "XROYkpLfdw9T"
      },
      "source": [
        "### 인스턴스와 객체\n",
        "- 인스턴스와 객체는 같은 것을 의미한다. \n",
        "- 보통 객체만 지칭할 때는 단순히 객체(object)라고 부른다. \n",
        "- 하지만 클래스와 연관지어서 말할 때는 인스턴스(instance)라고 부른다.\n",
        "\n",
        "```python\n",
        "a = int(10)\n",
        "b = int(20)\n",
        "# a, b 는 객체\n",
        "# a, b 는 int 클래스의 인스턴스\n",
        "```"
      ]
    },
    {
      "cell_type": "code",
      "metadata": {
        "id": "egHIekB7dw9U"
      },
      "source": [
        "a = int(10)\n",
        "\n",
        "# a 가 int 의 인스턴스인지 확인해봅시다."
      ],
      "execution_count": null,
      "outputs": []
    },
    {
      "cell_type": "code",
      "metadata": {
        "id": "Gp2FfJQMdw9V",
        "outputId": "bbaf4dc7-1961-4a64-d653-f5c17cff7f3e"
      },
      "source": [
        "isinstance(a,int)"
      ],
      "execution_count": null,
      "outputs": [
        {
          "output_type": "execute_result",
          "data": {
            "text/plain": [
              "True"
            ]
          },
          "metadata": {
            "tags": []
          },
          "execution_count": 62
        }
      ]
    },
    {
      "cell_type": "code",
      "metadata": {
        "id": "QEwrpgRYdw9V"
      },
      "source": [
        "# 다른 방법으로 확인해봅시다."
      ],
      "execution_count": null,
      "outputs": []
    },
    {
      "cell_type": "code",
      "metadata": {
        "id": "r8fsyb_Xdw9V",
        "outputId": "e3f829fa-f56b-4cb6-8b37-39b3783bf873"
      },
      "source": [
        "type(a) == int"
      ],
      "execution_count": null,
      "outputs": [
        {
          "output_type": "execute_result",
          "data": {
            "text/plain": [
              "True"
            ]
          },
          "metadata": {
            "tags": []
          },
          "execution_count": 63
        }
      ]
    },
    {
      "cell_type": "markdown",
      "metadata": {
        "id": "UslqjuhHdw9W"
      },
      "source": [
        "## MyList\n",
        "\n",
        "> 지금까지 배운 것을 활용하여 나만의 리스트 class `MyList`를 작성하세요.\n",
        "\n",
        "---\n",
        "\n",
        "`MyList` 클래스가 가지는 변수와 메서드는 아래와 같습니다.\n",
        "\n",
        "```\n",
        "* 멤버 변수(클래스 변수)\n",
        "data : 비어 있는 리스트\n",
        "\n",
        "* 메서드\n",
        "append() : 값을 받아 data 에 추가합니다. 리턴 값은 없습니다.\n",
        "count() : data 리스트 요소의 개수를 리턴합니다.\n",
        "\n",
        "__repr__ : ex) '내 리스트에는 [1, 2, 3] 이 담겨있다.'\n",
        "```"
      ]
    },
    {
      "cell_type": "code",
      "metadata": {
        "id": "RP_M4NH-dw9W"
      },
      "source": [
        "# 아래에 코드를 작성해주세요."
      ],
      "execution_count": null,
      "outputs": []
    },
    {
      "cell_type": "code",
      "metadata": {
        "id": "lmSOT5qhdw9X"
      },
      "source": [
        "data = [2]\n",
        "class Mylist:\n",
        "    data = []\n",
        "    \n",
        "    def append(v):\n",
        "        self.data = self.data + [v] #인스턴스 변수에 append\n",
        "        #self.data += [num] #클래스 변수\n",
        "        \n",
        "    def count(self):\n",
        "        return len(self.data)\n",
        "    \n",
        "    def __repr__():\n",
        "        return f'내 리스트에는 {data} 이 담겨있다.' #객체 안에 데이터를 찾으라는 명령을 해줘야 함"
      ],
      "execution_count": null,
      "outputs": []
    },
    {
      "cell_type": "code",
      "metadata": {
        "id": "byIA9bWRdw9X",
        "outputId": "1e5ff5d5-b1ba-49b3-9b8f-db7de0e65c78"
      },
      "source": [
        "\n",
        "Mylist()\n",
        "\n",
        "# 객체안에 데이터 찾아야할 때 사인을 줘야한다 self"
      ],
      "execution_count": null,
      "outputs": [
        {
          "output_type": "execute_result",
          "data": {
            "text/plain": [
              "내 리스트에는 [2] 이 담겨있다."
            ]
          },
          "metadata": {
            "tags": []
          },
          "execution_count": 157
        }
      ]
    },
    {
      "cell_type": "code",
      "metadata": {
        "id": "6nQ1xSfrdw9X"
      },
      "source": [
        ""
      ],
      "execution_count": null,
      "outputs": []
    },
    {
      "cell_type": "markdown",
      "metadata": {
        "id": "jSFMS3Bedw9X"
      },
      "source": [
        "각 셀을 두번 이상 실행하면 원하지 않은 결과가 나올 수 있으니 유의하세요.\n",
        "\n",
        "결과를 [python tutor](http://pythontutor.com/visualize.html#mode=edit)로 다시 한번 확인하세요"
      ]
    },
    {
      "cell_type": "code",
      "metadata": {
        "id": "hTpgVbKndw9Y"
      },
      "source": [
        "# 아래에서 인스턴스를 만들고 메서드를 호출하세요."
      ],
      "execution_count": null,
      "outputs": []
    },
    {
      "cell_type": "code",
      "metadata": {
        "id": "vA6t_Kzmdw9Y"
      },
      "source": [
        "m1 = Mylist()\n",
        "m2 = Mylist()"
      ],
      "execution_count": null,
      "outputs": []
    },
    {
      "cell_type": "code",
      "metadata": {
        "id": "fZHu0S2Xdw9Y"
      },
      "source": [
        "m1.append(1)"
      ],
      "execution_count": null,
      "outputs": []
    },
    {
      "cell_type": "code",
      "metadata": {
        "id": "ZtjhsEULdw9Z",
        "outputId": "86defc13-9672-4eba-96f7-496e0f4cf304"
      },
      "source": [
        "print(m1)"
      ],
      "execution_count": null,
      "outputs": [
        {
          "output_type": "stream",
          "text": [
            "내 리스트에는 [1] 이 담겨있다.\n"
          ],
          "name": "stdout"
        }
      ]
    },
    {
      "cell_type": "code",
      "metadata": {
        "id": "jsxaYaX4dw9Z",
        "outputId": "56136eef-eb97-49b4-f721-fb6849416ed5"
      },
      "source": [
        "print(m1.data)"
      ],
      "execution_count": null,
      "outputs": [
        {
          "output_type": "stream",
          "text": [
            "[1]\n"
          ],
          "name": "stdout"
        }
      ]
    },
    {
      "cell_type": "code",
      "metadata": {
        "id": "ineAOd3Cdw9a"
      },
      "source": [
        "m2.append(2)"
      ],
      "execution_count": null,
      "outputs": []
    },
    {
      "cell_type": "code",
      "metadata": {
        "id": "Nep-PSRCdw9a",
        "outputId": "6acd1286-2eb4-42c5-8f2d-50fc815a6656"
      },
      "source": [
        "print(m2.data)"
      ],
      "execution_count": null,
      "outputs": [
        {
          "output_type": "stream",
          "text": [
            "[2]\n"
          ],
          "name": "stdout"
        }
      ]
    },
    {
      "cell_type": "code",
      "metadata": {
        "id": "b_i3i4SWdw9a"
      },
      "source": [
        ""
      ],
      "execution_count": null,
      "outputs": []
    },
    {
      "cell_type": "code",
      "metadata": {
        "id": "pfAGtvVMdw9b"
      },
      "source": [
        ""
      ],
      "execution_count": null,
      "outputs": []
    },
    {
      "cell_type": "code",
      "metadata": {
        "id": "DmwVomODdw9b"
      },
      "source": [
        ""
      ],
      "execution_count": null,
      "outputs": []
    },
    {
      "cell_type": "code",
      "metadata": {
        "id": "cjDjHLekdw9b"
      },
      "source": [
        ""
      ],
      "execution_count": null,
      "outputs": []
    },
    {
      "cell_type": "code",
      "metadata": {
        "id": "s6QTLxPadw9b"
      },
      "source": [
        ""
      ],
      "execution_count": null,
      "outputs": []
    },
    {
      "cell_type": "markdown",
      "metadata": {
        "id": "45x9iaigdw9b"
      },
      "source": [
        "## 용어 정리\n",
        "\n",
        "```python\n",
        "class Person:                     # 클래스 정의(선언, 클래스 객체 생성)\n",
        "    name = 'unknown'              # 멤버 변수(data attribute)\n",
        "    def greeting(self):           # 멤버 메서드\n",
        "        return f'{self.name}'     # 인스턴스 안에 있는 ?\n",
        "```\n",
        "  \n",
        "    \n",
        "```python\n",
        "richard = Person()      # 인스턴스 객체 생성\n",
        "tim = Person()          # 인스턴스 객체 생성\n",
        "tim.name                # 멤버 변수(클래스 변수) 호출\n",
        "tim.greeting()          # 메서드(인스턴스 메서드) 호출\n",
        "```"
      ]
    },
    {
      "cell_type": "markdown",
      "metadata": {
        "id": "VqGkszQpdw9c"
      },
      "source": [
        "## 클래스와 인스턴스 변수\n",
        "\n",
        "- 클래스 변수\n",
        "    - 클래스의 모든 인스턴스에서 공유되는 어트리뷰트와 메서드를 위한 것\n",
        "    - 모든 인스턴스가 공유\n",
        "    \n",
        "    \n",
        "- 인스턴스 변수\n",
        "    - 인스턴스별 데이터를 위한 것\n",
        "    - 각 인스턴스들의 고유 변수\n",
        "    \n",
        "    \n",
        "```python\n",
        "class Dog:\n",
        "\n",
        "    kind = 'tori'                # 클래스 변수 (모든 인스턴스가 공유)\n",
        "\n",
        "    def __init__(self, name):    # 인스턴스 생성자 함수 (생성하는 과정에서 네임을 만들어버림\n",
        "        self.name = name         # 인스턴스 변수 (각 인스턴스들의 고유 변수)\n",
        "        \n",
        "    #위 클래스는 필수인자로 name이 필요함\n",
        "```"
      ]
    },
    {
      "cell_type": "code",
      "metadata": {
        "id": "ZxXIx0hEdw9c"
      },
      "source": [
        "class Dog:\n",
        "\n",
        "    kind = 'tori'                # 클래스 변수 (모든 인스턴스가 공유)\n",
        "\n",
        "    def __init__(self, name):    # 인스턴스 생성자 함수 (생성하는 과정에서 네임을 만들어버림\n",
        "        self.name = name         # 인스턴스 변수 (각 인스턴스들의 고유 변수)"
      ],
      "execution_count": null,
      "outputs": []
    },
    {
      "cell_type": "code",
      "metadata": {
        "id": "kpSADqsadw9c"
      },
      "source": [
        "# d1 = Dog() #필수인자인 이름을 넣어주지 않으면 안됨\n",
        "d1 = Dog('gazi')"
      ],
      "execution_count": null,
      "outputs": []
    },
    {
      "cell_type": "code",
      "metadata": {
        "id": "5O93H78kdw9d",
        "outputId": "ee900669-3b9e-4e6e-b8b6-1f2d09496950"
      },
      "source": [
        "print(d1.name)"
      ],
      "execution_count": null,
      "outputs": [
        {
          "output_type": "stream",
          "text": [
            "gazi\n"
          ],
          "name": "stdout"
        }
      ]
    },
    {
      "cell_type": "code",
      "metadata": {
        "id": "fZ3wSj7Ydw9d"
      },
      "source": [
        "# Person 클래스를 만들어 봅시다."
      ],
      "execution_count": null,
      "outputs": []
    },
    {
      "cell_type": "code",
      "metadata": {
        "id": "82kj4Gfadw9d"
      },
      "source": [
        "class Person:\n",
        "    \n",
        "    name = 'unknown'\n",
        "    \n",
        "    def greeting(self):\n",
        "        return f'Hi I am {self.name}'\n",
        "    \n",
        "#     def __init__(self, name):\n",
        "#         self,name = name"
      ],
      "execution_count": null,
      "outputs": []
    },
    {
      "cell_type": "code",
      "metadata": {
        "id": "TfppTHNfdw9e",
        "outputId": "750c77bc-8d29-4fc8-8ee7-b217792e4d7e"
      },
      "source": [
        "p1 = Person()\n",
        "# p1.name\n",
        "p1.greeting()"
      ],
      "execution_count": null,
      "outputs": [
        {
          "output_type": "execute_result",
          "data": {
            "text/plain": [
              "'Hi I am unknown'"
            ]
          },
          "metadata": {
            "tags": []
          },
          "execution_count": 114
        }
      ]
    },
    {
      "cell_type": "code",
      "metadata": {
        "id": "eIkkJ8M5dw9e",
        "outputId": "50e4085c-6f3a-4e94-e9dc-112ad012d3a5"
      },
      "source": [
        "# 클래스와 인스턴스간의 관계를 확인해 봅시다.\n",
        "isinstance(p1, Person)"
      ],
      "execution_count": null,
      "outputs": [
        {
          "output_type": "execute_result",
          "data": {
            "text/plain": [
              "True"
            ]
          },
          "metadata": {
            "tags": []
          },
          "execution_count": 115
        }
      ]
    },
    {
      "cell_type": "markdown",
      "metadata": {
        "id": "tnfbQoj3dw9e"
      },
      "source": [
        "##  `self` : 인스턴스 객체 자기자신\n",
        "\n",
        "* C++ 혹은 자바에서의 this 키워드와 동일함. \n",
        "\n",
        "\n",
        "* 특별한 상황을 제외하고는 **무조건 메서드에서 `self`를 첫번째 인자로 설정**\n",
        "\n",
        "\n",
        "* 메서드는 인스턴스 객체가 함수의 첫번째 인자로 전달되도록 되어있다."
      ]
    },
    {
      "cell_type": "code",
      "metadata": {
        "id": "h8b7sMl5dw9f"
      },
      "source": [
        "# p1 의 이름을 자신의 이름으로 바꾸고 다시 인사해 봅시다."
      ],
      "execution_count": null,
      "outputs": []
    },
    {
      "cell_type": "code",
      "metadata": {
        "id": "FODZSwhfdw9f",
        "outputId": "ad7a2fdd-f8df-414b-f17b-d3255fe368d9"
      },
      "source": [
        "p1.name = '김지수'\n",
        "p1.greeting()"
      ],
      "execution_count": null,
      "outputs": [
        {
          "output_type": "execute_result",
          "data": {
            "text/plain": [
              "'Hi I am 김지수'"
            ]
          },
          "metadata": {
            "tags": []
          },
          "execution_count": 116
        }
      ]
    },
    {
      "cell_type": "code",
      "metadata": {
        "id": "GPPr89_Sdw9g"
      },
      "source": [
        "# greeting 함수의 첫번째 인자 self는 아래와 같은 뜻입니다."
      ],
      "execution_count": null,
      "outputs": []
    },
    {
      "cell_type": "code",
      "metadata": {
        "id": "9nasyr2Ldw9h"
      },
      "source": [
        ""
      ],
      "execution_count": null,
      "outputs": []
    },
    {
      "cell_type": "code",
      "metadata": {
        "id": "qV1dWS8jdw9h"
      },
      "source": [
        "# 그러나 인스턴스 에서 사용될 경우 self 자리에 자동으로 인스턴스 객체가 할당됩니다."
      ],
      "execution_count": null,
      "outputs": []
    },
    {
      "cell_type": "markdown",
      "metadata": {
        "id": "FwDjqhRUdw9h"
      },
      "source": [
        "## 클래스-인스턴스간의 이름공간\n",
        "\n",
        "* 클래스를 정의하면, 클래스 객체가 생성되고 해당되는 이름 공간이 생성된다. \n",
        "\n",
        "\n",
        "* 인스턴스를 만들게 되면, 인스턴스 객체가 생성되고 해당되는 이름 공간이 생성된다.\n",
        "\n",
        "\n",
        "* 인스턴스의 어트리뷰트가 변경되면, 변경된 데이터를 인스턴스 객체 이름 공간에 저장한다.\n",
        "\n",
        "\n",
        "* 즉, 인스턴스에서 특정한 어트리뷰트에 접근하게 되면 **인스턴스 => 클래스** 순으로 탐색을 한다."
      ]
    },
    {
      "cell_type": "code",
      "metadata": {
        "id": "XtLaEl7Qdw9h"
      },
      "source": [
        "class Person:\n",
        "    name = 'unknown'\n",
        "    \n",
        "    def greeting(self):\n",
        "        return f'my name is {name}'\n",
        "        # class에 정의된 메서드라도 class namespace에 바로 접근하지 못합니다.\n",
        "        # 따라서 위 코드는 에러를 발생시킵니다."
      ],
      "execution_count": null,
      "outputs": []
    },
    {
      "cell_type": "code",
      "metadata": {
        "id": "zUNBHQ05dw9i"
      },
      "source": [
        "# 아래에서 확인해 봅시다."
      ],
      "execution_count": null,
      "outputs": []
    },
    {
      "cell_type": "code",
      "metadata": {
        "id": "gQ6_64ardw9j",
        "outputId": "56b29c01-6f6f-40a3-9f09-f11059f5bc90"
      },
      "source": [
        "Person()"
      ],
      "execution_count": null,
      "outputs": [
        {
          "output_type": "execute_result",
          "data": {
            "text/plain": [
              "<__main__.Person at 0x1bdd3ff3c18>"
            ]
          },
          "metadata": {
            "tags": []
          },
          "execution_count": 119
        }
      ]
    },
    {
      "cell_type": "code",
      "metadata": {
        "id": "GdIJOvkSdw9j",
        "outputId": "0f553866-8116-41de-db52-077b9a90494a"
      },
      "source": [
        "p2 = Person()\n",
        "p2.greeting()"
      ],
      "execution_count": null,
      "outputs": [
        {
          "output_type": "error",
          "ename": "NameError",
          "evalue": "name 'name' is not defined",
          "traceback": [
            "\u001b[1;31m---------------------------------------------------------------------------\u001b[0m",
            "\u001b[1;31mNameError\u001b[0m                                 Traceback (most recent call last)",
            "\u001b[1;32m<ipython-input-120-937f83251553>\u001b[0m in \u001b[0;36m<module>\u001b[1;34m\u001b[0m\n\u001b[0;32m      1\u001b[0m \u001b[0mp2\u001b[0m \u001b[1;33m=\u001b[0m \u001b[0mPerson\u001b[0m\u001b[1;33m(\u001b[0m\u001b[1;33m)\u001b[0m\u001b[1;33m\u001b[0m\u001b[1;33m\u001b[0m\u001b[0m\n\u001b[1;32m----> 2\u001b[1;33m \u001b[0mp2\u001b[0m\u001b[1;33m.\u001b[0m\u001b[0mgreeting\u001b[0m\u001b[1;33m(\u001b[0m\u001b[1;33m)\u001b[0m\u001b[1;33m\u001b[0m\u001b[1;33m\u001b[0m\u001b[0m\n\u001b[0m",
            "\u001b[1;32m<ipython-input-117-d493434d13bd>\u001b[0m in \u001b[0;36mgreeting\u001b[1;34m(self)\u001b[0m\n\u001b[0;32m      3\u001b[0m \u001b[1;33m\u001b[0m\u001b[0m\n\u001b[0;32m      4\u001b[0m     \u001b[1;32mdef\u001b[0m \u001b[0mgreeting\u001b[0m\u001b[1;33m(\u001b[0m\u001b[0mself\u001b[0m\u001b[1;33m)\u001b[0m\u001b[1;33m:\u001b[0m\u001b[1;33m\u001b[0m\u001b[1;33m\u001b[0m\u001b[0m\n\u001b[1;32m----> 5\u001b[1;33m         \u001b[1;32mreturn\u001b[0m \u001b[1;34mf'my name is {name}'\u001b[0m\u001b[1;33m\u001b[0m\u001b[1;33m\u001b[0m\u001b[0m\n\u001b[0m\u001b[0;32m      6\u001b[0m         \u001b[1;31m# class에 정의된 메서드라도 class namespace에 바로 접근하지 못합니다.\u001b[0m\u001b[1;33m\u001b[0m\u001b[1;33m\u001b[0m\u001b[1;33m\u001b[0m\u001b[0m\n\u001b[0;32m      7\u001b[0m         \u001b[1;31m# 따라서 위 코드는 에러를 발생시킵니다.\u001b[0m\u001b[1;33m\u001b[0m\u001b[1;33m\u001b[0m\u001b[1;33m\u001b[0m\u001b[0m\n",
            "\u001b[1;31mNameError\u001b[0m: name 'name' is not defined"
          ]
        }
      ]
    },
    {
      "cell_type": "code",
      "metadata": {
        "id": "Cp4cNQjIdw9j"
      },
      "source": [
        ""
      ],
      "execution_count": null,
      "outputs": []
    },
    {
      "cell_type": "code",
      "metadata": {
        "id": "KhAJehY1dw9k"
      },
      "source": [
        "# `name`을 `self.name`으로 바꾸고 다시 확인해봅시다.\n",
        "class Person:\n",
        "    name = 'unknown'\n",
        "    \n",
        "    def greeting(self):\n",
        "        return f'my name is {self.name}'"
      ],
      "execution_count": null,
      "outputs": []
    },
    {
      "cell_type": "code",
      "metadata": {
        "id": "1Nwj3d0ddw9k"
      },
      "source": [
        "# 아래에서 확인해 봅시다."
      ],
      "execution_count": null,
      "outputs": []
    },
    {
      "cell_type": "code",
      "metadata": {
        "id": "xw_wUPmbdw9k",
        "outputId": "f6ffde8e-e434-40cf-a802-8de248a6e216"
      },
      "source": [
        "p2 = Person()\n",
        "p2.greeting()"
      ],
      "execution_count": null,
      "outputs": [
        {
          "output_type": "execute_result",
          "data": {
            "text/plain": [
              "'my name is unknown'"
            ]
          },
          "metadata": {
            "tags": []
          },
          "execution_count": 122
        }
      ]
    },
    {
      "cell_type": "markdown",
      "metadata": {
        "id": "EkepxZ0Jdw9k"
      },
      "source": [
        "* **class와 instance는 서로 다른 namespace를 가지고 있다.**\n",
        " \n",
        "> 위에서 출력한 이름 \"unknown\"은 class의 `name`이다.\n",
        ">\n",
        "> **instance => class** 순서로 `name`을 서칭했으며,\n",
        "> \n",
        "> instance는 `name` 값이 없기 때문에 class의 `name` 을 찾은것이다. \n",
        ">\n",
        "> 아래에서 이제 instance에 `name` 값을 할당하고 확인해보자."
      ]
    },
    {
      "cell_type": "code",
      "metadata": {
        "id": "7vZwc-VKdw9l"
      },
      "source": [
        ""
      ],
      "execution_count": null,
      "outputs": []
    },
    {
      "cell_type": "code",
      "metadata": {
        "id": "rW2MPVmVdw9l",
        "outputId": "2a5df54f-361d-4e33-f4e9-bd7ed37e0c65"
      },
      "source": [
        "# python tutor 를 통해 확인해 봅시다.\n",
        "from IPython.display import IFrame\n",
        "IFrame('http://bit.do/oop_instro_00', width='100%', height='500px')"
      ],
      "execution_count": null,
      "outputs": [
        {
          "output_type": "execute_result",
          "data": {
            "text/html": [
              "\n",
              "        <iframe\n",
              "            width=\"100%\"\n",
              "            height=\"500px\"\n",
              "            src=\"http://bit.do/oop_instro_00\"\n",
              "            frameborder=\"0\"\n",
              "            allowfullscreen\n",
              "        ></iframe>\n",
              "        "
            ],
            "text/plain": [
              "<IPython.lib.display.IFrame at 0x1bdd40132e8>"
            ]
          },
          "metadata": {
            "tags": []
          },
          "execution_count": 123
        }
      ]
    },
    {
      "cell_type": "markdown",
      "metadata": {
        "id": "AlSVL2HRdw9l"
      },
      "source": [
        "## 생성자 / 소멸자\n",
        "\n",
        "* 생성자\n",
        "    - 인스턴스 객체가 생성될 때 호출되는 함수.\n",
        "    - 인스턴스가 생성될 때 인스턴스의 속성을 정의할 수 있다.\n",
        "    \n",
        "    \n",
        "* 소멸자\n",
        "    - 인스턴스 객체가 소멸(파괴)되기 직전에 호출되는 함수.\n",
        "\n",
        "\n",
        "```python\n",
        "def __init__(self):\n",
        "    print('생성될 때 자동으로 호출되는 메서드입니다.')\n",
        "    \n",
        "def __del__(self):\n",
        "    print('소멸될 때 자동으로 호출되는 메서드입니다.')\n",
        "```\n",
        "\n",
        "\n",
        "위의 형식처럼 양쪽에 언더스코어가 있는 메서드는 특별한 일을 하기 위해 만들어진 메서드이기 때문에 `스페셜 메서드` 혹은 `매직 메서드`라고 불립니다.\n",
        "\n",
        "\n",
        "- 매직(스페셜) 메서드 형태: `__someting__`"
      ]
    },
    {
      "cell_type": "code",
      "metadata": {
        "id": "7IRZKRCVdw9m"
      },
      "source": [
        "# 생성자와 소멸자를 만들어봅시다."
      ],
      "execution_count": null,
      "outputs": []
    },
    {
      "cell_type": "code",
      "metadata": {
        "id": "jsSjCw4Bdw9m"
      },
      "source": [
        "class Person:\n",
        "    def __init__(self):\n",
        "        print('응애!')\n",
        "        \n",
        "    def __del__(self):\n",
        "        print('안녕...')"
      ],
      "execution_count": null,
      "outputs": []
    },
    {
      "cell_type": "code",
      "metadata": {
        "id": "xsRW424Adw9m"
      },
      "source": [
        "# 생성해 봅시다."
      ],
      "execution_count": null,
      "outputs": []
    },
    {
      "cell_type": "code",
      "metadata": {
        "id": "w-jUtwtqdw9m",
        "outputId": "ab874c86-b216-4671-d220-295dde5e15cb"
      },
      "source": [
        "p3 = Person()"
      ],
      "execution_count": null,
      "outputs": [
        {
          "output_type": "stream",
          "text": [
            "응애!\n"
          ],
          "name": "stdout"
        }
      ]
    },
    {
      "cell_type": "code",
      "metadata": {
        "id": "Wh-45DJcdw9n"
      },
      "source": [
        "# 소멸시켜 봅시다."
      ],
      "execution_count": null,
      "outputs": []
    },
    {
      "cell_type": "code",
      "metadata": {
        "id": "M4bUiktJdw9n",
        "outputId": "69e43675-5fff-42e8-cc07-84f4933edb5c"
      },
      "source": [
        "p3"
      ],
      "execution_count": null,
      "outputs": [
        {
          "output_type": "execute_result",
          "data": {
            "text/plain": [
              "<__main__.Person at 0x1bdd404eb70>"
            ]
          },
          "metadata": {
            "tags": []
          },
          "execution_count": 134
        }
      ]
    },
    {
      "cell_type": "code",
      "metadata": {
        "id": "hzU6r2ladw9n"
      },
      "source": [
        "# 생성자 역시 메서드(함수)기 때문에 추가인자를 받을 수 있습니다."
      ],
      "execution_count": null,
      "outputs": []
    },
    {
      "cell_type": "code",
      "metadata": {
        "id": "rKWRmgkZdw9o"
      },
      "source": [
        "class Person:\n",
        "    def __init__(self, name): # 1번 인자는 반드시! self!\n",
        "        self.name = name\n",
        "        print(f'응애! 나는 {self.name}!')\n",
        "        \n",
        "    def __del__(self):\n",
        "        print(f'{self.name}는 떠난다.. 안녕....')"
      ],
      "execution_count": null,
      "outputs": []
    },
    {
      "cell_type": "code",
      "metadata": {
        "id": "za_RvOzPdw9o"
      },
      "source": [
        "# 생성과 동시에 인스턴스 변수에 값을 할당합니다."
      ],
      "execution_count": null,
      "outputs": []
    },
    {
      "cell_type": "code",
      "metadata": {
        "id": "nPUkoiR3dw9o",
        "outputId": "5043850b-8dd6-4899-8e81-bd2867c19459"
      },
      "source": [
        "me = Person('김원정')\n",
        "print(me.name)"
      ],
      "execution_count": null,
      "outputs": [
        {
          "output_type": "stream",
          "text": [
            "응애! 나는 김원정!\n",
            "김원정\n"
          ],
          "name": "stdout"
        }
      ]
    },
    {
      "cell_type": "code",
      "metadata": {
        "id": "uYmVPvHNdw9p",
        "outputId": "353fb54f-874a-4d3a-af56-d7acec614cea"
      },
      "source": [
        "me = Person('김세훈')"
      ],
      "execution_count": null,
      "outputs": [
        {
          "output_type": "stream",
          "text": [
            "응애! 나는 김세훈!\n",
            "김원정는 떠난다.. 안녕....\n"
          ],
          "name": "stdout"
        }
      ]
    },
    {
      "cell_type": "code",
      "metadata": {
        "id": "kc6CbZcUdw9p"
      },
      "source": [
        ""
      ],
      "execution_count": null,
      "outputs": []
    },
    {
      "cell_type": "markdown",
      "metadata": {
        "id": "qETd86DGdw9q"
      },
      "source": [
        "# 실습"
      ]
    },
    {
      "cell_type": "markdown",
      "metadata": {
        "id": "leE4sWyudw9q"
      },
      "source": [
        "## Stack\n",
        "\n",
        "> 위에서 작성한 Mylist class는 완벽하지 않았습니다.\n",
        ">\n",
        "> data 변수에 담긴 list는 class 속성으로서 모든 인스턴스에서 공유되었기 때문에 인스턴스 만의 고유한 data를 갖지 못했습니다.\n",
        ">\n",
        "> `__init__` 생성자 메서드를 활용해 클래스 `Stack`을 작성하세요.\n",
        ">\n",
        "> [Stack](https://ko.wikipedia.org/wiki/%EC%8A%A4%ED%83%9D) : 스택은 LIFO(Last in First Out)으로 구조화된 자료구조를 뜻합니다.\n",
        "\n",
        "**class의 메서드는 아래와 같습니다.**\n",
        "1. `__init__()`: 인스턴스가 생성될 때 빈 리스트를 각 인스턴스의 이름 공간에 넣는다.\n",
        "\n",
        "2. `empty()`: 스택이 비었다면 True을 반환하고, 그렇지 않다면 False를 반환한다.\n",
        "\n",
        "3. `top()`: 스택의 가장 마지막 데이터를 반환한다. 스택이 비었다면 None을 반환한다.\n",
        "\n",
        "4. `pop()`: 스택의 가장 마지막 데이터의 값을 반환하고, 해당 데이터를 삭제한다. 스택이 비었다면 None을 반환한다.\n",
        "\n",
        "5. `push()`: 스택의 가장 마지막 데이터 뒤에 값을 추가한다. 반환값은 없다.\n",
        "\n",
        "6. `__repr__`: 현재 스택의 요소들을 보여준다."
      ]
    },
    {
      "cell_type": "code",
      "metadata": {
        "id": "nWn4TwUidw9q"
      },
      "source": [
        "# 여기에 코드를 작성해주세요."
      ],
      "execution_count": null,
      "outputs": []
    },
    {
      "cell_type": "code",
      "metadata": {
        "id": "dGvBgwNTdw9q"
      },
      "source": [
        "class Stack:\n",
        "    \n",
        "    def __init__(self): #self 뒤에 뭘 넣을 필요가 없음\n",
        "        self.items = []\n",
        "    \n",
        "    def empty(self):\n",
        "        return not bool(self.items)\n",
        "    \n",
        "    def push(self, item):\n",
        "        self.items.append(item)\n",
        "    \n",
        "    def top(self):\n",
        "#         if self.items:\n",
        "        if not self.empty():\n",
        "            return self.items[-1]\n",
        "    \n",
        "    def pop(self):\n",
        "        if self. items:\n",
        "            result = self.items[-1]\n",
        "#             self.items = self.items[-1]\n",
        "            del self.items[-1]\n",
        "            return result\n",
        "    \n",
        "    def __repr__(self):  #str이 정의되지 않은 생태에선 둘이 같이 감\n",
        "        return '\\n'.join(map(str, self.items))\n",
        "    \n",
        "    def __str__(self):\n",
        "        return '|'.join(map(str, self.items))\n",
        "    "
      ],
      "execution_count": null,
      "outputs": []
    },
    {
      "cell_type": "code",
      "metadata": {
        "id": "SI7vFJXWdw9r"
      },
      "source": [
        "# 아래에서 인스턴스를 만들고 메서드를 호출하세요."
      ],
      "execution_count": null,
      "outputs": []
    },
    {
      "cell_type": "code",
      "metadata": {
        "id": "X_Kk82pldw9r",
        "outputId": "ea63ee0c-f55e-4bc1-86d2-8d52ff970f4a"
      },
      "source": [
        "st = Stack()\n",
        "print(st.items)"
      ],
      "execution_count": null,
      "outputs": [
        {
          "output_type": "stream",
          "text": [
            "[]\n"
          ],
          "name": "stdout"
        }
      ]
    },
    {
      "cell_type": "code",
      "metadata": {
        "id": "KqGt9msbdw9r",
        "outputId": "f25ffb78-46df-4a94-bf9a-fb5c5f8f97b4"
      },
      "source": [
        "st.top()\n",
        "print(st.top())"
      ],
      "execution_count": null,
      "outputs": [
        {
          "output_type": "stream",
          "text": [
            "None\n"
          ],
          "name": "stdout"
        }
      ]
    },
    {
      "cell_type": "code",
      "metadata": {
        "id": "534J6NYPdw9s",
        "outputId": "bfa24236-8298-485f-c8d9-f4b624f7868b"
      },
      "source": [
        "st.pop()\n",
        "print(st.pop())"
      ],
      "execution_count": null,
      "outputs": [
        {
          "output_type": "stream",
          "text": [
            "None\n"
          ],
          "name": "stdout"
        }
      ]
    },
    {
      "cell_type": "code",
      "metadata": {
        "id": "aTGJuBZ5dw9t",
        "outputId": "1e97be3b-e6d3-43d2-b96e-e917ec766703"
      },
      "source": [
        "st.push(1)\n",
        "st.items"
      ],
      "execution_count": null,
      "outputs": [
        {
          "output_type": "execute_result",
          "data": {
            "text/plain": [
              "[1]"
            ]
          },
          "metadata": {
            "tags": []
          },
          "execution_count": 182
        }
      ]
    },
    {
      "cell_type": "code",
      "metadata": {
        "id": "GX7yJssSdw9t",
        "outputId": "0b13e4c3-bc97-43c1-cf99-d62bab2b0112"
      },
      "source": [
        "st.empty()"
      ],
      "execution_count": null,
      "outputs": [
        {
          "output_type": "execute_result",
          "data": {
            "text/plain": [
              "False"
            ]
          },
          "metadata": {
            "tags": []
          },
          "execution_count": 183
        }
      ]
    },
    {
      "cell_type": "code",
      "metadata": {
        "id": "9vPMZkdmdw9t",
        "outputId": "ada2205c-9d98-405c-c1f8-56adade451ee"
      },
      "source": [
        "st.push(3)\n",
        "st.push(5)\n",
        "st.push(7)\n",
        "st.items"
      ],
      "execution_count": null,
      "outputs": [
        {
          "output_type": "execute_result",
          "data": {
            "text/plain": [
              "[1, 3, 5, 7]"
            ]
          },
          "metadata": {
            "tags": []
          },
          "execution_count": 184
        }
      ]
    },
    {
      "cell_type": "code",
      "metadata": {
        "id": "Qg9fBRBYdw9u",
        "outputId": "48552c39-05e1-46e4-abad-0a467e4673bf"
      },
      "source": [
        "print(st)"
      ],
      "execution_count": null,
      "outputs": [
        {
          "output_type": "stream",
          "text": [
            "1|3|5|7\n"
          ],
          "name": "stdout"
        }
      ]
    },
    {
      "cell_type": "code",
      "metadata": {
        "id": "dvi2pX6zdw9u"
      },
      "source": [
        ""
      ],
      "execution_count": null,
      "outputs": []
    },
    {
      "cell_type": "code",
      "metadata": {
        "id": "SR967BIEdw9u",
        "outputId": "d06f159e-aa80-41f9-ceee-b9dc4a06ca6c"
      },
      "source": [
        "st.pop()\n",
        "print(st)\n",
        "print(st.pop())"
      ],
      "execution_count": null,
      "outputs": [
        {
          "output_type": "stream",
          "text": [
            "\n",
            "None\n"
          ],
          "name": "stdout"
        }
      ]
    },
    {
      "cell_type": "code",
      "metadata": {
        "id": "TP-mtdpgdw9v"
      },
      "source": [
        ""
      ],
      "execution_count": null,
      "outputs": []
    },
    {
      "cell_type": "code",
      "metadata": {
        "id": "vr8E9rTNdw9v"
      },
      "source": [
        ""
      ],
      "execution_count": null,
      "outputs": []
    },
    {
      "cell_type": "markdown",
      "metadata": {
        "id": "TIob9XMqdw9v"
      },
      "source": [
        "## Circle\n",
        "\n",
        "> 아래의 조건에 맞는 Circle 클래스를 작성하세요.\n",
        "\n",
        "---\n",
        "\n",
        "**클래스** 속성\n",
        "\n",
        "\n",
        "* `pi`: 3.14\n",
        "\n",
        "**인스턴스** 속성 (초기화 시 필요한 값들)\n",
        "\n",
        "\n",
        "* `r`: 원의 반지름 (필수 입력)\n",
        "\n",
        "\n",
        "* `x`: x좌표 (default 0)\n",
        "\n",
        "\n",
        "* `y`: y좌표 (default 0)\n",
        "\n",
        "**인스턴스** 메서드\n",
        "\n",
        "\n",
        "* `area()`: 원의 넓이를 반환\n",
        "\n",
        "\n",
        "* `circumference()`: 원의 둘레를 반환\n",
        "\n",
        "\n",
        "* `center()`: 원의 중심인 (x, y) 좌표를 튜플로 반환\n",
        "\n",
        "\n",
        "* `move(x, y)`: 원의 중심인 (x, y) 좌표를 입력받은 값으로 변경하고 변경된 좌표값을 튜플로 반환"
      ]
    },
    {
      "cell_type": "code",
      "metadata": {
        "id": "mxsssNOedw9v"
      },
      "source": [
        "# 아래에 클래스를 작성하세요."
      ],
      "execution_count": null,
      "outputs": []
    },
    {
      "cell_type": "code",
      "metadata": {
        "id": "tkGCJwmudw9w"
      },
      "source": [
        "class Circle:\n",
        "    pi = 3.14\n",
        "    def __init__(self,r,x=0,y=0):\n",
        "        self.r=r\n",
        "        self.x=x\n",
        "        self.y=y\n",
        "    def area(self):\n",
        "        return self.r**2*self.pi\n",
        "    \n",
        "    def circumference(self):\n",
        "        return 2*self.pi*self.r\n",
        "    \n",
        "    def center(self):\n",
        "        return self.x,self.y #튜플은 괄호 생략해도 됨 콤마(,)로 구분\n",
        "    \n",
        "    def move(self, x, y):\n",
        "        self.x = x\n",
        "        self.y = y\n",
        "        return self.x,self.y"
      ],
      "execution_count": null,
      "outputs": []
    },
    {
      "cell_type": "code",
      "metadata": {
        "id": "QRse9JEKdw9w"
      },
      "source": [
        "# 아래에서 인스턴스를 만들고 메서드를 호출하세요."
      ],
      "execution_count": null,
      "outputs": []
    },
    {
      "cell_type": "code",
      "metadata": {
        "id": "VlIkMlWDdw9w",
        "outputId": "b807af7f-f8e3-4ebf-f13f-258731486df2"
      },
      "source": [
        "c1 = Circle(3)\n",
        "c1.center()"
      ],
      "execution_count": null,
      "outputs": [
        {
          "output_type": "execute_result",
          "data": {
            "text/plain": [
              "(0, 0)"
            ]
          },
          "metadata": {
            "tags": []
          },
          "execution_count": 194
        }
      ]
    },
    {
      "cell_type": "code",
      "metadata": {
        "id": "rDsYtOwsdw9x"
      },
      "source": [
        ""
      ],
      "execution_count": null,
      "outputs": []
    }
  ]
}
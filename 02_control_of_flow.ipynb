{
  "nbformat": 4,
  "nbformat_minor": 0,
  "metadata": {
    "kernelspec": {
      "display_name": "Python 3",
      "language": "python",
      "name": "python3"
    },
    "language_info": {
      "codemirror_mode": {
        "name": "ipython",
        "version": 3
      },
      "file_extension": ".py",
      "mimetype": "text/x-python",
      "name": "python",
      "nbconvert_exporter": "python",
      "pygments_lexer": "ipython3",
      "version": "3.7.6"
    },
    "toc": {
      "base_numbering": 1,
      "nav_menu": {},
      "number_sections": true,
      "sideBar": true,
      "skip_h1_title": false,
      "title_cell": "Table of Contents",
      "title_sidebar": "Contents",
      "toc_cell": false,
      "toc_position": {},
      "toc_section_display": true,
      "toc_window_display": false
    },
    "colab": {
      "name": "02_control_of_flow.ipynb",
      "provenance": [],
      "include_colab_link": true
    }
  },
  "cells": [
    {
      "cell_type": "markdown",
      "metadata": {
        "id": "view-in-github",
        "colab_type": "text"
      },
      "source": [
        "<a href=\"https://colab.research.google.com/github/pyohamen/SSAFY/blob/master/Python/02_control_of_flow.ipynb\" target=\"_parent\"><img src=\"https://colab.research.google.com/assets/colab-badge.svg\" alt=\"Open In Colab\"/></a>"
      ]
    },
    {
      "cell_type": "markdown",
      "metadata": {
        "id": "SGGZjMsMdQPs"
      },
      "source": [
        "# 제어문\n",
        "\n",
        "지금까지의 코드는 위에서부터 아래로 순차적으로 명령을 수행하는 프로그램을 작성하였습니다. \n",
        "\n",
        "제어문(Control of Flow)은 크게 반복문과 조건문으로 나눌 수 있고, 이는 순서도(Flow chart)로 표현이 가능합니다.\n"
      ]
    },
    {
      "cell_type": "markdown",
      "metadata": {
        "id": "9ERoTPzodQPv"
      },
      "source": [
        "<center> \n",
        "    <img src=\"https://user-images.githubusercontent.com/18046097/61180553-25e87b00-a653-11e9-9895-7976d7204734.png\", alt='if flowchart'/>\n",
        "</center>"
      ]
    },
    {
      "cell_type": "code",
      "metadata": {
        "id": "vB1ebLVrdQPw"
      },
      "source": [
        "# 위의 flow chart를 조건문을 통해 만들어봅시다."
      ],
      "execution_count": null,
      "outputs": []
    },
    {
      "cell_type": "code",
      "metadata": {
        "id": "iCMohlgGdQPw",
        "outputId": "944949ee-9a10-44a9-a548-933f58d92be4"
      },
      "source": [
        "a=5\n",
        "if a>5:\n",
        "    print(\"5초과\")\n",
        "else:\n",
        "    print(\"5 이하\")\n",
        "print(a)"
      ],
      "execution_count": null,
      "outputs": [
        {
          "output_type": "stream",
          "text": [
            "5 이하\n",
            "5\n"
          ],
          "name": "stdout"
        }
      ]
    },
    {
      "cell_type": "markdown",
      "metadata": {
        "id": "OEVnpZStdQPx"
      },
      "source": [
        "## 조건문\n",
        "\n",
        "1. `if` 문은 반드시 일정한 참/거짓을 판단할 수 있는 `조건식`과 함께 사용이 되어야한다.\n",
        "`if <조건식>:`\n",
        "\n",
        "1-1. `<조건식>`이 참인 경우 `:` 이후의 문장을 수행한다.\n",
        "\n",
        "1-2. `<조건식>`이 거짓인 경우 `else:` 이후의 문장을 수행한다.\n",
        "\n",
        "1-3. 여러 개의 `elif` 부가 있을 수 있고(없거나), `else`는 선택적이다.\n",
        "\n",
        "* 이때 반드시 **들여쓰기를** 유의해야한다. \n",
        "파이썬에서는 코드 블록을 자바나 C언어의 `{}`와 달리 `들여쓰기`로 판단하기 때문이다.\n",
        "* 앞으로 우리는 `PEP-8`에서 권장하는 `4spaces`를 사용할 것이다.\n"
      ]
    },
    {
      "cell_type": "markdown",
      "metadata": {
        "id": "k_GqnexLdQPy"
      },
      "source": [
        "<center>\n",
        "    <img src=\"https://user-images.githubusercontent.com/18046097/61180564-3a2c7800-a653-11e9-9fba-d60d2688ed3a.png\", alt=\"if style\"/>\n",
        "</center>"
      ]
    },
    {
      "cell_type": "markdown",
      "metadata": {
        "id": "NAfjh5mBdQPy"
      },
      "source": [
        "<center><strong style=\"font-size: 30px;\">우리는 4spaces를 맞춰서 씁니다!</strong></center>\n",
        "<br>\n",
        "\n",
        "<center>\n",
        "    <img src=\"https://user-images.githubusercontent.com/18046097/61180566-3ac50e80-a653-11e9-81a6-2f195eeb0a65.png\", alt=\"[space vs tab]\"/>\n",
        "</center>    \n",
        "\n",
        "\n",
        "\n",
        "\n",
        "[출처 : 400,000 GitHub repositories, 1 billion files, 14 terabytes of code: Spaces or Tabs?](https://medium.com/@hoffa/400-000-github-repositories-1-billion-files-14-terabytes-of-code-spaces-or-tabs-7cfe0b5dd7fd)\n"
      ]
    },
    {
      "cell_type": "markdown",
      "metadata": {
        "id": "8zwS2c4tdQPz"
      },
      "source": [
        "### 조건문 연습\n",
        "> 조건문을 통해 사용자가 입력한 날짜가 크리스마스인지 확인하세요.\n",
        "\n",
        "---\n",
        "\n",
        "```\n",
        "예시 출력)\n",
        "12/25\n",
        "크리스마스입니다.\n",
        "```\n"
      ]
    },
    {
      "cell_type": "code",
      "metadata": {
        "id": "z7z4XdJWdQPz",
        "outputId": "c15c108d-a850-4f99-fe17-0d1b868dc21f"
      },
      "source": [
        "is_christmas = input('날짜를 입력해주세요 ex)12/24 : ')\n",
        "\n",
        "if is_christmas == \"12/25\":\n",
        "    print(\"크리스마스입니다.\")\n",
        "else:\n",
        "    print(\"크리스마스가 아닙니다.\")\n",
        "\n",
        "# 아래에 코드를 작성하세요"
      ],
      "execution_count": null,
      "outputs": [
        {
          "output_type": "stream",
          "text": [
            "날짜를 입력해주세요 ex)12/24 : 12/25\n",
            "크리스마스입니다.\n"
          ],
          "name": "stdout"
        }
      ]
    },
    {
      "cell_type": "code",
      "metadata": {
        "id": "fUu7FuX4dQP0"
      },
      "source": [
        ""
      ],
      "execution_count": null,
      "outputs": []
    },
    {
      "cell_type": "markdown",
      "metadata": {
        "id": "ocMS9FM7dQP0"
      },
      "source": [
        "### 조건문 활용\n",
        "\n",
        "\n",
        "> 조건문을 통해 변수 num의 값과 홀수/짝수 여부를 출력하세요.\n",
        "\n",
        "---\n",
        "\n",
        "```\n",
        "예시 출력)\n",
        "3\n",
        "홀수입니다.\n",
        "```"
      ]
    },
    {
      "cell_type": "code",
      "metadata": {
        "id": "LI7EYvSodQP1"
      },
      "source": [
        "num = int(input('숫자를 입력하세요 : '))\n",
        "\n",
        "if num%2:\n",
        "    print(\"짝수입니다.\")\n",
        "else:\n",
        "    print(\"홀수입니다.\")\n",
        "\n",
        "# 아래에 코드를 작성하세요"
      ],
      "execution_count": null,
      "outputs": []
    },
    {
      "cell_type": "code",
      "metadata": {
        "id": "osXFm8XXdQP1"
      },
      "source": [
        ""
      ],
      "execution_count": null,
      "outputs": []
    },
    {
      "cell_type": "markdown",
      "metadata": {
        "id": "QyqEzJEodQP1"
      },
      "source": [
        "## 복수 조건문\n",
        "\n",
        "2개 이상의 조건문을 활용할 경우 `elif <조건식>:`을 활용합니다.\n",
        "<center>\n",
        "<img src=\"https://user-images.githubusercontent.com/18046097/61180560-3993e180-a653-11e9-8263-79bd7bc6eed7.png\", alt=\"elif\">\n",
        "</center>"
      ]
    },
    {
      "cell_type": "markdown",
      "metadata": {
        "id": "FwlTywDVdQP2"
      },
      "source": [
        "### 복수조건문 활용\n",
        "\n",
        "> 조건문을 통해 변수 score에 따른 평점을 출력하세요.\n",
        "\n",
        "|점수|등급|\n",
        "|---|---|\n",
        "|90점 이상|A|\n",
        "|80점 이상|B|\n",
        "|70점 이상|C|\n",
        "|60점 이상|D|\n",
        "|60점 미만|F|\n",
        "\n",
        "--- \n",
        "\n",
        "```\n",
        "예시 출력)\n",
        "B\n",
        "```"
      ]
    },
    {
      "cell_type": "code",
      "metadata": {
        "id": "lTd2skwbdQP2"
      },
      "source": [
        "score = int(input('점수를 입력하세요 : '))\n",
        "\n",
        "if score >= 90:\n",
        "    print('A')\n",
        "elif score >= 80:\n",
        "    print('B')\n",
        "elif score >= 70:\n",
        "    print('C')\n",
        "elif score >= 60:\n",
        "    print('D')\n",
        "else:\n",
        "    print('F')"
      ],
      "execution_count": null,
      "outputs": []
    },
    {
      "cell_type": "code",
      "metadata": {
        "id": "4HDUynOCdQP2"
      },
      "source": [
        ""
      ],
      "execution_count": null,
      "outputs": []
    },
    {
      "cell_type": "markdown",
      "metadata": {
        "id": "g4O6_-fidQP3"
      },
      "source": [
        "### 중첩조건문 활용\n",
        "\n",
        "> 위 실습문제 2개 코드를 활용하여 \n",
        "95점 이상이면, \"참 잘했어요\"도 함께 출력해주세요.\n",
        "\n",
        "--- \n",
        "\n",
        "```\n",
        "예시 출력)\n",
        "A\n",
        "참잘했어요.\n",
        "```"
      ]
    },
    {
      "cell_type": "code",
      "metadata": {
        "id": "mZ_Y1qkxdQP3"
      },
      "source": [
        "score = int(input('점수를 입력하세요 : '))\n",
        "\n",
        "if score >= 90:\n",
        "    print('A')\n",
        "    if score >=95:\n",
        "        print('참잘했어요')\n",
        "elif score >= 80:\n",
        "    print('B')\n",
        "elif score >= 70:\n",
        "    print('C')\n",
        "elif score >= 60:\n",
        "    print('D')\n",
        "else:\n",
        "    print('F')\n",
        "\n",
        "# 아래에 코드를 작성하세요"
      ],
      "execution_count": null,
      "outputs": []
    },
    {
      "cell_type": "code",
      "metadata": {
        "id": "IsbfPj4xdQP3"
      },
      "source": [
        ""
      ],
      "execution_count": null,
      "outputs": []
    },
    {
      "cell_type": "markdown",
      "metadata": {
        "id": "YVs0iPL_dQP3"
      },
      "source": [
        "## 조건 표현식(Conditional Expression)\n",
        "\n",
        "표현식은 보통 조건에 따라 값을 정할 때 많이 활용됩니다.\n",
        "\n",
        "---\n",
        "\n",
        "**활용법**\n",
        "\n",
        "```python\n",
        "true_value if <조건식> else false_value\n",
        "```"
      ]
    },
    {
      "cell_type": "code",
      "metadata": {
        "id": "tWSxtfPwdQP3",
        "outputId": "d7b4c040-da4d-424c-e696-961ca97807df"
      },
      "source": [
        "num = int(input('숫자를 입력하세요 : '))\n",
        "\n",
        "print('0 보다 큼') if num > 0 else print('0 보다 크지않음')"
      ],
      "execution_count": null,
      "outputs": [
        {
          "output_type": "stream",
          "text": [
            "숫자를 입력하세요 : 5\n",
            "0 보다 큼\n"
          ],
          "name": "stdout"
        }
      ]
    },
    {
      "cell_type": "code",
      "metadata": {
        "id": "du0KDPlYdQP4",
        "outputId": "f9b9f48b-918d-4915-e101-41fd266de177"
      },
      "source": [
        "# 아래의 코드는 무엇을 위한 코드일까요?\n",
        "num = int(input('숫자를 입력하세요 : '))\n",
        "value = num if num >= 0 else 0\n",
        "print(value)\n",
        "\n",
        "# 아래에 답변을 작성하세요."
      ],
      "execution_count": null,
      "outputs": [
        {
          "output_type": "stream",
          "text": [
            "숫자를 입력하세요 : -5\n",
            "0\n"
          ],
          "name": "stdout"
        }
      ]
    },
    {
      "cell_type": "code",
      "metadata": {
        "id": "vuvFynOzdQP4"
      },
      "source": [
        ""
      ],
      "execution_count": null,
      "outputs": []
    },
    {
      "cell_type": "markdown",
      "metadata": {
        "id": "cHOMu2bpdQP4"
      },
      "source": [
        "### 조건표현식과 동일한 `if`문 작성하기\n",
        "\n",
        "> 다음의 코드와 동일한 `if`문을 작성해보세요.\n",
        "\n",
        "```python\n",
        "num = -5\n",
        "value = num if num >= 0 else 0\n",
        "print(value)\n",
        "```\n",
        "---\n",
        "\n",
        "```\n",
        "예시 출력)\n",
        "0\n",
        "```"
      ]
    },
    {
      "cell_type": "code",
      "metadata": {
        "id": "LorsHmFJdQP4",
        "outputId": "ad80735b-bbf0-4d12-e08b-02d1575fe150"
      },
      "source": [
        "# 아래에 코드를 작성하세요.\n",
        "num = -5\n",
        "value = num\n",
        "if num >= 0:\n",
        "    print(value)\n",
        "else:\n",
        "    value = 0\n",
        "print(value)"
      ],
      "execution_count": null,
      "outputs": [
        {
          "output_type": "stream",
          "text": [
            "0\n"
          ],
          "name": "stdout"
        }
      ]
    },
    {
      "cell_type": "code",
      "metadata": {
        "id": "SzwtxTEodQP5"
      },
      "source": [
        ""
      ],
      "execution_count": null,
      "outputs": []
    },
    {
      "cell_type": "markdown",
      "metadata": {
        "id": "-cmSQmGTdQP5"
      },
      "source": [
        "### 조건표현식 만들어보기\n",
        "\n",
        "> 다음의 코드와 동일한 조건 표현식을 작성해보세요.\n",
        "\n",
        "```python\n",
        "num = 2\n",
        "if num % 2:\n",
        "    result = '홀수입니다.'\n",
        "else:\n",
        "    result = '짝수입니다.'\n",
        "print(result)\n",
        "```\n",
        "---\n",
        "```\n",
        "예시 출력)\n",
        "짝수입니다.\n",
        "```"
      ]
    },
    {
      "cell_type": "code",
      "metadata": {
        "id": "0I4SnKqydQP5"
      },
      "source": [
        "# 아래에 코드를 작성하세요."
      ],
      "execution_count": null,
      "outputs": []
    },
    {
      "cell_type": "code",
      "metadata": {
        "id": "DR5SbQW9dQP5"
      },
      "source": [
        "num = int(input())\n",
        "result='홀수입니다' if num % 2 else '짝수입니다'\n",
        "print(result)"
      ],
      "execution_count": null,
      "outputs": []
    },
    {
      "cell_type": "markdown",
      "metadata": {
        "id": "dP1uXq2GdQP5"
      },
      "source": [
        "# 반복문\n",
        "\n",
        "## `while` 문\n",
        "\n",
        "`while` 문은 조건식이 참(True)인 경우 반복적으로 코드를 실행합니다.\n",
        "\n",
        "**그래서 종료조건을 반드시 설정해주어야 합니다.**\n",
        "\n",
        "<br>\n",
        "<br>\n",
        "<center> \n",
        "    <img src=\"https://user-images.githubusercontent.com/18046097/61180568-3ac50e80-a653-11e9-9960-ba15137290a6.png\", alt=\"while\"/>\n",
        "</center>"
      ]
    },
    {
      "cell_type": "code",
      "metadata": {
        "id": "OKGL8qCNdQP6"
      },
      "source": [
        "# 위의 flow chart를 조건문을 통해 만들어봅시다.\n",
        "# 아래에 코드를 작성하세요."
      ],
      "execution_count": null,
      "outputs": []
    },
    {
      "cell_type": "code",
      "metadata": {
        "id": "FFncGHAPdQP6",
        "outputId": "a30079ec-8b61-4222-c789-ffe579036443"
      },
      "source": [
        "a=0\n",
        "while a<5:\n",
        "    print(a)\n",
        "    a+=1\n",
        "print('끝')\n",
        "    "
      ],
      "execution_count": null,
      "outputs": [
        {
          "output_type": "stream",
          "text": [
            "0\n",
            "1\n",
            "2\n",
            "3\n",
            "4\n",
            "끝\n"
          ],
          "name": "stdout"
        }
      ]
    },
    {
      "cell_type": "markdown",
      "metadata": {
        "id": "gT2QXm9jdQP6"
      },
      "source": [
        "<center>\n",
        "    <img src=\"https://user-images.githubusercontent.com/18046097/61180567-3ac50e80-a653-11e9-9f12-39c404f4be30.png\", alt=\"\">\n",
        "</center>\n",
        "\n",
        "`while` 문 역시 `<조건식>` 이후에 `:`이 반드시 필요하며, \n",
        "\n",
        "이후 오는 코드 블록은 `4spaces`로 **들여쓰기**를 해주셔야 합니다."
      ]
    },
    {
      "cell_type": "markdown",
      "metadata": {
        "id": "JR4F4urydQP6"
      },
      "source": [
        "### `while`문 작성하기\n",
        "> 사용자가 \"안녕\"이라고 입력할 때까지 인사하는 코드를 작성해보세요."
      ]
    },
    {
      "cell_type": "code",
      "metadata": {
        "id": "4LT0ZJHadQP6"
      },
      "source": [
        "# 아래에 코드를 작성하세요."
      ],
      "execution_count": null,
      "outputs": []
    },
    {
      "cell_type": "code",
      "metadata": {
        "id": "fchRU2mQdQP7",
        "outputId": "f00ac756-6fd5-432b-cff6-430a9e9ae998"
      },
      "source": [
        "say=input('say \\'안녕\\': ')\n",
        "\n",
        "while say != '안녕':\n",
        "    say=input('\\'안녕\\'이라고 할 때까지 물어볼거야..: ')\n",
        "print('야호')"
      ],
      "execution_count": null,
      "outputs": [
        {
          "output_type": "stream",
          "text": [
            "say '안녕': 뭐?\n",
            "'안녕'이라고 할 때까지 물어볼거야..: 뭐?\n",
            "'안녕'이라고 할 때까지 물어볼거야..: ㅋㅋㅋ\n",
            "'안녕'이라고 할 때까지 물어볼거야..: 재밌넹\n",
            "'안녕'이라고 할 때까지 물어볼거야..: 왜그래..\n",
            "'안녕'이라고 할 때까지 물어볼거야..: 안녕\n",
            "야호\n"
          ],
          "name": "stdout"
        }
      ]
    },
    {
      "cell_type": "markdown",
      "metadata": {
        "id": "FzhYGbjxdQP7"
      },
      "source": [
        "## `for` 문\n",
        "\n",
        "`for` 문은 정해진 범위 내 시퀀스(문자열, 튜플, 리스트 같은)나 다른 반복가능한 객체(iterable)의 요소들을 순차적으로 코드를 실행합니다.\n",
        "\n",
        "---\n",
        "\n",
        "**활용법**\n",
        "\n",
        "```python\n",
        "for element in iterable:\n",
        "    code line1\n",
        "    code line2\n",
        "```"
      ]
    },
    {
      "cell_type": "markdown",
      "metadata": {
        "id": "SLnvP-4mdQP7"
      },
      "source": [
        "<center>\n",
        "    <img src=\"https://user-images.githubusercontent.com/18046097/61180565-3a2c7800-a653-11e9-806a-28838248de31.png\", alt=\"\">\n",
        "</center>"
      ]
    },
    {
      "cell_type": "code",
      "metadata": {
        "id": "pf96I9STdQP8"
      },
      "source": [
        "# flowchart를 for문을 통해 코드로 작성해봅시다.\n",
        "# 아래에 코드를 작성하세요."
      ],
      "execution_count": null,
      "outputs": []
    },
    {
      "cell_type": "code",
      "metadata": {
        "id": "Qgxel0VrdQP8",
        "outputId": "8f95680d-1732-4081-96be-2b07feb49ac1"
      },
      "source": [
        "sample_list = [0,1,2,3,4,5,6,7]\n",
        "for i in sample_list:\n",
        "    print(i)"
      ],
      "execution_count": null,
      "outputs": [
        {
          "output_type": "stream",
          "text": [
            "0\n",
            "1\n",
            "2\n",
            "3\n",
            "4\n",
            "5\n",
            "6\n",
            "7\n"
          ],
          "name": "stdout"
        }
      ]
    },
    {
      "cell_type": "markdown",
      "metadata": {
        "id": "XZ2778yYdQP8"
      },
      "source": [
        ""
      ]
    },
    {
      "cell_type": "markdown",
      "metadata": {
        "id": "pXxnVkYedQP8"
      },
      "source": [
        "for 문에서 요소 값에 다른 값을 할당해도 다음 반복구문에 영향을 주지 않습니다.\n",
        "\n",
        "다음 range 요소 값에 의해 덮어 씌워지기 때문입니다."
      ]
    },
    {
      "cell_type": "code",
      "metadata": {
        "id": "HZ-z3dG6dQP9",
        "outputId": "a4e1b893-77df-4821-8298-03a93ebd720f"
      },
      "source": [
        "i=5\n",
        "for i in range(10):\n",
        "    print(i)"
      ],
      "execution_count": null,
      "outputs": [
        {
          "output_type": "stream",
          "text": [
            "0\n",
            "1\n",
            "2\n",
            "3\n",
            "4\n",
            "5\n",
            "6\n",
            "7\n",
            "8\n",
            "9\n"
          ],
          "name": "stdout"
        }
      ]
    },
    {
      "cell_type": "markdown",
      "metadata": {
        "id": "96IAf_9IdQP9"
      },
      "source": [
        "### `for` 문 연습\n",
        "> for 문을 활용하여 사용자가 입력한 문자를 한글자씩 출력해보세요.\n",
        "\n",
        "---\n",
        "\n",
        "```\n",
        "예시 출력)\n",
        "문자를 입력하세요 : 안녕!\n",
        "안\n",
        "녕\n",
        "!\n",
        "```\n"
      ]
    },
    {
      "cell_type": "code",
      "metadata": {
        "id": "zg7boPGvdQP9"
      },
      "source": [
        "chars = input('문자를 입력하세요 : ')\n",
        "\n",
        "# 아래에 코드를 작성하세요."
      ],
      "execution_count": null,
      "outputs": []
    },
    {
      "cell_type": "code",
      "metadata": {
        "id": "fJj0_kn6dQP9",
        "outputId": "7cb69ce4-b962-446a-8906-3a00413597eb"
      },
      "source": [
        "#복습!!!!!!!!!!!!!!!!!!!!!!!!!!!!!!!!!!!!!!!!!!!!!!!!!!!!!!\n",
        "\n",
        "chars = str(input('문자를 입력하세요 : '))\n",
        "\n",
        "for i in chars:\n",
        "    print(i)"
      ],
      "execution_count": null,
      "outputs": [
        {
          "output_type": "stream",
          "text": [
            "문자를 입력하세요 : 야야야야야야\n",
            "야\n",
            "야\n",
            "야\n",
            "야\n",
            "야\n",
            "야\n"
          ],
          "name": "stdout"
        }
      ]
    },
    {
      "cell_type": "code",
      "metadata": {
        "id": "FsomfNkbdQP9",
        "outputId": "2bae613c-a9f7-4785-9737-cbe2d1741e8d"
      },
      "source": [
        "chars[3]"
      ],
      "execution_count": null,
      "outputs": [
        {
          "output_type": "execute_result",
          "data": {
            "text/plain": [
              "'야'"
            ]
          },
          "metadata": {
            "tags": []
          },
          "execution_count": 12
        }
      ]
    },
    {
      "cell_type": "code",
      "metadata": {
        "id": "JBgQrrVldQP-"
      },
      "source": [
        ""
      ],
      "execution_count": null,
      "outputs": []
    },
    {
      "cell_type": "markdown",
      "metadata": {
        "id": "wHVSnG1AdQP-"
      },
      "source": [
        "###  `for` 문과 `if` 문 작성하기\n",
        "\n",
        "> 반복문과 조건문만 활용하여 1~30까지 숫자 중에 홀수만 담긴 리스트를 만드세요.\n",
        "- list에서 값 추가는 `.append()`로 합니다.\n",
        "\n",
        "---\n",
        "```\n",
        "예시 출력)\n",
        "[1, 3, 5, 7, 9, 11, 13, 15, 17, 19, 21, 23, 25, 27, 29]\n",
        "```"
      ]
    },
    {
      "cell_type": "code",
      "metadata": {
        "id": "qnrtiq_zdQP-"
      },
      "source": [
        "# 아래에 코드를 작성하세요."
      ],
      "execution_count": null,
      "outputs": []
    },
    {
      "cell_type": "code",
      "metadata": {
        "id": "03RW6it0dQP-",
        "outputId": "1e43a3d3-7714-47ad-9e13-b435569e0fb9"
      },
      "source": [
        "#복습!!!!!!!!!!!!!!!!!!!!!!!!!!!!!!!!!!!\n",
        "\n",
        "a=[]\n",
        "for i in range(1,31):\n",
        "    if i%2:\n",
        "        a.append(i)\n",
        "print(a)"
      ],
      "execution_count": null,
      "outputs": [
        {
          "output_type": "stream",
          "text": [
            "[1, 3, 5, 7, 9, 11, 13, 15, 17, 19, 21, 23, 25, 27, 29]\n"
          ],
          "name": "stdout"
        }
      ]
    },
    {
      "cell_type": "markdown",
      "metadata": {
        "id": "toGyalRZdQP_"
      },
      "source": [
        "### index와 함께 `for` 문 활용\n",
        "\n",
        "> `enumerate()`를 활용하면, 추가적인 변수를 활용할 수 있습니다.\n",
        "- `enumerate()`는 [파이썬 표준 라이브러리의 내장함수](https://docs.python.org/ko/3.6/library/functions.html) 중 하나이며, 다음과 같이 구성되어 있다.\n",
        ">\n",
        "> <center>\n",
        "    <img src=\"https://user-images.githubusercontent.com/18046097/61180561-3993e180-a653-11e9-9558-085c9a0ad65d.png\", alt=\"enumerate\">\n",
        "</center>"
      ]
    },
    {
      "cell_type": "code",
      "metadata": {
        "id": "gaHoSX4hdQP_"
      },
      "source": [
        "# enumerate()를 활용해서 출력해봅시다.\n",
        "lunch = ['짜장면', '초밥']"
      ],
      "execution_count": null,
      "outputs": []
    },
    {
      "cell_type": "code",
      "metadata": {
        "id": "wKex0vSzdQP_",
        "outputId": "2a03a853-07f6-4b5c-8665-63f542f4c1cf"
      },
      "source": [
        "#for 뒤에 두개를 쓰면 따올 in 값이 리스트나 딕셔너리일 경우 적용되어 나옴\n",
        "\n",
        "for idx, menu in enumerate(lunch):\n",
        "    print(idx, menu)\n"
      ],
      "execution_count": null,
      "outputs": [
        {
          "output_type": "stream",
          "text": [
            "0 짜장면\n",
            "1 초밥\n"
          ],
          "name": "stdout"
        }
      ]
    },
    {
      "cell_type": "code",
      "metadata": {
        "id": "ZJ0oHi3pdQP_"
      },
      "source": [
        ""
      ],
      "execution_count": null,
      "outputs": []
    },
    {
      "cell_type": "code",
      "metadata": {
        "id": "XjdlXm41dQQA"
      },
      "source": [
        "# enumerate()를 사용하였을 때 어떻게 표현이 되는지 확인해봅시다."
      ],
      "execution_count": null,
      "outputs": []
    },
    {
      "cell_type": "code",
      "metadata": {
        "id": "c_BsZx5KdQQA"
      },
      "source": [
        ""
      ],
      "execution_count": null,
      "outputs": []
    },
    {
      "cell_type": "code",
      "metadata": {
        "id": "CPleSPsFdQQA"
      },
      "source": [
        "# 숫자를 1부터 카운트 할 수도 있습니다."
      ],
      "execution_count": null,
      "outputs": []
    },
    {
      "cell_type": "code",
      "metadata": {
        "id": "31GFg8rIdQQA",
        "outputId": "531fffd8-8053-4f93-94b0-c0534d274e7f"
      },
      "source": [
        "\n",
        "\n",
        "for idx, menu in enumerate(lunch, start=1):\n",
        "    print(idx, menu)\n"
      ],
      "execution_count": null,
      "outputs": [
        {
          "output_type": "stream",
          "text": [
            "1 짜장면\n",
            "2 초밥\n"
          ],
          "name": "stdout"
        }
      ]
    },
    {
      "cell_type": "code",
      "metadata": {
        "id": "PZKZ-m2vdQQB"
      },
      "source": [
        ""
      ],
      "execution_count": null,
      "outputs": []
    },
    {
      "cell_type": "code",
      "metadata": {
        "id": "7n741aOIdQQB"
      },
      "source": [
        ""
      ],
      "execution_count": null,
      "outputs": []
    },
    {
      "cell_type": "code",
      "metadata": {
        "scrolled": true,
        "id": "blT-0w0xdQQB"
      },
      "source": [
        ""
      ],
      "execution_count": null,
      "outputs": []
    },
    {
      "cell_type": "markdown",
      "metadata": {
        "id": "gthk_LIedQQB"
      },
      "source": [
        "### dictionary 반복문 활용\n",
        "\n",
        "기본적으로 dictionary를 `for` 문을 시행시키면 다음과 같이 시행됩니다."
      ]
    },
    {
      "cell_type": "code",
      "metadata": {
        "id": "8UswYa5adQQB"
      },
      "source": [
        "# 옆자리 친구의 이름을 활용하여 dictionary를 만들어봅시다."
      ],
      "execution_count": null,
      "outputs": []
    },
    {
      "cell_type": "code",
      "metadata": {
        "id": "Azb7fbEidQQC",
        "outputId": "d55d3701-e005-40b5-ab46-c557028663bf"
      },
      "source": [
        "class4 = {'1':'박세진','2':'이예은','3':'김원정','4':'황수현','5':'이태정'}\n",
        "for member in class4:\n",
        "    print(member)"
      ],
      "execution_count": null,
      "outputs": [
        {
          "output_type": "stream",
          "text": [
            "2\n",
            "3\n",
            "4\n",
            "1\n",
            "5\n"
          ],
          "name": "stdout"
        }
      ]
    },
    {
      "cell_type": "markdown",
      "metadata": {
        "id": "HQelMsLsdQQC"
      },
      "source": [
        "dictionary의 `key`를 출력함으로써 `value`에도 접근할 수 있기 때문입니다.\n",
        "\n",
        "따라서 dictionary의 value를 출력하기 위해서는 아래와 같이 작성합니다."
      ]
    },
    {
      "cell_type": "code",
      "metadata": {
        "id": "_xpYYTi9dQQC"
      },
      "source": [
        "# value를 출력해봅시다."
      ],
      "execution_count": null,
      "outputs": []
    },
    {
      "cell_type": "code",
      "metadata": {
        "id": "9meSyDQadQQC",
        "outputId": "ec4a863e-a36f-4c5e-c6ed-cd3be52459f6"
      },
      "source": [
        "class4 = {'1':'박세진','2':'이예은','3':'김원정','4':'황수현','5':'이태정'}\n",
        "for member in class4.items():\n",
        "    print(member)"
      ],
      "execution_count": null,
      "outputs": [
        {
          "output_type": "stream",
          "text": [
            "('2', '이예은')\n",
            "('3', '김원정')\n",
            "('4', '황수현')\n",
            "('1', '박세진')\n",
            "('5', '이태정')\n"
          ],
          "name": "stdout"
        }
      ]
    },
    {
      "cell_type": "markdown",
      "metadata": {
        "id": "tG-GWkC8dQQC"
      },
      "source": [
        "* dictionary에서 `for` 활용하는 4가지 방법\n",
        "\n",
        "```python\n",
        "# 0. dictionary (key 반복)\n",
        "for key in dict:\n",
        "    print(key)\n",
        "\n",
        "\n",
        "# 1. key 반복\n",
        "for key in dict.keys():\n",
        "    print(key)\n",
        "    \n",
        "    \n",
        "# 2. value 반복    \n",
        "for val in dict.values():\n",
        "    print(val)\n",
        "\n",
        "    \n",
        "# 3. key와 value 반복\n",
        "for key, val in dict.items():\n",
        "    print(key, val)\n",
        "\n",
        "```"
      ]
    },
    {
      "cell_type": "markdown",
      "metadata": {
        "id": "xFmNV6HwdQQD"
      },
      "source": [
        "### dictionary `for`문 작성하기\n",
        "\n",
        "> 4가지 반복문을 활용해보고 출력되는 결과를 확인해보세요.\n",
        "\n",
        "```\n",
        "blood_type = {'A': 4, 'B': 2, 'AB': 3, 'O':1}\n",
        "```\n",
        "\n",
        "---\n",
        "\n",
        "```\n",
        "예시 출력)\n",
        "혈액형의 종류는 다음과 같습니다 =>  A B AB O\n",
        "혈액형의 종류는 다음과 같습니다 =>  A B AB O\n",
        "총인원은 10명입니다.\n",
        "A형은 4명입니다. ... O형은 1명입니다.\n",
        "```"
      ]
    },
    {
      "cell_type": "code",
      "metadata": {
        "id": "8lPWF1VJdQQD"
      },
      "source": [
        "blood_type = {'A': 4, 'B': 2, 'AB': 3, 'O':1}\n",
        "\n",
        "# 아래에 코드를 작성하세요."
      ],
      "execution_count": null,
      "outputs": []
    },
    {
      "cell_type": "code",
      "metadata": {
        "id": "TtHsnbR0dQQD",
        "outputId": "e09df521-01f7-4f71-ee2d-ba62d7a2daa4"
      },
      "source": [
        "blood_type = {'A': 4, 'B': 2, 'AB': 3, 'O':1}\n",
        "\n",
        "for i in blood_type:\n",
        "    print(f'혈액형의 종류는 다음과 같습니다 => {i}')"
      ],
      "execution_count": null,
      "outputs": [
        {
          "output_type": "error",
          "ename": "SyntaxError",
          "evalue": "invalid syntax (<ipython-input-43-5710623c8b75>, line 4)",
          "traceback": [
            "\u001b[1;36m  File \u001b[1;32m\"<ipython-input-43-5710623c8b75>\"\u001b[1;36m, line \u001b[1;32m4\u001b[0m\n\u001b[1;33m    print(f'혈액형의 종류는 다음과 같습니다 => {i}')\u001b[0m\n\u001b[1;37m                                    ^\u001b[0m\n\u001b[1;31mSyntaxError\u001b[0m\u001b[1;31m:\u001b[0m invalid syntax\n"
          ]
        }
      ]
    },
    {
      "cell_type": "code",
      "metadata": {
        "id": "LnW60quzdQQD"
      },
      "source": [
        ""
      ],
      "execution_count": null,
      "outputs": []
    },
    {
      "cell_type": "code",
      "metadata": {
        "id": "meezyra-dQQD"
      },
      "source": [
        ""
      ],
      "execution_count": null,
      "outputs": []
    },
    {
      "cell_type": "code",
      "metadata": {
        "scrolled": true,
        "id": "PvrPumFwdQQE"
      },
      "source": [
        ""
      ],
      "execution_count": null,
      "outputs": []
    },
    {
      "cell_type": "markdown",
      "metadata": {
        "id": "QCvBZPqGdQQE"
      },
      "source": [
        "### dictionary 구축하기 (`for`, `if`)\n",
        "> 다음과 같은 리스트가 있을 때 각각의 요소의 개수를 value 값으로 갖는 딕셔너리를 만드세요.\n",
        "> ```python\n",
        "book_title =  ['great', 'expectations', 'the', 'adventures', 'of', 'sherlock', 'holmes', 'the', 'great', 'gasby', 'hamlet', 'adventures', 'of', 'huckleberry', 'fin']\n",
        "```\n",
        "\n",
        "---\n",
        "\n",
        "\n",
        "\n",
        "```\n",
        "예시 출력)\n",
        "{'great': 2, 'expectations': 1, 'the': 2, 'adventures': 2, 'of': 2, 'sherlock': 1, 'holmes': 1, 'gasby': 1, 'hamlet': 1, 'huckleberry': 1, 'fin': 1}\n",
        "```\n"
      ]
    },
    {
      "cell_type": "code",
      "metadata": {
        "id": "nyxDWl1XdQQE"
      },
      "source": [
        "book_title =  ['great', 'expectations', 'the', 'adventures', 'of', 'sherlock', 'holmes', 'the', 'great', 'gasby', 'hamlet', 'adventures', 'of', 'huckleberry', 'fin']\n",
        "\n",
        "# 아래에 코드를 작성하세요."
      ],
      "execution_count": null,
      "outputs": []
    },
    {
      "cell_type": "code",
      "metadata": {
        "id": "fAd_Z9jidQQE",
        "outputId": "25a18bcb-a787-42c5-b78d-c26603704e07"
      },
      "source": [
        "### 빈 dic를 만들어주고, 리스트의 값들을 for문으로 반복하면서 각 리스트값들을 키값으로 지정해,\n",
        "### 이미 가상의 dic에 해당 키값이 존재한다면 해당 키값의 val를 1씩 늘려감\n",
        "## 기본적으로 dic에서 부르는 값은 key\n",
        "\n",
        "book_title =  ['great', 'expectations', 'the', 'adventures', 'of', 'sherlock', 'holmes', 'the', 'great', 'gasby', 'hamlet', 'adventures', 'of', 'huckleberry', 'fin']\n",
        "\n",
        "title_counter = {}\n",
        "for title in book_title:\n",
        "    if title in title_counter:\n",
        "        title_counter[title] += 1\n",
        "    else:\n",
        "        title_counter[title] = 1\n",
        "print(title_counter)"
      ],
      "execution_count": null,
      "outputs": [
        {
          "output_type": "stream",
          "text": [
            "{'of': 2, 'adventures': 2, 'holmes': 1, 'gasby': 1, 'expectations': 1, 'the': 2, 'huckleberry': 1, 'great': 2, 'fin': 1, 'hamlet': 1, 'sherlock': 1}\n"
          ],
          "name": "stdout"
        }
      ]
    },
    {
      "cell_type": "code",
      "metadata": {
        "id": "scLahyl6dQQE",
        "outputId": "5f838802-ca59-4789-c3d5-ac2df21be3c3"
      },
      "source": [
        "### 하지만 count() 내장함수를 이용해서 해당 리스트에 같은 값이 몇 개인지 새주어서 바로 val값에 대입해줘도 됨\n",
        "\n",
        "title_counter = {}\n",
        "for title in book_title:\n",
        "    title_counter[title] = book_title.count(title)\n",
        "    \n",
        "print(title_counter)"
      ],
      "execution_count": null,
      "outputs": [
        {
          "output_type": "stream",
          "text": [
            "{'of': 2, 'adventures': 2, 'holmes': 1, 'gasby': 1, 'expectations': 1, 'the': 2, 'huckleberry': 1, 'great': 2, 'fin': 1, 'hamlet': 1, 'sherlock': 1}\n"
          ],
          "name": "stdout"
        }
      ]
    },
    {
      "cell_type": "markdown",
      "metadata": {
        "id": "9EkRmBiRdQQF"
      },
      "source": [
        "> `get(key[, default])`\n",
        "* key 가 딕셔너리에 있는 경우 key 에 대응하는 값을 돌려주고, 그렇지 않으면 default 를 돌려준다. "
      ]
    },
    {
      "cell_type": "markdown",
      "metadata": {
        "id": "o-d0etAndQQF"
      },
      "source": [
        "## `range()` 함수\n",
        "- 숫자들의 시퀀스로 반복 할 필요가 있으면 사용하는 함수입니다. 수열을 만듭니다.\n",
        "\n",
        "\n",
        "`range(start, stop[, step])`\n",
        "- step 인자가 생략되면 기본값 `1`이 사용된다. \n",
        "- start 인자가 생략되면 기본값 `0`이 사용된다. \n",
        "- step 이 `0`이면 `ValueError`를 일으킨다.\n",
        "\n",
        "\n",
        "**장점**\n",
        "- list 나 tuple 에 비해 범위의 크기에 무관하게 항상 같은 (작은) 양의 메모리를 사용한다. (start, stop, step 값만을 저장)."
      ]
    },
    {
      "cell_type": "markdown",
      "metadata": {
        "id": "nikytSZ_dQQF"
      },
      "source": [
        "**주의사항**\n",
        "- range() 가 돌려준 객체(iterable)는 리스트인 것 같지만, 리스트가 아니다. \n",
        "- 반복(이터레이트)할 때 원하는 시퀀스 항목들을 순서대로 돌려주는 객체이지만, 실제로 리스트를 만들지 않아서 공간을 절약하는 것이다."
      ]
    },
    {
      "cell_type": "code",
      "metadata": {
        "id": "WE0E1Xc9dQQF",
        "outputId": "53ec6179-82fe-4efe-9d91-122a086cb823"
      },
      "source": [
        "print(range(10))"
      ],
      "execution_count": null,
      "outputs": [
        {
          "output_type": "stream",
          "text": [
            "range(0, 10)\n"
          ],
          "name": "stdout"
        }
      ]
    },
    {
      "cell_type": "code",
      "metadata": {
        "id": "XDWN6NdIdQQF",
        "outputId": "696d8bbb-6ef4-4bc5-fdc0-54cb8eefcc18"
      },
      "source": [
        "list(range(10))"
      ],
      "execution_count": null,
      "outputs": [
        {
          "output_type": "execute_result",
          "data": {
            "text/plain": [
              "[0, 1, 2, 3, 4, 5, 6, 7, 8, 9]"
            ]
          },
          "metadata": {
            "tags": []
          },
          "execution_count": 49
        }
      ]
    },
    {
      "cell_type": "code",
      "metadata": {
        "id": "GoLR1hyndQQG"
      },
      "source": [
        "# range 함수로 0~9 범위를 반복하는 for 문을 작성해봅시다.\n"
      ],
      "execution_count": null,
      "outputs": []
    },
    {
      "cell_type": "markdown",
      "metadata": {
        "id": "f5qmYbQrdQQG"
      },
      "source": [
        "## `break`, `continue`, `else`, `pass`\n",
        "\n",
        "### `break`\n",
        "\n",
        "`break` 문은 반복문을 종료하는 표현입니다. \n",
        "\n",
        "`for` 나 `while` 문으로부터 빠져나가게 만듭니다."
      ]
    },
    {
      "cell_type": "code",
      "metadata": {
        "id": "-uwO-KwodQQG"
      },
      "source": [
        "# break 문을 활용해봅시다."
      ],
      "execution_count": null,
      "outputs": []
    },
    {
      "cell_type": "code",
      "metadata": {
        "id": "s9PG185fdQQG"
      },
      "source": [
        ""
      ],
      "execution_count": null,
      "outputs": []
    },
    {
      "cell_type": "markdown",
      "metadata": {
        "id": "699RPqHodQQG"
      },
      "source": [
        "### `break` 작성하기\n",
        "\n",
        "> 조건문과 반복문, `break`를 활용하여 리스트에서 쌀이 나왔을때 `for` 문을 멈추는 코드를 작성하세요.\n",
        "\n",
        "```python\n",
        "rice = ['보리', '보리', '보리', '쌀', '보리']\n",
        "```\n",
        "\n",
        "---\n",
        "\n",
        "```\n",
        "예시 출력)\n",
        "보리\n",
        "보리\n",
        "보리\n",
        "쌀\n",
        "잡았다!\n",
        "```"
      ]
    },
    {
      "cell_type": "code",
      "metadata": {
        "id": "dT3D-VDgdQQG"
      },
      "source": [
        "rice = ['보리', '보리', '보리', '쌀', '보리']\n",
        "\n",
        "# 아래에 코드를 작성하세요."
      ],
      "execution_count": null,
      "outputs": []
    },
    {
      "cell_type": "code",
      "metadata": {
        "scrolled": true,
        "id": "1K7lR5VBdQQG",
        "outputId": "2beb3e96-eae4-40b5-d0e1-8a4d24286aaf"
      },
      "source": [
        "for i in range(5):\n",
        "    print(rice[i])\n",
        "    \n",
        "    if rice[i] == '쌀':\n",
        "        print('잡았다')\n",
        "        break"
      ],
      "execution_count": null,
      "outputs": [
        {
          "output_type": "stream",
          "text": [
            "보리\n",
            "보리\n",
            "보리\n",
            "쌀\n",
            "잡았다\n"
          ],
          "name": "stdout"
        }
      ]
    },
    {
      "cell_type": "markdown",
      "metadata": {
        "id": "Pc2xenv6dQQH"
      },
      "source": [
        "> 조건문과 반복문, break를 활용하여 다음 headlines 리스트의 요소들을 130자 크기의 하나의 문자열로 이어 붙이는 코드를 작성하세요.\n",
        "\n",
        "```python\n",
        "headlines = [\n",
        "    \"Local Bear Eaten by Man\",\n",
        "    \"Legislature Announces New Laws\",\n",
        "    \"Peasant Discovers Violence Inherent in System\",\n",
        "    \"Cat Rescues Fireman Stuck in Tree\",\n",
        "    \"Brave Knight Runs Away\",\n",
        "    \"Papperbok Review: Totally Triffic\"\n",
        "]\n",
        "```\n",
        "\n",
        "---\n",
        "\n",
        "```\n",
        "예시 출력)\n",
        "Local Bear Eaten by Man Legislature Announces New Laws Peasant Discovers Violence Inherent in System Cat Rescues Fireman Stuck in\n",
        "```"
      ]
    },
    {
      "cell_type": "code",
      "metadata": {
        "id": "9GN1foMFdQQH"
      },
      "source": [
        "headlines = [\n",
        "    'Local Bear Eaten by Man',\n",
        "    'Legislature Announces New Laws',\n",
        "    'Peasant Discovers Violence Inherent in System',\n",
        "    'Cat Rescues Fireman Stuck in Tree',\n",
        "    'Brave Knight Runs Away',\n",
        "    'Papperbok Review: Totally Triffic',\n",
        "]\n",
        "\n",
        "# 아래에 코드를 작성하세요."
      ],
      "execution_count": null,
      "outputs": []
    },
    {
      "cell_type": "code",
      "metadata": {
        "id": "y9bmguqodQQH",
        "outputId": "77618d98-4ecf-47a4-dcdd-557a42930e49"
      },
      "source": [
        "sts=''\n",
        "for i in headlines:\n",
        "    sts+=i\n",
        "#     sts+=' '\n",
        "print(sts[:130])"
      ],
      "execution_count": null,
      "outputs": [
        {
          "output_type": "stream",
          "text": [
            "Local Bear Eaten by ManLegislature Announces New LawsPeasant Discovers Violence Inherent in SystemCat Rescues Fireman Stuck in Tre\n"
          ],
          "name": "stdout"
        }
      ]
    },
    {
      "cell_type": "markdown",
      "metadata": {
        "id": "2QpB0G6rdQQH"
      },
      "source": [
        "### `continue` \n",
        "\n",
        "`continue`문은 continue 이후의 코드를 수행하지 않고 다음 요소를 선택해 반복을 계속 수행합니다."
      ]
    },
    {
      "cell_type": "code",
      "metadata": {
        "id": "Qs3FR-L7dQQI"
      },
      "source": [
        "# continue 문을 활용해봅시다."
      ],
      "execution_count": null,
      "outputs": []
    },
    {
      "cell_type": "code",
      "metadata": {
        "id": "C4Yr10i8dQQI",
        "outputId": "a7873c35-cd00-4d7e-e6d7-10a8f19fcea5"
      },
      "source": [
        "for i in range(1,6):\n",
        "    if i%2==0:\n",
        "        \n",
        "        print(f'{i}은(는) 짝수다.')\n",
        "    print(f'{i}은(는) 홀수다.')"
      ],
      "execution_count": null,
      "outputs": [
        {
          "output_type": "stream",
          "text": [
            "1은(는) 홀수다.\n",
            "2은(는) 짝수다.\n",
            "2은(는) 홀수다.\n",
            "3은(는) 홀수다.\n",
            "4은(는) 짝수다.\n",
            "4은(는) 홀수다.\n",
            "5은(는) 홀수다.\n"
          ],
          "name": "stdout"
        }
      ]
    },
    {
      "cell_type": "markdown",
      "metadata": {
        "id": "GXR8lH0GdQQI"
      },
      "source": [
        "### `continue` 작성하기\n",
        "\n",
        "> 나이가 입력된 리스트가 있을때,\n",
        "> 조건문과 반복문, continue를 활용하여 20살 이상일때만 \"성인입니다\"라는 출력을 하는 코드를 작성하세요.\n",
        "\n",
        "```python\n",
        "ages = [10, 23, 8, 30, 25, 31]\n",
        "```\n",
        "\n",
        "---\n",
        "\n",
        "```\n",
        "예시 출력)\n",
        "23 살은 성인입니다.\n",
        "30 살은 성인입니다.\n",
        "25 살은 성인입니다.\n",
        "31 살은 성인입니다.\n",
        "```"
      ]
    },
    {
      "cell_type": "code",
      "metadata": {
        "id": "qOaIJM2NdQQI"
      },
      "source": [
        "ages = [10, 23, 8, 30, 25, 31]\n",
        "\n",
        "# 아래에 코드를 작성하세요."
      ],
      "execution_count": null,
      "outputs": []
    },
    {
      "cell_type": "code",
      "metadata": {
        "id": "hqPKCUnodQQI",
        "outputId": "4cc25303-f5dd-4050-a23f-52bdca5b6f5f"
      },
      "source": [
        "for i in ages:\n",
        "    print(f'{i}살은 성인입니다.') if i>=20 else 0"
      ],
      "execution_count": null,
      "outputs": [
        {
          "output_type": "stream",
          "text": [
            "23살은 성인입니다.\n",
            "30살은 성인입니다.\n",
            "25살은 성인입니다.\n",
            "31살은 성인입니다.\n"
          ],
          "name": "stdout"
        }
      ]
    },
    {
      "cell_type": "markdown",
      "metadata": {
        "id": "MQsISK27dQQJ"
      },
      "source": [
        "### `else`\n",
        "\n",
        "- `else` 문은 끝까지 반복문을 시행한 이후에 실행된다.\n",
        "- 반복에서 리스트의 소진이나 (`for` 의 경우) 조건이 거짓이 돼서 (`while` 의 경우) 종료할 때 실행된다. \n",
        "- 하지만 반복문이 **`break` 문으로 종료할 때는 실행되지 않는다.** (`break`를 통해 중간에 종료되지 않은 경우만 실행)"
      ]
    },
    {
      "cell_type": "code",
      "metadata": {
        "id": "Q96MunibdQQJ"
      },
      "source": [
        "# break가 안되는 상황을 만들어봅시다."
      ],
      "execution_count": null,
      "outputs": []
    },
    {
      "cell_type": "code",
      "metadata": {
        "id": "fhOd_iYHdQQJ",
        "outputId": "fcec6d1b-68db-430d-e6c0-e3833a88a375"
      },
      "source": [
        "for i in range(3):\n",
        "    print (i)\n",
        "    if i == 100:\n",
        "        print(f'{i}에서 break 시행됨.')\n",
        "        break\n",
        "else:\n",
        "    print('break 시행안됨')"
      ],
      "execution_count": null,
      "outputs": [
        {
          "output_type": "stream",
          "text": [
            "0\n",
            "1\n",
            "2\n",
            "break 시행안됨\n"
          ],
          "name": "stdout"
        }
      ]
    },
    {
      "cell_type": "code",
      "metadata": {
        "id": "A1vD7_eZdQQJ"
      },
      "source": [
        "# break가 되는 상황을 만들어봅시다."
      ],
      "execution_count": null,
      "outputs": []
    },
    {
      "cell_type": "code",
      "metadata": {
        "id": "7J72U2IMdQQJ",
        "outputId": "b329824b-1855-4993-b2a5-9ccbea3fb808"
      },
      "source": [
        "for i in range(3):\n",
        "    print(i)\n",
        "    if i == 1:\n",
        "        print(f'{i}에서 break 시행됨.')\n",
        "        break\n",
        "else:\n",
        "    print('break 시행안됨')"
      ],
      "execution_count": null,
      "outputs": [
        {
          "output_type": "stream",
          "text": [
            "0\n",
            "1\n",
            "1에서 break 시행됨.\n"
          ],
          "name": "stdout"
        }
      ]
    },
    {
      "cell_type": "markdown",
      "metadata": {
        "id": "6lTgj9_TdQQK"
      },
      "source": [
        "### `else` 문 작성하기\n",
        "\n",
        "> 조건문과 반복문, break, else 를 통해서 아래의 코드와 동일한 코드를 작성하세요.\n",
        "* 3이 있을 경우 True를 print하고, 아닐 경우 False를 print 한다.\n",
        "\n",
        "```python\n",
        "numbers = [1, 5, 10]\n",
        "```\n",
        "\n",
        "---\n",
        "\n",
        "```\n",
        "예시 출력)\n",
        "False\n",
        "```"
      ]
    },
    {
      "cell_type": "code",
      "metadata": {
        "id": "V5FLDSi4dQQK"
      },
      "source": [
        "numbers = [1, 5, 10]\n",
        "\n",
        "# 아래에 코드를 작성하세요."
      ],
      "execution_count": null,
      "outputs": []
    },
    {
      "cell_type": "code",
      "metadata": {
        "id": "f7jKsPL7dQQK",
        "outputId": "bc11f806-ee0c-4715-8735-cd06b56fab6e"
      },
      "source": [
        "for i in numbers:\n",
        "    if i == 3:\n",
        "        print(\"Ture\")\n",
        "print(\"False\")"
      ],
      "execution_count": null,
      "outputs": [
        {
          "output_type": "stream",
          "text": [
            "False\n"
          ],
          "name": "stdout"
        }
      ]
    },
    {
      "cell_type": "markdown",
      "metadata": {
        "id": "j5r-XPosdQQL"
      },
      "source": [
        "### `pass`\n",
        "pass 문은 아무것도 하지 않습니다. \n",
        "문법적으로 문장이 필요하지만, 프로그램이 특별히 할 일이 없을 때 자리를 채우는 용도로 사용할 수 있습니다."
      ]
    },
    {
      "cell_type": "markdown",
      "metadata": {
        "id": "b5UXmoNBdQQL"
      },
      "source": [
        "**`pass` 와 `continue` 차이**"
      ]
    },
    {
      "cell_type": "code",
      "metadata": {
        "id": "8x182xfRdQQL",
        "outputId": "f0e3f0fc-ab1d-4fc9-ceb8-04cf2f41699c"
      },
      "source": [
        "# pass\n",
        "for i in range(5):\n",
        "    if i == 3:\n",
        "        pass\n",
        "    print(i)"
      ],
      "execution_count": null,
      "outputs": [
        {
          "output_type": "stream",
          "text": [
            "0\n",
            "1\n",
            "2\n",
            "3\n",
            "4\n"
          ],
          "name": "stdout"
        }
      ]
    },
    {
      "cell_type": "code",
      "metadata": {
        "id": "PpY0Gog6dQQL",
        "outputId": "5c7dc6b4-21ad-4167-8632-6806434eeffd"
      },
      "source": [
        "# continue\n",
        "for i in range(5):\n",
        "    if i == 3:\n",
        "        continue\n",
        "    print(i)"
      ],
      "execution_count": null,
      "outputs": [
        {
          "output_type": "stream",
          "text": [
            "0\n",
            "1\n",
            "2\n",
            "4\n"
          ],
          "name": "stdout"
        }
      ]
    },
    {
      "cell_type": "code",
      "metadata": {
        "id": "J6ty1MXIdQQM"
      },
      "source": [
        ""
      ],
      "execution_count": null,
      "outputs": []
    }
  ]
}
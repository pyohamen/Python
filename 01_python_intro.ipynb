{
  "nbformat": 4,
  "nbformat_minor": 0,
  "metadata": {
    "kernelspec": {
      "display_name": "Python 3",
      "language": "python",
      "name": "python3"
    },
    "language_info": {
      "codemirror_mode": {
        "name": "ipython",
        "version": 3
      },
      "file_extension": ".py",
      "mimetype": "text/x-python",
      "name": "python",
      "nbconvert_exporter": "python",
      "pygments_lexer": "ipython3",
      "version": "3.7.6"
    },
    "toc": {
      "base_numbering": 1,
      "nav_menu": {},
      "number_sections": true,
      "sideBar": true,
      "skip_h1_title": false,
      "title_cell": "Table of Contents",
      "title_sidebar": "Contents",
      "toc_cell": false,
      "toc_position": {},
      "toc_section_display": true,
      "toc_window_display": false
    },
    "colab": {
      "name": "01_python_intro.ipynb",
      "provenance": [],
      "include_colab_link": true
    }
  },
  "cells": [
    {
      "cell_type": "markdown",
      "metadata": {
        "id": "view-in-github",
        "colab_type": "text"
      },
      "source": [
        "<a href=\"https://colab.research.google.com/github/pyohamen/SSAFY/blob/master/Python/01_python_intro.ipynb\" target=\"_parent\"><img src=\"https://colab.research.google.com/assets/colab-badge.svg\" alt=\"Open In Colab\"/></a>"
      ]
    },
    {
      "cell_type": "markdown",
      "metadata": {
        "id": "tBLzdBrmc8QY"
      },
      "source": [
        "# Python 기초\n",
        "\n",
        "## 개요\n",
        "\n",
        "본 강의 자료는 [Python 공식 Tutorial](https://docs.python.org/3.7/tutorial/index.html)에 근거하여 만들어졌으며, Python 3.7 버전에 해당하는 내용을 담고 있습니다.\n",
        "\n",
        "또한, 파이썬에서 제공하는 스타일 가이드인 [`PEP-8`](https://www.python.org/dev/peps/pep-0008/) 내용을 반영하였습니다. \n",
        "\n",
        "파이썬을 활용하는 다양한 IT기업들은 대내외적으로 본인들의 스타일 가이드를 제공하고 있습니다. \n",
        "\n",
        "* [구글 스타일 가이드](https://github.com/google/styleguide/blob/gh-pages/pyguide.md)\n",
        "* [Tensorflow 스타일 가이드](https://www.tensorflow.org/community/style_guide)"
      ]
    },
    {
      "cell_type": "markdown",
      "metadata": {
        "id": "iQpsXRIMc8Qa"
      },
      "source": [
        "## 식별자\n",
        "\n",
        "파이썬에서 식별자는 변수, 함수, 모듈, 클래스 등을 식별하는데 사용되는 이름(name)입니다. \n",
        "\n",
        "* 식별자의 이름은 영문알파벳(대문자와 소문자), 밑줄(_), 숫자로 구성된다.\n",
        "* 첫 글자에 숫자가 올 수 없다.\n",
        "* 길이에 제한이 없다.\n",
        "* 대소문자(case)를 구별한다.\n",
        "* 아래의 예약어는 사용할 수 없다. \n",
        "\n",
        "```\n",
        "False, None, True, and, as, assert, break, class, continue, def, del, elif, else, except, finally, for, from, global, if, import, in, is, lambda, nonlocal, not, or, pass, raise, return, try, while, with, yield\n",
        "```"
      ]
    },
    {
      "cell_type": "code",
      "metadata": {
        "id": "FioFudm7c8Qa"
      },
      "source": [
        "# 예약어들을 직접 확인해봅시다."
      ],
      "execution_count": null,
      "outputs": []
    },
    {
      "cell_type": "code",
      "metadata": {
        "id": "YI6Y_gvbc8Qb"
      },
      "source": [
        "# import 구문은 모듈파트에서 다시 알아봅시다.\n"
      ],
      "execution_count": null,
      "outputs": []
    },
    {
      "cell_type": "markdown",
      "metadata": {
        "id": "We4fEhbyc8Qb"
      },
      "source": [
        "*  내장함수나 모듈 등의 이름으로도 만들면 안된다."
      ]
    },
    {
      "cell_type": "code",
      "metadata": {
        "id": "4a4iQ_mTc8Qc"
      },
      "source": [
        "# 내장함수의 이름을 사용하면 어떤일이 일어나는지 확인해봅시다."
      ],
      "execution_count": null,
      "outputs": []
    },
    {
      "cell_type": "code",
      "metadata": {
        "id": "QGlMMXLNc8Qc"
      },
      "source": [
        "# str은 값을 문자로 바꿔주는 내장함수입니다.\n"
      ],
      "execution_count": null,
      "outputs": []
    },
    {
      "cell_type": "code",
      "metadata": {
        "id": "kaLehNXMc8Qd"
      },
      "source": [
        "# 예시로 str에 값을 할당해보고, 오류를 확인해봅시다.\n",
        "# str은 이제 'hi'라는 값으로 인식되기 때문에 이전의 기능을 수행하지 못합니다.\n"
      ],
      "execution_count": null,
      "outputs": []
    },
    {
      "cell_type": "code",
      "metadata": {
        "id": "qXb1GSjic8Qd"
      },
      "source": [
        "# 뒤에서 진행될 코드에 영향이 갈 수 있기 때문에 방금 생성한 str을 삭제합니다.\n",
        "\n"
      ],
      "execution_count": null,
      "outputs": []
    },
    {
      "cell_type": "markdown",
      "metadata": {
        "id": "KLbbfZTSc8Qe"
      },
      "source": [
        "## 기초 문법\n",
        "\n",
        "### 인코딩 선언\n",
        "\n",
        "인코딩은 선언하지 않더라도 `UTF-8`로 기본 설정이 되어있습니다.\n",
        "\n",
        "만약, 인코딩을 설정하려면 코드 상단에 아래와 같이 선언합니다.\n",
        "주석으로 보이지만, Python `parser`에 의해 읽혀집니다.\n",
        "\n",
        "```python\n",
        "# -*- coding: <encoding-name> -*- \n",
        "```"
      ]
    },
    {
      "cell_type": "markdown",
      "metadata": {
        "id": "lM9aNVE5c8Qe"
      },
      "source": [
        "### 주석(Comment)\n",
        "\n",
        "* 주석은 `#`으로 표현한다. \n",
        "\n",
        "\n",
        "* `docstring`은 `\"\"\"`으로 표현한다. \n",
        "    * 여러 줄의 주석을 작성할 수 있으며, 보통 함수/클래스 선언 다음에 해당하는 설명을 위해 활용한다.\n",
        "   \n",
        "   \n",
        "* 예시 : [flask 공식 문서](https://github.com/pallets/flask/blob/master/src/flask/app.py#L1281) 일부 발췌\n",
        "\n",
        "![flask 공식문서 예시](https://user-images.githubusercontent.com/18046097/61179848-f3845100-a645-11e9-99df-bbe9c2246d7d.png)"
      ]
    },
    {
      "cell_type": "code",
      "metadata": {
        "id": "hMk3rpKBc8Qf"
      },
      "source": [
        "# 주석을 연습해봅시다. "
      ],
      "execution_count": null,
      "outputs": []
    },
    {
      "cell_type": "code",
      "metadata": {
        "id": "Pc0ZMLkUc8Qf"
      },
      "source": [
        "def mysum(a,b):\n",
        "    '''이것은 덧셈 함수입니다.\n",
        "    이 줄도 실행되지 않아요\n",
        "    다만 docstring인 이유가 있습니다.\n",
        "    '''\n",
        "    print(a+b)"
      ],
      "execution_count": null,
      "outputs": []
    },
    {
      "cell_type": "code",
      "metadata": {
        "id": "L2Nb6SpLc8Qf"
      },
      "source": [
        "# docstring은 다음과 같이 확인할 수 있습니다."
      ],
      "execution_count": null,
      "outputs": []
    },
    {
      "cell_type": "code",
      "metadata": {
        "id": "zYkjHqiVc8Qg",
        "outputId": "44bf3bd5-d527-45b5-90d9-55f5675939c6"
      },
      "source": [
        "mysum.__doc__"
      ],
      "execution_count": null,
      "outputs": [
        {
          "output_type": "execute_result",
          "data": {
            "text/plain": [
              "'이것은 덧셈 함수입니다.\\n    이 줄도 실행되지 않아요\\n    다만 docstring인 이유가 있습니다.\\n    '"
            ]
          },
          "metadata": {
            "tags": []
          },
          "execution_count": 5
        }
      ]
    },
    {
      "cell_type": "code",
      "metadata": {
        "id": "KbAogq01c8Qg",
        "outputId": "069a744c-0377-4104-db3e-c92ea0f1840a"
      },
      "source": [
        "# 내장함수의 docstring도 확인해봅시다.\n",
        "sum.__doc__"
      ],
      "execution_count": null,
      "outputs": [
        {
          "output_type": "execute_result",
          "data": {
            "text/plain": [
              "\"Return the sum of a 'start' value (default: 0) plus an iterable of numbers\\n\\nWhen the iterable is empty, return the start value.\\nThis function is intended specifically for use with numeric values and may\\nreject non-numeric types.\""
            ]
          },
          "metadata": {
            "tags": []
          },
          "execution_count": 6
        }
      ]
    },
    {
      "cell_type": "markdown",
      "metadata": {
        "id": "Dikq3s0yc8Qh"
      },
      "source": [
        "### 코드 라인\n",
        "* 기본적으로 파이썬에서는 `;` 을 작성하지 않는다.\n",
        "\n",
        "* 한 줄로 표기할 떄는 `;`를 작성하여 표기할 수 있다. "
      ]
    },
    {
      "cell_type": "code",
      "metadata": {
        "id": "EYi973ohc8Qh"
      },
      "source": [
        "# print문을 두번 써보자."
      ],
      "execution_count": null,
      "outputs": []
    },
    {
      "cell_type": "code",
      "metadata": {
        "id": "9xV0Y3hgc8Qi",
        "outputId": "928c6362-eb08-4483-9fc0-bf7aa5a15d6b"
      },
      "source": [
        "print('hello')\n",
        "print('world')"
      ],
      "execution_count": null,
      "outputs": [
        {
          "output_type": "stream",
          "text": [
            "hello\n",
            "world\n"
          ],
          "name": "stdout"
        }
      ]
    },
    {
      "cell_type": "code",
      "metadata": {
        "id": "VDNI9PRqc8Qi"
      },
      "source": [
        "# print문을 한줄로 이어서 써봅시다. 오류 메시지를 확인해주세요."
      ],
      "execution_count": null,
      "outputs": []
    },
    {
      "cell_type": "code",
      "metadata": {
        "id": "0QpWZPq6c8Qi",
        "outputId": "6f9b8b79-f9db-46e1-e2d3-4d33f8c0a749"
      },
      "source": [
        "print('hello')print('world')"
      ],
      "execution_count": null,
      "outputs": [
        {
          "output_type": "error",
          "ename": "SyntaxError",
          "evalue": "invalid syntax (<ipython-input-8-71f683e5cf02>, line 1)",
          "traceback": [
            "\u001b[1;36m  File \u001b[1;32m\"<ipython-input-8-71f683e5cf02>\"\u001b[1;36m, line \u001b[1;32m1\u001b[0m\n\u001b[1;33m    print('hello')print('world')\u001b[0m\n\u001b[1;37m                      ^\u001b[0m\n\u001b[1;31mSyntaxError\u001b[0m\u001b[1;31m:\u001b[0m invalid syntax\n"
          ]
        }
      ]
    },
    {
      "cell_type": "code",
      "metadata": {
        "id": "SljlSkGTc8Qj"
      },
      "source": [
        "# ;을 통해 오류를 해결해봅시다."
      ],
      "execution_count": null,
      "outputs": []
    },
    {
      "cell_type": "code",
      "metadata": {
        "id": "a7MZlXIgc8Qj",
        "outputId": "6cb0cadf-b0f4-47e2-f6ef-a45bea183dfb"
      },
      "source": [
        "print('hello'); print('world')"
      ],
      "execution_count": null,
      "outputs": [
        {
          "output_type": "stream",
          "text": [
            "hello\n",
            "world\n"
          ],
          "name": "stdout"
        }
      ]
    },
    {
      "cell_type": "markdown",
      "metadata": {
        "id": "PcoacgCrc8Qk"
      },
      "source": [
        "* 줄을 여러줄 작성할 때는 역슬래시`\\`를 사용하여 아래와 같이 할 수 있다. "
      ]
    },
    {
      "cell_type": "code",
      "metadata": {
        "id": "xBVt6W5Zc8Qk"
      },
      "source": [
        "# print문을 통해 안되는 코드 예시 작성해봅시다."
      ],
      "execution_count": null,
      "outputs": []
    },
    {
      "cell_type": "code",
      "metadata": {
        "id": "JLbhyiLac8Qk"
      },
      "source": [
        ""
      ],
      "execution_count": null,
      "outputs": []
    },
    {
      "cell_type": "code",
      "metadata": {
        "id": "EtVTM8o4c8Ql"
      },
      "source": [
        "# print문을 통해 되는 코드 예시 작성해봅시다."
      ],
      "execution_count": null,
      "outputs": []
    },
    {
      "cell_type": "code",
      "metadata": {
        "id": "OwIB7vBfc8Ql"
      },
      "source": [
        "# 아래와 같은 동작이 가능 하지만 잘 쓰이지는 않습니다."
      ],
      "execution_count": null,
      "outputs": []
    },
    {
      "cell_type": "code",
      "metadata": {
        "id": "EYbL42Wfc8Ql"
      },
      "source": [
        "x='ssafy'"
      ],
      "execution_count": null,
      "outputs": []
    },
    {
      "cell_type": "markdown",
      "metadata": {
        "id": "eDBMs813c8Ql"
      },
      "source": [
        "* `[]` `{}` `()`는 `\\` 없이도 가능하다."
      ]
    },
    {
      "cell_type": "code",
      "metadata": {
        "id": "6o4op14nc8Qm"
      },
      "source": [
        "# list를 두 줄에 걸쳐서 만들어봅시다."
      ],
      "execution_count": null,
      "outputs": []
    },
    {
      "cell_type": "code",
      "metadata": {
        "id": "TA_Skh5-c8Qm"
      },
      "source": [
        ""
      ],
      "execution_count": null,
      "outputs": []
    },
    {
      "cell_type": "code",
      "metadata": {
        "id": "RUmLjr8ec8Qm"
      },
      "source": [
        "## pep8 가이드에 따르면 여러 줄의 생성자의 닫히는 괄호(소, 중, 대)는 \n",
        "## 마지막 줄의 공백이 아닌 첫번째 문자(요소) 위치에 오거나 마지막 줄에서 생성자가 시작되는 첫번째 열에 위치합니다."
      ],
      "execution_count": null,
      "outputs": []
    },
    {
      "cell_type": "markdown",
      "metadata": {
        "id": "kD8vvWr7c8Qm"
      },
      "source": [
        "# 변수(variable) 및 자료형\n",
        "\n",
        "\n",
        "<center><img src=\"https://user-images.githubusercontent.com/18046097/61179855-0c8d0200-a646-11e9-9e9e-2c6df0504296.png\", alt=\"variable\"/></center>"
      ]
    },
    {
      "cell_type": "markdown",
      "metadata": {
        "id": "NhaMvO94c8Qn"
      },
      "source": [
        "\n",
        "<center><img src=\"https://user-images.githubusercontent.com/18046097/61179857-13b41000-a646-11e9-9a88-8487df4eaf52.png\", alt=\"box\"/></center>"
      ]
    },
    {
      "cell_type": "markdown",
      "metadata": {
        "id": "MCCdmO2dc8Qn"
      },
      "source": [
        "* 변수는 `=`을 통해 할당(assignment) 된다. \n",
        "\n",
        "* 해당 자료형을 확인하기 위해서는 `type()`을 활용한다.\n",
        "\n",
        "* 해당 변수의 메모리 주소를 확인하기 위해서는 `id()`를 활용한다."
      ]
    },
    {
      "cell_type": "code",
      "metadata": {
        "id": "CZya-FT5c8Qo"
      },
      "source": [
        "# 변수에 값을 할당해봅시다."
      ],
      "execution_count": null,
      "outputs": []
    },
    {
      "cell_type": "code",
      "metadata": {
        "id": "s7tRuNWYc8Qo"
      },
      "source": [
        "x = 'ssafy'"
      ],
      "execution_count": null,
      "outputs": []
    },
    {
      "cell_type": "code",
      "metadata": {
        "id": "VbhY5qQXc8Qo"
      },
      "source": [
        "# type()을 사용해봅시다."
      ],
      "execution_count": null,
      "outputs": []
    },
    {
      "cell_type": "code",
      "metadata": {
        "id": "mz3su-ayc8Qo",
        "outputId": "9229c5dc-fd55-4c5a-a5d3-e9bbc612581c"
      },
      "source": [
        "type(x)"
      ],
      "execution_count": null,
      "outputs": [
        {
          "output_type": "execute_result",
          "data": {
            "text/plain": [
              "str"
            ]
          },
          "metadata": {
            "tags": []
          },
          "execution_count": 12
        }
      ]
    },
    {
      "cell_type": "code",
      "metadata": {
        "id": "V1LwilwPc8Qp"
      },
      "source": [
        "# id()를 사용해봅시다."
      ],
      "execution_count": null,
      "outputs": []
    },
    {
      "cell_type": "code",
      "metadata": {
        "id": "pRq1a6fwc8Qp",
        "outputId": "b52a3fbe-17c5-4d8b-8669-fa701c502361"
      },
      "source": [
        "id(x)"
      ],
      "execution_count": null,
      "outputs": [
        {
          "output_type": "execute_result",
          "data": {
            "text/plain": [
              "2872253197144"
            ]
          },
          "metadata": {
            "tags": []
          },
          "execution_count": 13
        }
      ]
    },
    {
      "cell_type": "markdown",
      "metadata": {
        "id": "77OEsoGUc8Qp"
      },
      "source": [
        "* 같은 값을 동시에 할당할 수 있다."
      ]
    },
    {
      "cell_type": "code",
      "metadata": {
        "id": "2JWluLtyc8Qq"
      },
      "source": [
        "# 같은 값을 동시에 할당해봅시다."
      ],
      "execution_count": null,
      "outputs": []
    },
    {
      "cell_type": "code",
      "metadata": {
        "id": "x7086-Ktc8Qq",
        "outputId": "972571da-524e-4ca1-d382-5f9334326748"
      },
      "source": [
        "x=y=200\n",
        "print(x,y)"
      ],
      "execution_count": null,
      "outputs": [
        {
          "output_type": "stream",
          "text": [
            "200 200\n"
          ],
          "name": "stdout"
        }
      ]
    },
    {
      "cell_type": "markdown",
      "metadata": {
        "id": "7jVr2zhcc8Qq"
      },
      "source": [
        "* 다른 값을 동시에 할당 가능하다."
      ]
    },
    {
      "cell_type": "code",
      "metadata": {
        "id": "-mx2cinAc8Qq"
      },
      "source": [
        "# 동시에 두개의 변수에 값 두개를 할당해봅시다."
      ],
      "execution_count": null,
      "outputs": []
    },
    {
      "cell_type": "code",
      "metadata": {
        "id": "9HqCZX7tc8Qr"
      },
      "source": [
        "x,y=1,2"
      ],
      "execution_count": null,
      "outputs": []
    },
    {
      "cell_type": "code",
      "metadata": {
        "id": "is8Ig4o-c8Qr"
      },
      "source": [
        "# 변수의 개수가 더 많을 때 오류를 알아봅시다."
      ],
      "execution_count": null,
      "outputs": []
    },
    {
      "cell_type": "code",
      "metadata": {
        "id": "x4HyBPBpc8Qr",
        "outputId": "b8fae535-fbb3-4733-fafc-fdfafb769de1"
      },
      "source": [
        "x,y=1"
      ],
      "execution_count": null,
      "outputs": [
        {
          "output_type": "error",
          "ename": "TypeError",
          "evalue": "cannot unpack non-iterable int object",
          "traceback": [
            "\u001b[1;31m---------------------------------------------------------------------------\u001b[0m",
            "\u001b[1;31mTypeError\u001b[0m                                 Traceback (most recent call last)",
            "\u001b[1;32m<ipython-input-16-7ddbfbcd5a1d>\u001b[0m in \u001b[0;36m<module>\u001b[1;34m\u001b[0m\n\u001b[1;32m----> 1\u001b[1;33m \u001b[0mx\u001b[0m\u001b[1;33m,\u001b[0m\u001b[0my\u001b[0m\u001b[1;33m=\u001b[0m\u001b[1;36m1\u001b[0m\u001b[1;33m\u001b[0m\u001b[1;33m\u001b[0m\u001b[0m\n\u001b[0m",
            "\u001b[1;31mTypeError\u001b[0m: cannot unpack non-iterable int object"
          ]
        }
      ]
    },
    {
      "cell_type": "code",
      "metadata": {
        "id": "2FYZu5q0c8Qs"
      },
      "source": [
        "# 변수의 개수가 더 적을 때 오류를 알아봅시다."
      ],
      "execution_count": null,
      "outputs": []
    },
    {
      "cell_type": "code",
      "metadata": {
        "id": "aRXp1ASHc8Qs",
        "outputId": "321fb99c-2ae2-49ab-c401-7e95f82a5be9"
      },
      "source": [
        "x,y=1,2,3"
      ],
      "execution_count": null,
      "outputs": [
        {
          "output_type": "error",
          "ename": "ValueError",
          "evalue": "too many values to unpack (expected 2)",
          "traceback": [
            "\u001b[1;31m---------------------------------------------------------------------------\u001b[0m",
            "\u001b[1;31mValueError\u001b[0m                                Traceback (most recent call last)",
            "\u001b[1;32m<ipython-input-17-ada2ec680d52>\u001b[0m in \u001b[0;36m<module>\u001b[1;34m\u001b[0m\n\u001b[1;32m----> 1\u001b[1;33m \u001b[0mx\u001b[0m\u001b[1;33m,\u001b[0m\u001b[0my\u001b[0m\u001b[1;33m=\u001b[0m\u001b[1;36m1\u001b[0m\u001b[1;33m,\u001b[0m\u001b[1;36m2\u001b[0m\u001b[1;33m,\u001b[0m\u001b[1;36m3\u001b[0m\u001b[1;33m\u001b[0m\u001b[1;33m\u001b[0m\u001b[0m\n\u001b[0m",
            "\u001b[1;31mValueError\u001b[0m: too many values to unpack (expected 2)"
          ]
        }
      ]
    },
    {
      "cell_type": "code",
      "metadata": {
        "id": "jA11e3b_c8Qs"
      },
      "source": [
        "# 변수 x와 y의 값을 바꿔봅시다."
      ],
      "execution_count": null,
      "outputs": []
    },
    {
      "cell_type": "code",
      "metadata": {
        "id": "egHQz-4Oc8Qt",
        "outputId": "131581ef-e8b3-4697-bab9-d1ec54d76beb"
      },
      "source": [
        "x,y = y,x\n",
        "print(x,y)"
      ],
      "execution_count": null,
      "outputs": [
        {
          "output_type": "stream",
          "text": [
            "2 1\n"
          ],
          "name": "stdout"
        }
      ]
    },
    {
      "cell_type": "markdown",
      "metadata": {
        "id": "ZOYo_4UKc8Qt"
      },
      "source": [
        "## 숫자 형(Numbers)\n",
        "[python doc 숫자 형](https://docs.python.org/ko/3.7/library/stdtypes.html#numeric-types-int-float-complex)\n",
        "\n",
        "###  `int` (정수, ingtegers)\n",
        "\n",
        "모든 정수는 `int`로 표현됩니다.\n",
        "\n",
        "파이썬 3.x 버전에서는 `long` 타입은 없고 모두 `int` 타입으로 표기 됩니다.\n",
        "\n",
        "* python 3.x에서 long은 없어졌다.\n",
        "* 보통 프로그래밍 언어 및 파이썬 2.x에서의 long은 OS 기준 32/64비트이다.\n",
        "* 파이썬 3.x에서는 모두 int로 통합되었다.\n",
        "\n",
        "8진수 : `0o` / 2진수 : `0b` / 16진수: `0x` 로도 표현 가능합니다. "
      ]
    },
    {
      "cell_type": "code",
      "metadata": {
        "id": "ELVBM582c8Qu"
      },
      "source": [
        "# 변수에 정수를 넣고 해당 변수의 type을 알아봅시다."
      ],
      "execution_count": null,
      "outputs": []
    },
    {
      "cell_type": "code",
      "metadata": {
        "id": "mawal42jc8Qu",
        "outputId": "6b2b0f54-1d70-4c3c-b681-87e2eab8a53b"
      },
      "source": [
        "a = 3\n",
        "type(a)"
      ],
      "execution_count": null,
      "outputs": [
        {
          "output_type": "execute_result",
          "data": {
            "text/plain": [
              "int"
            ]
          },
          "metadata": {
            "tags": []
          },
          "execution_count": 23
        }
      ]
    },
    {
      "cell_type": "code",
      "metadata": {
        "id": "v352I-K3c8Qu",
        "outputId": "2f09d1dd-fed1-4b9a-cb08-e9165f59cb3d"
      },
      "source": [
        "a=2**64\n",
        "print(a)\n",
        "type(a)"
      ],
      "execution_count": null,
      "outputs": [
        {
          "output_type": "stream",
          "text": [
            "18446744073709551616\n"
          ],
          "name": "stdout"
        },
        {
          "output_type": "execute_result",
          "data": {
            "text/plain": [
              "int"
            ]
          },
          "metadata": {
            "tags": []
          },
          "execution_count": 24
        }
      ]
    },
    {
      "cell_type": "markdown",
      "metadata": {
        "id": "HYtrj9i0c8Qv"
      },
      "source": [
        "**파이썬에서 표현할 수 있는 가장 큰 수**\n",
        "* 파이썬에서 가장 큰 숫자를 활용하기 위해 sys 모듈을 불러온다.\n",
        "* 파이썬은 기존 C 계열 프로그래밍 언어와 다르게 정수 자료형(integer)에서 오버플로우가 없다.\n",
        "* arbitrary-precision arithmetic를 사용하기 때문이다. \n",
        "\n",
        "> **오버플로우(overflow)**\n",
        "- 데이터 타입 별로 사용할 수 있는 메모리의 크기가 제한되어 있다.\n",
        "- 표현할 수 있는 수의 범위를 넘어가는 연산을 하게 되면, 기대했던 값이 출력되지 않는 현상, 즉 메모리가 차고 넘쳐 흐르는 현상\n",
        "\n",
        "> **arbitrary-precision arithmetic**\n",
        "- [파이썬에서 아주 큰 정술을 표현할 때 사용하는 메모리의 크기 변화](https://mortada.net/can-integer-operations-overflow-in-python.html)\n",
        "- 사용할 수 있는 메모리양이 정해져 있는 기존의 방식과 달리, 현재 남아있는 만큼의 가용 메모리를 모두 수 표현에 끌어다 쓸 수 있는 형태\n",
        "- 특정 값을 나타내는데 4바이트가 부족하다면 5바이트, 더 부족하면 6바이트까지 사용할 수 있게 유동적으로 운용\n"
      ]
    },
    {
      "cell_type": "code",
      "metadata": {
        "id": "OgggtZKoc8Qv",
        "outputId": "b3e0ea7d-af00-49da-929a-1518b2fb385e"
      },
      "source": [
        "import sys\n",
        "max_int = sys.maxsize\n",
        "#sys. maxsize 의 값은 2**63 -1 => 64비트에서 부호비트를 뺀 63개의 최대치\n",
        "print(max_int)\n",
        "super_max = sys.maxsize*sys.maxsize\n",
        "print(super_max)"
      ],
      "execution_count": null,
      "outputs": [
        {
          "output_type": "stream",
          "text": [
            "9223372036854775807\n",
            "85070591730234615847396907784232501249\n"
          ],
          "name": "stdout"
        }
      ]
    },
    {
      "cell_type": "code",
      "metadata": {
        "id": "dfAr_G4vc8Qv"
      },
      "source": [
        "# n진수를 만들어보고, 출력해봅시다."
      ],
      "execution_count": null,
      "outputs": []
    },
    {
      "cell_type": "code",
      "metadata": {
        "id": "Dv2l5MN5c8Qw",
        "outputId": "d614ace6-2f92-40ff-924d-fd85bf09a5b2"
      },
      "source": [
        "binary_number = 0b10\n",
        "octal_number = 0o10\n",
        "decimal_number = 10\n",
        "hexadecimal_number = 0x10\n",
        "print(f'''\n",
        "2진수: {binary_number}\n",
        "8진수: {octal_number}\n",
        "10진수: {decimal_number}\n",
        "16진수: {hexadecimal_number}\n",
        "''')"
      ],
      "execution_count": null,
      "outputs": [
        {
          "output_type": "stream",
          "text": [
            "\n",
            "2진수: 2\n",
            "8진수: 8\n",
            "10진수: 10\n",
            "16진수: 16\n",
            "\n"
          ],
          "name": "stdout"
        }
      ]
    },
    {
      "cell_type": "code",
      "metadata": {
        "id": "ZTMB1nJYc8Qw"
      },
      "source": [
        ""
      ],
      "execution_count": null,
      "outputs": []
    },
    {
      "cell_type": "markdown",
      "metadata": {
        "id": "4ZFXOnsQc8Qw"
      },
      "source": [
        "### `float`(부동소수점, 실수, floating point numbers)\n",
        "\n",
        "실수는 `float`로 표현됩니다. \n",
        "\n",
        "다만, 실수를 컴퓨터가 표현하는 과정에서 부동소수점을 사용하며, 항상 같은 값으로 일치되지 않습니다. (floating point rounding error)\n",
        "\n",
        "이는 컴퓨터가 2진수(비트)를 통해 숫자를 표현하는 과정에서 생기는 오류이며, 대부분의 경우는 중요하지 않으나 값을 같은지 비교하는 과정에서 문제가 발생할 수 있습니다."
      ]
    },
    {
      "cell_type": "code",
      "metadata": {
        "id": "AGcQb61Ic8Qx"
      },
      "source": [
        "# 변수에 실수를 넣고 해당 변수의 type을 알아봅시다."
      ],
      "execution_count": null,
      "outputs": []
    },
    {
      "cell_type": "code",
      "metadata": {
        "id": "24h8jbEHc8Qx",
        "outputId": "59436ff3-661b-42bf-881b-dc3813d17d67"
      },
      "source": [
        "a=3.5\n",
        "type(a)"
      ],
      "execution_count": null,
      "outputs": [
        {
          "output_type": "execute_result",
          "data": {
            "text/plain": [
              "float"
            ]
          },
          "metadata": {
            "tags": []
          },
          "execution_count": 29
        }
      ]
    },
    {
      "cell_type": "markdown",
      "metadata": {
        "id": "yDNiun29c8Qx"
      },
      "source": [
        "**컴퓨터식 지수 표현 방식**\n",
        "* e를 사용할 수도 있다. (e와 E 둘 중 어느 것을 사용해도 무방)"
      ]
    },
    {
      "cell_type": "code",
      "metadata": {
        "id": "SGNGT4QCc8Qy",
        "outputId": "ed75cf0b-12d0-47e9-b005-200d8b34bc93"
      },
      "source": [
        "b=314e-2\n",
        "type(b)"
      ],
      "execution_count": null,
      "outputs": [
        {
          "output_type": "execute_result",
          "data": {
            "text/plain": [
              "float"
            ]
          },
          "metadata": {
            "tags": []
          },
          "execution_count": 31
        }
      ]
    },
    {
      "cell_type": "markdown",
      "metadata": {
        "id": "3yIo_Fz_c8Qy"
      },
      "source": [
        "**실수의 연산**\n",
        "* 실수의 경우 실제로 값을 처리하기 위해서는 조심할 필요가 있다."
      ]
    },
    {
      "cell_type": "code",
      "metadata": {
        "id": "r47LqZMdc8Qy"
      },
      "source": [
        "# 실수의 덧셈을 해봅시다."
      ],
      "execution_count": null,
      "outputs": []
    },
    {
      "cell_type": "code",
      "metadata": {
        "id": "o7gMWX1rc8Qz",
        "outputId": "f773f08b-2d77-47dd-fbe0-39a1050b5307"
      },
      "source": [
        "3.5+3.5"
      ],
      "execution_count": null,
      "outputs": [
        {
          "output_type": "execute_result",
          "data": {
            "text/plain": [
              "7.0"
            ]
          },
          "metadata": {
            "tags": []
          },
          "execution_count": 32
        }
      ]
    },
    {
      "cell_type": "code",
      "metadata": {
        "id": "gGj16Jpqc8Qz"
      },
      "source": [
        "# 실수의 뺄셈을 해봅시다."
      ],
      "execution_count": null,
      "outputs": []
    },
    {
      "cell_type": "code",
      "metadata": {
        "id": "2-GKyb-gc8Q0",
        "outputId": "bbd47bc8-4905-4907-9548-e8d4f262dfcb"
      },
      "source": [
        "round(3.5-3.1,1)"
      ],
      "execution_count": null,
      "outputs": [
        {
          "output_type": "execute_result",
          "data": {
            "text/plain": [
              "0.4"
            ]
          },
          "metadata": {
            "tags": []
          },
          "execution_count": 37
        }
      ]
    },
    {
      "cell_type": "code",
      "metadata": {
        "id": "rZhUbyV3c8Q0"
      },
      "source": [
        "# 우리가 원하는대로 반올림을 해봅시다.\n",
        "# round() 는 0~4는 내림, 5는 동일하게 작동하지 않고 반올림 방식에 따라 다릅니다.\n",
        "# 짝수에서 5는 내림 / 홀수에서 5는 올림"
      ],
      "execution_count": null,
      "outputs": []
    },
    {
      "cell_type": "code",
      "metadata": {
        "id": "5zLcqM4Cc8Q0",
        "outputId": "be3e5bdf-6444-4790-bafc-0f4ca6c4f102"
      },
      "source": [
        "round(3.5-3.12, 2)"
      ],
      "execution_count": null,
      "outputs": [
        {
          "output_type": "execute_result",
          "data": {
            "text/plain": [
              "0.38"
            ]
          },
          "metadata": {
            "tags": []
          },
          "execution_count": 36
        }
      ]
    },
    {
      "cell_type": "code",
      "metadata": {
        "id": "ayCiCrCdc8Q1"
      },
      "source": [
        "# 두 개의 값이 같은지 확인해봅시다."
      ],
      "execution_count": null,
      "outputs": []
    },
    {
      "cell_type": "code",
      "metadata": {
        "id": "rsS2YCi4c8Q1",
        "outputId": "f7d03651-d863-4004-8e89-ce931ea546aa"
      },
      "source": [
        "3.5-3.12 ==0.38"
      ],
      "execution_count": null,
      "outputs": [
        {
          "output_type": "execute_result",
          "data": {
            "text/plain": [
              "False"
            ]
          },
          "metadata": {
            "tags": []
          },
          "execution_count": 38
        }
      ]
    },
    {
      "cell_type": "code",
      "metadata": {
        "id": "FPuBcSi6c8Q1",
        "outputId": "f65515e6-bb9e-49b8-ee21-ac11b86e4a6c"
      },
      "source": [
        "round(3.5-3.12,2)==0.38"
      ],
      "execution_count": null,
      "outputs": [
        {
          "output_type": "execute_result",
          "data": {
            "text/plain": [
              "True"
            ]
          },
          "metadata": {
            "tags": []
          },
          "execution_count": 39
        }
      ]
    },
    {
      "cell_type": "markdown",
      "metadata": {
        "id": "EnNBwjlhc8Q2"
      },
      "source": [
        "* 따라서 다음과 같은 방법으로 처리 할 수 있다. (이외에 다양한 방법이 있음)"
      ]
    },
    {
      "cell_type": "code",
      "metadata": {
        "id": "4iCryaS5c8Q2"
      },
      "source": [
        "# 1. 기본적인 처리방법을 알아봅시다."
      ],
      "execution_count": null,
      "outputs": []
    },
    {
      "cell_type": "code",
      "metadata": {
        "id": "Q5n6n3lVc8Q2",
        "outputId": "49a8a26d-a911-4e40-ce76-fb27598dca5c"
      },
      "source": [
        "a=3.5-3.12\n",
        "b=0.38\n",
        "\n",
        "abs(a-b) <= 1e-10"
      ],
      "execution_count": null,
      "outputs": [
        {
          "output_type": "execute_result",
          "data": {
            "text/plain": [
              "True"
            ]
          },
          "metadata": {
            "tags": []
          },
          "execution_count": 40
        }
      ]
    },
    {
      "cell_type": "code",
      "metadata": {
        "id": "qveBetvlc8Q2"
      },
      "source": [
        "# 2. sys 모듈을 통해 처리하는 방법을 알아봅시다.\n",
        "# `epsilon` 은 부동소수점 연산에서 반올림을 함으로써 발생하는 오차 상환"
      ],
      "execution_count": null,
      "outputs": []
    },
    {
      "cell_type": "code",
      "metadata": {
        "id": "K7aPbN4hc8Q3",
        "outputId": "bac154a8-5c0a-498a-9802-fdc227d9f36e"
      },
      "source": [
        "import sys\n",
        "abs(a-b) <= sys.float_info.epsilon"
      ],
      "execution_count": null,
      "outputs": [
        {
          "output_type": "execute_result",
          "data": {
            "text/plain": [
              "True"
            ]
          },
          "metadata": {
            "tags": []
          },
          "execution_count": 41
        }
      ]
    },
    {
      "cell_type": "code",
      "metadata": {
        "id": "CoP05aoGc8Q3"
      },
      "source": [
        "# 3. python 3.5부터 활용 가능한 math 모듈을 통해 처리하는 법을 알아봅시다."
      ],
      "execution_count": null,
      "outputs": []
    },
    {
      "cell_type": "code",
      "metadata": {
        "id": "Id5ZmQLTc8Q3",
        "outputId": "ae56e6bf-1192-439f-b3d4-56f6379b8dd0"
      },
      "source": [
        "import math\n",
        "math.isclose(a,b)"
      ],
      "execution_count": null,
      "outputs": [
        {
          "output_type": "execute_result",
          "data": {
            "text/plain": [
              "True"
            ]
          },
          "metadata": {
            "tags": []
          },
          "execution_count": 42
        }
      ]
    },
    {
      "cell_type": "markdown",
      "metadata": {
        "id": "HoWHYde_c8Q4"
      },
      "source": [
        "### `complex` (복소수, complex numbers)\n",
        "\n",
        "각각 실수로 표현되는 실수부와 허수부를 가집니다.\n",
        "\n",
        "복소수 z에서 이들 부분을 추출하려면 `z.real`과 `z.imag`를 사용합니다.\n",
        "\n",
        "복소수는 허수부를 `j`로 표현합니다."
      ]
    },
    {
      "cell_type": "code",
      "metadata": {
        "id": "OLf0LfZcc8Q4"
      },
      "source": [
        "# 변수에 복소수를 넣고 해당 변수의 type을 알아봅시다."
      ],
      "execution_count": null,
      "outputs": []
    },
    {
      "cell_type": "code",
      "metadata": {
        "id": "qPefJBLhc8Q4",
        "outputId": "8323a0fb-24bf-4a45-e752-a0a8239cf176"
      },
      "source": [
        "a=3-4j\n",
        "type(a)"
      ],
      "execution_count": null,
      "outputs": [
        {
          "output_type": "execute_result",
          "data": {
            "text/plain": [
              "complex"
            ]
          },
          "metadata": {
            "tags": []
          },
          "execution_count": 45
        }
      ]
    },
    {
      "cell_type": "code",
      "metadata": {
        "id": "lyvvFH4Jc8Q5"
      },
      "source": [
        "# 복소수와 관련된 메소드들을 확인해봅시다."
      ],
      "execution_count": null,
      "outputs": []
    },
    {
      "cell_type": "code",
      "metadata": {
        "id": "7IMSaW4jc8Q5",
        "outputId": "d416bcc3-2a66-4c0a-bb97-5c799da6ddb3"
      },
      "source": [
        "print(a.real)\n",
        "print(b.imag)\n",
        "print(a.conjugate())"
      ],
      "execution_count": null,
      "outputs": [
        {
          "output_type": "stream",
          "text": [
            "3.0\n",
            "0.0\n",
            "(3+4j)\n"
          ],
          "name": "stdout"
        }
      ]
    },
    {
      "cell_type": "code",
      "metadata": {
        "id": "1cCLvGncc8Q6",
        "outputId": "44ee14e8-b816-4416-b6b3-83edca7b5bbb"
      },
      "source": [
        "# 문자열을 복소수로 변환해봅시다.\n",
        "complex('1+2j')"
      ],
      "execution_count": null,
      "outputs": [
        {
          "output_type": "execute_result",
          "data": {
            "text/plain": [
              "(1+2j)"
            ]
          },
          "metadata": {
            "tags": []
          },
          "execution_count": 48
        }
      ]
    },
    {
      "cell_type": "code",
      "metadata": {
        "id": "s8RzxEfMc8Q6",
        "outputId": "f5cb64e8-c60e-4978-ab16-b2793228e63b"
      },
      "source": [
        "# 문자열을 변환할 때, 문자열은 중앙의 + 또는 - 연산자 주위에 공백을 포함해서는 안 됩니다.\n",
        "complex('1+2j')"
      ],
      "execution_count": null,
      "outputs": [
        {
          "output_type": "execute_result",
          "data": {
            "text/plain": [
              "(1+2j)"
            ]
          },
          "metadata": {
            "tags": []
          },
          "execution_count": 49
        }
      ]
    },
    {
      "cell_type": "markdown",
      "metadata": {
        "id": "iDSfeghXc8Q6"
      },
      "source": [
        "## bool\n",
        "\n",
        "파이썬에는 `True`와 `False`로 이뤄진 `bool` 타입이 있습니다.\n",
        "\n",
        "비교/논리 연산을 수행 등에서 활용됩니다.\n",
        "\n",
        "다음은 `False`로 변환됩니다.\n",
        "```\n",
        "0, 0.0, (), [], {}, '', None\n",
        "```"
      ]
    },
    {
      "cell_type": "code",
      "metadata": {
        "id": "qpSujm0gc8Q7"
      },
      "source": [
        "# True와 False의 타입들을 알아봅시다."
      ],
      "execution_count": null,
      "outputs": []
    },
    {
      "cell_type": "code",
      "metadata": {
        "id": "2c6svJVYc8Q7",
        "outputId": "43b3a5ea-e445-4c9d-d134-65ceaf633754"
      },
      "source": [
        "print(type(True))\n",
        "print(type(False))"
      ],
      "execution_count": null,
      "outputs": [
        {
          "output_type": "stream",
          "text": [
            "<class 'bool'>\n",
            "<class 'bool'>\n"
          ],
          "name": "stdout"
        }
      ]
    },
    {
      "cell_type": "code",
      "metadata": {
        "id": "5ehvPLnOc8Q7"
      },
      "source": [
        "# 다양한 True, False 상황들을 확인해봅시다.\n",
        "# 형변환(Type Conversion)에서 추가적으로 다루는 내용입니다."
      ],
      "execution_count": null,
      "outputs": []
    },
    {
      "cell_type": "code",
      "metadata": {
        "id": "OkTtyaVRc8Q8",
        "outputId": "9adbbd7e-2ca9-4ca2-e4d4-3d6f60f02792"
      },
      "source": [
        "bool(0)"
      ],
      "execution_count": null,
      "outputs": [
        {
          "output_type": "execute_result",
          "data": {
            "text/plain": [
              "False"
            ]
          },
          "metadata": {
            "tags": []
          },
          "execution_count": 51
        }
      ]
    },
    {
      "cell_type": "code",
      "metadata": {
        "id": "deuBlMhQc8Q8",
        "outputId": "92cdb42e-748f-4be8-99f7-e55e6e68c329"
      },
      "source": [
        "bool(1)"
      ],
      "execution_count": null,
      "outputs": [
        {
          "output_type": "execute_result",
          "data": {
            "text/plain": [
              "True"
            ]
          },
          "metadata": {
            "tags": []
          },
          "execution_count": 52
        }
      ]
    },
    {
      "cell_type": "code",
      "metadata": {
        "id": "S_Do_IWuc8Q8",
        "outputId": "fda91511-294a-4362-8f02-80e016eb360a"
      },
      "source": [
        "bool(None)"
      ],
      "execution_count": null,
      "outputs": [
        {
          "output_type": "execute_result",
          "data": {
            "text/plain": [
              "False"
            ]
          },
          "metadata": {
            "tags": []
          },
          "execution_count": 53
        }
      ]
    },
    {
      "cell_type": "code",
      "metadata": {
        "id": "lFvB7nTVc8Q9",
        "outputId": "15e30456-c458-43ef-f6dc-2d39ceb1fcfd"
      },
      "source": [
        "bool([])"
      ],
      "execution_count": null,
      "outputs": [
        {
          "output_type": "execute_result",
          "data": {
            "text/plain": [
              "False"
            ]
          },
          "metadata": {
            "tags": []
          },
          "execution_count": 54
        }
      ]
    },
    {
      "cell_type": "code",
      "metadata": {
        "id": "cB0kAq4uc8Q9",
        "outputId": "b4910acd-72e2-4401-dc5b-74dc4fefdc04"
      },
      "source": [
        "bool('')"
      ],
      "execution_count": null,
      "outputs": [
        {
          "output_type": "execute_result",
          "data": {
            "text/plain": [
              "False"
            ]
          },
          "metadata": {
            "tags": []
          },
          "execution_count": 55
        }
      ]
    },
    {
      "cell_type": "code",
      "metadata": {
        "id": "mGltoQrDc8Q9",
        "outputId": "652c453a-c177-4149-9d0b-47760ef9e70b"
      },
      "source": [
        "bool(['hi']) #값이 뭐라도 있으면 기본적으로True  라고 인식함"
      ],
      "execution_count": null,
      "outputs": [
        {
          "output_type": "execute_result",
          "data": {
            "text/plain": [
              "True"
            ]
          },
          "metadata": {
            "tags": []
          },
          "execution_count": 56
        }
      ]
    },
    {
      "cell_type": "code",
      "metadata": {
        "id": "fNNtIrb0c8Q-"
      },
      "source": [
        ""
      ],
      "execution_count": null,
      "outputs": []
    },
    {
      "cell_type": "markdown",
      "metadata": {
        "id": "OX3MZXOUc8Q-"
      },
      "source": [
        "## None\n",
        "\n",
        "파이썬에서는 값이 없음을 표현하기 위해 `None` 타입이 존재합니다."
      ]
    },
    {
      "cell_type": "code",
      "metadata": {
        "id": "H5KXoHQpc8Q_"
      },
      "source": [
        "# None의 타입을 알아봅시다."
      ],
      "execution_count": null,
      "outputs": []
    },
    {
      "cell_type": "code",
      "metadata": {
        "id": "E2r_lae0c8RA"
      },
      "source": [
        ""
      ],
      "execution_count": null,
      "outputs": []
    },
    {
      "cell_type": "code",
      "metadata": {
        "id": "dgpLaMS7c8RA"
      },
      "source": [
        "# 변수에 저장해서 확인해봅시다."
      ],
      "execution_count": null,
      "outputs": []
    },
    {
      "cell_type": "code",
      "metadata": {
        "id": "TNtysKUDc8RA"
      },
      "source": [
        ""
      ],
      "execution_count": null,
      "outputs": []
    },
    {
      "cell_type": "markdown",
      "metadata": {
        "id": "okRvD-QCc8RB"
      },
      "source": [
        "## 문자형(String)\n",
        "\n",
        "### 기본 활용법\n",
        "\n",
        "* 문자열은 Single quotes(`'`)나 Double quotes(`\"`)을 활용하여 표현 가능하다.\n",
        "\n",
        "    - 작은따옴표: `'\"큰\" 따옴표를 담을 수 있습니다'`\n",
        "\n",
        "    - 큰따옴표: `\"'작은' 따옴표를 담을 수 있습니다\"`\n",
        "\n",
        "    - 삼중 따옴표: `'''세 개의 작은따옴표'''`, `\"\"\"세 개의 큰따옴표\"\"\"`\n",
        "\n",
        "\n",
        "* 단, 문자열을 묶을 때 동일한 문장부호를 활용해야하며, `PEP-8`에서는 **하나의 문장부호를 선택**하여 유지하도록 하고 있다. \n",
        "(Pick a rule and Stick to it)"
      ]
    },
    {
      "cell_type": "code",
      "metadata": {
        "id": "yqq2GSzsc8RB"
      },
      "source": [
        "# 변수에 문자열을 넣고 출력해봅시다."
      ],
      "execution_count": null,
      "outputs": []
    },
    {
      "cell_type": "code",
      "metadata": {
        "id": "XfCJ6f9Ec8RB",
        "outputId": "df34d635-e792-485e-9225-b611bd27c52a"
      },
      "source": [
        "greeting = 'Hi'\n",
        "name = 'ssafy'\n",
        "print(greeting, name)\n",
        "print(type(name))"
      ],
      "execution_count": null,
      "outputs": [
        {
          "output_type": "stream",
          "text": [
            "Hi ssafy\n",
            "<class 'str'>\n"
          ],
          "name": "stdout"
        }
      ]
    },
    {
      "cell_type": "code",
      "metadata": {
        "id": "EpAPsINWc8RC"
      },
      "source": [
        "# 사용자에게 받은 입력은 기본적으로 str입니다."
      ],
      "execution_count": null,
      "outputs": []
    },
    {
      "cell_type": "code",
      "metadata": {
        "id": "4fxlRF52c8RC",
        "outputId": "1e15e23b-edad-4227-8cbe-c36e8bc1dba3"
      },
      "source": [
        "age = input()\n",
        "print(age)\n",
        "print(type(age))"
      ],
      "execution_count": null,
      "outputs": [
        {
          "output_type": "stream",
          "text": [
            "20\n",
            "20\n",
            "<class 'str'>\n"
          ],
          "name": "stdout"
        }
      ]
    },
    {
      "cell_type": "markdown",
      "metadata": {
        "id": "S4oxkjtWc8RC"
      },
      "source": [
        "**따옴표 사용**\n",
        "\n",
        "문자열 안에 문장부호(`'`, `\"`)가 사용될 경우 이스케이프 문자(`\\`)를 활용 가능 합니다. "
      ]
    },
    {
      "cell_type": "code",
      "metadata": {
        "id": "kIf9OmL-c8RD"
      },
      "source": [
        "# 문자열 안에 문장부호를 활용해서 오류를 확인해봅시다."
      ],
      "execution_count": null,
      "outputs": []
    },
    {
      "cell_type": "code",
      "metadata": {
        "id": "PKCyZgmxc8RD"
      },
      "source": [
        "print('철수가 말했다.'안녕?\"\")"
      ],
      "execution_count": null,
      "outputs": []
    },
    {
      "cell_type": "code",
      "metadata": {
        "id": "ktGd4-Tpc8RE"
      },
      "source": [
        "# 오류를 이스케이프 문자와 서로 다른 문장부호를 통해 해결해봅시다."
      ],
      "execution_count": null,
      "outputs": []
    },
    {
      "cell_type": "code",
      "metadata": {
        "id": "Lu7JLUpac8RE",
        "outputId": "3d7a1a6a-42d4-4f96-fda4-a433fa7e863c"
      },
      "source": [
        "print('철수가 말했다. \"안녕?\"')\n",
        "print('철수가 말했다. \\'안녕?\\'')"
      ],
      "execution_count": null,
      "outputs": [
        {
          "output_type": "stream",
          "text": [
            "철수가 말했다. \"안녕?\"\n",
            "철수가 말했다. '안녕?'\n"
          ],
          "name": "stdout"
        }
      ]
    },
    {
      "cell_type": "markdown",
      "metadata": {
        "id": "UDy_rsixc8RF"
      },
      "source": [
        "여러줄에 걸쳐있는 문장은 다음과 같이 표현 가능합니다.\n",
        "\n",
        "* `PEP-8`에 따르면 이 경우에는 반드시 `\"\"\"`를 사용하도록 되어 있다."
      ]
    },
    {
      "cell_type": "code",
      "metadata": {
        "id": "t5kNpjzwc8RF"
      },
      "source": [
        "# 여러줄을 출력해봅시다."
      ],
      "execution_count": null,
      "outputs": []
    },
    {
      "cell_type": "code",
      "metadata": {
        "id": "Q04_VQAXc8RF",
        "outputId": "897e7ef2-c170-4624-9518-957f55ebf8ce"
      },
      "source": [
        "print('''\n",
        "개행문자 없이\n",
        "여러줄을 그대로 출력가능합니다.\n",
        "''')"
      ],
      "execution_count": null,
      "outputs": [
        {
          "output_type": "stream",
          "text": [
            "\n",
            "개행문자 없이\n",
            "여러줄을 그대로 출력가능합니다.\n",
            "\n"
          ],
          "name": "stdout"
        }
      ]
    },
    {
      "cell_type": "code",
      "metadata": {
        "id": "CZdrARVGc8RG"
      },
      "source": [
        "# 문자열은 + 연산자로 이어붙이고, * 연산자로 반복시킬 수 있습니다."
      ],
      "execution_count": null,
      "outputs": []
    },
    {
      "cell_type": "code",
      "metadata": {
        "id": "9TrEfWDlc8RG",
        "outputId": "a00f9765-0b1c-4a8a-aeac-9d93ec742345"
      },
      "source": [
        "3*'hey'+'yo!'"
      ],
      "execution_count": null,
      "outputs": [
        {
          "output_type": "execute_result",
          "data": {
            "text/plain": [
              "'heyheyheyyo!'"
            ]
          },
          "metadata": {
            "tags": []
          },
          "execution_count": 64
        }
      ]
    },
    {
      "cell_type": "code",
      "metadata": {
        "id": "Xq3l0TfMc8RG",
        "outputId": "b0b65953-1769-4856-e66c-3404a5a26565"
      },
      "source": [
        "prefix = 'py'\n",
        "prefix + 'thon'"
      ],
      "execution_count": null,
      "outputs": [
        {
          "output_type": "execute_result",
          "data": {
            "text/plain": [
              "'python'"
            ]
          },
          "metadata": {
            "tags": []
          },
          "execution_count": 65
        }
      ]
    },
    {
      "cell_type": "code",
      "metadata": {
        "id": "jNAPQ2Pdc8RH"
      },
      "source": [
        "# 두 개 이상의 문자열이 연속해서 나타나면 자동으로 이어 붙여집니다."
      ],
      "execution_count": null,
      "outputs": []
    },
    {
      "cell_type": "code",
      "metadata": {
        "id": "VBTaMUkqc8RH"
      },
      "source": [
        ""
      ],
      "execution_count": null,
      "outputs": []
    },
    {
      "cell_type": "markdown",
      "metadata": {
        "id": "Tn1Wg4XCc8RH"
      },
      "source": [
        "### 이스케이프 시퀀스\n",
        "\n",
        "문자열을 활용하는 경우 특수문자 혹은 조작을 하기 위하여 사용되는 것으로 `\\`를 활용하여 이를 구분합니다. \n",
        "\n",
        "|<center>예약문자</center>|내용(의미)|\n",
        "|:--------:|:--------:|\n",
        "|\\n|줄 바꿈|\n",
        "|\\t|탭|\n",
        "|\\r|캐리지리턴|\n",
        "|\\0|널(Null)|\n",
        "|\\\\\\\\|`\\`|\n",
        "|\\\\'|단일인용부호(`'`)|\n",
        "|\\\\\"|이중인용부호(`\"`)|"
      ]
    },
    {
      "cell_type": "code",
      "metadata": {
        "id": "ooYiLjWfc8RI"
      },
      "source": [
        "# 이스케이프 문자열을 조합하여 프린트해봅시다."
      ],
      "execution_count": null,
      "outputs": []
    },
    {
      "cell_type": "code",
      "metadata": {
        "id": "qDNeC4R8c8RI",
        "outputId": "ae47b437-ef2e-427d-840f-77b1c4197ef7"
      },
      "source": [
        "print ('이 다음은 엔터.\\n그리고 탭\\t탭')"
      ],
      "execution_count": null,
      "outputs": [
        {
          "output_type": "stream",
          "text": [
            "이 다음은 엔터.\n",
            "그리고 탭\t탭\n"
          ],
          "name": "stdout"
        }
      ]
    },
    {
      "cell_type": "code",
      "metadata": {
        "id": "MHdq9j7Bc8RI"
      },
      "source": [
        "# print를 하는 과정에서도 이스케이프 문자열을 활용 가능합니다."
      ],
      "execution_count": null,
      "outputs": []
    },
    {
      "cell_type": "code",
      "metadata": {
        "id": "WJFullKOc8RI",
        "outputId": "388e11aa-dc28-4297-a5e8-15eb0e1bd0ee"
      },
      "source": [
        "print('내용을 띄워서 출력하고 싶으면?', end='\\t')\n",
        "print('옆으로 띄워짐')"
      ],
      "execution_count": null,
      "outputs": [
        {
          "output_type": "stream",
          "text": [
            "내용을 띄워서 출력하고 싶으면?\t옆으로 띄워짐\n"
          ],
          "name": "stdout"
        }
      ]
    },
    {
      "cell_type": "code",
      "metadata": {
        "id": "TnznBLTvc8RJ"
      },
      "source": [
        "# 물론, end 옵션은 이스케이프 문자열이 아닌 다른 것도 가능합니다."
      ],
      "execution_count": null,
      "outputs": []
    },
    {
      "cell_type": "code",
      "metadata": {
        "id": "grHiSP4Dc8RJ",
        "outputId": "b6e3953c-ebbd-4b69-ddcb-6046fac17700"
      },
      "source": [
        "print('개행문자 말고도 가능합니다.', end='!')\n",
        "print('진짜로', end='!')\n",
        "print('알고보면 print는 기본이 \\\\n', end='!')"
      ],
      "execution_count": null,
      "outputs": [
        {
          "output_type": "stream",
          "text": [
            "개행문자 말고도 가능합니다.!진짜로!알고보면 print는 기본이 \\n!"
          ],
          "name": "stdout"
        }
      ]
    },
    {
      "cell_type": "markdown",
      "metadata": {
        "id": "23z7nsebc8RK"
      },
      "source": [
        "### String interpolation \n",
        "\n",
        "* `%-formatting` \n",
        "\n",
        "* [`str.format()` ](https://pyformat.info/)\n",
        "\n",
        "* [`f-strings`](https://www.python.org/dev/peps/pep-0498/) : 파이썬 3.6 이후 버전에서 지원"
      ]
    },
    {
      "cell_type": "code",
      "metadata": {
        "id": "rFe1cMRsc8RK"
      },
      "source": [
        "# name 변수에 이름을 입력해봅시다."
      ],
      "execution_count": null,
      "outputs": []
    },
    {
      "cell_type": "code",
      "metadata": {
        "id": "edWaxwcdc8RK"
      },
      "source": [
        "name = '표하민'"
      ],
      "execution_count": null,
      "outputs": []
    },
    {
      "cell_type": "code",
      "metadata": {
        "id": "GYqGOl23c8RK"
      },
      "source": [
        "# %-formatting을 활용해봅시다."
      ],
      "execution_count": null,
      "outputs": []
    },
    {
      "cell_type": "code",
      "metadata": {
        "id": "OaxLl3APc8RL",
        "outputId": "33b63d98-7564-47de-aefe-0a0ae5087f62"
      },
      "source": [
        "print('Hello, %s' %name)"
      ],
      "execution_count": null,
      "outputs": [
        {
          "output_type": "stream",
          "text": [
            "Hello, 표하민\n"
          ],
          "name": "stdout"
        }
      ]
    },
    {
      "cell_type": "code",
      "metadata": {
        "id": "Oiiup8Btc8RL"
      },
      "source": [
        "# str.format()을 활용해봅시다."
      ],
      "execution_count": null,
      "outputs": []
    },
    {
      "cell_type": "code",
      "metadata": {
        "id": "TrioLhglc8RL",
        "outputId": "617fdb89-9459-4286-f40e-46df4ba222ae"
      },
      "source": [
        "print('Hello, {}'.format(name))"
      ],
      "execution_count": null,
      "outputs": [
        {
          "output_type": "stream",
          "text": [
            "Hello, 표하민\n"
          ],
          "name": "stdout"
        }
      ]
    },
    {
      "cell_type": "code",
      "metadata": {
        "id": "cIA5u0Vgc8RM"
      },
      "source": [
        "# f-string을 활용해봅시다."
      ],
      "execution_count": null,
      "outputs": []
    },
    {
      "cell_type": "code",
      "metadata": {
        "id": "UT5wKvVCc8RM",
        "outputId": "8955c856-0b78-4c7a-c50e-b6d22c96bb86"
      },
      "source": [
        "print(f'Hello, {name}')"
      ],
      "execution_count": null,
      "outputs": [
        {
          "output_type": "stream",
          "text": [
            "Hello, 표하민\n"
          ],
          "name": "stdout"
        }
      ]
    },
    {
      "cell_type": "code",
      "metadata": {
        "id": "G8u1WQqkc8RM",
        "outputId": "0860c5dd-76d7-4c57-eacf-0b5494d2ef39"
      },
      "source": [
        "print(f'''\n",
        "Hello,\n",
        "{name}\n",
        "''')"
      ],
      "execution_count": null,
      "outputs": [
        {
          "output_type": "stream",
          "text": [
            "\n",
            "Hello,\n",
            "표하민\n",
            "\n"
          ],
          "name": "stdout"
        }
      ]
    },
    {
      "cell_type": "markdown",
      "metadata": {
        "id": "M4l4HF_Wc8RM"
      },
      "source": [
        "* f-strings에서는 형식을 지정할 수 있다."
      ]
    },
    {
      "cell_type": "code",
      "metadata": {
        "id": "PV3ZhY1Rc8RN"
      },
      "source": [
        "# 다양한 형식을 활용하기 위해 datetime 모듈로 오늘을 표현해봅시다."
      ],
      "execution_count": null,
      "outputs": []
    },
    {
      "cell_type": "code",
      "metadata": {
        "scrolled": true,
        "id": "0-YEAG-Xc8RN",
        "outputId": "8d99af84-acde-4f54-89ec-423381215297"
      },
      "source": [
        "import datetime\n",
        "today = datetime.datetime.now()\n",
        "print(today)"
      ],
      "execution_count": null,
      "outputs": [
        {
          "output_type": "stream",
          "text": [
            "2020-01-20 15:37:00.376549\n"
          ],
          "name": "stdout"
        }
      ]
    },
    {
      "cell_type": "code",
      "metadata": {
        "id": "hv4xej7kc8RN",
        "outputId": "847ae4af-3f18-41c5-a766-680a11050ddf"
      },
      "source": [
        "print(f'오늘은 {today:%y}년 {today:%m}월 {today: %d}일 {today: %A}')\n",
        "print(f'오늘은 {today:%Y}년 {today:%m}월 {today: %d}일 {today: %A}')"
      ],
      "execution_count": null,
      "outputs": [
        {
          "output_type": "stream",
          "text": [
            "오늘은 20년 01월  20일  Monday\n",
            "오늘은 2020년 01월  20일  Monday\n"
          ],
          "name": "stdout"
        }
      ]
    },
    {
      "cell_type": "markdown",
      "metadata": {
        "id": "jPbAo6aQc8RO"
      },
      "source": [
        "* f-strings에서는 연산과 출력형식 지정도 가능하다."
      ]
    },
    {
      "cell_type": "code",
      "metadata": {
        "id": "hLlaB376c8RO"
      },
      "source": [
        "# string interpolation에서 연산과 숫자 출력형식을 지정해봅시다."
      ],
      "execution_count": null,
      "outputs": []
    },
    {
      "cell_type": "code",
      "metadata": {
        "id": "fMKtFlY5c8RO",
        "outputId": "bab25881-dd19-4a75-c3cb-8e5393f0bf61"
      },
      "source": [
        "pi = 3.141592\n",
        "f'원주율은 {pi:.4}, 반지름이 2일때 원의 넓이는 {pi*2*2}입니다.'"
      ],
      "execution_count": null,
      "outputs": [
        {
          "output_type": "execute_result",
          "data": {
            "text/plain": [
              "'원주율은 3.142, 반지름이 2일때 원의 넓이는 12.566368입니다.'"
            ]
          },
          "metadata": {
            "tags": []
          },
          "execution_count": 88
        }
      ]
    },
    {
      "cell_type": "markdown",
      "metadata": {
        "id": "mZPDkDrHc8RO"
      },
      "source": [
        "# 연산자\n",
        "\n",
        "## 산술 연산자\n",
        "Python에서는 기본적인 사칙연산이 가능합니다. \n",
        "\n",
        "|연산자|내용|\n",
        "|----|---|\n",
        "|+|덧셈|\n",
        "|-|뺄셈|\n",
        "|\\*|곱셈|\n",
        "|/|나눗셈|\n",
        "|//|몫|\n",
        "|%|나머지(modulo)|\n",
        "|\\*\\*|거듭제곱|\n",
        "\n",
        "- 나눗셈 (`/`) 은 항상 float를 돌려준다.\n",
        "- 정수 나눗셈 으로 (소수부 없이) 정수 결과를 얻으려면 `//` 연산자를 사용한다.\n"
      ]
    },
    {
      "cell_type": "code",
      "metadata": {
        "id": "lN0K7xQ0c8RP"
      },
      "source": [
        "# 2의 1000승을 확인해봅시다."
      ],
      "execution_count": null,
      "outputs": []
    },
    {
      "cell_type": "code",
      "metadata": {
        "id": "G5j_uASNc8RP",
        "outputId": "fbd313a6-0458-4142-84b5-935548bda89c"
      },
      "source": [
        "2**1000"
      ],
      "execution_count": null,
      "outputs": [
        {
          "output_type": "execute_result",
          "data": {
            "text/plain": [
              "10715086071862673209484250490600018105614048117055336074437503883703510511249361224931983788156958581275946729175531468251871452856923140435984577574698574803934567774824230985421074605062371141877954182153046474983581941267398767559165543946077062914571196477686542167660429831652624386837205668069376"
            ]
          },
          "metadata": {
            "tags": []
          },
          "execution_count": 89
        }
      ]
    },
    {
      "cell_type": "code",
      "metadata": {
        "id": "TbCowdn7c8RQ"
      },
      "source": [
        "# 나눗셈과 관련된 산술연산자를 활용해봅시다."
      ],
      "execution_count": null,
      "outputs": []
    },
    {
      "cell_type": "code",
      "metadata": {
        "id": "Faub5A0Yc8RQ",
        "outputId": "8babb6ed-caff-4cbc-cd7d-61cdf003a94a"
      },
      "source": [
        "print(5/2)\n",
        "print(5//2)\n",
        "print(int(5%2))\n",
        "print(5%2)"
      ],
      "execution_count": null,
      "outputs": [
        {
          "output_type": "stream",
          "text": [
            "2.5\n",
            "2\n",
            "1\n",
            "1\n"
          ],
          "name": "stdout"
        }
      ]
    },
    {
      "cell_type": "code",
      "metadata": {
        "id": "28WyCKxgc8RQ"
      },
      "source": [
        "# divmod는 나눗셈과 관련된 함수입니다."
      ],
      "execution_count": null,
      "outputs": []
    },
    {
      "cell_type": "code",
      "metadata": {
        "id": "6X01X3cmc8RR",
        "outputId": "d5723313-8797-474b-b6c3-dd2d0e3ebf97"
      },
      "source": [
        "print(divmod(5,2))\n",
        "quotient, remainder = divmod(5,2)\n",
        "print(f'몫은 {quotient}, 나머지는 {remainder}')"
      ],
      "execution_count": null,
      "outputs": [
        {
          "output_type": "stream",
          "text": [
            "(2, 1)\n",
            "몫은 2, 나머지는 1\n"
          ],
          "name": "stdout"
        }
      ]
    },
    {
      "cell_type": "code",
      "metadata": {
        "id": "OU0yWcTic8RR"
      },
      "source": [
        "# 음수 양수 표현도 해봅시다."
      ],
      "execution_count": null,
      "outputs": []
    },
    {
      "cell_type": "code",
      "metadata": {
        "id": "KVNc1Wy5c8RR"
      },
      "source": [
        "positive_num = 4\n",
        "print (-positive)"
      ],
      "execution_count": null,
      "outputs": []
    },
    {
      "cell_type": "markdown",
      "metadata": {
        "id": "rFR5zTCBc8RR"
      },
      "source": [
        "## 비교 연산자\n",
        "\n",
        "우리가 수학에서 배운 연산자와 동일하게 값을 비교할 수 있습니다.\n",
        "\n",
        "|연산자|내용|\n",
        "|----|---|\n",
        "|`<`|미만|\n",
        "|`<=`|이하|\n",
        "|`>`|초과|\n",
        "|`>=`|이상|\n",
        "|`==`|같음|\n",
        "|`!=`|같지않음|\n",
        "|`is`|객체 아이덴티티|\n",
        "|`is not`|부정된 객체 아이덴티티|\n"
      ]
    },
    {
      "cell_type": "code",
      "metadata": {
        "id": "oSz_R5-xc8RS"
      },
      "source": [
        "# 숫자의 대소관계를 비교해봅시다."
      ],
      "execution_count": null,
      "outputs": []
    },
    {
      "cell_type": "code",
      "metadata": {
        "id": "KDjG8-1Cc8RS",
        "outputId": "d2fb59c7-ee95-4116-da7f-5590b6a8d823"
      },
      "source": [
        "3>6"
      ],
      "execution_count": null,
      "outputs": [
        {
          "output_type": "execute_result",
          "data": {
            "text/plain": [
              "False"
            ]
          },
          "metadata": {
            "tags": []
          },
          "execution_count": 94
        }
      ]
    },
    {
      "cell_type": "code",
      "metadata": {
        "id": "fhxZasZ3c8RS"
      },
      "source": [
        "# 같은 숫자인지 확인해봅시다."
      ],
      "execution_count": null,
      "outputs": []
    },
    {
      "cell_type": "code",
      "metadata": {
        "id": "26xLn3EXc8RT",
        "outputId": "c7b7aefd-bc4f-4138-acc6-77f8118769c3"
      },
      "source": [
        "3 != 3"
      ],
      "execution_count": null,
      "outputs": [
        {
          "output_type": "execute_result",
          "data": {
            "text/plain": [
              "False"
            ]
          },
          "metadata": {
            "tags": []
          },
          "execution_count": 95
        }
      ]
    },
    {
      "cell_type": "code",
      "metadata": {
        "id": "-8i5am09c8RT"
      },
      "source": [
        "# 다른 숫자인지 확인해봅시다."
      ],
      "execution_count": null,
      "outputs": []
    },
    {
      "cell_type": "code",
      "metadata": {
        "id": "GBJG8Og-c8RT",
        "outputId": "7f944561-0778-4e99-d947-347c85f86ae8"
      },
      "source": [
        "3.0 == 3"
      ],
      "execution_count": null,
      "outputs": [
        {
          "output_type": "execute_result",
          "data": {
            "text/plain": [
              "True"
            ]
          },
          "metadata": {
            "tags": []
          },
          "execution_count": 96
        }
      ]
    },
    {
      "cell_type": "code",
      "metadata": {
        "id": "-jZ_7Tf4c8RT"
      },
      "source": [
        "# 문자열도 같은지 확인해봅시다."
      ],
      "execution_count": null,
      "outputs": []
    },
    {
      "cell_type": "code",
      "metadata": {
        "id": "h4NMovo7c8RT",
        "outputId": "ecb67f1c-baac-4e94-a5f1-e02542fea781"
      },
      "source": [
        "'Hi' == 'hi'"
      ],
      "execution_count": null,
      "outputs": [
        {
          "output_type": "execute_result",
          "data": {
            "text/plain": [
              "False"
            ]
          },
          "metadata": {
            "tags": []
          },
          "execution_count": 98
        }
      ]
    },
    {
      "cell_type": "markdown",
      "metadata": {
        "id": "_-NJMfHyc8RU"
      },
      "source": [
        "## 논리 연산자\n",
        "\n",
        "|연산자|내용|\n",
        "|---|---|\n",
        "|a and b|a와 b 모두 True시만 True|\n",
        "|a or b|a 와 b 모두 False시만 False|\n",
        "|not a|True -> False, False -> True|\n",
        "\n",
        "우리가 보통 알고 있는 `&` `|`은 파이썬에서 비트 연산자입니다."
      ]
    },
    {
      "cell_type": "code",
      "metadata": {
        "id": "aONoIGc6c8RU"
      },
      "source": [
        "# and과 관련해서 모든 case를 출력해봅시다."
      ],
      "execution_count": null,
      "outputs": []
    },
    {
      "cell_type": "code",
      "metadata": {
        "id": "ZdB7LyIRc8RU",
        "outputId": "c1a28204-77c4-4374-a2c2-bca2237d88c3"
      },
      "source": [
        "print (True and True)\n",
        "print (True and False)\n",
        "print (False and True)\n",
        "print (False and False)"
      ],
      "execution_count": null,
      "outputs": [
        {
          "output_type": "stream",
          "text": [
            "True\n",
            "False\n",
            "False\n",
            "False\n"
          ],
          "name": "stdout"
        }
      ]
    },
    {
      "cell_type": "code",
      "metadata": {
        "id": "EIdhkUQlc8RU"
      },
      "source": [
        "# or과 관련해서 모든 case를 출력해봅시다."
      ],
      "execution_count": null,
      "outputs": []
    },
    {
      "cell_type": "code",
      "metadata": {
        "id": "6JYoKIxvc8RU"
      },
      "source": [
        ""
      ],
      "execution_count": null,
      "outputs": []
    },
    {
      "cell_type": "code",
      "metadata": {
        "id": "zJHnyN79c8RU"
      },
      "source": [
        "# not을 활용해봅시다."
      ],
      "execution_count": null,
      "outputs": []
    },
    {
      "cell_type": "code",
      "metadata": {
        "id": "N-LU66vec8RV"
      },
      "source": [
        ""
      ],
      "execution_count": null,
      "outputs": []
    },
    {
      "cell_type": "markdown",
      "metadata": {
        "id": "ajpehWR_c8RV"
      },
      "source": [
        "* 파이썬에서 and는 a가 거짓이면 a를 리턴하고, 참이면 b를 리턴한다.\n",
        "* 파이썬에서 or은 a가 참이면 a를 리턴하고, 거짓이면 b를 리턴한다."
      ]
    },
    {
      "cell_type": "markdown",
      "metadata": {
        "id": "i9sdjwtYc8RV"
      },
      "source": [
        "### 단축평가\n",
        "* 첫 번째 값이 확실할 때, 두 번째 값은 확인 하지 않음\n",
        "* 조건문에서 뒷 부분을 판단하지 않아도 되기 때문에 속도 향상"
      ]
    },
    {
      "cell_type": "code",
      "metadata": {
        "id": "lJIMeSIrc8RX"
      },
      "source": [
        "vowels = 'aeiou'"
      ],
      "execution_count": null,
      "outputs": []
    },
    {
      "cell_type": "code",
      "metadata": {
        "scrolled": false,
        "id": "04lSGaTxc8RY",
        "outputId": "cf619f7c-77f3-41c3-8a0e-45c59d1a9a58"
      },
      "source": [
        "('a' and 'b') in vowels #a는 무언가 값이 있으므로 참이고, b는 vowels에 없으므로 거짓"
      ],
      "execution_count": null,
      "outputs": [
        {
          "output_type": "execute_result",
          "data": {
            "text/plain": [
              "False"
            ]
          },
          "metadata": {
            "tags": []
          },
          "execution_count": 106
        }
      ]
    },
    {
      "cell_type": "code",
      "metadata": {
        "scrolled": false,
        "id": "gId5ZXVEc8RY",
        "outputId": "de5eafcb-a307-425a-9cb6-873831ead02f"
      },
      "source": [
        "('b' and 'a') in vowels"
      ],
      "execution_count": null,
      "outputs": [
        {
          "output_type": "execute_result",
          "data": {
            "text/plain": [
              "True"
            ]
          },
          "metadata": {
            "tags": []
          },
          "execution_count": 107
        }
      ]
    },
    {
      "cell_type": "code",
      "metadata": {
        "id": "7wvvOtHSc8RY",
        "outputId": "087c933e-7407-4f49-8175-2b18bfeb5a2f"
      },
      "source": [
        "'a' and 'b'"
      ],
      "execution_count": null,
      "outputs": [
        {
          "output_type": "execute_result",
          "data": {
            "text/plain": [
              "'b'"
            ]
          },
          "metadata": {
            "tags": []
          },
          "execution_count": 108
        }
      ]
    },
    {
      "cell_type": "code",
      "metadata": {
        "id": "ZxFGlUGWc8RY",
        "outputId": "ff64750f-2af7-4c28-b55a-31944b9f79f6"
      },
      "source": [
        "'a' or 'b'"
      ],
      "execution_count": null,
      "outputs": [
        {
          "output_type": "execute_result",
          "data": {
            "text/plain": [
              "'a'"
            ]
          },
          "metadata": {
            "tags": []
          },
          "execution_count": 109
        }
      ]
    },
    {
      "cell_type": "markdown",
      "metadata": {
        "id": "3EXdHi11c8RZ"
      },
      "source": [
        "- `and` 는 둘 다 True일 경우만 True이기 때문에 첫번째 값이 True라도 두번째 값을 확인해야 하기 때문에 'b'가 반환된다.\n",
        "- `or` 는 하나만 True라도 True이기 때문에 True를 만나면 해당 값을 바로 반환한다."
      ]
    },
    {
      "cell_type": "code",
      "metadata": {
        "id": "aw_3pXOWc8RZ"
      },
      "source": [
        "# and의 단축평가(short-circuit evaluation)에 대해서 알아봅시다."
      ],
      "execution_count": null,
      "outputs": []
    },
    {
      "cell_type": "code",
      "metadata": {
        "id": "ju89GM_Gc8RZ",
        "outputId": "4c271765-aa07-4a80-b706-0d39824542e8"
      },
      "source": [
        "print(3 and 5)\n",
        "print(3 and 0)\n",
        "print(0 and 3)\n",
        "print(0 and 0)"
      ],
      "execution_count": null,
      "outputs": [
        {
          "output_type": "stream",
          "text": [
            "5\n",
            "0\n",
            "0\n",
            "0\n"
          ],
          "name": "stdout"
        }
      ]
    },
    {
      "cell_type": "code",
      "metadata": {
        "id": "FlEOuZuEc8RZ"
      },
      "source": [
        "# or의 단축평가(short-circuit evaluation)에 대해서 알아봅시다."
      ],
      "execution_count": null,
      "outputs": []
    },
    {
      "cell_type": "code",
      "metadata": {
        "id": "wV_hQt07c8Ra",
        "outputId": "aaf93b0d-d338-44c6-8af0-7fc9cf71e33d"
      },
      "source": [
        "print(3 or 5)\n",
        "print(3 or 0)\n",
        "print(0 or 3)\n",
        "print(0 or 0)"
      ],
      "execution_count": null,
      "outputs": [
        {
          "output_type": "stream",
          "text": [
            "3\n",
            "3\n",
            "3\n",
            "0\n"
          ],
          "name": "stdout"
        }
      ]
    },
    {
      "cell_type": "markdown",
      "metadata": {
        "id": "D3xXHjkWc8Ra"
      },
      "source": [
        "## 복합 연산자\n",
        "\n",
        "복합 연산자는 연산과 대입이 함께 이뤄집니다. \n",
        "\n",
        "가장 많이 활용되는 경우는 반복문을 통해서 개수를 카운트하거나 할 때 활용됩니다.\n",
        "\n",
        "|연산자|내용|\n",
        "|----|---|\n",
        "|a += b|a = a + b|\n",
        "|a -= b|a = a - b|\n",
        "|a \\*= b|a = a \\* b|\n",
        "|a /= b|a = a / b|\n",
        "|a //= b|a = a // b|\n",
        "|a %= b|a = a % b|\n",
        "|a \\*\\*= b|a = a ** b|"
      ]
    },
    {
      "cell_type": "code",
      "metadata": {
        "id": "J0Aut1JWc8Ra"
      },
      "source": [
        "# 복합연산자는 이럴 때 사용됩니다."
      ],
      "execution_count": null,
      "outputs": []
    },
    {
      "cell_type": "code",
      "metadata": {
        "id": "lbdJuz6ac8Ra",
        "outputId": "b7703836-1786-4465-a16d-17a2f613a782"
      },
      "source": [
        "cnt = 0\n",
        "while cnt < 5:\n",
        "    print(cnt)\n",
        "    cnt +=1"
      ],
      "execution_count": null,
      "outputs": [
        {
          "output_type": "stream",
          "text": [
            "0\n",
            "1\n",
            "2\n",
            "3\n",
            "4\n"
          ],
          "name": "stdout"
        }
      ]
    },
    {
      "cell_type": "markdown",
      "metadata": {
        "id": "TjWYzhlRc8Rb"
      },
      "source": [
        "## 기타 연산자\n",
        "\n",
        "### Concatenation\n",
        "\n",
        "숫자가 아닌 자료형은 `+` 연산자를 통해 합칠 수 있습니다."
      ]
    },
    {
      "cell_type": "code",
      "metadata": {
        "id": "Oss6nS1Ic8Rb"
      },
      "source": [
        "# 문자열을 더해봅시다.(합쳐봅시다.)"
      ],
      "execution_count": null,
      "outputs": []
    },
    {
      "cell_type": "code",
      "metadata": {
        "id": "0z_zDRxRc8Rb",
        "outputId": "bb07407e-ec85-4a6e-e73a-27747f68e4ff"
      },
      "source": [
        "'hi'+'bye!'"
      ],
      "execution_count": null,
      "outputs": [
        {
          "output_type": "execute_result",
          "data": {
            "text/plain": [
              "'hibye!'"
            ]
          },
          "metadata": {
            "tags": []
          },
          "execution_count": 114
        }
      ]
    },
    {
      "cell_type": "code",
      "metadata": {
        "id": "NJkhVFGxc8Rc"
      },
      "source": [
        "# list를 더해봅시다.(합쳐봅시다.)"
      ],
      "execution_count": null,
      "outputs": []
    },
    {
      "cell_type": "code",
      "metadata": {
        "id": "f4kcGcD-c8Rc",
        "outputId": "0a8c7f59-cb0a-4a67-e54b-7f96867ce630"
      },
      "source": [
        "[1,2,3]+[4,5,6]"
      ],
      "execution_count": null,
      "outputs": [
        {
          "output_type": "execute_result",
          "data": {
            "text/plain": [
              "[1, 2, 3, 4, 5, 6]"
            ]
          },
          "metadata": {
            "tags": []
          },
          "execution_count": 115
        }
      ]
    },
    {
      "cell_type": "markdown",
      "metadata": {
        "id": "GT0bn4dIc8Rc"
      },
      "source": [
        "### Containment Test\n",
        "\n",
        "`in` 연산자를 통해 요소가 속해있는지 여부를 확인할 수 있습니다."
      ]
    },
    {
      "cell_type": "code",
      "metadata": {
        "id": "oY4LEPGkc8Rc"
      },
      "source": [
        "# 문자열안에 특정한 문자가 있는지 확인해봅시다."
      ],
      "execution_count": null,
      "outputs": []
    },
    {
      "cell_type": "code",
      "metadata": {
        "id": "3KjiRq4vc8Rc",
        "outputId": "48f6065b-ddd2-4514-d7b3-ad29352382d8"
      },
      "source": [
        "'a' in 'apple'"
      ],
      "execution_count": null,
      "outputs": [
        {
          "output_type": "execute_result",
          "data": {
            "text/plain": [
              "True"
            ]
          },
          "metadata": {
            "tags": []
          },
          "execution_count": 116
        }
      ]
    },
    {
      "cell_type": "code",
      "metadata": {
        "id": "AHVVc4RLc8Rc"
      },
      "source": [
        "# list안에 특정한 원소가 있는지 확인해봅시다."
      ],
      "execution_count": null,
      "outputs": []
    },
    {
      "cell_type": "code",
      "metadata": {
        "id": "Kicdhlc_c8Rc",
        "outputId": "f954ab48-9a3f-4982-da61-f30d0b8b7a09"
      },
      "source": [
        "1 in [1,2,3]"
      ],
      "execution_count": null,
      "outputs": [
        {
          "output_type": "execute_result",
          "data": {
            "text/plain": [
              "True"
            ]
          },
          "metadata": {
            "tags": []
          },
          "execution_count": 117
        }
      ]
    },
    {
      "cell_type": "code",
      "metadata": {
        "id": "VbOefMOcc8Rd"
      },
      "source": [
        "# range안에 특정한 원소가 있는지 확인해봅시다."
      ],
      "execution_count": null,
      "outputs": []
    },
    {
      "cell_type": "code",
      "metadata": {
        "id": "j8vD-nIfc8Rd",
        "outputId": "063e53ef-41af-44a7-8532-8488d6a21083"
      },
      "source": [
        "90 in range(1,91)"
      ],
      "execution_count": null,
      "outputs": [
        {
          "output_type": "execute_result",
          "data": {
            "text/plain": [
              "True"
            ]
          },
          "metadata": {
            "tags": []
          },
          "execution_count": 119
        }
      ]
    },
    {
      "cell_type": "markdown",
      "metadata": {
        "id": "lV2dcLVfc8Rd"
      },
      "source": [
        "### Identity\n",
        "\n",
        "`is` 연산자를 통해 동일한 object인지 확인할 수 있습니다. \n",
        "\n",
        "* (Class를 배우고 다시 학습)"
      ]
    },
    {
      "cell_type": "code",
      "metadata": {
        "id": "tT0-3brlc8Rd"
      },
      "source": [
        "# 파이썬에서 -5 부터 256 까지의 id는 동일합니다."
      ],
      "execution_count": null,
      "outputs": []
    },
    {
      "cell_type": "code",
      "metadata": {
        "id": "-dredvSyc8Rd",
        "outputId": "fe85316f-3a68-4ba6-fa61-c58b62415d91"
      },
      "source": [
        "a = 3\n",
        "b = 3\n",
        "a is b"
      ],
      "execution_count": null,
      "outputs": [
        {
          "output_type": "execute_result",
          "data": {
            "text/plain": [
              "True"
            ]
          },
          "metadata": {
            "tags": []
          },
          "execution_count": 120
        }
      ]
    },
    {
      "cell_type": "code",
      "metadata": {
        "id": "cT4Mrmsbc8Rd"
      },
      "source": [
        "# 257 이루의 id 는 다릅니다."
      ],
      "execution_count": null,
      "outputs": []
    },
    {
      "cell_type": "code",
      "metadata": {
        "id": "1omvpnFRc8Re",
        "outputId": "01e096cd-28db-4c5f-f05a-e6caab9cf793"
      },
      "source": [
        "a=257\n",
        "b=257\n",
        "a is b"
      ],
      "execution_count": null,
      "outputs": [
        {
          "output_type": "execute_result",
          "data": {
            "text/plain": [
              "False"
            ]
          },
          "metadata": {
            "tags": []
          },
          "execution_count": 121
        }
      ]
    },
    {
      "cell_type": "markdown",
      "metadata": {
        "id": "CqyDpNDIc8Re"
      },
      "source": [
        "### Indexing/Slicing\n",
        "`[]`를 통한 값을 접근하고, `[:]`을 통해 리스트를 슬라이싱할 수 있습니다.\n",
        "\n",
        "* (다음 챕터를 배우면서 추가 학습)"
      ]
    },
    {
      "cell_type": "code",
      "metadata": {
        "id": "1vYhHRGHc8Re"
      },
      "source": [
        "# 문자열을 인덱싱을 통해 값에 접근해봅시다."
      ],
      "execution_count": null,
      "outputs": []
    },
    {
      "cell_type": "code",
      "metadata": {
        "id": "9SXQ3H3sc8Rf",
        "outputId": "e4055e88-c782-4646-97cf-326be1b6c17a"
      },
      "source": [
        "(-3) ** 2"
      ],
      "execution_count": null,
      "outputs": [
        {
          "output_type": "execute_result",
          "data": {
            "text/plain": [
              "9"
            ]
          },
          "metadata": {
            "tags": []
          },
          "execution_count": 123
        }
      ]
    },
    {
      "cell_type": "markdown",
      "metadata": {
        "id": "AiVSx1BIc8Rf"
      },
      "source": [
        "## 연산자 우선순위\n",
        "\n",
        "0. `()`을 통한 grouping\n",
        "\n",
        "1. Slicing\n",
        "\n",
        "2. Indexing\n",
        "\n",
        "3. 제곱연산자\n",
        "    `**`\n",
        "\n",
        "4. 단항연산자 \n",
        "    `+`, `-` (음수/양수 부호)\n",
        "\n",
        "5. 산술연산자\n",
        "    `*`, `/`, `%`\n",
        "    \n",
        "6. 산술연산자\n",
        "    `+`, `-`\n",
        " \n",
        "7. 비교연산자, `in`, `is`\n",
        "\n",
        "8. `not`\n",
        "\n",
        "9. `and` \n",
        "\n",
        "10. `or`"
      ]
    },
    {
      "cell_type": "code",
      "metadata": {
        "id": "hkKhNgrOc8Rf"
      },
      "source": [
        "# 우선순위를 확인해봅시다."
      ],
      "execution_count": null,
      "outputs": []
    },
    {
      "cell_type": "code",
      "metadata": {
        "id": "cQH3KCtBc8Rf"
      },
      "source": [
        ""
      ],
      "execution_count": null,
      "outputs": []
    },
    {
      "cell_type": "code",
      "metadata": {
        "id": "piM0Qbdqc8Rg"
      },
      "source": [
        ""
      ],
      "execution_count": null,
      "outputs": []
    },
    {
      "cell_type": "markdown",
      "metadata": {
        "id": "dub1fLuqc8Rg"
      },
      "source": [
        "# 기초 형변환(Type conversion, Typecasting)\n",
        "\n",
        "<img width=\"708\" alt=\"typecasting\" src=\"https://user-images.githubusercontent.com/18046097/61180466-a6a67780-a651-11e9-8c0a-adb9e1ee04de.png\">\n",
        "\n",
        "\n",
        "\n",
        "파이썬에서 데이터타입은 서로 변환할 수 있습니다.\n",
        "\n",
        "## 암시적 형변환(Implicit Type Conversion)\n",
        "사용자가 의도하지 않았지만, 파이썬 내부적으로 자동으로 형변환 하는 경우입니다.\n",
        "아래의 상황에서만 가능합니다.\n",
        "* bool\n",
        "* Numbers (int, float, complex)"
      ]
    },
    {
      "cell_type": "code",
      "metadata": {
        "id": "Ijf1EW8uc8Rg"
      },
      "source": [
        "# boolean과 integer는 더할 수 있을까요?"
      ],
      "execution_count": null,
      "outputs": []
    },
    {
      "cell_type": "code",
      "metadata": {
        "id": "5Dhhmgt2c8Rg",
        "outputId": "e83c3a15-9575-4d8a-fa30-12e6d443c8be"
      },
      "source": [
        "True + 3"
      ],
      "execution_count": null,
      "outputs": [
        {
          "output_type": "execute_result",
          "data": {
            "text/plain": [
              "4"
            ]
          },
          "metadata": {
            "tags": []
          },
          "execution_count": 124
        }
      ]
    },
    {
      "cell_type": "code",
      "metadata": {
        "id": "_cAghpuzc8Rg"
      },
      "source": [
        "# int, float, complex를 각각 변수에 대입해봅시다."
      ],
      "execution_count": null,
      "outputs": []
    },
    {
      "cell_type": "code",
      "metadata": {
        "id": "_yXPKeG_c8Rg"
      },
      "source": [
        "int_number=3\n",
        "float_number=5.0\n",
        "complex_number=3+5j"
      ],
      "execution_count": null,
      "outputs": []
    },
    {
      "cell_type": "code",
      "metadata": {
        "id": "0wUeQrl6c8Rg"
      },
      "source": [
        "# int와 float를 더해봅시다. 그 결과의 type은 무엇일까요?"
      ],
      "execution_count": null,
      "outputs": []
    },
    {
      "cell_type": "code",
      "metadata": {
        "id": "4Aj2EXdIc8Rh",
        "outputId": "2cbd6cb4-4eb9-4f6e-8ac2-b0d0c7d123fb"
      },
      "source": [
        "print (int_number + float_number)\n",
        "print (type(int_number+float_number))"
      ],
      "execution_count": null,
      "outputs": [
        {
          "output_type": "stream",
          "text": [
            "8.0\n",
            "<class 'float'>\n"
          ],
          "name": "stdout"
        }
      ]
    },
    {
      "cell_type": "code",
      "metadata": {
        "id": "8UD-cDmNc8Rh"
      },
      "source": [
        "# int와 complex를 더해봅시다. 그 결과의 type은 무엇일까요?"
      ],
      "execution_count": null,
      "outputs": []
    },
    {
      "cell_type": "code",
      "metadata": {
        "id": "ckit_XYFc8Rh",
        "outputId": "bfcf1ce8-f14d-4082-836e-bc639e9d8ba6"
      },
      "source": [
        "print(int_number+complex_number)\n",
        "print(type(int_number+complex_number))"
      ],
      "execution_count": null,
      "outputs": [
        {
          "output_type": "stream",
          "text": [
            "(6+5j)\n",
            "<class 'complex'>\n"
          ],
          "name": "stdout"
        }
      ]
    },
    {
      "cell_type": "markdown",
      "metadata": {
        "id": "LAltDbPXc8Rh"
      },
      "source": [
        "## 명시적 형변환(Explicit Type Conversion)\n",
        "위의 상황을 제외하고는 모두 명시적으로 형 변환을 해주어야합니다.\n",
        "\n",
        "* string -> intger  : 형식에 맞는 숫자만 가능\n",
        "* integer -> string : 모두 가능\n",
        "\n",
        "암시적 형변환이 되는 모든 경우도 명시적으로 형변환이 가능합니다.\n",
        "\n",
        "* `int()` : string, float를 int로 변환\n",
        "* `float()` : string, int를 float로 변환\n",
        "* `str()` : int, float, list, tuple, dictionary를 문자열로 변환\n",
        "\n",
        "`list()`, `tuple()` 등은 다음 챕터에서 배울 예정입니다."
      ]
    },
    {
      "cell_type": "code",
      "metadata": {
        "id": "xcUIbUyHc8Rh"
      },
      "source": [
        "# integer와 string 사이의 관계는 명시적으로 형변환을 해줘야만 합니다."
      ],
      "execution_count": null,
      "outputs": []
    },
    {
      "cell_type": "code",
      "metadata": {
        "id": "C388bxyjc8Rh",
        "outputId": "ad28fb05-33ab-432a-ad30-e1959fb4050f"
      },
      "source": [
        "1 + '등'"
      ],
      "execution_count": null,
      "outputs": [
        {
          "output_type": "error",
          "ename": "TypeError",
          "evalue": "unsupported operand type(s) for +: 'int' and 'str'",
          "traceback": [
            "\u001b[1;31m---------------------------------------------------------------------------\u001b[0m",
            "\u001b[1;31mTypeError\u001b[0m                                 Traceback (most recent call last)",
            "\u001b[1;32m<ipython-input-133-67e0330e0b9e>\u001b[0m in \u001b[0;36m<module>\u001b[1;34m\u001b[0m\n\u001b[1;32m----> 1\u001b[1;33m \u001b[1;36m1\u001b[0m \u001b[1;33m+\u001b[0m \u001b[1;34m'등'\u001b[0m\u001b[1;33m\u001b[0m\u001b[1;33m\u001b[0m\u001b[0m\n\u001b[0m",
            "\u001b[1;31mTypeError\u001b[0m: unsupported operand type(s) for +: 'int' and 'str'"
          ]
        }
      ]
    },
    {
      "cell_type": "code",
      "metadata": {
        "id": "qnWBXon8c8Rh",
        "outputId": "3882e074-8245-4857-f8a0-c049a4653614"
      },
      "source": [
        "str(1) + '등'"
      ],
      "execution_count": null,
      "outputs": [
        {
          "output_type": "error",
          "ename": "TypeError",
          "evalue": "'str' object is not callable",
          "traceback": [
            "\u001b[1;31m---------------------------------------------------------------------------\u001b[0m",
            "\u001b[1;31mTypeError\u001b[0m                                 Traceback (most recent call last)",
            "\u001b[1;32m<ipython-input-138-5569e8938f33>\u001b[0m in \u001b[0;36m<module>\u001b[1;34m\u001b[0m\n\u001b[1;32m----> 1\u001b[1;33m \u001b[0mstr\u001b[0m\u001b[1;33m(\u001b[0m\u001b[1;36m1\u001b[0m\u001b[1;33m)\u001b[0m \u001b[1;33m+\u001b[0m \u001b[1;34m'등'\u001b[0m\u001b[1;33m\u001b[0m\u001b[1;33m\u001b[0m\u001b[0m\n\u001b[0m",
            "\u001b[1;31mTypeError\u001b[0m: 'str' object is not callable"
          ]
        }
      ]
    },
    {
      "cell_type": "code",
      "metadata": {
        "id": "0tett3Unc8Ri"
      },
      "source": [
        "# string 3을 integer로 변환해봅시다."
      ],
      "execution_count": null,
      "outputs": []
    },
    {
      "cell_type": "code",
      "metadata": {
        "id": "8N4_YavEc8Ri",
        "outputId": "0463ed61-7c9d-456d-a005-43ef0f385ddc"
      },
      "source": [
        "a='3'\n",
        "int(a)"
      ],
      "execution_count": null,
      "outputs": [
        {
          "output_type": "execute_result",
          "data": {
            "text/plain": [
              "3"
            ]
          },
          "metadata": {
            "tags": []
          },
          "execution_count": 134
        }
      ]
    },
    {
      "cell_type": "code",
      "metadata": {
        "id": "_a7mmxpmc8Ri"
      },
      "source": [
        "# string 3.5를 float로 변환해봅시다."
      ],
      "execution_count": null,
      "outputs": []
    },
    {
      "cell_type": "code",
      "metadata": {
        "id": "CKa4Fjnac8Ri",
        "outputId": "7ccd89b8-7aff-4ce6-affa-f2fed26946fd"
      },
      "source": [
        "a='3.5'\n",
        "float(a)"
      ],
      "execution_count": null,
      "outputs": [
        {
          "output_type": "execute_result",
          "data": {
            "text/plain": [
              "3.5"
            ]
          },
          "metadata": {
            "tags": []
          },
          "execution_count": 135
        }
      ]
    },
    {
      "cell_type": "code",
      "metadata": {
        "id": "86PuoFNAc8Ri"
      },
      "source": [
        "# string은 글자가 숫자일때만 형변환이 가능합니다."
      ],
      "execution_count": null,
      "outputs": []
    },
    {
      "cell_type": "code",
      "metadata": {
        "id": "Wirg7Fukc8Ri",
        "outputId": "7d95c0e8-acf0-4ffc-d147-f7ddcc31c7cd"
      },
      "source": [
        "a = '3.5'\n",
        "int(a)"
      ],
      "execution_count": null,
      "outputs": [
        {
          "output_type": "error",
          "ename": "ValueError",
          "evalue": "invalid literal for int() with base 10: '3.5'",
          "traceback": [
            "\u001b[1;31m---------------------------------------------------------------------------\u001b[0m",
            "\u001b[1;31mValueError\u001b[0m                                Traceback (most recent call last)",
            "\u001b[1;32m<ipython-input-136-8b7cbdc4cef3>\u001b[0m in \u001b[0;36m<module>\u001b[1;34m\u001b[0m\n\u001b[0;32m      1\u001b[0m \u001b[0ma\u001b[0m \u001b[1;33m=\u001b[0m \u001b[1;34m'3.5'\u001b[0m\u001b[1;33m\u001b[0m\u001b[1;33m\u001b[0m\u001b[0m\n\u001b[1;32m----> 2\u001b[1;33m \u001b[0mint\u001b[0m\u001b[1;33m(\u001b[0m\u001b[0ma\u001b[0m\u001b[1;33m)\u001b[0m\u001b[1;33m\u001b[0m\u001b[1;33m\u001b[0m\u001b[0m\n\u001b[0m",
            "\u001b[1;31mValueError\u001b[0m: invalid literal for int() with base 10: '3.5'"
          ]
        }
      ]
    },
    {
      "cell_type": "code",
      "metadata": {
        "id": "aPf_DJRWc8Rj"
      },
      "source": [
        "# string 3.5를 int로 변환할 수는 없습니다."
      ],
      "execution_count": null,
      "outputs": []
    },
    {
      "cell_type": "code",
      "metadata": {
        "id": "9pWBaM4hc8Rj"
      },
      "source": [
        ""
      ],
      "execution_count": null,
      "outputs": []
    },
    {
      "cell_type": "code",
      "metadata": {
        "id": "xSqu4nB6c8Rj"
      },
      "source": [
        "# float 3.5는 int로 변환이 가능합니다."
      ],
      "execution_count": null,
      "outputs": []
    },
    {
      "cell_type": "code",
      "metadata": {
        "id": "oLw36Utgc8Rj",
        "outputId": "5bbd0134-3741-4bfd-fc0f-457396859840"
      },
      "source": [
        "a=3.5\n",
        "int(a)"
      ],
      "execution_count": null,
      "outputs": [
        {
          "output_type": "execute_result",
          "data": {
            "text/plain": [
              "3"
            ]
          },
          "metadata": {
            "tags": []
          },
          "execution_count": 137
        }
      ]
    },
    {
      "cell_type": "markdown",
      "metadata": {
        "id": "sDnpNl15c8Rj"
      },
      "source": [
        "# 시퀀스(sequence) 자료형\n",
        "\n",
        "`시퀀스`는 데이터가 순서대로 나열된 형식을 나타냅니다. \n",
        "\n",
        "* **주의! 순서대로 나열된 것이 `정렬되었다`라는 뜻은 아니다.**\n",
        "\n",
        "파이썬에서 기본적인 시퀀스 타입은 다음과 같습니다.\n",
        "\n",
        "* 리스트(list)\n",
        "\n",
        "* 튜플(tuple)\n",
        "\n",
        "* 레인지(range)\n",
        "\n",
        "* 문자열(string)\n",
        "\n",
        "* 바이너리(binary) : 따로 다루지는 않습니다.\n"
      ]
    },
    {
      "cell_type": "markdown",
      "metadata": {
        "id": "OrrrKZ2yc8Rj"
      },
      "source": [
        "\n",
        "## `list`\n",
        "\n",
        "<center><img src=\"https://user-images.githubusercontent.com/18046097/61180421-fe90ae80-a650-11e9-8211-d06f87756d05.png\", alt=\"list figure\"/></center>"
      ]
    },
    {
      "cell_type": "markdown",
      "metadata": {
        "id": "75xLZL2Gc8Rk"
      },
      "source": [
        "**활용법**\n",
        "```python\n",
        "[value1, value2, value3]\n",
        "```\n",
        "\n",
        "리스트는 대괄호`[]` 및 `list()` 를 통해 만들 수 있습니다.\n",
        "\n",
        "값에 대한 접근은 `list[i]`를 통해 합니다."
      ]
    },
    {
      "cell_type": "code",
      "metadata": {
        "id": "YJyOamfhc8Rk"
      },
      "source": [
        "# 빈 리스트를 만들어봅시다."
      ],
      "execution_count": null,
      "outputs": []
    },
    {
      "cell_type": "code",
      "metadata": {
        "id": "GsaMRtKFc8Rk",
        "outputId": "06080360-2eda-4620-9825-dc4d1beecce9"
      },
      "source": [
        "a = []\n",
        "b = list()\n",
        "print(type(a))\n",
        "print(type(b))"
      ],
      "execution_count": null,
      "outputs": [
        {
          "output_type": "stream",
          "text": [
            "<class 'list'>\n",
            "<class 'list'>\n"
          ],
          "name": "stdout"
        }
      ]
    },
    {
      "cell_type": "code",
      "metadata": {
        "id": "fBs44kU4c8Rk"
      },
      "source": [
        "# 원소를 포함한 리스트를 만들어봅시다."
      ],
      "execution_count": null,
      "outputs": []
    },
    {
      "cell_type": "code",
      "metadata": {
        "id": "bG8rAPr6c8Rk",
        "outputId": "d6dd9d05-eb75-4111-881e-c830d472668a"
      },
      "source": [
        "location = ['서울','대전','구미','광주']\n",
        "print(location)\n",
        "print(type(location))"
      ],
      "execution_count": null,
      "outputs": [
        {
          "output_type": "stream",
          "text": [
            "['서울', '대전', '구미', '광주']\n",
            "<class 'list'>\n"
          ],
          "name": "stdout"
        }
      ]
    },
    {
      "cell_type": "code",
      "metadata": {
        "id": "YcHk8wU3c8Rk"
      },
      "source": [
        "# 첫번째 값에 접근해봅시다."
      ],
      "execution_count": null,
      "outputs": []
    },
    {
      "cell_type": "code",
      "metadata": {
        "id": "pa619F85c8Rk",
        "outputId": "937869cb-fb0b-4e72-ebb7-9541ee856e1b"
      },
      "source": [
        "location[0]"
      ],
      "execution_count": null,
      "outputs": [
        {
          "output_type": "execute_result",
          "data": {
            "text/plain": [
              "'서울'"
            ]
          },
          "metadata": {
            "tags": []
          },
          "execution_count": 141
        }
      ]
    },
    {
      "cell_type": "markdown",
      "metadata": {
        "id": "t8hLEQt7c8Rl"
      },
      "source": [
        "## `tuple`\n",
        "\n",
        "**활용법**\n",
        "```python\n",
        "(value1, value2)\n",
        "```\n",
        "\n",
        "튜플은 리스트와 유사하지만, `()`로 묶어서 표현합니다.\n",
        "\n",
        "그리고 tuple은 수정 불가능(불변, immutable)하고, 읽을 수 밖에 없습니다.\n",
        "\n",
        "직접 사용하기 보다는 파이썬 내부에서 사용하고 있습니다."
      ]
    },
    {
      "cell_type": "code",
      "metadata": {
        "id": "KMLSIlODc8Rl"
      },
      "source": [
        "# tuple을 만들어봅시다."
      ],
      "execution_count": null,
      "outputs": []
    },
    {
      "cell_type": "code",
      "metadata": {
        "id": "PpAu-jr1c8Rl",
        "outputId": "4ddd9657-1ec9-4ba5-b7ac-b177116be306"
      },
      "source": [
        "tuple_ex2=1,2\n",
        "print(tuple_ex2)\n",
        "print(type(tuple_ex2))"
      ],
      "execution_count": null,
      "outputs": [
        {
          "output_type": "stream",
          "text": [
            "(1, 2)\n",
            "<class 'tuple'>\n"
          ],
          "name": "stdout"
        }
      ]
    },
    {
      "cell_type": "raw",
      "metadata": {
        "id": "sw2h96Tjc8Rl"
      },
      "source": [
        "# 아래와 같이 만들 수 있습니다."
      ]
    },
    {
      "cell_type": "code",
      "metadata": {
        "id": "iUm68DD0c8Rl"
      },
      "source": [
        ""
      ],
      "execution_count": null,
      "outputs": []
    },
    {
      "cell_type": "code",
      "metadata": {
        "id": "_s6i7wYMc8Rl"
      },
      "source": [
        "# 파이썬 내부에서는 다음과 같이 활용됩니다.\n",
        "# 앞선 2. 변수 및 자료형 예제에서 사용된 코드입니다."
      ],
      "execution_count": null,
      "outputs": []
    },
    {
      "cell_type": "code",
      "metadata": {
        "id": "tjNL30xuc8Rl",
        "outputId": "33f3e8f2-afc1-46c0-afcc-e8bcf30dca9c"
      },
      "source": [
        "x,y=1,2\n",
        "print(x)\n",
        "print(y)"
      ],
      "execution_count": null,
      "outputs": [
        {
          "output_type": "stream",
          "text": [
            "1\n",
            "2\n"
          ],
          "name": "stdout"
        }
      ]
    },
    {
      "cell_type": "code",
      "metadata": {
        "id": "kttEJ45wc8Rm"
      },
      "source": [
        "# 실제로는 tuple로 처리됩니다."
      ],
      "execution_count": null,
      "outputs": []
    },
    {
      "cell_type": "code",
      "metadata": {
        "id": "GVtyhPPFc8Rm",
        "outputId": "a30a2180-e45d-409c-d2d1-0908f62ef05f"
      },
      "source": [
        "x,y=y,x\n",
        "print(x)\n",
        "print(y)"
      ],
      "execution_count": null,
      "outputs": [
        {
          "output_type": "stream",
          "text": [
            "2\n",
            "1\n"
          ],
          "name": "stdout"
        }
      ]
    },
    {
      "cell_type": "code",
      "metadata": {
        "id": "qz7x_f3Dc8Rm"
      },
      "source": [
        "# 변수의 값을 swap하는 코드 역시 tuple을 활용하고 있습니다. "
      ],
      "execution_count": null,
      "outputs": []
    },
    {
      "cell_type": "code",
      "metadata": {
        "scrolled": true,
        "id": "x3ApPaNQc8Rm"
      },
      "source": [
        ""
      ],
      "execution_count": null,
      "outputs": []
    },
    {
      "cell_type": "code",
      "metadata": {
        "id": "VnYDzkmXc8Rm"
      },
      "source": [
        "# 빈 튜플은 빈 괄호 쌍으로 만들어집니다."
      ],
      "execution_count": null,
      "outputs": []
    },
    {
      "cell_type": "code",
      "metadata": {
        "id": "PpnYMbGic8Rm",
        "outputId": "1ee53a98-f201-4678-c875-18c5fdcb0bcb"
      },
      "source": [
        "empty = ()\n",
        "print(type(empty))\n",
        "print(len(empty))"
      ],
      "execution_count": null,
      "outputs": [
        {
          "output_type": "stream",
          "text": [
            "<class 'tuple'>\n",
            "0\n"
          ],
          "name": "stdout"
        }
      ]
    },
    {
      "cell_type": "code",
      "metadata": {
        "id": "dS9NR_0Ac8Rn"
      },
      "source": [
        "# 하나의 항목으로 구성된 튜플은 값 뒤에 쉼표를 붙여서 만듭니다."
      ],
      "execution_count": null,
      "outputs": []
    },
    {
      "cell_type": "code",
      "metadata": {
        "id": "_Vg5Clonc8Rn",
        "outputId": "ae96444d-2e83-441c-d917-c549d6c677ef"
      },
      "source": [
        "single_tuple = ('hello',)\n",
        "print(type(single_tuple))\n",
        "print(len(single_tuple))"
      ],
      "execution_count": null,
      "outputs": [
        {
          "output_type": "stream",
          "text": [
            "<class 'tuple'>\n",
            "1\n"
          ],
          "name": "stdout"
        }
      ]
    },
    {
      "cell_type": "markdown",
      "metadata": {
        "id": "0aBw3_lMc8Rn"
      },
      "source": [
        "##  `range()`\n",
        "\n",
        "`range` 는 숫자의 시퀀스를 나타내기 위해 사용됩니다.\n",
        "\n",
        "기본형 : `range(n)` \n",
        "\n",
        "\n",
        "> 0부터 n-1까지 값을 가짐\n",
        "\n",
        "\n",
        "범위 지정 : `range(n, m)` \n",
        "\n",
        "> n부터 m-1까지 값을 가짐\n",
        "\n",
        "범위 및 스텝 지정 : `range(n, m, s)`\n",
        "\n",
        "> n부터 m-1까지 +s만큼 증가한다"
      ]
    },
    {
      "cell_type": "code",
      "metadata": {
        "id": "CKLrZp9Gc8Rn"
      },
      "source": [
        "# range를 만들어봅시다."
      ],
      "execution_count": null,
      "outputs": []
    },
    {
      "cell_type": "code",
      "metadata": {
        "id": "XC20ek7Yc8Rn",
        "outputId": "3005529a-d619-43d7-f166-2cc5a80351f0"
      },
      "source": [
        "type(range(1))"
      ],
      "execution_count": null,
      "outputs": [
        {
          "output_type": "execute_result",
          "data": {
            "text/plain": [
              "range"
            ]
          },
          "metadata": {
            "tags": []
          },
          "execution_count": 150
        }
      ]
    },
    {
      "cell_type": "code",
      "metadata": {
        "id": "03BO91m5c8Rn"
      },
      "source": [
        "# range에 담긴 값을 list로 바꿔서 확인해봅시다."
      ],
      "execution_count": null,
      "outputs": []
    },
    {
      "cell_type": "code",
      "metadata": {
        "id": "l_VVmoXhc8Ro",
        "outputId": "ed4ad3be-a04d-4f44-a7da-55662fe11d2d"
      },
      "source": [
        "list(range(1))"
      ],
      "execution_count": null,
      "outputs": [
        {
          "output_type": "execute_result",
          "data": {
            "text/plain": [
              "[0]"
            ]
          },
          "metadata": {
            "tags": []
          },
          "execution_count": 1
        }
      ]
    },
    {
      "cell_type": "code",
      "metadata": {
        "id": "kvIpI_-yc8Ro"
      },
      "source": [
        "# 4 ~ 8까지의 숫자를 담은 range를 만들어봅시다."
      ],
      "execution_count": null,
      "outputs": []
    },
    {
      "cell_type": "code",
      "metadata": {
        "id": "rbn3FIykc8Ro",
        "outputId": "88e6a4cc-1fb9-412a-c6f9-4a42a51aa652"
      },
      "source": [
        "list(range(4,9\n",
        "          ))"
      ],
      "execution_count": null,
      "outputs": [
        {
          "output_type": "execute_result",
          "data": {
            "text/plain": [
              "[4, 5, 6, 7, 8]"
            ]
          },
          "metadata": {
            "tags": []
          },
          "execution_count": 7
        }
      ]
    },
    {
      "cell_type": "code",
      "metadata": {
        "id": "zcfQLqJwc8Ro"
      },
      "source": [
        "# 0부터 -9까지 담긴 range를 만들어봅시다."
      ],
      "execution_count": null,
      "outputs": []
    },
    {
      "cell_type": "code",
      "metadata": {
        "id": "pmEW74WWc8Ro",
        "outputId": "955acd3d-eadb-4ba1-cdd8-933bc08bc480"
      },
      "source": [
        "list(range(-9, 1))"
      ],
      "execution_count": null,
      "outputs": [
        {
          "output_type": "execute_result",
          "data": {
            "text/plain": [
              "[-9, -8, -7, -6, -5, -4, -3, -2, -1, 0]"
            ]
          },
          "metadata": {
            "tags": []
          },
          "execution_count": 8
        }
      ]
    },
    {
      "cell_type": "markdown",
      "metadata": {
        "id": "WJGqQ49Ac8Ro"
      },
      "source": [
        "\n",
        "## 시퀀스에서 활용할 수 있는 연산자/함수 \n",
        "\n",
        "|operation|설명|\n",
        "|---------|---|\n",
        "|x `in` s\t|containment test|\n",
        "|x `not in` s|containment test|\n",
        "|s1 `+` s2|concatenation|\n",
        "|s `*` n|n번만큼 반복하여 더하기\n",
        "|`s[i]`|indexing|\n",
        "|`s[i:j]`|slicing|\n",
        "|`s[i:j:k`]|k간격으로 slicing|\n",
        "|len(s)|길이|\n",
        "|min(s)|최솟값|\n",
        "|max(s)|최댓값|\n",
        "|s.count(x)|x의 개수|"
      ]
    },
    {
      "cell_type": "code",
      "metadata": {
        "id": "SKdi_ngwc8Ro"
      },
      "source": [
        "# contain test를 확인해봅시다."
      ],
      "execution_count": null,
      "outputs": []
    },
    {
      "cell_type": "code",
      "metadata": {
        "id": "e1eykG5ac8Rp",
        "outputId": "ca4d66ca-eece-47e2-fdac-dc783c7e04d1"
      },
      "source": [
        "s = 'strint'\n",
        "print('a' in s)"
      ],
      "execution_count": null,
      "outputs": [
        {
          "output_type": "stream",
          "text": [
            "False\n"
          ],
          "name": "stdout"
        }
      ]
    },
    {
      "cell_type": "code",
      "metadata": {
        "id": "CxfDdDYZc8Rp",
        "outputId": "72508700-5082-4cf5-b5d9-3a5080921569"
      },
      "source": [
        "l = [1,2,3,4,5]\n",
        "print(3 in l)"
      ],
      "execution_count": null,
      "outputs": [
        {
          "output_type": "stream",
          "text": [
            "True\n"
          ],
          "name": "stdout"
        }
      ]
    },
    {
      "cell_type": "code",
      "metadata": {
        "id": "kUFGDjggc8Rp"
      },
      "source": [
        "# concatenation(연결, 연쇄)를 해봅시다."
      ],
      "execution_count": null,
      "outputs": []
    },
    {
      "cell_type": "code",
      "metadata": {
        "id": "9D8ckVXcc8Rp",
        "outputId": "c5335a40-3176-4434-898a-3c9ca3fcc141"
      },
      "source": [
        "print('안녕'+'하세요')\n",
        "print((1,2)+(5,6))"
      ],
      "execution_count": null,
      "outputs": [
        {
          "output_type": "stream",
          "text": [
            "안녕하세요\n",
            "(1, 2, 5, 6)\n"
          ],
          "name": "stdout"
        }
      ]
    },
    {
      "cell_type": "code",
      "metadata": {
        "id": "TDgGGDtIc8Rp"
      },
      "source": [
        "# 숫자 0이 6개 있는 list를 만들어봅시다."
      ],
      "execution_count": null,
      "outputs": []
    },
    {
      "cell_type": "code",
      "metadata": {
        "id": "ZTFMP71lc8Rp",
        "outputId": "c0bb662e-91fd-4114-9956-0c2bdff090df"
      },
      "source": [
        "["
      ],
      "execution_count": null,
      "outputs": [
        {
          "output_type": "execute_result",
          "data": {
            "text/plain": [
              "[0, 0, 0, 0, 0, 0]"
            ]
          },
          "metadata": {
            "tags": []
          },
          "execution_count": 9
        }
      ]
    },
    {
      "cell_type": "code",
      "metadata": {
        "id": "3MnXinHnc8Rp"
      },
      "source": [
        "# indexing과 slicing을 하기 위해 list하나를 만들어주세요."
      ],
      "execution_count": null,
      "outputs": []
    },
    {
      "cell_type": "code",
      "metadata": {
        "id": "Dqgm48_Kc8Rq",
        "outputId": "7d61ddd0-4f52-48ea-c79c-1a7fd53f8c33"
      },
      "source": [
        "location = ['서울','대전','광주','구미'] #숫자가 각 원소 앞에 있다고 생각하면 편함\n",
        "location[2]"
      ],
      "execution_count": null,
      "outputs": [
        {
          "output_type": "execute_result",
          "data": {
            "text/plain": [
              "'광주'"
            ]
          },
          "metadata": {
            "tags": []
          },
          "execution_count": 158
        }
      ]
    },
    {
      "cell_type": "code",
      "metadata": {
        "id": "5oiioPM9c8Rq"
      },
      "source": [
        "# 두번째, 세번째 값만 가져와봅시다."
      ],
      "execution_count": null,
      "outputs": []
    },
    {
      "cell_type": "code",
      "metadata": {
        "id": "78LlD3umc8Rq",
        "outputId": "270c744c-9d50-49af-9941-d41ca6c06c3b"
      },
      "source": [
        "location[1:3]"
      ],
      "execution_count": null,
      "outputs": [
        {
          "output_type": "execute_result",
          "data": {
            "text/plain": [
              "['대전', '광주']"
            ]
          },
          "metadata": {
            "tags": []
          },
          "execution_count": 159
        }
      ]
    },
    {
      "cell_type": "code",
      "metadata": {
        "id": "7ZiYhSd6c8Rq"
      },
      "source": [
        "# 0부터 30까지의 숫자를 3씩 증가시킨 리스트로 만들어봅시다.\n"
      ],
      "execution_count": null,
      "outputs": []
    },
    {
      "cell_type": "code",
      "metadata": {
        "id": "RWzeUxIAc8Rq",
        "outputId": "eabb3a44-c2fb-4595-cf0d-b0818ae41b05"
      },
      "source": [
        "sample_list=list(range(0,31,3))\n",
        "print(sample_list)\n"
      ],
      "execution_count": null,
      "outputs": [
        {
          "output_type": "stream",
          "text": [
            "[0, 3, 6, 9, 12, 15, 18, 21, 24, 27, 30]\n"
          ],
          "name": "stdout"
        }
      ]
    },
    {
      "cell_type": "code",
      "metadata": {
        "id": "2Y_UljgXc8Rq"
      },
      "source": [
        "# 위에서 만든 list의 길이를 확인해봅시다."
      ],
      "execution_count": null,
      "outputs": []
    },
    {
      "cell_type": "code",
      "metadata": {
        "id": "BDS13XvVc8Rq",
        "outputId": "0d244cf0-fa74-43c5-e716-8792a3e781fa"
      },
      "source": [
        "len(sample_list)"
      ],
      "execution_count": null,
      "outputs": [
        {
          "output_type": "execute_result",
          "data": {
            "text/plain": [
              "11"
            ]
          },
          "metadata": {
            "tags": []
          },
          "execution_count": 24
        }
      ]
    },
    {
      "cell_type": "code",
      "metadata": {
        "id": "4TWzJDMkc8Rr"
      },
      "source": [
        "# 위에서 만든 list의 최솟값, 최댓값을 확인해봅시다."
      ],
      "execution_count": null,
      "outputs": []
    },
    {
      "cell_type": "code",
      "metadata": {
        "id": "6XRy1wg_c8Rr",
        "outputId": "d4d333a4-4229-4dc1-89f6-8b813abddc64"
      },
      "source": [
        "print(min(sample_list))\n",
        "print(max(sample_list))"
      ],
      "execution_count": null,
      "outputs": [
        {
          "output_type": "stream",
          "text": [
            "0\n",
            "30\n"
          ],
          "name": "stdout"
        }
      ]
    },
    {
      "cell_type": "code",
      "metadata": {
        "id": "A-uT09jAc8Rr"
      },
      "source": [
        "# list에 담긴 특정한 것의 개수를 확인할 수도 있습니다."
      ],
      "execution_count": null,
      "outputs": []
    },
    {
      "cell_type": "code",
      "metadata": {
        "id": "PXMiwtWMc8Rr",
        "outputId": "b0966f5f-b6a3-44af-8b66-7eb13ebb8440"
      },
      "source": [
        "test_list = [1,2,3,1,4,1]\n",
        "test_list.count(1)"
      ],
      "execution_count": null,
      "outputs": [
        {
          "output_type": "execute_result",
          "data": {
            "text/plain": [
              "3"
            ]
          },
          "metadata": {
            "tags": []
          },
          "execution_count": 26
        }
      ]
    },
    {
      "cell_type": "markdown",
      "metadata": {
        "id": "l9Gplx6Ec8Rr"
      },
      "source": [
        "# set, dictionary\n",
        "\n",
        "`set`은 순서가 없는 자료구조입니다.\n",
        "\n",
        "`dictionary`는 아이템이 삽입되는 순서를 가지고 있습니다."
      ]
    },
    {
      "cell_type": "markdown",
      "metadata": {
        "id": "jTmaUJn7c8Rr"
      },
      "source": [
        "## `set`\n",
        "\n",
        "* 세트는 수학에서의 집합과 동일하게 처리된다. \n",
        "\n",
        "* 세트는 중괄호`{}`를 통해 만들며, 순서가 없고 중복된 값이 없다.\n",
        "\n",
        "* 빈 집합을 만들려면 `set()`을 사용해야 합니다. `{}`로 사용 불가능.\n",
        "\n",
        "**활용법**\n",
        "```python\n",
        "{value1, value2, value3}\n",
        "```\n",
        "\n",
        "|연산자/함수|설명|\n",
        "|---|---|\n",
        "|a `-` b|차집합|\n",
        "|a `\\|` b|합집합|\n",
        "|a `&` b|교집합|\n",
        "|a`.difference(b)`|차집합|\n",
        "|a`.union(b)`|합집합|\n",
        "|a`.intersection(b)`|교집합|"
      ]
    },
    {
      "cell_type": "code",
      "metadata": {
        "id": "GmhWJ_RNc8Rr"
      },
      "source": [
        "# set 두개를 만들어서 연산자들을 활용해봅시다."
      ],
      "execution_count": null,
      "outputs": []
    },
    {
      "cell_type": "code",
      "metadata": {
        "id": "1KI2qb13c8Rr",
        "outputId": "33da4720-dd21-425f-d37b-ff6e3ce4cb72"
      },
      "source": [
        "set_a = {1,2,3}\n",
        "set_b = {3,6,9}\n",
        "print(set_a - set_b)\n",
        "print(set_a & set_b)\n",
        "print(set_a | set_b)\n",
        "print(type(set_a))"
      ],
      "execution_count": null,
      "outputs": [
        {
          "output_type": "stream",
          "text": [
            "{1, 2}\n",
            "{3}\n",
            "{1, 2, 3, 6, 9}\n",
            "<class 'set'>\n"
          ],
          "name": "stdout"
        }
      ]
    },
    {
      "cell_type": "code",
      "metadata": {
        "id": "qrlBOUNEc8Rs"
      },
      "source": [
        "# set은 중복된 값이 있을 수 없습니다."
      ],
      "execution_count": null,
      "outputs": []
    },
    {
      "cell_type": "code",
      "metadata": {
        "id": "v2n_TWSNc8Rs",
        "outputId": "56bd73f4-b9b6-4b6f-98a4-fb9e8c2d9075"
      },
      "source": [
        "set_c={1,1,1}\n",
        "print(set_c)"
      ],
      "execution_count": null,
      "outputs": [
        {
          "output_type": "stream",
          "text": [
            "{1}\n"
          ],
          "name": "stdout"
        }
      ]
    },
    {
      "cell_type": "markdown",
      "metadata": {
        "id": "190XC2qsc8Rs"
      },
      "source": [
        "* `set`을 활용하면 `list`의 중복된 값을 손쉽게 제거할 수 있습니다."
      ]
    },
    {
      "cell_type": "code",
      "metadata": {
        "id": "bn1ihpYkc8Rs"
      },
      "source": [
        "# set으로 중복된 값을 제거해봅시다."
      ],
      "execution_count": null,
      "outputs": []
    },
    {
      "cell_type": "code",
      "metadata": {
        "id": "x6F7ITSvc8Rs",
        "outputId": "bc53e059-0e76-451b-e77a-d39b7aef8a72"
      },
      "source": [
        "list_a=[1,2,3,1,1,2]\n",
        "set_a=set(list_a)\n",
        "print(set_a)"
      ],
      "execution_count": null,
      "outputs": [
        {
          "output_type": "stream",
          "text": [
            "{1, 2, 3}\n"
          ],
          "name": "stdout"
        }
      ]
    },
    {
      "cell_type": "code",
      "metadata": {
        "id": "oq6sfW63c8Rs"
      },
      "source": [
        "# 다시 list로 바꿔서 확인해봅시다."
      ],
      "execution_count": null,
      "outputs": []
    },
    {
      "cell_type": "code",
      "metadata": {
        "id": "QXy5AKEic8Rs"
      },
      "source": [
        ""
      ],
      "execution_count": null,
      "outputs": []
    },
    {
      "cell_type": "markdown",
      "metadata": {
        "id": "ewzHiUZPc8Rt"
      },
      "source": [
        "## `dictionary`\n",
        "\n",
        "<center><img src=\"https://user-images.githubusercontent.com/18046097/61180427-1405d880-a651-11e9-94e1-1cc5c2a2ff34.png\"></center> "
      ]
    },
    {
      "cell_type": "markdown",
      "metadata": {
        "id": "y0maEfanc8Rt"
      },
      "source": [
        "**활용법**\n",
        "```python\n",
        "{Key1:Value1, Key2:Value2, Key3:Value3, ...}\n",
        "```\n",
        "\n",
        "* 딕셔너리는 `key`와 `value`가 쌍으로 이뤄져있으며, 궁극의 자료구조이다. \n",
        "* `{}`를 통해 만들며, `dict()`로 만들 수도 있다.\n",
        "* `key`는 불변(immutable)한 모든 것이 가능하다. (불변값 : string, integer, float, boolean, tuple, range)\n",
        "* `value`는 `list`, `dictionary`를 포함한 모든 것이 가능하다."
      ]
    },
    {
      "cell_type": "code",
      "metadata": {
        "id": "IjPZqsqMc8Rt"
      },
      "source": [
        "# 비어있는 dictionary를 두가지 방법으로 만들어봅시다."
      ],
      "execution_count": null,
      "outputs": []
    },
    {
      "cell_type": "code",
      "metadata": {
        "id": "ivhv_182c8Rt",
        "outputId": "39b3cf9e-c303-4190-b68e-2baaf94c5910"
      },
      "source": [
        "dict_a={}\n",
        "print(type(dict_a))\n",
        "dict_b = dict()\n",
        "print(type(dict_b))"
      ],
      "execution_count": null,
      "outputs": [
        {
          "output_type": "stream",
          "text": [
            "<class 'dict'>\n",
            "<class 'dict'>\n"
          ],
          "name": "stdout"
        }
      ]
    },
    {
      "cell_type": "code",
      "metadata": {
        "id": "gyhSEetEc8Rt"
      },
      "source": [
        "# dictionary는 중복된 key는 존재할 수가 없습니다."
      ],
      "execution_count": null,
      "outputs": []
    },
    {
      "cell_type": "code",
      "metadata": {
        "id": "mdbgOWqSc8Rt",
        "outputId": "d95a3f3d-30e8-42d0-8376-1fa8e669621c"
      },
      "source": [
        "dict_a={1:1, 2:2, 3:3, 1:1}\n",
        "print(dict_a)"
      ],
      "execution_count": null,
      "outputs": [
        {
          "output_type": "stream",
          "text": [
            "{1: 1, 2: 2, 3: 3}\n"
          ],
          "name": "stdout"
        }
      ]
    },
    {
      "cell_type": "code",
      "metadata": {
        "id": "EUUue-Cnc8Rt"
      },
      "source": [
        "# 지역번호(서울-02 경기-031)가 담긴 전화번호부를 만들어봅시다."
      ],
      "execution_count": null,
      "outputs": []
    },
    {
      "cell_type": "code",
      "metadata": {
        "id": "UVS5OApac8Rt"
      },
      "source": [
        "phone_book = {'서울':'02', '경기':'031'}"
      ],
      "execution_count": null,
      "outputs": []
    },
    {
      "cell_type": "code",
      "metadata": {
        "id": "0tRcN9bLc8Ru"
      },
      "source": [
        "# 딕셔너리의 .keys() 메소드를 활용하여 key를 확인 해볼 수 있습니다."
      ],
      "execution_count": null,
      "outputs": []
    },
    {
      "cell_type": "code",
      "metadata": {
        "id": "-7hefJLBc8Ru",
        "outputId": "d6c4ec15-0ae0-4801-bf5f-e5746e18a2a0"
      },
      "source": [
        "phone_book.keys()"
      ],
      "execution_count": null,
      "outputs": [
        {
          "output_type": "execute_result",
          "data": {
            "text/plain": [
              "dict_keys(['서울', '경기'])"
            ]
          },
          "metadata": {
            "tags": []
          },
          "execution_count": 32
        }
      ]
    },
    {
      "cell_type": "code",
      "metadata": {
        "id": "63Q_iWGEc8Ru"
      },
      "source": [
        "# 딕셔너리의 .values() 메소드를 활용하여 value를 확인 해볼 수 있습니다."
      ],
      "execution_count": null,
      "outputs": []
    },
    {
      "cell_type": "code",
      "metadata": {
        "id": "S08eVWJvc8Ru",
        "outputId": "641964ac-a331-4e6e-aa63-0651aee1e146"
      },
      "source": [
        "phone_book.values()"
      ],
      "execution_count": null,
      "outputs": [
        {
          "output_type": "execute_result",
          "data": {
            "text/plain": [
              "dict_values(['02', '031'])"
            ]
          },
          "metadata": {
            "tags": []
          },
          "execution_count": 34
        }
      ]
    },
    {
      "cell_type": "code",
      "metadata": {
        "id": "h18k2I6cc8Ru"
      },
      "source": [
        "# 딕셔너리의 .items() 메소드를 활용하여 key, value를 확인 해볼 수 있습니다."
      ],
      "execution_count": null,
      "outputs": []
    },
    {
      "cell_type": "code",
      "metadata": {
        "id": "kkPvWLPgc8Rv",
        "outputId": "c4e64cd3-dbe4-4ff1-b34b-94ce508166ad"
      },
      "source": [
        "type(phone_book.items())"
      ],
      "execution_count": null,
      "outputs": [
        {
          "output_type": "execute_result",
          "data": {
            "text/plain": [
              "dict_items"
            ]
          },
          "metadata": {
            "tags": []
          },
          "execution_count": 38
        }
      ]
    },
    {
      "cell_type": "code",
      "metadata": {
        "id": "yMhxCq_nc8Rv",
        "outputId": "52485f94-b6db-4f0e-8127-a763647da1ba"
      },
      "source": [
        "print(phone_book.items())"
      ],
      "execution_count": null,
      "outputs": [
        {
          "output_type": "stream",
          "text": [
            "dict_items([('서울', '02'), ('경기', '031')])\n"
          ],
          "name": "stdout"
        }
      ]
    },
    {
      "cell_type": "code",
      "metadata": {
        "id": "o4HnRCigc8Rv"
      },
      "source": [
        ""
      ],
      "execution_count": null,
      "outputs": []
    },
    {
      "cell_type": "code",
      "metadata": {
        "id": "dAlVs4xpc8Rv"
      },
      "source": [
        ""
      ],
      "execution_count": null,
      "outputs": []
    },
    {
      "cell_type": "code",
      "metadata": {
        "id": "GWMBGm5Wc8Rv"
      },
      "source": [
        ""
      ],
      "execution_count": null,
      "outputs": []
    },
    {
      "cell_type": "markdown",
      "metadata": {
        "id": "XuyOwKpHc8Rw"
      },
      "source": [
        "# 정리\n",
        "## 데이터 타입\n",
        "<center><img src=\"https://user-images.githubusercontent.com/18046097/61180439-44e60d80-a651-11e9-9adc-e60fa57c2165.png\", alt=\"container\"/></center>"
      ]
    }
  ]
}
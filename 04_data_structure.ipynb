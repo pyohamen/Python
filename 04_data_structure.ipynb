{
  "nbformat": 4,
  "nbformat_minor": 0,
  "metadata": {
    "kernelspec": {
      "display_name": "Python 3",
      "language": "python",
      "name": "python3"
    },
    "language_info": {
      "codemirror_mode": {
        "name": "ipython",
        "version": 3
      },
      "file_extension": ".py",
      "mimetype": "text/x-python",
      "name": "python",
      "nbconvert_exporter": "python",
      "pygments_lexer": "ipython3",
      "version": "3.7.6"
    },
    "toc": {
      "base_numbering": 1,
      "nav_menu": {},
      "number_sections": true,
      "sideBar": true,
      "skip_h1_title": false,
      "title_cell": "Table of Contents",
      "title_sidebar": "Contents",
      "toc_cell": false,
      "toc_position": {},
      "toc_section_display": true,
      "toc_window_display": false
    },
    "colab": {
      "name": "04_data_structure.ipynb",
      "provenance": [],
      "include_colab_link": true
    }
  },
  "cells": [
    {
      "cell_type": "markdown",
      "metadata": {
        "id": "view-in-github",
        "colab_type": "text"
      },
      "source": [
        "<a href=\"https://colab.research.google.com/github/pyohamen/SSAFY/blob/master/Python/04_data_structure.ipynb\" target=\"_parent\"><img src=\"https://colab.research.google.com/assets/colab-badge.svg\" alt=\"Open In Colab\"/></a>"
      ]
    },
    {
      "cell_type": "markdown",
      "metadata": {
        "id": "jww4twuWdhbV"
      },
      "source": [
        "# 문자열 메소드 활용하기"
      ]
    },
    {
      "cell_type": "markdown",
      "metadata": {
        "id": "kTlOhtMvdhbY"
      },
      "source": [
        "## 변형\n",
        "\n",
        "### `.capitalize()`, `.title()`, `.upper()`\n",
        "\n",
        "* `.capitalize()` : 앞글자를 대문자로 만들어 반환한다.\n",
        "\n",
        "* `.title()` : 어포스트로피나 공백 이후를 대문자로 만들어 반환한다.\n",
        "\n",
        "* `.upper()` : 모두 대문자로 만들어 반환한다."
      ]
    },
    {
      "cell_type": "code",
      "metadata": {
        "id": "RWeU_8w2dhbZ"
      },
      "source": [
        "a = 'hI! Everyone, I\\'m pYOHAMIN'\n",
        "\n",
        "# 아래에 코드를 작성하세요."
      ],
      "execution_count": null,
      "outputs": []
    },
    {
      "cell_type": "code",
      "metadata": {
        "id": "Clrzws7pdhbZ",
        "outputId": "8562ef74-eb41-446d-8610-f7b6a34417a5"
      },
      "source": [
        "print(a.capitalize())\n",
        "print(a.title())\n",
        "print(a.upper())"
      ],
      "execution_count": null,
      "outputs": [
        {
          "output_type": "stream",
          "text": [
            "Hi! everyone, i'm pyohamin\n",
            "Hi! Everyone, I'M Pyohamin\n",
            "HI! EVERYONE, I'M PYOHAMIN\n"
          ],
          "name": "stdout"
        }
      ]
    },
    {
      "cell_type": "markdown",
      "metadata": {
        "id": "lWj-HEg2dhbb"
      },
      "source": [
        "### `.lower()`, `.swapcase()`\n",
        "\n",
        "* `lower()` : 모두 소문자로 만들어 반환한다.\n",
        "\n",
        "* `swapcase()` : 대 <-> 소문자로 변경하여 반환한다."
      ]
    },
    {
      "cell_type": "code",
      "metadata": {
        "id": "oE8ZFN_Kdhbb"
      },
      "source": [
        "a = 'hI! Everyone, I\\'m kim'\n",
        "\n",
        "# 아래에 코드를 작성하세요."
      ],
      "execution_count": null,
      "outputs": []
    },
    {
      "cell_type": "code",
      "metadata": {
        "id": "QvYDxVapdhbc",
        "outputId": "7b333ae9-4176-4b59-ac50-4e6a70abeedf"
      },
      "source": [
        "print(a.lower())\n",
        "print(a.swapcase())"
      ],
      "execution_count": null,
      "outputs": [
        {
          "output_type": "stream",
          "text": [
            "hi! everyone, i'm pyohamin\n",
            "Hi! eVERYONE, i'M Pyohamin\n"
          ],
          "name": "stdout"
        }
      ]
    },
    {
      "cell_type": "markdown",
      "metadata": {
        "id": "vVGgfp2Sdhbc"
      },
      "source": [
        "### `.join(iterable)`\n",
        "\n",
        "특정한 문자열로 만들어 반환합니다.\n",
        "\n",
        "Iterable 을 해당 문자열을 separator 로 합쳐서 문자열로 반환합니다.\n",
        "\n",
        "> `iterable`\n",
        ">\n",
        "> 각각의 요소를 하나씩 반환할 수 있는 객체를 말한다. List와 Tuple, Dictionary와 Set 등이 여기에 속한다."
      ]
    },
    {
      "cell_type": "code",
      "metadata": {
        "id": "2znkCb-Tdhbc"
      },
      "source": [
        "word = '배고파'\n",
        "words = ['안녕', 'hello']\n",
        "\n",
        "# 아래에 코드를 작성하세요."
      ],
      "execution_count": null,
      "outputs": []
    },
    {
      "cell_type": "code",
      "metadata": {
        "id": "36rWj2cqdhbd",
        "outputId": "e9532f8d-9fcf-49df-83e6-9654a0f2bb5d"
      },
      "source": [
        "print('!'.join(word))   ###join 앞에 연결고리를 기입해줌\n",
        "print(' '.join(word))"
      ],
      "execution_count": null,
      "outputs": [
        {
          "output_type": "stream",
          "text": [
            "배!고!파\n",
            "배 고 파\n"
          ],
          "name": "stdout"
        }
      ]
    },
    {
      "cell_type": "code",
      "metadata": {
        "id": "qaXQ1d1ldhbd",
        "outputId": "bf2e5a41-c8c4-486b-ead5-a2424b6ca712"
      },
      "source": [
        "print(words)"
      ],
      "execution_count": null,
      "outputs": [
        {
          "output_type": "stream",
          "text": [
            "['안녕', 'hello']\n"
          ],
          "name": "stdout"
        }
      ]
    },
    {
      "cell_type": "code",
      "metadata": {
        "id": "1UdfuDXAdhbe",
        "outputId": "3fb54864-5c6e-4388-d420-1bd6af23cc87"
      },
      "source": [
        "print(*words)"
      ],
      "execution_count": null,
      "outputs": [
        {
          "output_type": "stream",
          "text": [
            "안녕 hello\n"
          ],
          "name": "stdout"
        }
      ]
    },
    {
      "cell_type": "code",
      "metadata": {
        "id": "oPQxRxJ5dhbe",
        "outputId": "077355fc-867e-423c-b2e1-1a10dd55ef76"
      },
      "source": [
        "''.join(words)"
      ],
      "execution_count": null,
      "outputs": [
        {
          "output_type": "execute_result",
          "data": {
            "text/plain": [
              "'안녕hello'"
            ]
          },
          "metadata": {
            "tags": []
          },
          "execution_count": 8
        }
      ]
    },
    {
      "cell_type": "code",
      "metadata": {
        "id": "tDpzb_Mjdhbf"
      },
      "source": [
        ""
      ],
      "execution_count": null,
      "outputs": []
    },
    {
      "cell_type": "markdown",
      "metadata": {
        "id": "mVUestE4dhbf"
      },
      "source": [
        "### `.replace(old, new[, count])`\n",
        "\n",
        "바꿀 대상 글자를 새로운 글자로 바꿔서 반환합니다. \n",
        "\n",
        "count를 지정하면 해당 갯수만큼만 시행합니다."
      ]
    },
    {
      "cell_type": "code",
      "metadata": {
        "id": "iany4XQ_dhbf"
      },
      "source": [
        "# 아래에 코드를 작성하세요."
      ],
      "execution_count": null,
      "outputs": []
    },
    {
      "cell_type": "code",
      "metadata": {
        "id": "PMt5bcufdhbg",
        "outputId": "a71938b5-7e1a-462d-e728-00a19a55ea31"
      },
      "source": [
        "'yay'.replace('a', '_')"
      ],
      "execution_count": null,
      "outputs": [
        {
          "output_type": "execute_result",
          "data": {
            "text/plain": [
              "'y_y'"
            ]
          },
          "metadata": {
            "tags": []
          },
          "execution_count": 15
        }
      ]
    },
    {
      "cell_type": "code",
      "metadata": {
        "id": "Y2piDYm-dhbg",
        "outputId": "6ca6cec4-f802-4feb-8337-fea8dd363846"
      },
      "source": [
        "'wooooooooooowooo'.replace('o','a',8)"
      ],
      "execution_count": null,
      "outputs": [
        {
          "output_type": "execute_result",
          "data": {
            "text/plain": [
              "'waaaaaaaaooowooo'"
            ]
          },
          "metadata": {
            "tags": []
          },
          "execution_count": 19
        }
      ]
    },
    {
      "cell_type": "markdown",
      "metadata": {
        "id": "Q0PSj8sbdhbg"
      },
      "source": [
        "### `.strip([chars])`\n",
        "\n",
        "특정한 문자들을 지정하면,  양쪽을 제거하거나 왼쪽을 제거하거나(lstrip), 오른쪽을 제거합니다(rstrip).\n",
        "\n",
        "지정하지 않으면 공백을 제거합니다."
      ]
    },
    {
      "cell_type": "code",
      "metadata": {
        "id": "lUn7K0zodhbh"
      },
      "source": [
        "# 아래에 코드를 작성하세요."
      ],
      "execution_count": null,
      "outputs": []
    },
    {
      "cell_type": "code",
      "metadata": {
        "id": "YRoWZPy9dhbh",
        "outputId": "2e3c9fdc-1380-4600-903c-91f5ffe3b3c3"
      },
      "source": [
        "'           oh!          '.strip()"
      ],
      "execution_count": null,
      "outputs": [
        {
          "output_type": "execute_result",
          "data": {
            "text/plain": [
              "'oh!'"
            ]
          },
          "metadata": {
            "tags": []
          },
          "execution_count": 20
        }
      ]
    },
    {
      "cell_type": "code",
      "metadata": {
        "id": "M-9KZC0Kdhbh",
        "outputId": "ecd02775-6cde-488c-807f-cb6877bd22f7"
      },
      "source": [
        "'                oh!            '.lstrip()"
      ],
      "execution_count": null,
      "outputs": [
        {
          "output_type": "execute_result",
          "data": {
            "text/plain": [
              "'oh!            '"
            ]
          },
          "metadata": {
            "tags": []
          },
          "execution_count": 22
        }
      ]
    },
    {
      "cell_type": "code",
      "metadata": {
        "id": "PlkQf0Tkdhbh",
        "outputId": "bbab0748-6c19-4e71-cc12-e476b225c086"
      },
      "source": [
        "'         oh!          '.rstrip()"
      ],
      "execution_count": null,
      "outputs": [
        {
          "output_type": "execute_result",
          "data": {
            "text/plain": [
              "'         oh!'"
            ]
          },
          "metadata": {
            "tags": []
          },
          "execution_count": 23
        }
      ]
    },
    {
      "cell_type": "code",
      "metadata": {
        "id": "qjfRRHwpdhbi",
        "outputId": "4742ed1f-c29f-4c0c-e96d-b350f99809db"
      },
      "source": [
        "'hehehehehehehehihihihihihi'.rstrip('hi')"
      ],
      "execution_count": null,
      "outputs": [
        {
          "output_type": "execute_result",
          "data": {
            "text/plain": [
              "'hehehehehehehe'"
            ]
          },
          "metadata": {
            "tags": []
          },
          "execution_count": 24
        }
      ]
    },
    {
      "cell_type": "code",
      "metadata": {
        "id": "veApSWuddhbi",
        "outputId": "de319ebb-7d94-4a0a-d501-5a460b3465c6"
      },
      "source": [
        "'hehehehhihihihihehehehi'.rstrip('hi')\n",
        "\n",
        "### 오르쪽부터 시작해서 같은 것 까지만 제거해줌"
      ],
      "execution_count": null,
      "outputs": [
        {
          "output_type": "execute_result",
          "data": {
            "text/plain": [
              "'hehehehhihihihihehehe'"
            ]
          },
          "metadata": {
            "tags": []
          },
          "execution_count": 27
        }
      ]
    },
    {
      "cell_type": "markdown",
      "metadata": {
        "id": "lG02Yj0_dhbi"
      },
      "source": [
        "## 탐색 및 검증\n",
        "\n",
        "### `.find(x)` \n",
        "\n",
        "x의 첫 번째 **위치를 반환**합니다. 없으면, -1을 반환합니다."
      ]
    },
    {
      "cell_type": "code",
      "metadata": {
        "id": "oSC0isBVdhbi"
      },
      "source": [
        "# 아래에 코드를 작성하세요.\n",
        "\n",
        "### *** \"\".get\"\" 코드\n",
        "## find 코드는 없어도 오류가 나지 않음"
      ],
      "execution_count": null,
      "outputs": []
    },
    {
      "cell_type": "code",
      "metadata": {
        "id": "u1X18IOYdhbj",
        "outputId": "2070405b-086b-4b0b-e170-24bbba6da6ca"
      },
      "source": [
        "'apple'.find('p')"
      ],
      "execution_count": null,
      "outputs": [
        {
          "output_type": "execute_result",
          "data": {
            "text/plain": [
              "1"
            ]
          },
          "metadata": {
            "tags": []
          },
          "execution_count": 28
        }
      ]
    },
    {
      "cell_type": "code",
      "metadata": {
        "id": "dt5otpwDdhbj",
        "outputId": "9c092933-fcf3-4b39-d18d-84c275d10a99"
      },
      "source": [
        "'apple'.find('f')"
      ],
      "execution_count": null,
      "outputs": [
        {
          "output_type": "execute_result",
          "data": {
            "text/plain": [
              "-1"
            ]
          },
          "metadata": {
            "tags": []
          },
          "execution_count": 29
        }
      ]
    },
    {
      "cell_type": "markdown",
      "metadata": {
        "id": "xQ0JZF-kdhbj"
      },
      "source": [
        "### `.index(x)`\n",
        "\n",
        "x의 첫번째 위치를 반환합니다. 없으면, **오류가 발생**합니다."
      ]
    },
    {
      "cell_type": "code",
      "metadata": {
        "id": "JvHmDdVydhbj"
      },
      "source": [
        "# 아래에 코드를 작성하세요."
      ],
      "execution_count": null,
      "outputs": []
    },
    {
      "cell_type": "code",
      "metadata": {
        "id": "CTf76ZFYdhbj",
        "outputId": "32e0bb29-1957-479c-9c6b-82808b73fa50"
      },
      "source": [
        "'apple'.index('p')"
      ],
      "execution_count": null,
      "outputs": [
        {
          "output_type": "execute_result",
          "data": {
            "text/plain": [
              "1"
            ]
          },
          "metadata": {
            "tags": []
          },
          "execution_count": 30
        }
      ]
    },
    {
      "cell_type": "code",
      "metadata": {
        "id": "zKP29cIndhbk",
        "outputId": "ca299093-59d7-4f3c-84e9-588394194550"
      },
      "source": [
        "'apple'.index('f')\n",
        "\n",
        "# 없으면 오류!"
      ],
      "execution_count": null,
      "outputs": [
        {
          "output_type": "error",
          "ename": "ValueError",
          "evalue": "substring not found",
          "traceback": [
            "\u001b[1;31m---------------------------------------------------------------------------\u001b[0m",
            "\u001b[1;31mValueError\u001b[0m                                Traceback (most recent call last)",
            "\u001b[1;32m<ipython-input-31-7109cbb83803>\u001b[0m in \u001b[0;36m<module>\u001b[1;34m\u001b[0m\n\u001b[1;32m----> 1\u001b[1;33m \u001b[1;34m'apple'\u001b[0m\u001b[1;33m.\u001b[0m\u001b[0mindex\u001b[0m\u001b[1;33m(\u001b[0m\u001b[1;34m'f'\u001b[0m\u001b[1;33m)\u001b[0m\u001b[1;33m\u001b[0m\u001b[1;33m\u001b[0m\u001b[0m\n\u001b[0m",
            "\u001b[1;31mValueError\u001b[0m: substring not found"
          ]
        }
      ]
    },
    {
      "cell_type": "markdown",
      "metadata": {
        "id": "lXSTWmCPdhbk"
      },
      "source": [
        "## `.split()`\n",
        "\n",
        "**문자열을** 특정한 단위로 나누어 **리스트로** 반환합니다."
      ]
    },
    {
      "cell_type": "code",
      "metadata": {
        "id": "uswWRibfdhbk"
      },
      "source": [
        "# 아래에 코드를 작성하세요."
      ],
      "execution_count": null,
      "outputs": []
    },
    {
      "cell_type": "code",
      "metadata": {
        "id": "q-eAa7qmdhbk",
        "outputId": "c29bdf24-4832-43f9-f999-3508f6c30b16"
      },
      "source": [
        "'a_b_c-d'.split('_')"
      ],
      "execution_count": null,
      "outputs": [
        {
          "output_type": "execute_result",
          "data": {
            "text/plain": [
              "['a', 'b', 'c-d']"
            ]
          },
          "metadata": {
            "tags": []
          },
          "execution_count": 1
        }
      ]
    },
    {
      "cell_type": "code",
      "metadata": {
        "id": "xSIDHvUedhbk",
        "outputId": "cbd82312-414b-4458-ec1b-2df9c05b999b"
      },
      "source": [
        "inputs = input().split('')\n",
        "print(inputs)\n",
        "\n",
        "### 띄어쓰기가 안 되어있는 str은 어떻게 리스트로 나눌까?"
      ],
      "execution_count": null,
      "outputs": [
        {
          "output_type": "stream",
          "text": [
            "d\n"
          ],
          "name": "stdout"
        },
        {
          "output_type": "error",
          "ename": "ValueError",
          "evalue": "empty separator",
          "traceback": [
            "\u001b[1;31m---------------------------------------------------------------------------\u001b[0m",
            "\u001b[1;31mValueError\u001b[0m                                Traceback (most recent call last)",
            "\u001b[1;32m<ipython-input-7-bfe0c1629502>\u001b[0m in \u001b[0;36m<module>\u001b[1;34m\u001b[0m\n\u001b[1;32m----> 1\u001b[1;33m \u001b[0minputs\u001b[0m \u001b[1;33m=\u001b[0m \u001b[0minput\u001b[0m\u001b[1;33m(\u001b[0m\u001b[1;33m)\u001b[0m\u001b[1;33m.\u001b[0m\u001b[0msplit\u001b[0m\u001b[1;33m(\u001b[0m\u001b[1;34m''\u001b[0m\u001b[1;33m)\u001b[0m\u001b[1;33m\u001b[0m\u001b[1;33m\u001b[0m\u001b[0m\n\u001b[0m\u001b[0;32m      2\u001b[0m \u001b[0mprint\u001b[0m\u001b[1;33m(\u001b[0m\u001b[0minputs\u001b[0m\u001b[1;33m)\u001b[0m\u001b[1;33m\u001b[0m\u001b[1;33m\u001b[0m\u001b[0m\n\u001b[0;32m      3\u001b[0m \u001b[1;33m\u001b[0m\u001b[0m\n\u001b[0;32m      4\u001b[0m \u001b[1;31m### 띄어쓰기가 안 되어있는 str은 어떻게 리스트로 나눌까?\u001b[0m\u001b[1;33m\u001b[0m\u001b[1;33m\u001b[0m\u001b[1;33m\u001b[0m\u001b[0m\n",
            "\u001b[1;31mValueError\u001b[0m: empty separator"
          ]
        }
      ]
    },
    {
      "cell_type": "code",
      "metadata": {
        "id": "obWJb2TGdhbl",
        "outputId": "8894d2dd-009b-447d-d17e-262bdd9a91dd"
      },
      "source": [
        "a='krishan' ### str은 연속된 자료형 그래서 list처럼 indexing도 가능함\n",
        "                #### str 은 시퀀스형 자료형\n",
        "print(list(a))\n",
        "\n",
        "# "
      ],
      "execution_count": null,
      "outputs": [
        {
          "output_type": "stream",
          "text": [
            "['k', 'r', 'i', 's', 'h', 'a', 'n']\n"
          ],
          "name": "stdout"
        }
      ]
    },
    {
      "cell_type": "code",
      "metadata": {
        "id": "2izd2gHKdhbl"
      },
      "source": [
        "ex='안녕하세요'"
      ],
      "execution_count": null,
      "outputs": []
    },
    {
      "cell_type": "code",
      "metadata": {
        "id": "IAt2tSILdhbl",
        "outputId": "aa60a63d-0c68-4843-867d-8483db3faf9f"
      },
      "source": [
        "list(ex)"
      ],
      "execution_count": null,
      "outputs": [
        {
          "output_type": "execute_result",
          "data": {
            "text/plain": [
              "['안', '녕', '하', '세', '요']"
            ]
          },
          "metadata": {
            "tags": []
          },
          "execution_count": 2
        }
      ]
    },
    {
      "cell_type": "code",
      "metadata": {
        "id": "LkbThGJydhbl"
      },
      "source": [
        "ex_1='3 17 1 39 8 41 2 32 99 2'"
      ],
      "execution_count": null,
      "outputs": []
    },
    {
      "cell_type": "code",
      "metadata": {
        "id": "_IMX2jsUdhbm",
        "outputId": "e54f4288-47d7-403d-92c4-0e5e9caa15bf"
      },
      "source": [
        "list(ex_1)"
      ],
      "execution_count": null,
      "outputs": [
        {
          "output_type": "execute_result",
          "data": {
            "text/plain": [
              "['3',\n",
              " ' ',\n",
              " '1',\n",
              " '7',\n",
              " ' ',\n",
              " '1',\n",
              " ' ',\n",
              " '3',\n",
              " '9',\n",
              " ' ',\n",
              " '8',\n",
              " ' ',\n",
              " '4',\n",
              " '1',\n",
              " ' ',\n",
              " '2',\n",
              " ' ',\n",
              " '3',\n",
              " '2',\n",
              " ' ',\n",
              " '9',\n",
              " '9',\n",
              " ' ',\n",
              " '2']"
            ]
          },
          "metadata": {
            "tags": []
          },
          "execution_count": 4
        }
      ]
    },
    {
      "cell_type": "code",
      "metadata": {
        "id": "bDdukp7Ndhbm"
      },
      "source": [
        ""
      ],
      "execution_count": null,
      "outputs": []
    },
    {
      "cell_type": "markdown",
      "metadata": {
        "id": "yflbraTYdhbm"
      },
      "source": [
        "## 다양한 확인 메소드 : 참/거짓 반환\n",
        "```\n",
        ".isalpha(), .isdecimal(), .isdigit(), .isnumeric(), .isspace(), .isupper(), .istitle(), .islower()\n",
        "```"
      ]
    },
    {
      "cell_type": "code",
      "metadata": {
        "id": "oUOiDSs1dhbm",
        "outputId": "97b643c2-c0a8-4b7d-ee90-7b97a2afa67b"
      },
      "source": [
        "# 다음 명령어로 문자열 메소드를 확인할 수 있습니다.\n",
        "print(dir([1,2,3]))\n",
        "print(dir('dir'))"
      ],
      "execution_count": null,
      "outputs": [
        {
          "output_type": "stream",
          "text": [
            "['__add__', '__class__', '__contains__', '__delattr__', '__delitem__', '__dir__', '__doc__', '__eq__', '__format__', '__ge__', '__getattribute__', '__getitem__', '__gt__', '__hash__', '__iadd__', '__imul__', '__init__', '__init_subclass__', '__iter__', '__le__', '__len__', '__lt__', '__mul__', '__ne__', '__new__', '__reduce__', '__reduce_ex__', '__repr__', '__reversed__', '__rmul__', '__setattr__', '__setitem__', '__sizeof__', '__str__', '__subclasshook__', 'append', 'clear', 'copy', 'count', 'extend', 'index', 'insert', 'pop', 'remove', 'reverse', 'sort']\n",
            "['__add__', '__class__', '__contains__', '__delattr__', '__dir__', '__doc__', '__eq__', '__format__', '__ge__', '__getattribute__', '__getitem__', '__getnewargs__', '__gt__', '__hash__', '__init__', '__init_subclass__', '__iter__', '__le__', '__len__', '__lt__', '__mod__', '__mul__', '__ne__', '__new__', '__reduce__', '__reduce_ex__', '__repr__', '__rmod__', '__rmul__', '__setattr__', '__sizeof__', '__str__', '__subclasshook__', 'capitalize', 'casefold', 'center', 'count', 'encode', 'endswith', 'expandtabs', 'find', 'format', 'format_map', 'index', 'isalnum', 'isalpha', 'isascii', 'isdecimal', 'isdigit', 'isidentifier', 'islower', 'isnumeric', 'isprintable', 'isspace', 'istitle', 'isupper', 'join', 'ljust', 'lower', 'lstrip', 'maketrans', 'partition', 'replace', 'rfind', 'rindex', 'rjust', 'rpartition', 'rsplit', 'rstrip', 'split', 'splitlines', 'startswith', 'strip', 'swapcase', 'title', 'translate', 'upper', 'zfill']\n"
          ],
          "name": "stdout"
        }
      ]
    },
    {
      "cell_type": "markdown",
      "metadata": {
        "id": "peejPHJHdhbm"
      },
      "source": [
        "# 리스트 메소드 활용하기\n",
        "\n",
        "## 값 추가 및 삭제\n",
        "\n",
        "### `.append(x)`\n",
        "\n",
        "리스트에 값을 추가할 수 있습니다."
      ]
    },
    {
      "cell_type": "code",
      "metadata": {
        "id": "B1p3ahovdhbm"
      },
      "source": [
        "# 카페 리스트를 만들어봅시다.\n",
        "cafe = ['starbucks', 'tomntoms', 'hollys']"
      ],
      "execution_count": null,
      "outputs": []
    },
    {
      "cell_type": "code",
      "metadata": {
        "id": "6fPCE58wdhbn"
      },
      "source": [
        "# 값을 추가해봅시다."
      ],
      "execution_count": null,
      "outputs": []
    },
    {
      "cell_type": "code",
      "metadata": {
        "id": "roWpaLOsdhbn",
        "outputId": "d833ad73-a619-491e-a72c-aff2d881855d"
      },
      "source": [
        "cafe.append('caffebene')\n",
        "print(cafe)"
      ],
      "execution_count": null,
      "outputs": [
        {
          "output_type": "stream",
          "text": [
            "['starbucks', 'tomntoms', 'hollys', 'caffebene']\n"
          ],
          "name": "stdout"
        }
      ]
    },
    {
      "cell_type": "markdown",
      "metadata": {
        "id": "RR10mkFSdhbn"
      },
      "source": [
        "### `.extend(iterable)`\n",
        "\n",
        "리스트에 iterable(list, range, tuple, string*유의*) 값을 붙일 수가 있습니다."
      ]
    },
    {
      "cell_type": "code",
      "metadata": {
        "id": "jL8up5gJdhbn"
      },
      "source": [
        "# 앞서 만든 리스트에 추가해봅시다."
      ],
      "execution_count": null,
      "outputs": []
    },
    {
      "cell_type": "code",
      "metadata": {
        "id": "Ew7G_I_Zdhbn",
        "outputId": "d5452eca-1c00-4c8a-937c-2c4083211768"
      },
      "source": [
        "cafe.extend(['droptop','빽다방'])\n",
        "print(cafe)\n",
        "\n",
        "### +로 리스트는 붙일 수 있는데 굳이 이 함수를..?"
      ],
      "execution_count": null,
      "outputs": [
        {
          "output_type": "stream",
          "text": [
            "['starbucks', 'tomntoms', 'hollys', 'caffebene', 'droptop', '빽다방', 'droptop', '빽다방', 'droptop', '빽다방', '이것도', '이것도', 'droptop', '빽다방']\n"
          ],
          "name": "stdout"
        }
      ]
    },
    {
      "cell_type": "code",
      "metadata": {
        "id": "Qsv5kFi6dhbo",
        "outputId": "c5730189-64b0-40a7-f17f-f1951e1c0a49"
      },
      "source": [
        "cafe +=['이것도']\n",
        "print(cafe)"
      ],
      "execution_count": null,
      "outputs": [
        {
          "output_type": "stream",
          "text": [
            "['starbucks', 'tomntoms', 'hollys', 'caffebene', 'droptop', '빽다방', 'droptop', '빽다방', 'droptop', '빽다방', '이것도', '이것도', 'droptop', '빽다방', '이것도', '이것도', '이것도', '이것도']\n"
          ],
          "name": "stdout"
        }
      ]
    },
    {
      "cell_type": "code",
      "metadata": {
        "id": "R_eLvsVSdhbo",
        "outputId": "d6b939a2-b3db-4376-f93b-8b0be4479443"
      },
      "source": [
        "cafe.append(['coffeenie']) #값으로 넣는 것\n",
        "print(cafe)\n",
        "print('-----')\n",
        "\n",
        "cafe.extend(['coffinegurunaru']) # 리스트에 연장하는 것\n",
        "print(cafe)\n",
        "print('-----')\n",
        "\n",
        "cafe.extend('coffinegurunaru') # str 하나하나가 슬라이싱되어 들어감\n",
        "print(cafe)"
      ],
      "execution_count": null,
      "outputs": [
        {
          "output_type": "stream",
          "text": [
            "['starbucks', 'tomntoms', 'hollys', 'caffebene', 'droptop', '빽다방', 'droptop', '빽다방', 'droptop', '빽다방', '이것도', '이것도', 'droptop', '빽다방', '이것도', '이것도', '이것도', '이것도', ['coffeenie']]\n",
            "-----\n",
            "['starbucks', 'tomntoms', 'hollys', 'caffebene', 'droptop', '빽다방', 'droptop', '빽다방', 'droptop', '빽다방', '이것도', '이것도', 'droptop', '빽다방', '이것도', '이것도', '이것도', '이것도', ['coffeenie'], 'coffinegurunaru']\n",
            "-----\n",
            "['starbucks', 'tomntoms', 'hollys', 'caffebene', 'droptop', '빽다방', 'droptop', '빽다방', 'droptop', '빽다방', '이것도', '이것도', 'droptop', '빽다방', '이것도', '이것도', '이것도', '이것도', ['coffeenie'], 'coffinegurunaru', 'c', 'o', 'f', 'f', 'i', 'n', 'e', 'g', 'u', 'r', 'u', 'n', 'a', 'r', 'u']\n"
          ],
          "name": "stdout"
        }
      ]
    },
    {
      "cell_type": "code",
      "metadata": {
        "id": "T1XIr1GWdhbo"
      },
      "source": [
        "# 앞서 배운 list concatenate와 동일합니다."
      ],
      "execution_count": null,
      "outputs": []
    },
    {
      "cell_type": "code",
      "metadata": {
        "id": "hXmHzIeHdhbo"
      },
      "source": [
        ""
      ],
      "execution_count": null,
      "outputs": []
    },
    {
      "cell_type": "code",
      "metadata": {
        "id": "jZYT-DHGdhbo"
      },
      "source": [
        "# append와 비교해봅시다."
      ],
      "execution_count": null,
      "outputs": []
    },
    {
      "cell_type": "code",
      "metadata": {
        "id": "7BAOgf3xdhbo"
      },
      "source": [
        ""
      ],
      "execution_count": null,
      "outputs": []
    },
    {
      "cell_type": "markdown",
      "metadata": {
        "id": "Y2wk3vhGdhbp"
      },
      "source": [
        "## `.insert(i, x)`\n",
        "\n",
        "**유용!!!** 정해진 위치 `i`에 값을 추가합니다. "
      ]
    },
    {
      "cell_type": "code",
      "metadata": {
        "id": "jrPeJCNTdhbp"
      },
      "source": [
        "# 앞서 만든 리스트의 가장 앞에 'hi'를 넣어봅시다."
      ],
      "execution_count": null,
      "outputs": []
    },
    {
      "cell_type": "code",
      "metadata": {
        "id": "hNzKYQtKdhbp",
        "outputId": "5dc1c14c-96e8-4bbe-b580-5b898ce2c178"
      },
      "source": [
        "cafe.insert(0,'hi')\n",
        "print(cafe)"
      ],
      "execution_count": null,
      "outputs": [
        {
          "output_type": "stream",
          "text": [
            "['hi', 'starbucks', 'tomntoms', 'hollys', 'caffebene', 'droptop', '빽다방', 'droptop', '빽다방', 'droptop', '빽다방', '이것도', '이것도', 'droptop', '빽다방', '이것도', '이것도', '이것도', '이것도', ['coffeenie'], 'coffinegurunaru', 'c', 'o', 'f', 'f', 'i', 'n', 'e', 'g', 'u', 'r', 'u', 'n', 'a', 'r', 'u']\n"
          ],
          "name": "stdout"
        }
      ]
    },
    {
      "cell_type": "code",
      "metadata": {
        "id": "RnnHYHNrdhbp"
      },
      "source": [
        "# 앞서 만든 리스트의 가장 뒤에 'bye'를 넣어봅시다"
      ],
      "execution_count": null,
      "outputs": []
    },
    {
      "cell_type": "code",
      "metadata": {
        "id": "eCTW4IZ_dhbp",
        "outputId": "712eceeb-9369-452b-895c-388f7d338e78"
      },
      "source": [
        "cafe.insert(len(cafe),'bye')\n",
        "\n",
        "#insert 만 실행했다가 프린트 다시 실행해서 뒤에 두개 붙음\n",
        "\n",
        "print(cafe)"
      ],
      "execution_count": null,
      "outputs": [
        {
          "output_type": "stream",
          "text": [
            "['hi', 'starbucks', 'tomntoms', 'hollys', 'caffebene', 'droptop', '빽다방', 'droptop', '빽다방', 'droptop', '빽다방', '이것도', '이것도', 'droptop', '빽다방', '이것도', '이것도', '이것도', '이것도', ['coffeenie'], 'coffinegurunaru', 'c', 'o', 'f', 'f', 'i', 'n', 'e', 'g', 'u', 'r', 'u', 'n', 'a', 'r', 'u', 'bye', 'bye', 'bye']\n"
          ],
          "name": "stdout"
        }
      ]
    },
    {
      "cell_type": "code",
      "metadata": {
        "id": "DzyP2sAzdhbq"
      },
      "source": [
        "# 리스트의 길이를 넘어서는 인덱스는 마지막에 아이템이 추가됩니다. ***"
      ],
      "execution_count": null,
      "outputs": []
    },
    {
      "cell_type": "code",
      "metadata": {
        "id": "9FYWMX2vdhbq",
        "outputId": "9d4b2e77-8a90-4720-bc5b-cf3f79e1cea1"
      },
      "source": [
        "cafe.insert(len(cafe)+550, '!')\n",
        "print(cafe)\n",
        "\n",
        "### int 는 길이 제한이 있음"
      ],
      "execution_count": null,
      "outputs": [
        {
          "output_type": "stream",
          "text": [
            "['hi', 'starbucks', 'tomntoms', 'hollys', 'caffebene', 'droptop', '빽다방', 'droptop', '빽다방', 'droptop', '빽다방', '이것도', '이것도', 'droptop', '빽다방', '이것도', '이것도', '이것도', '이것도', ['coffeenie'], 'coffinegurunaru', 'c', 'o', 'f', 'f', 'i', 'n', 'e', 'g', 'u', 'r', 'u', 'n', 'a', 'r', 'u', 'bye', 'bye', 'bye', '!', '!']\n"
          ],
          "name": "stdout"
        }
      ]
    },
    {
      "cell_type": "markdown",
      "metadata": {
        "id": "NrTMk_3Edhbq"
      },
      "source": [
        "### `.remove(x)`\n",
        "\n",
        "리스트에서 값이 x인 것을 삭제합니다. "
      ]
    },
    {
      "cell_type": "code",
      "metadata": {
        "id": "vG8onJd1dhbq"
      },
      "source": [
        "# remove를 사용해봅시다.\n",
        "numbers = [1, 2, 3, 1, 2]"
      ],
      "execution_count": null,
      "outputs": []
    },
    {
      "cell_type": "code",
      "metadata": {
        "id": "iTsGmTcEdhbq"
      },
      "source": [
        "# 중복된 값 1을 삭제 해봅시다."
      ],
      "execution_count": null,
      "outputs": []
    },
    {
      "cell_type": "code",
      "metadata": {
        "id": "vTtduzz9dhbq",
        "outputId": "63c5086f-c087-4791-ecc8-6a40908421af"
      },
      "source": [
        "numbers.remove(1)\n",
        "print(numbers)"
      ],
      "execution_count": null,
      "outputs": [
        {
          "output_type": "stream",
          "text": [
            "[2, 3, 1, 2]\n"
          ],
          "name": "stdout"
        }
      ]
    },
    {
      "cell_type": "code",
      "metadata": {
        "id": "UTYb_Zk7dhbr"
      },
      "source": [
        "# 한번 더 삭제해봅시다."
      ],
      "execution_count": null,
      "outputs": []
    },
    {
      "cell_type": "code",
      "metadata": {
        "id": "bi-W6fZsdhbr",
        "outputId": "48eeceb5-114e-43cb-8917-dd753a5a8a6f"
      },
      "source": [
        "numbers.remove(1)\n",
        "print(numbers)"
      ],
      "execution_count": null,
      "outputs": [
        {
          "output_type": "stream",
          "text": [
            "[2, 3, 2]\n"
          ],
          "name": "stdout"
        }
      ]
    },
    {
      "cell_type": "code",
      "metadata": {
        "id": "05ANyaTZdhbr"
      },
      "source": [
        "# remove는 값이 없으면 오류가 발생합니다. 확인해봅시다."
      ],
      "execution_count": null,
      "outputs": []
    },
    {
      "cell_type": "code",
      "metadata": {
        "id": "gB4L1o-Tdhbr",
        "outputId": "629289b7-0b4d-4093-91c6-0dc94c9172da"
      },
      "source": [
        "numbers.remove(1)\n",
        "print(numbers)"
      ],
      "execution_count": null,
      "outputs": [
        {
          "output_type": "error",
          "ename": "ValueError",
          "evalue": "list.remove(x): x not in list",
          "traceback": [
            "\u001b[1;31m---------------------------------------------------------------------------\u001b[0m",
            "\u001b[1;31mValueError\u001b[0m                                Traceback (most recent call last)",
            "\u001b[1;32m<ipython-input-34-25a5cce54eab>\u001b[0m in \u001b[0;36m<module>\u001b[1;34m\u001b[0m\n\u001b[1;32m----> 1\u001b[1;33m \u001b[0mnumbers\u001b[0m\u001b[1;33m.\u001b[0m\u001b[0mremove\u001b[0m\u001b[1;33m(\u001b[0m\u001b[1;36m1\u001b[0m\u001b[1;33m)\u001b[0m\u001b[1;33m\u001b[0m\u001b[1;33m\u001b[0m\u001b[0m\n\u001b[0m\u001b[0;32m      2\u001b[0m \u001b[0mprint\u001b[0m\u001b[1;33m(\u001b[0m\u001b[0mnumbers\u001b[0m\u001b[1;33m)\u001b[0m\u001b[1;33m\u001b[0m\u001b[1;33m\u001b[0m\u001b[0m\n",
            "\u001b[1;31mValueError\u001b[0m: list.remove(x): x not in list"
          ]
        }
      ]
    },
    {
      "cell_type": "markdown",
      "metadata": {
        "id": "8RPX3v1Zdhbs"
      },
      "source": [
        "### `.pop(i)`\n",
        "\n",
        "정해진 위치 `i`에 있는 값을 삭제하며, 그 항목을 반환합니다.\n",
        "\n",
        "`i`가 지정되지 않으면 마지막 항목을 삭제하고 되돌려줍니다."
      ]
    },
    {
      "cell_type": "code",
      "metadata": {
        "id": "a6lEchBUdhbs"
      },
      "source": [
        "# pop을 사용해봅시다.\n",
        "a = [1, 2, 3, 4, 5, 6]"
      ],
      "execution_count": null,
      "outputs": []
    },
    {
      "cell_type": "code",
      "metadata": {
        "id": "cYgQ8iuRdhbs"
      },
      "source": [
        "# 가장 앞에 있는 것을 삭제해봅시다. return도 확인해보세요."
      ],
      "execution_count": null,
      "outputs": []
    },
    {
      "cell_type": "code",
      "metadata": {
        "id": "X1gsLzYmdhbs",
        "outputId": "f4e941f5-1aac-45cf-9bbf-c295555215ea"
      },
      "source": [
        "print(a.pop(0)) #두번 실행시켜서 맨 앞 두개 날라감\n",
        "print(a)"
      ],
      "execution_count": null,
      "outputs": [
        {
          "output_type": "stream",
          "text": [
            "2\n",
            "[3, 4, 5, 6]\n"
          ],
          "name": "stdout"
        }
      ]
    },
    {
      "cell_type": "code",
      "metadata": {
        "id": "Otp5ODSSdhbt"
      },
      "source": [
        "# 값이 return이 된다는 것은 별도의 변수에 저장할 수 있다는 것입니다. "
      ],
      "execution_count": null,
      "outputs": []
    },
    {
      "cell_type": "code",
      "metadata": {
        "id": "5BtTPMp_dhbt",
        "outputId": "bd2d126c-473e-4d55-dbe0-adc24bbfe68d"
      },
      "source": [
        "print(a)\n",
        "deleted_value=a.pop()\n",
        "print(f'{deleted_value}가 삭제되어 {a}가 되었습니다.')"
      ],
      "execution_count": null,
      "outputs": [
        {
          "output_type": "stream",
          "text": [
            "[3, 4, 5, 6]\n",
            "6가 삭제되어 [3, 4, 5]가 되었습니다.\n"
          ],
          "name": "stdout"
        }
      ]
    },
    {
      "cell_type": "code",
      "metadata": {
        "id": "H7qQhaXBdhbt",
        "outputId": "f23beaf0-8d59-45b5-dc53-367ee7a8214a"
      },
      "source": [
        "print(a)\n",
        "deleted_value=a.pop()\n",
        "print(f'{deleted_value}가 삭제되어 {a}가 되었습니다.')"
      ],
      "execution_count": null,
      "outputs": [
        {
          "output_type": "stream",
          "text": [
            "[3, 4, 5]\n",
            "5가 삭제되어 [3, 4]가 되었습니다.\n"
          ],
          "name": "stdout"
        }
      ]
    },
    {
      "cell_type": "markdown",
      "metadata": {
        "id": "I091mRFQdhbu"
      },
      "source": [
        "### `.clear()`\n",
        "\n",
        "리스트의 모든 항목을 삭제합니다. (자주 안 씀)"
      ]
    },
    {
      "cell_type": "code",
      "metadata": {
        "id": "DlpAG6BIdhbu"
      },
      "source": [
        "# clear를 사용해봅시다."
      ],
      "execution_count": null,
      "outputs": []
    },
    {
      "cell_type": "code",
      "metadata": {
        "id": "nt1Qm2I4dhbx",
        "outputId": "f40bbe07-c07e-4afc-8124-67081fbf898b"
      },
      "source": [
        "numbers = list(range(1, 46))\n",
        "print(numbers)\n",
        "print('-----------------------------------')\n",
        "numbers.clear()\n",
        "print(numbers)"
      ],
      "execution_count": null,
      "outputs": [
        {
          "output_type": "stream",
          "text": [
            "[1, 2, 3, 4, 5, 6, 7, 8, 9, 10, 11, 12, 13, 14, 15, 16, 17, 18, 19, 20, 21, 22, 23, 24, 25, 26, 27, 28, 29, 30, 31, 32, 33, 34, 35, 36, 37, 38, 39, 40, 41, 42, 43, 44, 45]\n",
            "-----------------------------------\n",
            "[]\n"
          ],
          "name": "stdout"
        }
      ]
    },
    {
      "cell_type": "markdown",
      "metadata": {
        "id": "jLWKBjxwdhbx"
      },
      "source": [
        "## 탐색 및 정렬"
      ]
    },
    {
      "cell_type": "markdown",
      "metadata": {
        "id": "oMG6catsdhbx"
      },
      "source": [
        "### `.index(x)`\n",
        "\n",
        "x 값을 찾아 해당 **index 값을** 반환합니다."
      ]
    },
    {
      "cell_type": "code",
      "metadata": {
        "id": "0YBYiCnjdhbx"
      },
      "source": [
        "# index를 사용해봅시다.\n",
        "a = [1, 2, 3, 4, 5]"
      ],
      "execution_count": null,
      "outputs": []
    },
    {
      "cell_type": "code",
      "metadata": {
        "id": "F84-wF2Udhby",
        "outputId": "02e98ec1-c806-4646-8f43-c49da7463ccd"
      },
      "source": [
        "a.index(5)"
      ],
      "execution_count": null,
      "outputs": [
        {
          "output_type": "execute_result",
          "data": {
            "text/plain": [
              "4"
            ]
          },
          "metadata": {
            "tags": []
          },
          "execution_count": 44
        }
      ]
    },
    {
      "cell_type": "code",
      "metadata": {
        "id": "lPdSOkMmdhby",
        "outputId": "39f33b26-2107-4c03-accc-876942b00598"
      },
      "source": [
        "# index는 없을 시 오류가 발생합니다. 확인해봅시다. \n",
        "# 앞서 remove 역시도 같은 에러가 발생하였습니다. (ValueError)\n",
        "print(a[4])"
      ],
      "execution_count": null,
      "outputs": [
        {
          "output_type": "stream",
          "text": [
            "5\n"
          ],
          "name": "stdout"
        }
      ]
    },
    {
      "cell_type": "markdown",
      "metadata": {
        "id": "P68rMMuHdhby"
      },
      "source": [
        "### `.count(x)`\n",
        "\n",
        "원하는 값의 개수를 확인할 수 있습니다."
      ]
    },
    {
      "cell_type": "code",
      "metadata": {
        "id": "az_RvyEmdhby"
      },
      "source": [
        "# count를 사용해봅시다.\n",
        "a = [1, 2, 5, 1, 5, 1]"
      ],
      "execution_count": null,
      "outputs": []
    },
    {
      "cell_type": "code",
      "metadata": {
        "id": "s3o3q4MDdhbz",
        "outputId": "b9ecabe1-ecfa-4dbe-a335-13317d2cf5eb"
      },
      "source": [
        "a.count(1)"
      ],
      "execution_count": null,
      "outputs": [
        {
          "output_type": "execute_result",
          "data": {
            "text/plain": [
              "3"
            ]
          },
          "metadata": {
            "tags": []
          },
          "execution_count": 48
        }
      ]
    },
    {
      "cell_type": "code",
      "metadata": {
        "id": "P4_bRAWxdhbz"
      },
      "source": [
        "# 따라서 원하는 값을 모두 삭제하려면 다음과 같이 할 수 있습니다."
      ],
      "execution_count": null,
      "outputs": []
    },
    {
      "cell_type": "code",
      "metadata": {
        "id": "Mv-UWM03dhbz"
      },
      "source": [
        "### 연습만이 살길\n",
        "\n",
        "target_value = 1\n",
        "for i in range(a.count(target_value)):\n",
        "    a.remove(target_value)"
      ],
      "execution_count": null,
      "outputs": []
    },
    {
      "cell_type": "code",
      "metadata": {
        "id": "ypxo24O4dhbz"
      },
      "source": [
        "# 모두 삭제되었는지 검증해봅시다."
      ],
      "execution_count": null,
      "outputs": []
    },
    {
      "cell_type": "code",
      "metadata": {
        "id": "gvrG3bkQdhbz",
        "outputId": "2e51eb06-87dd-4dbb-a892-c180df751eba"
      },
      "source": [
        "print(a)"
      ],
      "execution_count": null,
      "outputs": [
        {
          "output_type": "stream",
          "text": [
            "[2, 5, 5]\n"
          ],
          "name": "stdout"
        }
      ]
    },
    {
      "cell_type": "code",
      "metadata": {
        "id": "3IgM-kKMdhbz",
        "outputId": "43e104d8-cc2b-4750-c54e-d7160614a648"
      },
      "source": [
        "target_value in a"
      ],
      "execution_count": null,
      "outputs": [
        {
          "output_type": "execute_result",
          "data": {
            "text/plain": [
              "False"
            ]
          },
          "metadata": {
            "tags": []
          },
          "execution_count": 54
        }
      ]
    },
    {
      "cell_type": "markdown",
      "metadata": {
        "id": "TeuhsW0vdhb0"
      },
      "source": [
        "### `.sort()`\n",
        "\n",
        "정렬을 합니다. \n",
        "\n",
        "내장함수 `sorted()` 와는 다르게 **원본 list를 변형**시키고, **None**을 리턴합니다."
      ]
    },
    {
      "cell_type": "code",
      "metadata": {
        "id": "2iOcU4jGdhb0",
        "outputId": "9f8a6a3b-42bd-4a54-e977-b8331668c900"
      },
      "source": [
        "import random\n",
        "lotto = random.sample(range(1, 46), 6)\n",
        "print(lotto)"
      ],
      "execution_count": null,
      "outputs": [
        {
          "output_type": "stream",
          "text": [
            "[39, 42, 2, 35, 30, 38]\n"
          ],
          "name": "stdout"
        }
      ]
    },
    {
      "cell_type": "code",
      "metadata": {
        "id": "NuZ310iDdhb0",
        "outputId": "73512efd-b980-4143-ad3f-51702e4d02b3"
      },
      "source": [
        "# sort() 를 사용해봅시다.\n",
        "lotto.sort()\n",
        "print(lotto.sort())\n",
        "print(lotto)"
      ],
      "execution_count": null,
      "outputs": [
        {
          "output_type": "stream",
          "text": [
            "None\n",
            "[2, 30, 35, 38, 39, 42]\n"
          ],
          "name": "stdout"
        }
      ]
    },
    {
      "cell_type": "markdown",
      "metadata": {
        "id": "FnPs_HEudhb0"
      },
      "source": [
        "### `.reverse()`\n",
        "\n",
        "반대로 뒤집습니다. **(정렬 아님)**"
      ]
    },
    {
      "cell_type": "code",
      "metadata": {
        "id": "zXBnZdjadhb1",
        "outputId": "a60e4f47-96ed-42f0-80cf-8d00c799f635"
      },
      "source": [
        "classroom = ['Tom', 'David', 'Justin']\n",
        "print(classroom)"
      ],
      "execution_count": null,
      "outputs": [
        {
          "output_type": "stream",
          "text": [
            "['Tom', 'David', 'Justin']\n"
          ],
          "name": "stdout"
        }
      ]
    },
    {
      "cell_type": "code",
      "metadata": {
        "id": "uFfn9U4ndhb1",
        "outputId": "6ad48cb3-a63a-44ee-b64e-1773621a7eea"
      },
      "source": [
        "classroom.reverse()\n",
        "#classroom.sort()\n",
        "print(classroom)"
      ],
      "execution_count": null,
      "outputs": [
        {
          "output_type": "stream",
          "text": [
            "['Tom', 'Justin', 'David']\n"
          ],
          "name": "stdout"
        }
      ]
    },
    {
      "cell_type": "markdown",
      "metadata": {
        "id": "GqW4jya5dhb1"
      },
      "source": [
        "## 복사"
      ]
    },
    {
      "cell_type": "code",
      "metadata": {
        "id": "eMKC04Svdhb1"
      },
      "source": [
        "# 리스트 복사를 해봅시다.\n",
        "original_list = [1, 2, 3]"
      ],
      "execution_count": null,
      "outputs": []
    },
    {
      "cell_type": "code",
      "metadata": {
        "id": "C5BAZ4eHdhb2",
        "outputId": "daa57881-8868-41e3-8df3-de8f59f5a714"
      },
      "source": [
        "copy_list = original_list\n",
        "print(copy_list)"
      ],
      "execution_count": null,
      "outputs": [
        {
          "output_type": "stream",
          "text": [
            "[1, 2, 3]\n"
          ],
          "name": "stdout"
        }
      ]
    },
    {
      "cell_type": "code",
      "metadata": {
        "id": "5gFCrNU2dhb2"
      },
      "source": [
        "# copy_list의 값을 바꾸고 original_list를 출력해봅시다."
      ],
      "execution_count": null,
      "outputs": []
    },
    {
      "cell_type": "code",
      "metadata": {
        "id": "LackJ0tYdhb2",
        "outputId": "16c07486-0d74-4826-d42b-90618f81e942"
      },
      "source": [
        "copy_list[0] = 4  ### 대체가 되는구나..\n",
        "print(copy_list)\n",
        "print(original_list)"
      ],
      "execution_count": null,
      "outputs": [
        {
          "output_type": "stream",
          "text": [
            "[4, 2, 3]\n",
            "[4, 2, 3]\n"
          ],
          "name": "stdout"
        }
      ]
    },
    {
      "cell_type": "code",
      "metadata": {
        "id": "Lpxa9Rn6dhb2"
      },
      "source": [
        "# id 값을 확안해봅시다."
      ],
      "execution_count": null,
      "outputs": []
    },
    {
      "cell_type": "code",
      "metadata": {
        "id": "VvA7LChSdhb2",
        "outputId": "3f2a38f2-c0f1-4758-904f-e88231520014"
      },
      "source": [
        "id(copy_list) == id(original_list)\n",
        "copy_list is original_list"
      ],
      "execution_count": null,
      "outputs": [
        {
          "output_type": "execute_result",
          "data": {
            "text/plain": [
              "True"
            ]
          },
          "metadata": {
            "tags": []
          },
          "execution_count": 70
        }
      ]
    },
    {
      "cell_type": "code",
      "metadata": {
        "id": "wZH1Z9itdhb3"
      },
      "source": [
        "# 숫자를 확인해봅시다."
      ],
      "execution_count": null,
      "outputs": []
    },
    {
      "cell_type": "code",
      "metadata": {
        "id": "HYqCjH0idhb3",
        "outputId": "d63b7d29-b7f9-4e11-ca16-1bc32702d7c7"
      },
      "source": [
        "a = 2005\n",
        "b = a\n",
        "b = 3005\n",
        "print(a)"
      ],
      "execution_count": null,
      "outputs": [
        {
          "output_type": "stream",
          "text": [
            "2005\n"
          ],
          "name": "stdout"
        }
      ]
    },
    {
      "cell_type": "code",
      "metadata": {
        "id": "CyL0FGEldhb3"
      },
      "source": [
        "# 딕셔너리도 확인해봅시다."
      ],
      "execution_count": null,
      "outputs": []
    },
    {
      "cell_type": "code",
      "metadata": {
        "id": "eDVD-im2dhb3",
        "outputId": "1727f0da-cf71-4079-c593-9d71f620a4b9"
      },
      "source": [
        "lunch = {'김밥천국':'치즈라면','김가네':'제육볶음'}\n",
        "dinner = lunch\n",
        "\n",
        "dinner['김밥천국'] = '참치김밥'\n",
        "print(lunch)\n",
        "\n",
        "a = ('samsung', 'ssafy')\n",
        "b = ('lg', 'ssafy')\n",
        "a = b\n",
        "print(a)\n",
        "print(b)"
      ],
      "execution_count": null,
      "outputs": [
        {
          "output_type": "stream",
          "text": [
            "{'김밥천국': '참치김밥', '김가네': '제육볶음'}\n",
            "('lg', 'ssafy')\n",
            "('lg', 'ssafy')\n"
          ],
          "name": "stdout"
        }
      ]
    },
    {
      "cell_type": "markdown",
      "metadata": {
        "id": "Az8QB04Cdhb3"
      },
      "source": [
        "### copy\n",
        "> 위 코드를 [pythontutor](http://pythontutor.com/) 를 활용하여 자세하게 알아봅시다.\n",
        "\n",
        "* 파이썬에서 모든 변수는 **객체의 주소**를 가지고 있을 뿐이다. \n",
        "\n",
        "```\n",
        "num = [1, 2, 3]\n",
        "```\n",
        "\n",
        "* 위와 같이 변수를 생성하면 `[1, 2, 3]` 이라는 객체를 생성하고, 변수에는 객체의 주소가 저장된다.\n",
        "\n",
        "* 변경가능한(mutable) 자료형과 변경불가능한(immutable) 자료형은 서로 다르게 동작한다.\n",
        "\n",
        "따라서, 복사를 하고 싶을 때에는 다음과 같이 해야합니다."
      ]
    },
    {
      "cell_type": "code",
      "metadata": {
        "id": "r1s7HKDvdhb4"
      },
      "source": [
        "# 리스트를 복사해봅시다."
      ],
      "execution_count": null,
      "outputs": []
    },
    {
      "cell_type": "code",
      "metadata": {
        "id": "EjhijPV9dhb4",
        "outputId": "ce5fae0e-bd60-4e7a-c920-7d9d269f876c"
      },
      "source": [
        "a = [1,2,3] \n",
        "b = a[:] ### mutable한 지료형도 이 방법으로 복사하면 원본 데이터가 변경 no\n",
        "\n",
        "### :은 어디부터 어디인데 그냥 : 이면 처음부터 끝까지\n",
        "\n",
        "b[0] = 5\n",
        "print(b)\n",
        "print(a)\n",
        "\n",
        "### 만약 같은 id인 리스트중 하나를 바꿨다면 둘 다 바뀌지만\n",
        "### id가 다르기 때문에 해당 리스트 하나만 바뀜\n",
        "\n",
        "print(id(a))\n",
        "print(id(b))"
      ],
      "execution_count": null,
      "outputs": [
        {
          "output_type": "stream",
          "text": [
            "[5, 2, 3]\n",
            "[1, 2, 3]\n",
            "2793712484616\n",
            "2793713850184\n"
          ],
          "name": "stdout"
        }
      ]
    },
    {
      "cell_type": "code",
      "metadata": {
        "id": "Y4-Td3MXdhb5"
      },
      "source": [
        "# 다른 방법으로 복사해봅시다."
      ],
      "execution_count": null,
      "outputs": []
    },
    {
      "cell_type": "code",
      "metadata": {
        "id": "bFKrXJMmdhb5"
      },
      "source": [
        ""
      ],
      "execution_count": null,
      "outputs": []
    },
    {
      "cell_type": "markdown",
      "metadata": {
        "id": "l965bimjdhb5"
      },
      "source": [
        "* 하지만, 이렇게 하는 것도 일부 상황에만 서로 `다른 얕은 복사(shallow copy)`이다."
      ]
    },
    {
      "cell_type": "code",
      "metadata": {
        "id": "ofEwW1h2dhb6"
      },
      "source": [
        "# 2차원 배열을 복사해봅시다."
      ],
      "execution_count": null,
      "outputs": []
    },
    {
      "cell_type": "code",
      "metadata": {
        "id": "IyYYamUxdhb6",
        "outputId": "9c00bc2f-11da-4ec7-e085-a90b66830e9b"
      },
      "source": [
        "a = [1,2,[1,2]]\n",
        "b = a[:]\n",
        "\n",
        "print(id(a))\n",
        "print(id(b))\n",
        "\n",
        "b[0] = 4\n",
        "print(a)\n",
        "print(b)"
      ],
      "execution_count": null,
      "outputs": [
        {
          "output_type": "stream",
          "text": [
            "2793712884360\n",
            "2793712939080\n",
            "[1, 2, [1, 2]]\n",
            "[4, 2, [1, 2]]\n"
          ],
          "name": "stdout"
        }
      ]
    },
    {
      "cell_type": "markdown",
      "metadata": {
        "id": "8jd5dtQBdhb7"
      },
      "source": [
        "* 만일 중첩된 상황에서 복사를 하고 싶다면, `깊은 복사(deep copy)`를 해야한다. \n",
        "\n",
        "* 즉, 내부에 있는 모든 객체까지 새롭게 값이 변경된다."
      ]
    },
    {
      "cell_type": "code",
      "metadata": {
        "id": "2INu24Ordhb7"
      },
      "source": [
        "# 깊은 복사를 사용해봅시다."
      ],
      "execution_count": null,
      "outputs": []
    },
    {
      "cell_type": "code",
      "metadata": {
        "id": "4pJ7FiE_dhb7",
        "outputId": "a6ffc80b-a58a-4dad-bde5-f4336063767c"
      },
      "source": [
        "#############이해하기!!!!!!!!!!!!!!!!\n",
        "\n",
        "a = [1,2,[1,2]]\n",
        "b = a[:]\n",
        "\n",
        "print(id(a))\n",
        "print(id(b))\n",
        "\n",
        "b[0] = 4\n",
        "print(b)\n",
        "print(a)\n",
        "\n",
        "b[2][0] = 3\n",
        "print(b)\n",
        "print(a)"
      ],
      "execution_count": null,
      "outputs": [
        {
          "output_type": "stream",
          "text": [
            "2793713874888\n",
            "2793713851528\n",
            "[4, 2, [1, 2]]\n",
            "[1, 2, [1, 2]]\n",
            "[4, 2, [3, 2]]\n",
            "[1, 2, [3, 2]]\n"
          ],
          "name": "stdout"
        }
      ]
    },
    {
      "cell_type": "code",
      "metadata": {
        "id": "DDJBeBF7dhb8",
        "outputId": "1ede82a1-b271-4147-afd8-05a488c83d1a"
      },
      "source": [
        "import copy\n",
        "\n",
        "a = [1,2,[1,2]]\n",
        "b = copy.deepcopy(a)\n",
        "\n",
        "print(id(a))\n",
        "print(id(b))\n",
        "\n",
        "b[2][0] = 3\n",
        "print(b)\n",
        "print(a)"
      ],
      "execution_count": null,
      "outputs": [
        {
          "output_type": "stream",
          "text": [
            "2793713850568\n",
            "2793713850824\n",
            "[1, 2, [3, 2]]\n",
            "[1, 2, [1, 2]]\n"
          ],
          "name": "stdout"
        }
      ]
    },
    {
      "cell_type": "markdown",
      "metadata": {
        "id": "Rk7kGEXodhb8"
      },
      "source": [
        "# List Comprehension (유용)\n",
        "\n",
        "List Comprehension은 리스트안에 식, for 문을 지정합니다.\n",
        "여러 줄의 코드를 한 줄로 줄일 수 있습니다.\n",
        "\n",
        "---\n",
        "\n",
        "**활용법**\n",
        "\n",
        "```python\n",
        "[식 for 변수 in iterable]\n",
        "\n",
        "list(식 for 변수 in iterable)\n",
        "```"
      ]
    },
    {
      "cell_type": "markdown",
      "metadata": {
        "id": "SIDhCGhgdhb8"
      },
      "source": [
        "### 세제곱 리스트\n",
        "\n",
        "> 다음의 리스트를 작성하세요.\n",
        "- 1~10까지의 숫자로 만든 세제곱 담긴 리스트 `cubic_list`"
      ]
    },
    {
      "cell_type": "code",
      "metadata": {
        "id": "9p4YAfgjdhb8"
      },
      "source": [
        "a = range(1, 11)"
      ],
      "execution_count": null,
      "outputs": []
    },
    {
      "cell_type": "code",
      "metadata": {
        "id": "rBlngtivdhb8"
      },
      "source": [
        "# 반복문을 활용하여 만들어주세요."
      ],
      "execution_count": null,
      "outputs": []
    },
    {
      "cell_type": "code",
      "metadata": {
        "id": "ppP5u25Fdhb9",
        "outputId": "b67ff7e2-fd40-446f-bad1-7325a3724c1c"
      },
      "source": [
        "cubic_list = []\n",
        "for i in a:\n",
        "    cubic_list.append(i**3)\n",
        "print(cubic_list)"
      ],
      "execution_count": null,
      "outputs": [
        {
          "output_type": "stream",
          "text": [
            "[1, 8, 27, 64, 125, 216, 343, 512, 729, 1000]\n"
          ],
          "name": "stdout"
        }
      ]
    },
    {
      "cell_type": "code",
      "metadata": {
        "id": "PIvryBpRdhb9"
      },
      "source": [
        "# List Comprehension"
      ],
      "execution_count": null,
      "outputs": []
    },
    {
      "cell_type": "code",
      "metadata": {
        "id": "97m3H_53dhb9"
      },
      "source": [
        ""
      ],
      "execution_count": null,
      "outputs": []
    },
    {
      "cell_type": "code",
      "metadata": {
        "id": "J-pTPRLXdhb9",
        "outputId": "e425cb4b-303a-46b7-f04c-b9b8e72508fe"
      },
      "source": [
        "cubic_list = [i**3 for i in a]\n",
        "print(cubic_list)"
      ],
      "execution_count": null,
      "outputs": [
        {
          "output_type": "stream",
          "text": [
            "[1, 8, 27, 64, 125, 216, 343, 512, 729, 1000]\n"
          ],
          "name": "stdout"
        }
      ]
    },
    {
      "cell_type": "markdown",
      "metadata": {
        "id": "M0ROJujFdhb9"
      },
      "source": [
        "## List Comprehension + 조건문\n",
        "\n",
        "조건문에 참인 식으로 리스트를 생성합니다.\n",
        "\n",
        "---\n",
        "\n",
        "**활용법**\n",
        "\n",
        "```python\n",
        "[식 for 변수 in iterable if 조건식]\n",
        "\n",
        "[식 if 조건식 else 식 for 변수 in iterable]\n",
        "\n",
        "# elif 는 다음과 같이 사용해야 합니다. (if else 열거)\n",
        "[식 if 조건식 else 식 if 조건식 else 식 if ... else ... for 변수 in iterable]\n",
        "```"
      ]
    },
    {
      "cell_type": "markdown",
      "metadata": {
        "id": "_LuRqsCVdhb9"
      },
      "source": [
        "### 짝수리스트\n",
        "> 다음의 리스트를 작성하세요.\n",
        "\n",
        "- 1~10까지의 숫자중 짝수만 담긴 리스트 `even_list`\n",
        "- 여러개의 `for` 혹은 `if`문을 중첩적으로 사용 가능합니다."
      ]
    },
    {
      "cell_type": "code",
      "metadata": {
        "id": "4Q5tYgR4dhb-"
      },
      "source": [
        "# 반복문을 활용하여 만들어주세요."
      ],
      "execution_count": null,
      "outputs": []
    },
    {
      "cell_type": "code",
      "metadata": {
        "id": "0bEOzLnCdhb-",
        "outputId": "bbd76963-a298-433e-956e-68ef975b5b74"
      },
      "source": [
        "even_list=[]\n",
        "\n",
        "for i in range(1,11):\n",
        "    if i % 2 == 0:\n",
        "        even_list += [i]\n",
        "print(even_list)"
      ],
      "execution_count": null,
      "outputs": [
        {
          "output_type": "stream",
          "text": [
            "[2, 4, 6, 8, 10]\n"
          ],
          "name": "stdout"
        }
      ]
    },
    {
      "cell_type": "code",
      "metadata": {
        "id": "57c8ge-Sdhb-"
      },
      "source": [
        "# List Comprehension"
      ],
      "execution_count": null,
      "outputs": []
    },
    {
      "cell_type": "code",
      "metadata": {
        "id": "mgPfOEifdhb-",
        "outputId": "bbf2b3fe-c277-4a91-f5c3-56eb543d72e3"
      },
      "source": [
        "even_list = [i for i in range(1,11) if i % 2 ==0]\n",
        "print(even_list)"
      ],
      "execution_count": null,
      "outputs": [
        {
          "output_type": "stream",
          "text": [
            "[2, 4, 6, 8, 10]\n"
          ],
          "name": "stdout"
        }
      ]
    },
    {
      "cell_type": "markdown",
      "metadata": {
        "id": "bP5naxO2dhb-"
      },
      "source": [
        "### 곱집합\n",
        "\n",
        "> 주어진 두 list의 가능한 모든 조합을 담은 `pair` 리스트를 작성하세요.\n",
        "1. 반복문 활용\n",
        "2. list comprehension 활용\n",
        "\n",
        "```python\n",
        "girls = ['jane', 'iu', 'mary']\n",
        "boys = ['justin', 'david', 'kim']\n",
        "```\n",
        "\n",
        "---\n",
        "\n",
        "```\n",
        "예시 출력)    \n",
        "[('justin', 'jane'), ('justin', 'iu'), ('justin', 'mary'), ('david', 'jane'), ('david', 'iu'), ('david', 'mary'), ('kim', 'jane'), ('kim', 'iu'), ('kim', 'mary')]\n",
        "```\n",
        "\n"
      ]
    },
    {
      "cell_type": "code",
      "metadata": {
        "id": "hEvDDnP5dhb_"
      },
      "source": [
        "girls = ['jane', 'iu', 'mary']\n",
        "boys = ['justin', 'david', 'kim']"
      ],
      "execution_count": null,
      "outputs": []
    },
    {
      "cell_type": "code",
      "metadata": {
        "id": "1RZFSKuEdhb_"
      },
      "source": [
        "# 반복문을 활용하여 작성하세요."
      ],
      "execution_count": null,
      "outputs": []
    },
    {
      "cell_type": "code",
      "metadata": {
        "id": "MG95vCbpdhb_",
        "outputId": "bfc524ad-8fa6-4391-8c47-72d706650869"
      },
      "source": [
        "pair = []\n",
        "for girl in girls:\n",
        "    for boy in boys:\n",
        "        pair += [(girl, boy)]\n",
        "        \n",
        "print(pair)"
      ],
      "execution_count": null,
      "outputs": [
        {
          "output_type": "stream",
          "text": [
            "[('jane', 'justin'), ('jane', 'david'), ('jane', 'kim'), ('iu', 'justin'), ('iu', 'david'), ('iu', 'kim'), ('mary', 'justin'), ('mary', 'david'), ('mary', 'kim')]\n"
          ],
          "name": "stdout"
        }
      ]
    },
    {
      "cell_type": "code",
      "metadata": {
        "id": "YG78hbTMdhb_"
      },
      "source": [
        "# List comprehension을 활용하여 작성하세요."
      ],
      "execution_count": null,
      "outputs": []
    },
    {
      "cell_type": "code",
      "metadata": {
        "id": "ddG7rb7Ldhb_",
        "outputId": "0699b960-6338-4aa4-c1a6-e46017b70f01"
      },
      "source": [
        "pair = [(girl, boy) for girl in girls for boy in boys]\n",
        "print(pair)"
      ],
      "execution_count": null,
      "outputs": [
        {
          "output_type": "stream",
          "text": [
            "[('jane', 'justin'), ('jane', 'david'), ('jane', 'kim'), ('iu', 'justin'), ('iu', 'david'), ('iu', 'kim'), ('mary', 'justin'), ('mary', 'david'), ('mary', 'kim')]\n"
          ],
          "name": "stdout"
        }
      ]
    },
    {
      "cell_type": "markdown",
      "metadata": {
        "id": "HoPVosm0dhcA"
      },
      "source": [
        "### 피타고라스 정리\n",
        "\n",
        "> 주어진 조건(x < y < z < 50) 내에서 피타고라스 방정식의 해를 찾으세요.\n",
        "1. 반복문 활용\n",
        "2. list comprehension 활용\n",
        "\n",
        "---\n",
        "\n",
        "```\n",
        "예시 출력)\n",
        "[(3, 4, 5), (5, 12, 13), (6, 8, 10), (7, 24, 25), (8, 15, 17), (9, 12, 15), (9, 40, 41), (10, 24, 26), (12, 16, 20), (12, 35, 37), (15, 20, 25), (15, 36, 39), (16, 30, 34), (18, 24, 30), (20, 21, 29), (21, 28, 35), (24, 32, 40), (27, 36, 45)]\n",
        "```"
      ]
    },
    {
      "cell_type": "code",
      "metadata": {
        "id": "qxHgwxWLdhcA"
      },
      "source": [
        "# 반복문을 활용하여 작성하세요."
      ],
      "execution_count": null,
      "outputs": []
    },
    {
      "cell_type": "code",
      "metadata": {
        "id": "pFyQdn-sdhcA",
        "outputId": "7d6ec6eb-fc27-4575-ea5d-2682da0d3ab7"
      },
      "source": [
        "pita_list = []\n",
        "\n",
        "for x in range(50):\n",
        "    for y in range(x+1,50):\n",
        "        for z in range(y+1,50):\n",
        "            if x**2+y**2==z**2:\n",
        "                pita_list += [(x,y,z)]\n",
        "                \n",
        "print(pita_list)"
      ],
      "execution_count": null,
      "outputs": [
        {
          "output_type": "stream",
          "text": [
            "[(3, 4, 5), (5, 12, 13), (6, 8, 10), (7, 24, 25), (8, 15, 17), (9, 12, 15), (9, 40, 41), (10, 24, 26), (12, 16, 20), (12, 35, 37), (15, 20, 25), (15, 36, 39), (16, 30, 34), (18, 24, 30), (20, 21, 29), (21, 28, 35), (24, 32, 40), (27, 36, 45)]\n"
          ],
          "name": "stdout"
        }
      ]
    },
    {
      "cell_type": "code",
      "metadata": {
        "id": "P3lnHT-VdhcA"
      },
      "source": [
        "# List comprehension을 활용하여 작성하세요."
      ],
      "execution_count": null,
      "outputs": []
    },
    {
      "cell_type": "code",
      "metadata": {
        "id": "tj6RnhomdhcB",
        "outputId": "01c88c45-f8a8-47d8-e351-f1d2bbc6038d"
      },
      "source": [
        "pita_list = [(x,y,z) for x in range(50) for y in range(x+1,50)\n",
        "            for z in range(y+1,50) if x**2 + y**2 == z**2]\n",
        "\n",
        "print(pita_list)\n",
        "\n",
        "\n",
        "### enumerate 할 때 for 뒤에"
      ],
      "execution_count": null,
      "outputs": [
        {
          "output_type": "stream",
          "text": [
            "[(3, 4, 5), (5, 12, 13), (6, 8, 10), (7, 24, 25), (8, 15, 17), (9, 12, 15), (9, 40, 41), (10, 24, 26), (12, 16, 20), (12, 35, 37), (15, 20, 25), (15, 36, 39), (16, 30, 34), (18, 24, 30), (20, 21, 29), (21, 28, 35), (24, 32, 40), (27, 36, 45)]\n"
          ],
          "name": "stdout"
        }
      ]
    },
    {
      "cell_type": "markdown",
      "metadata": {
        "id": "bPRbARihdhcB"
      },
      "source": [
        "### 모음 제거하기\n",
        "\n",
        "> 다음의 문장에서 모음(a, e, i, o, u)를 모두 제거하세요.\n",
        "\n",
        "```python\n",
        "words = 'Life is too short, you need python!'\n",
        "```\n",
        "\n",
        "---\n",
        "\n",
        "```\n",
        "예시 출력)\n",
        "Lf s t shrt, y nd pythn!\n",
        "```"
      ]
    },
    {
      "cell_type": "code",
      "metadata": {
        "id": "j14MnSAzdhcB"
      },
      "source": [
        "words = 'Life is too short, you need python!'"
      ],
      "execution_count": null,
      "outputs": []
    },
    {
      "cell_type": "code",
      "metadata": {
        "id": "FQfP6IxudhcB"
      },
      "source": [
        "# 반복문을 활용하여 작성하세요."
      ],
      "execution_count": null,
      "outputs": []
    },
    {
      "cell_type": "code",
      "metadata": {
        "id": "SBDuRn82dhcC",
        "outputId": "fa0b719b-6b64-4506-8d1c-94d91ac9db42"
      },
      "source": [
        "# aeiou_list = ['a','e','i','o','u']\n",
        "\n",
        "# for i in words:\n",
        "#     if i in aeiou_list:\n",
        "#         words.remove(i)   ### str은 remove가 안 됨\n",
        "    \n",
        "# print(words)\n",
        "\n",
        "rst=[]\n",
        "vowels = 'aeiou'\n",
        "for i in words:\n",
        "    if i not in vowels:\n",
        "        rst += [i]\n",
        "        \n",
        "print(rst)\n",
        "print('')\n",
        "print(''.join(rst))"
      ],
      "execution_count": null,
      "outputs": [
        {
          "output_type": "stream",
          "text": [
            "['L', 'f', ' ', 's', ' ', 't', ' ', 's', 'h', 'r', 't', ',', ' ', 'y', ' ', 'n', 'd', ' ', 'p', 'y', 't', 'h', 'n', '!']\n",
            "\n",
            "Lf s t shrt, y nd pythn!\n"
          ],
          "name": "stdout"
        }
      ]
    },
    {
      "cell_type": "code",
      "metadata": {
        "id": "S-xQMdCEdhcC"
      },
      "source": [
        "# List comprehension을 활용하여 작성하세요."
      ],
      "execution_count": null,
      "outputs": []
    },
    {
      "cell_type": "code",
      "metadata": {
        "id": "7QRktAJldhcC"
      },
      "source": [
        "rst = [i ]"
      ],
      "execution_count": null,
      "outputs": []
    },
    {
      "cell_type": "markdown",
      "metadata": {
        "id": "-yPFWe_TdhcC"
      },
      "source": [
        "# 딕셔너리 메소드 활용"
      ]
    },
    {
      "cell_type": "markdown",
      "metadata": {
        "id": "jPBFs4UpdhcC"
      },
      "source": [
        "## 추가 및 삭제\n",
        "\n",
        "### `.pop(key[, default])`\n",
        "\n",
        "key가 딕셔너리에 있으면 제거하고 그 값을 돌려줍니다. 그렇지 않으면 default를 반환합니다.\n",
        "\n",
        "default가 없는 상태에서 딕셔너리에 없으면 KeyError가 발생합니다."
      ]
    },
    {
      "cell_type": "code",
      "metadata": {
        "id": "Rr6KBZgxdhcD"
      },
      "source": [
        "# pop을 사용해봅시다.\n",
        "my_dict = {'apple': '사과', 'banana': '바나나'}"
      ],
      "execution_count": null,
      "outputs": []
    },
    {
      "cell_type": "code",
      "metadata": {
        "id": "3N4ZtKwUdhcD",
        "outputId": "8b53520c-70cc-4c14-e1b7-27d0b53a719a"
      },
      "source": [
        "my_dict.pop('apple')\n",
        "print(my_dict)"
      ],
      "execution_count": null,
      "outputs": [
        {
          "output_type": "stream",
          "text": [
            "{'banana': '바나나'}\n"
          ],
          "name": "stdout"
        }
      ]
    },
    {
      "cell_type": "code",
      "metadata": {
        "id": "SIA_3P71dhcD"
      },
      "source": [
        "# 딕셔너리에 없으면 에러가 발생합니다."
      ],
      "execution_count": null,
      "outputs": []
    },
    {
      "cell_type": "code",
      "metadata": {
        "id": "Ih6EwxUHdhcE",
        "outputId": "64c6cc2f-5082-432b-f2e8-e66ade60c32b"
      },
      "source": [
        "my_dict.pop('melon')"
      ],
      "execution_count": null,
      "outputs": [
        {
          "output_type": "error",
          "ename": "KeyError",
          "evalue": "'melon'",
          "traceback": [
            "\u001b[1;31m---------------------------------------------------------------------------\u001b[0m",
            "\u001b[1;31mKeyError\u001b[0m                                  Traceback (most recent call last)",
            "\u001b[1;32m<ipython-input-121-2a8b4f967f4a>\u001b[0m in \u001b[0;36m<module>\u001b[1;34m\u001b[0m\n\u001b[1;32m----> 1\u001b[1;33m \u001b[0mmy_dict\u001b[0m\u001b[1;33m.\u001b[0m\u001b[0mpop\u001b[0m\u001b[1;33m(\u001b[0m\u001b[1;34m'melon'\u001b[0m\u001b[1;33m)\u001b[0m\u001b[1;33m\u001b[0m\u001b[1;33m\u001b[0m\u001b[0m\n\u001b[0m",
            "\u001b[1;31mKeyError\u001b[0m: 'melon'"
          ]
        }
      ]
    },
    {
      "cell_type": "code",
      "metadata": {
        "id": "ldDHYhaydhcE"
      },
      "source": [
        "# 두번째 인자로 default를 설정할 수 있습니다."
      ],
      "execution_count": null,
      "outputs": []
    },
    {
      "cell_type": "code",
      "metadata": {
        "id": "F7aFd2CodhcE",
        "outputId": "20d1a2aa-c5bf-4ddb-dbdc-30bd9336e3e6"
      },
      "source": [
        "my_dict.pop('melon',0)"
      ],
      "execution_count": null,
      "outputs": [
        {
          "output_type": "execute_result",
          "data": {
            "text/plain": [
              "0"
            ]
          },
          "metadata": {
            "tags": []
          },
          "execution_count": 120
        }
      ]
    },
    {
      "cell_type": "markdown",
      "metadata": {
        "id": "EM7oo6UNdhcE"
      },
      "source": [
        "### `.update()`\n",
        "\n",
        "값을 제공하는 key, value로 덮어씁니다. "
      ]
    },
    {
      "cell_type": "code",
      "metadata": {
        "id": "qiENPCsVdhcE"
      },
      "source": [
        "# update를 사용해봅시다.\n",
        "my_dict = {'apple': '사과', 'banana': '바나나', 'melon': '멜론'}"
      ],
      "execution_count": null,
      "outputs": []
    },
    {
      "cell_type": "code",
      "metadata": {
        "id": "pnMTeQGTdhcF",
        "outputId": "6761f656-d35f-415b-9fca-9df7505891c5"
      },
      "source": [
        "my_dict.update(apple='사과아아아')\n",
        "\n",
        "print(my_dict)"
      ],
      "execution_count": null,
      "outputs": [
        {
          "output_type": "stream",
          "text": [
            "{'banana': '바나나', 'apple': '사과아아아'}\n"
          ],
          "name": "stdout"
        }
      ]
    },
    {
      "cell_type": "markdown",
      "metadata": {
        "id": "oEgLH6GIdhcF"
      },
      "source": [
        "### `.get(key[, default])`\n",
        "\n",
        "key를 통해 value를 가져옵니다. \n",
        "\n",
        "절대로 KeyError가 발생하지 않습니다. default는 기본적으로 None입니다."
      ]
    },
    {
      "cell_type": "code",
      "metadata": {
        "id": "0jRH0sxwdhcF",
        "outputId": "a34b29b5-aa8d-4bfe-9945-8f502500a965"
      },
      "source": [
        "# get을 사용해봅시다.\n",
        "my_dict = {'apple': '사과', 'banana': '바나나', 'melon': '멜론'}\n",
        "my_dict['pineapple']"
      ],
      "execution_count": null,
      "outputs": [
        {
          "output_type": "error",
          "ename": "KeyError",
          "evalue": "'pineapple'",
          "traceback": [
            "\u001b[1;31m---------------------------------------------------------------------------\u001b[0m",
            "\u001b[1;31mKeyError\u001b[0m                                  Traceback (most recent call last)",
            "\u001b[1;32m<ipython-input-124-d3cdd6ee6d26>\u001b[0m in \u001b[0;36m<module>\u001b[1;34m\u001b[0m\n\u001b[0;32m      1\u001b[0m \u001b[1;31m# get을 사용해봅시다.\u001b[0m\u001b[1;33m\u001b[0m\u001b[1;33m\u001b[0m\u001b[1;33m\u001b[0m\u001b[0m\n\u001b[0;32m      2\u001b[0m \u001b[0mmy_dict\u001b[0m \u001b[1;33m=\u001b[0m \u001b[1;33m{\u001b[0m\u001b[1;34m'apple'\u001b[0m\u001b[1;33m:\u001b[0m \u001b[1;34m'사과'\u001b[0m\u001b[1;33m,\u001b[0m \u001b[1;34m'banana'\u001b[0m\u001b[1;33m:\u001b[0m \u001b[1;34m'바나나'\u001b[0m\u001b[1;33m,\u001b[0m \u001b[1;34m'melon'\u001b[0m\u001b[1;33m:\u001b[0m \u001b[1;34m'멜론'\u001b[0m\u001b[1;33m}\u001b[0m\u001b[1;33m\u001b[0m\u001b[1;33m\u001b[0m\u001b[0m\n\u001b[1;32m----> 3\u001b[1;33m \u001b[0mmy_dict\u001b[0m\u001b[1;33m[\u001b[0m\u001b[1;34m'pineapple'\u001b[0m\u001b[1;33m]\u001b[0m\u001b[1;33m\u001b[0m\u001b[1;33m\u001b[0m\u001b[0m\n\u001b[0m",
            "\u001b[1;31mKeyError\u001b[0m: 'pineapple'"
          ]
        }
      ]
    },
    {
      "cell_type": "code",
      "metadata": {
        "id": "jdpjCNPqdhcF",
        "outputId": "a2fae009-a753-4343-cb2e-b4124544ca74"
      },
      "source": [
        "### 키를 불러올 때는 번거롭더라도 get 쓰면 좋은게 에러가 안 나고 None을 반환\n",
        "\n",
        "print(my_dict.get('pineapple'))\n",
        "print(my_dict.get('apple'))\n",
        "print(my_dict.get('pineapple',0))"
      ],
      "execution_count": null,
      "outputs": [
        {
          "output_type": "stream",
          "text": [
            "None\n",
            "사과\n",
            "0\n"
          ],
          "name": "stdout"
        }
      ]
    },
    {
      "cell_type": "markdown",
      "metadata": {
        "id": "mDSYTz9MdhcF"
      },
      "source": [
        "## Dictionary comprehension\n",
        "\n",
        "dictionary도 comprehension을 활용하여 만들 수 있습니다. \n",
        "\n",
        "---\n",
        "\n",
        "**활용법**\n",
        "\n",
        "```python\n",
        "{키: 값 for 키, 값 in 딕셔너리}\n",
        "\n",
        "dict({키: 값 for 키, 값 in 딕셔너리})\n",
        "\n",
        "{키: 값 for 키, 값 in 딕셔너리 if 조건식}\n",
        "\n",
        "{키: 값 if 조건식 else 값 for 키, 값 in 딕셔너리}\n",
        "\n",
        "```"
      ]
    },
    {
      "cell_type": "code",
      "metadata": {
        "id": "gGWZZOrLdhcG"
      },
      "source": [
        "# dictionary comprehension"
      ],
      "execution_count": null,
      "outputs": []
    },
    {
      "cell_type": "code",
      "metadata": {
        "id": "ukZXvDi1dhcG",
        "outputId": "40325461-f39d-4e28-87a6-a4d190eae987"
      },
      "source": [
        "cubic_1 = {x : x**3 for x in range(1,11)}\n",
        "cubic_2 = [x**3 for x in range(1,11)]\n",
        "print(cubic_1)\n",
        "print(cubic_2)"
      ],
      "execution_count": null,
      "outputs": [
        {
          "output_type": "stream",
          "text": [
            "{1: 1, 2: 8, 3: 27, 4: 64, 5: 125, 6: 216, 7: 343, 8: 512, 9: 729, 10: 1000}\n",
            "[1, 8, 27, 64, 125, 216, 343, 512, 729, 1000]\n"
          ],
          "name": "stdout"
        }
      ]
    },
    {
      "cell_type": "markdown",
      "metadata": {
        "id": "Q3fMjXiFdhcG"
      },
      "source": [
        "### Dictionary comprehension 사용해보기"
      ]
    },
    {
      "cell_type": "code",
      "metadata": {
        "id": "8KZTzEx7dhcG"
      },
      "source": [
        "dusts = {'서울': 72, '대전': 82, '구미': 29, '광주': 45, '중국': 200}"
      ],
      "execution_count": null,
      "outputs": []
    },
    {
      "cell_type": "code",
      "metadata": {
        "id": "bVqR9t0BdhcG"
      },
      "source": [
        "# 미세먼지 농도가 80 초과 지역만 뽑아주세요.\n",
        "# 예) {'대전': 82, '중국': 200}"
      ],
      "execution_count": null,
      "outputs": []
    },
    {
      "cell_type": "code",
      "metadata": {
        "id": "YNztDFsndhcG",
        "outputId": "2404da28-b630-49d2-e8d7-f4ade37ba817"
      },
      "source": [
        "areas_80={}\n",
        "for k,v in dusts.items():\n",
        "    if v > 80:\n",
        "        areas_80[k] = v      ###dic 에서 값을 추가해줄 때!!!\n",
        "\n",
        "print(areas_80)"
      ],
      "execution_count": null,
      "outputs": [
        {
          "output_type": "stream",
          "text": [
            "{'대전': 82, '중국': 200}\n"
          ],
          "name": "stdout"
        }
      ]
    },
    {
      "cell_type": "code",
      "metadata": {
        "id": "Qe7W6wbfdhcH",
        "outputId": "1904e4e6-aee1-4f9c-ce0b-c08b0cd9369c"
      },
      "source": [
        "areas_80 = {k:v for k,v in dusts.items() if v > 80}\n",
        "print(areas_80)"
      ],
      "execution_count": null,
      "outputs": [
        {
          "output_type": "stream",
          "text": [
            "{'대전': 82, '중국': 200}\n"
          ],
          "name": "stdout"
        }
      ]
    },
    {
      "cell_type": "code",
      "metadata": {
        "id": "4y3JpkUMdhcH"
      },
      "source": [
        "# 미세먼지 농도가 80초과는 나쁨 80이하는 보통으로 하는 value를 가지도록 바꾸세요."
      ],
      "execution_count": null,
      "outputs": []
    },
    {
      "cell_type": "code",
      "metadata": {
        "id": "Z4udwgLVdhcH",
        "outputId": "cb1253d1-9f6b-493a-d1ff-6c4c0ee4ce4a"
      },
      "source": [
        "### 이해 안 됐음\n",
        "\n",
        "areas_80 = {k:'나쁨' if v > 80 else '보통' for k,v in dusts.items()}\n",
        "print(areas_80)"
      ],
      "execution_count": null,
      "outputs": [
        {
          "output_type": "stream",
          "text": [
            "{'서울': '보통', '대전': '나쁨', '구미': '보통', '광주': '보통', '중국': '나쁨'}\n"
          ],
          "name": "stdout"
        }
      ]
    },
    {
      "cell_type": "code",
      "metadata": {
        "id": "pgwHwMfydhcH"
      },
      "source": [
        "#  elif 도 사용할 수 있습니다. (if else 열거)\n",
        "# 미세먼지 농도 > 150 매우나쁨\n",
        "# >80 나쁨\n",
        "# >30 보통\n",
        "# 좋음"
      ],
      "execution_count": null,
      "outputs": []
    },
    {
      "cell_type": "code",
      "metadata": {
        "id": "PyIZzvbOdhcI",
        "outputId": "26201739-74ae-4fc2-f562-cf7c1e8fc41a"
      },
      "source": [
        "dust = {k: '매우나쁨' if v > 150 else '나쁨' if v>80 else '보통'\n",
        "       if v > 30 else '좋음' for k, v in dusts.items()}\n",
        "\n",
        "print(dust)"
      ],
      "execution_count": null,
      "outputs": [
        {
          "output_type": "stream",
          "text": [
            "{'서울': '보통', '대전': '나쁨', '구미': '좋음', '광주': '보통', '중국': '매우나쁨'}\n"
          ],
          "name": "stdout"
        }
      ]
    },
    {
      "cell_type": "markdown",
      "metadata": {
        "id": "rvJHtf1kdhcI"
      },
      "source": [
        "# 세트 메소드 활용"
      ]
    },
    {
      "cell_type": "markdown",
      "metadata": {
        "id": "IuA9Uu_cdhcI"
      },
      "source": [
        "## 추가 및 삭제\n",
        "\n",
        "### `.add(elem)`\n",
        "elem을 세트에 추가합니다. "
      ]
    },
    {
      "cell_type": "code",
      "metadata": {
        "id": "d2UZ_08bdhcI"
      },
      "source": [
        "# add를 사용해봅시다. #하나씩\n",
        "a = {'사과', '바나나', '수박'}"
      ],
      "execution_count": null,
      "outputs": []
    },
    {
      "cell_type": "code",
      "metadata": {
        "id": "8S54SgcWdhcI",
        "outputId": "f9972559-db95-4540-a4c8-32e975895132"
      },
      "source": [
        "a.add('포도')\n",
        "a.add('포도')\n",
        "print(a)"
      ],
      "execution_count": null,
      "outputs": [
        {
          "output_type": "stream",
          "text": [
            "{'사과', '수박', '포도', '바나나'}\n"
          ],
          "name": "stdout"
        }
      ]
    },
    {
      "cell_type": "markdown",
      "metadata": {
        "id": "NMYN-Hf4dhcI"
      },
      "source": [
        "### `.update(*others)`\n",
        "\n",
        "여러가지의 값을 추가합니다.\n",
        "\n",
        "여기서 반드시 iterable한 값을 넣어야합니다."
      ]
    },
    {
      "cell_type": "code",
      "metadata": {
        "id": "t-SmtZDGdhcJ"
      },
      "source": [
        "# update를 사용해봅시다.\n",
        "a = {'사과', '바나나', '수박'}"
      ],
      "execution_count": null,
      "outputs": []
    },
    {
      "cell_type": "code",
      "metadata": {
        "id": "L-zV-iQNdhcJ",
        "outputId": "0d90fcca-5c32-4884-80b7-2dc404b5903a"
      },
      "source": [
        "a.update({'토마토','딸기','토마토'},['포도','레몬'])\n",
        "print(a)\n",
        "a.update('키위')\n",
        "print(a)"
      ],
      "execution_count": null,
      "outputs": [
        {
          "output_type": "stream",
          "text": [
            "{'사과', '딸기', '위', '레몬', '키', '토마토', '포도', '수박', '바나나'}\n",
            "{'사과', '딸기', '위', '레몬', '키', '토마토', '포도', '수박', '바나나'}\n"
          ],
          "name": "stdout"
        }
      ]
    },
    {
      "cell_type": "markdown",
      "metadata": {
        "id": "3Bwr8GwVdhcJ"
      },
      "source": [
        "### `.remove(elem)`\n",
        "\n",
        "elem을 세트에서 삭제하고, 없으면 KeyError가 발생합니다. "
      ]
    },
    {
      "cell_type": "code",
      "metadata": {
        "id": "0usRnTNDdhcJ"
      },
      "source": [
        "# remove를 사용해봅시다.\n",
        "a = {'사과', '바나나', '수박'}"
      ],
      "execution_count": null,
      "outputs": []
    },
    {
      "cell_type": "code",
      "metadata": {
        "id": "m-On0qkWdhcJ",
        "outputId": "27ede0fc-d603-46ff-db25-08867ddad74d"
      },
      "source": [
        "a.remove('사과') #없는 것을 삭제하면 에러\n",
        "print(a)"
      ],
      "execution_count": null,
      "outputs": [
        {
          "output_type": "stream",
          "text": [
            "{'딸기', '위', '레몬', '키', '토마토', '포도', '수박', '바나나'}\n"
          ],
          "name": "stdout"
        }
      ]
    },
    {
      "cell_type": "markdown",
      "metadata": {
        "id": "b5HdzUrbdhcK"
      },
      "source": [
        "### `.discard(elem)`\n",
        "x를 세트에서 삭제하고 없어도 에러가 발생하지 않습니다."
      ]
    },
    {
      "cell_type": "code",
      "metadata": {
        "id": "om57eo2QdhcK"
      },
      "source": [
        "# discard를 사용해봅시다.\n",
        "a = {'사과', '바나나', '수박'}"
      ],
      "execution_count": null,
      "outputs": []
    },
    {
      "cell_type": "code",
      "metadata": {
        "id": "pmjt2AeydhcK",
        "outputId": "6b71deb8-2a28-45fc-9af7-5ae518e34c95"
      },
      "source": [
        "a.discard('포도')\n",
        "a.discard('수박')\n",
        "print(a)"
      ],
      "execution_count": null,
      "outputs": [
        {
          "output_type": "stream",
          "text": [
            "{'사과', '바나나'}\n"
          ],
          "name": "stdout"
        }
      ]
    },
    {
      "cell_type": "markdown",
      "metadata": {
        "id": "ooIjd-QTdhcK"
      },
      "source": [
        "### `.pop()`\n",
        "\n",
        "**임의의 원소**를 제거해 반환합니다."
      ]
    },
    {
      "cell_type": "code",
      "metadata": {
        "id": "sqv3p_7FdhcK"
      },
      "source": [
        "# pop을 사용해봅시다.\n",
        "a = ['사과', '바나나', '수박', '아보카도']"
      ],
      "execution_count": null,
      "outputs": []
    },
    {
      "cell_type": "code",
      "metadata": {
        "id": "580jnrI5dhcL",
        "outputId": "5f4fec9a-b597-4e55-fe17-019cd87cfda8"
      },
      "source": [
        "print(a.pop())\n",
        "print(a)"
      ],
      "execution_count": null,
      "outputs": [
        {
          "output_type": "stream",
          "text": [
            "아보카도\n",
            "['사과', '바나나', '수박']\n"
          ],
          "name": "stdout"
        }
      ]
    },
    {
      "cell_type": "markdown",
      "metadata": {
        "id": "JkXT8_fqdhcL"
      },
      "source": [
        "#  `map()`, `zip()`, `filter()`"
      ]
    },
    {
      "cell_type": "markdown",
      "metadata": {
        "id": "cNQBLEPFdhcL"
      },
      "source": [
        "## `map(function, iterable)`\n",
        "\n",
        "* Iterable의 모든 요소에 function을 적용한 후 그 결과를 돌려준다. \n",
        "\n",
        "\n",
        "* 대표적으로 iterable한 타입 - list, dict, set, str, bytes, tuple, range\n",
        "\n",
        "\n",
        "* return은 `map_object` 형태이다."
      ]
    },
    {
      "cell_type": "code",
      "metadata": {
        "id": "ag4wRGj3dhcL"
      },
      "source": [
        "numbers = [1, 2, 3]\n",
        "\n",
        "# 위의 코드를 문자열 '123'으로 만드세요"
      ],
      "execution_count": null,
      "outputs": []
    },
    {
      "cell_type": "code",
      "metadata": {
        "id": "CbWZqcnidhcL",
        "outputId": "025808da-c7d1-48b5-d6d6-61a50efb4c0e"
      },
      "source": [
        "# list comprehension\n",
        "new_numbers = ''.join([str(num) for num in numbers])\n",
        "print(new_numbers)\n",
        "print(type(new_numbers))"
      ],
      "execution_count": null,
      "outputs": [
        {
          "output_type": "stream",
          "text": [
            "123\n",
            "<class 'str'>\n"
          ],
          "name": "stdout"
        }
      ]
    },
    {
      "cell_type": "code",
      "metadata": {
        "scrolled": true,
        "id": "uhrlSTTAdhcM"
      },
      "source": [
        "data = '8'"
      ],
      "execution_count": null,
      "outputs": []
    },
    {
      "cell_type": "code",
      "metadata": {
        "id": "HyVv_lzrdhcM"
      },
      "source": [
        "# map"
      ],
      "execution_count": null,
      "outputs": []
    },
    {
      "cell_type": "code",
      "metadata": {
        "id": "OwcJjH4MdhcM",
        "outputId": "2055fea6-5e8e-421c-eb5c-10855de6c214"
      },
      "source": [
        "new_numbers = map(str, numbers)\n",
        "print(new_numbers)\n",
        "print(''.join(new_numbers))\n",
        "print(type(''.join(new_numbers)))"
      ],
      "execution_count": null,
      "outputs": [
        {
          "output_type": "stream",
          "text": [
            "<map object at 0x0000026336587780>\n",
            "123\n",
            "<class 'str'>\n"
          ],
          "name": "stdout"
        }
      ]
    },
    {
      "cell_type": "code",
      "metadata": {
        "id": "PrZ-3Dv3dhcM"
      },
      "source": [
        "numbers = ['1', '2', '3']\n",
        "\n",
        "# 위의 코드를 숫자 '123'으로 만드세요"
      ],
      "execution_count": null,
      "outputs": []
    },
    {
      "cell_type": "code",
      "metadata": {
        "id": "OYwZHIgsdhcM"
      },
      "source": [
        "# list comprehension"
      ],
      "execution_count": null,
      "outputs": []
    },
    {
      "cell_type": "code",
      "metadata": {
        "id": "ISknC72DdhcM",
        "outputId": "06fdb1ee-c312-4d83-eed9-a02eddc0c2f7"
      },
      "source": [
        "new_numbers = [int(num) for num in numbers]\n",
        "print(new_numbers)"
      ],
      "execution_count": null,
      "outputs": [
        {
          "output_type": "stream",
          "text": [
            "[1, 2, 3]\n"
          ],
          "name": "stdout"
        }
      ]
    },
    {
      "cell_type": "code",
      "metadata": {
        "id": "UnuPhyTydhcN"
      },
      "source": [
        "# map"
      ],
      "execution_count": null,
      "outputs": []
    },
    {
      "cell_type": "code",
      "metadata": {
        "id": "6z1Iax5GdhcO",
        "outputId": "c15c907b-804f-4da3-e5f7-ae8584e2fe28"
      },
      "source": [
        "new_numbers = list(map(int,numbers))\n",
        "print(new_numbers)"
      ],
      "execution_count": null,
      "outputs": [
        {
          "output_type": "stream",
          "text": [
            "[1, 2, 3]\n"
          ],
          "name": "stdout"
        }
      ]
    },
    {
      "cell_type": "markdown",
      "metadata": {
        "id": "nW-i2V9BdhcO"
      },
      "source": [
        "첫번째 인자 function은 사용자 정의 함수도 가능합니다."
      ]
    },
    {
      "cell_type": "code",
      "metadata": {
        "id": "Z2rcWoZjdhcO"
      },
      "source": [
        "# 세제곱의 결과를 나타내는 함수\n",
        "def cube(n):\n",
        "    return n**3"
      ],
      "execution_count": null,
      "outputs": []
    },
    {
      "cell_type": "code",
      "metadata": {
        "id": "h0tNrp-JdhcO",
        "outputId": "2ad499c6-28b7-4b35-aea3-899dea541ff6"
      },
      "source": [
        "numbers = [1,2,3]\n",
        "new_numbers = list(map(cube, numbers))\n",
        "print(new_numbers)"
      ],
      "execution_count": null,
      "outputs": [
        {
          "output_type": "stream",
          "text": [
            "[1, 8, 27]\n"
          ],
          "name": "stdout"
        }
      ]
    },
    {
      "cell_type": "markdown",
      "metadata": {
        "id": "p4t6cZIFdhcO"
      },
      "source": [
        "## `zip(*iterables)` \n",
        "# 이해안됨\n",
        "\n",
        "* 복수의 iterable 객체를 모아준다.\n",
        "\n",
        "\n",
        "* 결과는 튜플의 모음으로 구성된 `zip object` 를 반환한다."
      ]
    },
    {
      "cell_type": "code",
      "metadata": {
        "id": "Z_l5rzvidhcP"
      },
      "source": [
        "girls = ['jane', 'iu', 'mary']\n",
        "boys = ['justin', 'david', 'kim']"
      ],
      "execution_count": null,
      "outputs": []
    },
    {
      "cell_type": "code",
      "metadata": {
        "id": "Bdo8lUYJdhcP",
        "outputId": "95f38f12-9b38-4dc0-f909-e9ad5393ef20"
      },
      "source": [
        "list(zip(girls, boys))"
      ],
      "execution_count": null,
      "outputs": [
        {
          "output_type": "execute_result",
          "data": {
            "text/plain": [
              "[('jane', 'justin'), ('iu', 'david'), ('mary', 'kim')]"
            ]
          },
          "metadata": {
            "tags": []
          },
          "execution_count": 36
        }
      ]
    },
    {
      "cell_type": "code",
      "metadata": {
        "id": "HUriKBOsdhcP"
      },
      "source": [
        "# 한 명씩 순서대로 매칭시켜봅시다.\n",
        "# 예) {'jane': 'justin', 'iu': 'david', 'mary': 'kim'}"
      ],
      "execution_count": null,
      "outputs": []
    },
    {
      "cell_type": "code",
      "metadata": {
        "id": "2V-Bw-HhdhcP"
      },
      "source": [
        "# dictionary comprehension"
      ],
      "execution_count": null,
      "outputs": []
    },
    {
      "cell_type": "code",
      "metadata": {
        "id": "Y7CKvWvIdhcP",
        "outputId": "d7fdbd3a-efae-4a43-ee9a-9d15ba2a2c52"
      },
      "source": [
        "{girl: boy for girl in girls for boy in boys}"
      ],
      "execution_count": null,
      "outputs": [
        {
          "output_type": "execute_result",
          "data": {
            "text/plain": [
              "{'jane': 'kim', 'iu': 'kim', 'mary': 'kim'}"
            ]
          },
          "metadata": {
            "tags": []
          },
          "execution_count": 37
        }
      ]
    },
    {
      "cell_type": "code",
      "metadata": {
        "id": "uIwmLkpIdhcP"
      },
      "source": [
        "# zip"
      ],
      "execution_count": null,
      "outputs": []
    },
    {
      "cell_type": "code",
      "metadata": {
        "id": "wqaWiliCdhcQ",
        "outputId": "98204631-2491-4dc1-d535-406a1b2cd63e"
      },
      "source": [
        "pair = {}\n",
        "for girl in girls:\n",
        "    for boy in boys:\n",
        "        pair[girl] = boy\n",
        "pair"
      ],
      "execution_count": null,
      "outputs": [
        {
          "output_type": "execute_result",
          "data": {
            "text/plain": [
              "{'jane': 'kim', 'iu': 'kim', 'mary': 'kim'}"
            ]
          },
          "metadata": {
            "tags": []
          },
          "execution_count": 38
        }
      ]
    },
    {
      "cell_type": "code",
      "metadata": {
        "id": "9Aw3AGh-dhcQ"
      },
      "source": [
        "# 다른 예시도 알아봅시다."
      ],
      "execution_count": null,
      "outputs": []
    },
    {
      "cell_type": "code",
      "metadata": {
        "id": "i8vhxPevdhcQ",
        "outputId": "ee37f01f-30d8-4cf6-dbb7-d81d713f51ae"
      },
      "source": [
        "{girl: boy for girl, boy in zip(girls, boys)}"
      ],
      "execution_count": null,
      "outputs": [
        {
          "output_type": "execute_result",
          "data": {
            "text/plain": [
              "{'jane': 'justin', 'iu': 'david', 'mary': 'kim'}"
            ]
          },
          "metadata": {
            "tags": []
          },
          "execution_count": 40
        }
      ]
    },
    {
      "cell_type": "code",
      "metadata": {
        "id": "HVE26vyhdhcQ"
      },
      "source": [
        "a='123'\n",
        "b='567'\n",
        "for digit_a, "
      ],
      "execution_count": null,
      "outputs": []
    },
    {
      "cell_type": "code",
      "metadata": {
        "id": "l7ki_9LBdhcQ"
      },
      "source": [
        ""
      ],
      "execution_count": null,
      "outputs": []
    },
    {
      "cell_type": "markdown",
      "metadata": {
        "id": "CqqNhuPydhcQ"
      },
      "source": [
        "* zip은 반드시 길이가 같을 때 사용해야한다. 다르다면 가장 짧은 것을 기준으로 구성한다."
      ]
    },
    {
      "cell_type": "code",
      "metadata": {
        "id": "dF-KGtlddhcR",
        "outputId": "1cc99f13-a833-4976-ae08-be744ff9bfad"
      },
      "source": [
        "num1 = [1,2,3]\n",
        "num2 = ['1','2']\n",
        "list(zip(num1, num2))"
      ],
      "execution_count": null,
      "outputs": [
        {
          "output_type": "execute_result",
          "data": {
            "text/plain": [
              "[(1, '1'), (2, '2')]"
            ]
          },
          "metadata": {
            "tags": []
          },
          "execution_count": 41
        }
      ]
    },
    {
      "cell_type": "markdown",
      "metadata": {
        "id": "-sdOkHecdhcR"
      },
      "source": [
        "* 길이가 긴 것을 맞춰서 할 수도 있지만, 사용할 일이 없다"
      ]
    },
    {
      "cell_type": "code",
      "metadata": {
        "id": "u0qvaZiYdhcR",
        "outputId": "1f057dc3-7c87-4b6e-cf35-c4d6f97f64a6"
      },
      "source": [
        "from itertools import zip_longest\n",
        "list(zip_longest(num1,num2, fillvalue = 0))"
      ],
      "execution_count": null,
      "outputs": [
        {
          "output_type": "execute_result",
          "data": {
            "text/plain": [
              "[(1, '1'), (2, '2'), (3, 0)]"
            ]
          },
          "metadata": {
            "tags": []
          },
          "execution_count": 42
        }
      ]
    },
    {
      "cell_type": "markdown",
      "metadata": {
        "id": "d8yM0mABdhcR"
      },
      "source": [
        "## `filter(function, iterable)`\n",
        "\n",
        "* iterable에서 function의 반환된 결과가 `True` 인 것들만 구성하여 반환한다.\n",
        "\n",
        "\n",
        "* `filter object` 를 반환한다."
      ]
    },
    {
      "cell_type": "code",
      "metadata": {
        "id": "OwCDIca6dhcS"
      },
      "source": [
        "# 홀수인지 판단하는 코드를 작성하세요."
      ],
      "execution_count": null,
      "outputs": []
    },
    {
      "cell_type": "code",
      "metadata": {
        "id": "u_WoOi7PdhcS",
        "outputId": "f9614479-9486-45c2-9850-4f684f0ace48"
      },
      "source": [
        "def odd(n):\n",
        "    return n % 2\n",
        "\n",
        "numbers = [1,2,3]\n",
        "list(filter(odd,numbers))"
      ],
      "execution_count": null,
      "outputs": [
        {
          "output_type": "execute_result",
          "data": {
            "text/plain": [
              "[1, 3]"
            ]
          },
          "metadata": {
            "tags": []
          },
          "execution_count": 44
        }
      ]
    },
    {
      "cell_type": "code",
      "metadata": {
        "id": "q7Q4dgfvdhcS"
      },
      "source": [
        "# 다음의 list comprehension과 동일하다."
      ],
      "execution_count": null,
      "outputs": []
    },
    {
      "cell_type": "code",
      "metadata": {
        "id": "ChYqleWFdhcS",
        "outputId": "a0546d34-6da4-4d22-b14d-f741ed1a0b46"
      },
      "source": [
        "[x for x in numbers if odd(x)]"
      ],
      "execution_count": null,
      "outputs": [
        {
          "output_type": "execute_result",
          "data": {
            "text/plain": [
              "[1, 3]"
            ]
          },
          "metadata": {
            "tags": []
          },
          "execution_count": 45
        }
      ]
    },
    {
      "cell_type": "code",
      "metadata": {
        "id": "tmB0frk3dhcS",
        "outputId": "bb0ae241-7d23-4a97-d9c8-0c880fff231b"
      },
      "source": [
        "[x for x in numbers if x % 2]"
      ],
      "execution_count": null,
      "outputs": [
        {
          "output_type": "execute_result",
          "data": {
            "text/plain": [
              "[1, 3]"
            ]
          },
          "metadata": {
            "tags": []
          },
          "execution_count": 46
        }
      ]
    },
    {
      "cell_type": "code",
      "metadata": {
        "id": "F1gGcGEvdhcT"
      },
      "source": [
        ""
      ],
      "execution_count": null,
      "outputs": []
    }
  ]
}
{
  "nbformat": 4,
  "nbformat_minor": 0,
  "metadata": {
    "kernelspec": {
      "display_name": "Python 3",
      "language": "python",
      "name": "python3"
    },
    "language_info": {
      "codemirror_mode": {
        "name": "ipython",
        "version": 3
      },
      "file_extension": ".py",
      "mimetype": "text/x-python",
      "name": "python",
      "nbconvert_exporter": "python",
      "pygments_lexer": "ipython3",
      "version": "3.7.6"
    },
    "toc": {
      "base_numbering": 1,
      "nav_menu": {},
      "number_sections": true,
      "sideBar": true,
      "skip_h1_title": false,
      "title_cell": "Table of Contents",
      "title_sidebar": "Contents",
      "toc_cell": false,
      "toc_position": {},
      "toc_section_display": true,
      "toc_window_display": false
    },
    "colab": {
      "name": "03_function.ipynb",
      "provenance": [],
      "include_colab_link": true
    }
  },
  "cells": [
    {
      "cell_type": "markdown",
      "metadata": {
        "id": "view-in-github",
        "colab_type": "text"
      },
      "source": [
        "<a href=\"https://colab.research.google.com/github/pyohamen/SSAFY/blob/master/Python/03_function.ipynb\" target=\"_parent\"><img src=\"https://colab.research.google.com/assets/colab-badge.svg\" alt=\"Open In Colab\"/></a>"
      ]
    },
    {
      "cell_type": "markdown",
      "metadata": {
        "id": "AqAk_wFVdY9J"
      },
      "source": [
        "# 함수 (function)"
      ]
    },
    {
      "cell_type": "markdown",
      "metadata": {
        "id": "0P3L9bZ_dY9M"
      },
      "source": [
        "<center>\n",
        "    <img src=\"https://user-images.githubusercontent.com/18046097/61181746-2a1d9400-a665-11e9-804e-e92940d4fc82.png\", alt=\"func.png\">\n",
        "</center>"
      ]
    },
    {
      "cell_type": "markdown",
      "metadata": {
        "id": "M7Ga_TJhdY9M"
      },
      "source": [
        "**parameter(매개변수) & argument(인자, 전달인자)**\n",
        "\n",
        "1. parameter\n",
        "```python\n",
        "def func(x):\n",
        "    return x + 2\n",
        "```\n",
        "    * `x` 는 매개변수\n",
        "    * 함수의 정의 부분에서 볼 수 있다.\n",
        "    \n",
        "\n",
        "2. argument\n",
        "```python\n",
        "func(2)\n",
        "```\n",
        "    * `2` 는 인자\n",
        "    * 함수를 호출하는 부분에서 볼 수 있다.\n",
        "    \n",
        "> 주로 혼용해서 사용하지만 엄밀하게 따지면 둘은 다르게 구분되어 사용됩니다. 개념적 구분보다 함수가 작동하는 원리를 이해하는게 더 중요합니다."
      ]
    },
    {
      "cell_type": "markdown",
      "metadata": {
        "id": "v66c3VOjdY9N"
      },
      "source": [
        "## 들어가기전에\n",
        "\n",
        "> 직사각형의 둘레와 면적을 구하는 코드를 작성하세요.\n",
        "\n",
        "```python\n",
        "height = 30\n",
        "width = 20\n",
        "```\n",
        "\n",
        "---\n",
        "```\n",
        "예시 출력)\n",
        "직사각형 둘레: 100, 면적: 600입니다.\n",
        "```"
      ]
    },
    {
      "cell_type": "code",
      "metadata": {
        "id": "xXwQ12pvdY9N"
      },
      "source": [
        "height = 30\n",
        "width = 20\n",
        "\n",
        "# 아래에 코드를 작성하세요."
      ],
      "execution_count": null,
      "outputs": []
    },
    {
      "cell_type": "code",
      "metadata": {
        "id": "6jk-bOC8dY9O",
        "outputId": "d48603f8-99c2-47e2-f8eb-827d70ee7867"
      },
      "source": [
        "area = height * width\n",
        "perimeter = 2 * (width + height)\n",
        "print (f'직사각형 면적: {area}, 둘레: {perimeter}입니다.')"
      ],
      "execution_count": null,
      "outputs": [
        {
          "output_type": "stream",
          "text": [
            "직사각형 면적: 600, 둘레: 100입니다.\n"
          ],
          "name": "stdout"
        }
      ]
    },
    {
      "cell_type": "markdown",
      "metadata": {
        "id": "FXKv9LK2dY9P"
      },
      "source": [
        "> 앞서 작성한 코드에서 매번 사각형의 둘레와 면적을 구하기 위해서는 변수에 값을 바꾸거나 코드를 복사 붙여넣기 해야합니다.\n",
        "> \n",
        "> 코드가 많아질수록 문제가 발생할 확률이 높아지며, 유지 보수하기도 힘들어집니다."
      ]
    },
    {
      "cell_type": "markdown",
      "metadata": {
        "id": "C2DP_t_2dY9Q"
      },
      "source": [
        "<center>\n",
        "    <img src=\"https://user-images.githubusercontent.com/18046097/61181741-2984fd80-a665-11e9-93b8-578c56689d0e.png\", alt=\"programming principle\">\n",
        "</center>"
      ]
    },
    {
      "cell_type": "markdown",
      "metadata": {
        "id": "laX04pX-dY9Q"
      },
      "source": [
        "<center>\n",
        "    <img src=\"https://user-images.githubusercontent.com/18046097/61181750-2ab62a80-a665-11e9-84f3-c2445c098a18.png\", alt=\"programming principle\">\n",
        "</center>"
      ]
    },
    {
      "cell_type": "markdown",
      "metadata": {
        "id": "Ch6s-Gq7dY9Q"
      },
      "source": [
        "## 함수의 선언과 호출\n",
        "\n",
        "* 함수 선언은 `def`로 시작하여 `:`으로 끝나고, 다음은 `4spaces 들여쓰기`로 코드 블록을 만든다.\n",
        "\n",
        "\n",
        "* 함수는 `매개변수(parameter)`를 넘겨줄 수도 있다.\n",
        "\n",
        "\n",
        "* 함수는 동작후에 `return`을 통해 결과값을 전달 할 수도 있다. (`return` 값이 없으면, `None`을 반환한다.)\n",
        "\n",
        "\n",
        "* 함수는 호출을 `func()` / `func(val1, val2)`와 같이 한다.\n",
        "\n",
        "---\n",
        "\n",
        "**활용법**\n",
        "\n",
        "```python\n",
        "def func(parameter1, parameter2):\n",
        "    code line1\n",
        "    code line2\n",
        "    return value\n",
        "```"
      ]
    },
    {
      "cell_type": "code",
      "metadata": {
        "id": "kuMhDe6cdY9Q"
      },
      "source": [
        "# 위의 사각형 코드를 함수로 아래에 작성하세요"
      ],
      "execution_count": null,
      "outputs": []
    },
    {
      "cell_type": "code",
      "metadata": {
        "id": "qqOqBJFQdY9R",
        "outputId": "007dd90b-217e-4fb3-bb5e-a161a3d9b73c"
      },
      "source": [
        "def rectangle(width, height):\n",
        "    area = height * width\n",
        "    perimeter = 2 * (width + height)\n",
        "    print (f'직사각형 면적: {area}, 둘레: {perimeter}입니다.')\n",
        "    \n",
        "rectangle(30, 20)\n",
        "rectangle(50, 60)\n"
      ],
      "execution_count": null,
      "outputs": [
        {
          "output_type": "stream",
          "text": [
            "직사각형 면적: 600, 둘레: 100입니다.\n",
            "직사각형 면적: 3000, 둘레: 220입니다.\n"
          ],
          "name": "stdout"
        }
      ]
    },
    {
      "cell_type": "markdown",
      "metadata": {
        "id": "1mDHkp9ndY9R"
      },
      "source": [
        ""
      ]
    },
    {
      "cell_type": "markdown",
      "metadata": {
        "id": "47zLrbDPdY9R"
      },
      "source": [
        "<center>\n",
        "    <img src=\"https://dl.dropbox.com/s/o6v9c0vxpdww1lm/function-argument.png\", alt=\"function_example\">\n",
        "</center>"
      ]
    },
    {
      "cell_type": "code",
      "metadata": {
        "id": "GLjrlc5pdY9R"
      },
      "source": [
        "# 우리가 활용하는 print문도 파이썬에 지정된 함수입니다. \n",
        "# 아래에서 'hi'는 argument이고 출력을 하게 됩니다.\n",
        "print('hi')"
      ],
      "execution_count": null,
      "outputs": []
    },
    {
      "cell_type": "markdown",
      "metadata": {
        "id": "avyEQCwldY9S"
      },
      "source": [
        "<center>\n",
        "    <img src=\"https://user-images.githubusercontent.com/18046097/61181739-2984fd80-a665-11e9-991b-f2f058397a69.png\", alt=\"built_in\">\n",
        "</center>\n",
        "\n",
        "[출처: python 공식문서](https://docs.python.org/ko/3/library/functions.html)"
      ]
    },
    {
      "cell_type": "code",
      "metadata": {
        "id": "iCXH17AhdY9S"
      },
      "source": [
        "# 내장함수 목록을 직접 볼 수도 있습니다.\n"
      ],
      "execution_count": null,
      "outputs": []
    },
    {
      "cell_type": "markdown",
      "metadata": {
        "id": "5JOF_7o_dY9S"
      },
      "source": [
        "## 함수를 만들어봅시다.\n",
        "\n",
        "> 아래의 코드와 동일한 `my_max` 함수를 만들어주세요.\n",
        ">\n",
        "> 정수를 두개 받아서, 큰 값을 출력합니다. \n",
        "\n",
        "```python\n",
        "max(1, 5)\n",
        "```\n",
        "---\n",
        "```\n",
        "예시 출력)\n",
        "5가 더 큽니다\n",
        "```\n"
      ]
    },
    {
      "cell_type": "code",
      "metadata": {
        "id": "6cjglphYdY9S",
        "outputId": "901b7a6d-babe-49ab-d513-6eec7b811db1"
      },
      "source": [
        "max(1, 5)"
      ],
      "execution_count": null,
      "outputs": [
        {
          "output_type": "execute_result",
          "data": {
            "text/plain": [
              "5"
            ]
          },
          "metadata": {
            "tags": []
          },
          "execution_count": 8
        }
      ]
    },
    {
      "cell_type": "code",
      "metadata": {
        "id": "IXQIRj5sdY9T"
      },
      "source": [
        "# 아래에 my_max 함수를 작성하고 호출하세요."
      ],
      "execution_count": null,
      "outputs": []
    },
    {
      "cell_type": "code",
      "metadata": {
        "id": "4cU0xrTwdY9T"
      },
      "source": [
        "def my_max(a, b):\n",
        "    if a > b:\n",
        "        return f'{a}가 더 큽니다.', 3\n",
        "    else:\n",
        "        return f'{b}가 더 큽니다.'"
      ],
      "execution_count": null,
      "outputs": []
    },
    {
      "cell_type": "code",
      "metadata": {
        "id": "5aqWmxbRdY9T",
        "outputId": "708a8c52-0334-4127-a1e8-9447e6b0356c"
      },
      "source": [
        "# 해당 코드를 통해 올바른 결과가 나오는지 확인하세요.\n",
        "my_max(1, 5)"
      ],
      "execution_count": null,
      "outputs": [
        {
          "output_type": "execute_result",
          "data": {
            "text/plain": [
              "'5가 더 큽니다.'"
            ]
          },
          "metadata": {
            "tags": []
          },
          "execution_count": 2
        }
      ]
    },
    {
      "cell_type": "markdown",
      "metadata": {
        "id": "W0LDtumNdY9T"
      },
      "source": [
        "# 함수의 `return`\n",
        "\n",
        "앞서 설명한 것과 마찬가지로 함수는 반환되는 값이 있으며, 이는 어떠한 종류의 객체여도 상관없습니다. \n",
        " \n",
        "단, **오직 한 개의 객체**만 반환됩니다.\n",
        "\n",
        "함수가 return 되거나 종료되면, 함수를 호출한 곳으로 돌아갑니다."
      ]
    },
    {
      "cell_type": "markdown",
      "metadata": {
        "id": "dYKtyX9ldY9U"
      },
      "source": [
        "## 함수를 정의하고 값을 반환해봅시다.\n",
        " \n",
        "> 리스트 두개를 받아 각각 더한 결과를 비교하여 값이 큰 리스트를 반환하는 함수를 만들어주세요.\n",
        "\n",
        "```python\n",
        "my_list_max([10, 3], [5, 9])\n",
        "```\n",
        "---\n",
        "```\n",
        "예시 출력)\n",
        "[5, 9]\n",
        "```\n"
      ]
    },
    {
      "cell_type": "code",
      "metadata": {
        "id": "i2s5k7vSdY9U"
      },
      "source": [
        "# 아래에 my_list_max 함수를 작성하고 호출하세요"
      ],
      "execution_count": null,
      "outputs": []
    },
    {
      "cell_type": "code",
      "metadata": {
        "id": "JmIRlxFGdY9U"
      },
      "source": [
        "def my_list_max(a,b):\n",
        "    if sum(a) > sum(b):\n",
        "        return a\n",
        "    else:\n",
        "        return b"
      ],
      "execution_count": null,
      "outputs": []
    },
    {
      "cell_type": "code",
      "metadata": {
        "id": "UFbqotZ_dY9U",
        "outputId": "59bf72c5-0716-40ab-cce9-65a9ab3bb45f"
      },
      "source": [
        "# 해당 코드를 통해 올바른 결과가 나오는지 확인하세요.\n",
        "my_list_max([10, 3], [5, 9])"
      ],
      "execution_count": null,
      "outputs": [
        {
          "output_type": "execute_result",
          "data": {
            "text/plain": [
              "[5, 9]"
            ]
          },
          "metadata": {
            "tags": []
          },
          "execution_count": 13
        }
      ]
    },
    {
      "cell_type": "markdown",
      "metadata": {
        "id": "YBx-OWn3dY9V"
      },
      "source": [
        "# 함수의 인자\n",
        "\n",
        "함수는 `인자(argument)`를 넘겨줄 수 있습니다."
      ]
    },
    {
      "cell_type": "markdown",
      "metadata": {
        "id": "xxDxhzsldY9V"
      },
      "source": [
        "## 위치 인자 (Positional Arguments)\n",
        "\n",
        "함수는 기본적으로 인자를 위치로 판단합니다."
      ]
    },
    {
      "cell_type": "code",
      "metadata": {
        "id": "dqmLZwowdY9V"
      },
      "source": [
        "# 원기둥의 부피를 구하는 함수를 작성하세요.\n",
        "# 밑면의 넓이 * 높이"
      ],
      "execution_count": null,
      "outputs": []
    },
    {
      "cell_type": "code",
      "metadata": {
        "id": "isU0Tq0RdY9W",
        "outputId": "4042a2ab-2330-4ef7-ea26-74d01bc3fcb9"
      },
      "source": [
        "def cylinder(r,h):\n",
        "    return r**2 * 3.14 * h\n",
        "print(cylinder(4,3))\n",
        "print(cylinder(3,4))"
      ],
      "execution_count": null,
      "outputs": [
        {
          "output_type": "stream",
          "text": [
            "150.72\n",
            "113.04\n"
          ],
          "name": "stdout"
        }
      ]
    },
    {
      "cell_type": "markdown",
      "metadata": {
        "id": "It7k5eaudY9W"
      },
      "source": [
        "<center>\n",
        "    <img src=\"https://user-images.githubusercontent.com/18046097/61181743-2a1d9400-a665-11e9-8df2-e4856caf16e4.png\", alt=\"function example 02\">\n",
        "</center>"
      ]
    },
    {
      "cell_type": "markdown",
      "metadata": {
        "id": "c8IAL24odY9W"
      },
      "source": [
        "## 기본 인자 값 (Default Argument Values)\n",
        "\n",
        "함수가 호출될 때, 인자를 지정하지 않아도 기본 값을 설정할 수 있습니다. \n",
        "\n",
        "---\n",
        "\n",
        "**활용법**\n",
        "```python\n",
        "def func(p1=v1):\n",
        "    return p1\n",
        "```"
      ]
    },
    {
      "cell_type": "markdown",
      "metadata": {
        "id": "yOlDQTKwdY9X"
      },
      "source": [
        "### 기본 값 활용 예제\n",
        "\n",
        "> 이름을 받아서 다음과 같이 인사하는 함수 `greeting`을 작성하세요. 이름이 길동이면, \"길동, 안녕?\" 이름이 없으면 \"익명, 안녕?\" 으로 출력하세요."
      ]
    },
    {
      "cell_type": "code",
      "metadata": {
        "id": "FYTgwawDdY9X"
      },
      "source": [
        "# 아래에 greeting 함수를 작성하세요."
      ],
      "execution_count": null,
      "outputs": []
    },
    {
      "cell_type": "code",
      "metadata": {
        "id": "uLTXoaVUdY9X",
        "outputId": "d9cd7edd-991d-480e-f76b-bca0295e497d"
      },
      "source": [
        "def greeting(name='땡땡'):\n",
        "    return f'{name}, 안녕'\n",
        "greeting()"
      ],
      "execution_count": null,
      "outputs": [
        {
          "output_type": "execute_result",
          "data": {
            "text/plain": [
              "'땡땡, 안녕'"
            ]
          },
          "metadata": {
            "tags": []
          },
          "execution_count": 1
        }
      ]
    },
    {
      "cell_type": "markdown",
      "metadata": {
        "id": "32TXOWM2dY9X"
      },
      "source": [
        "* 기본 인자 값이 설정되어 있더라도 기존의 함수와 동일하게 호출 가능하다.\n",
        "\n",
        "\n",
        "<center>\n",
        "    <img src=\"https://user-images.githubusercontent.com/18046097/61181744-2a1d9400-a665-11e9-9095-6924ca11122e.png\">\n",
        "</center>"
      ]
    },
    {
      "cell_type": "markdown",
      "metadata": {
        "id": "dU2L83eSdY9Y"
      },
      "source": [
        "* 호출시 인자가 없으면 기본 인자 값이 활용된다.\n",
        "\n",
        "\n",
        "<center>\n",
        "    <img src=\"https://user-images.githubusercontent.com/18046097/61181745-2a1d9400-a665-11e9-95ef-e50e463e1583.png\", alt=\"function example 03\">\n",
        "</center>"
      ]
    },
    {
      "cell_type": "markdown",
      "metadata": {
        "id": "EQhYIayDdY9Y"
      },
      "source": [
        "**단, 기본 인자 이후에 기본 값이 없는 인자를 사용할 수는 없습니다.**"
      ]
    },
    {
      "cell_type": "code",
      "metadata": {
        "id": "xzyZ7YHYdY9Y"
      },
      "source": [
        "# 오류를 확인해봅시다."
      ],
      "execution_count": null,
      "outputs": []
    },
    {
      "cell_type": "code",
      "metadata": {
        "id": "vQoYJ2O3dY9Y",
        "outputId": "5267ed7a-56ea-42c9-e71b-37973137e46d"
      },
      "source": [
        "### 디폴트값 뒤에는 디폴트 값이 없는게 올 수 없다!!!!!\n",
        "\n",
        "def greeting(name = 'john', age):\n",
        "    return f'{name}은 {age}살입니다.'\n",
        "greeting(1)"
      ],
      "execution_count": null,
      "outputs": [
        {
          "output_type": "error",
          "ename": "SyntaxError",
          "evalue": "non-default argument follows default argument (<ipython-input-24-ab42d97ab2d8>, line 3)",
          "traceback": [
            "\u001b[1;36m  File \u001b[1;32m\"<ipython-input-24-ab42d97ab2d8>\"\u001b[1;36m, line \u001b[1;32m3\u001b[0m\n\u001b[1;33m    def greeting(name = 'john', age):\u001b[0m\n\u001b[1;37m                ^\u001b[0m\n\u001b[1;31mSyntaxError\u001b[0m\u001b[1;31m:\u001b[0m non-default argument follows default argument\n"
          ]
        }
      ]
    },
    {
      "cell_type": "code",
      "metadata": {
        "id": "jjr6SI3OdY9Y"
      },
      "source": [
        "# 수정해 봅시다."
      ],
      "execution_count": null,
      "outputs": []
    },
    {
      "cell_type": "code",
      "metadata": {
        "id": "jBFGA5zIdY9Z",
        "outputId": "763a8ad2-71b0-452b-f6a8-1de8d9ffadd6"
      },
      "source": [
        "def greeting(age, name = 'john'):\n",
        "    return f'{name}은 {age}살입니다.'\n",
        "greeting(1)"
      ],
      "execution_count": null,
      "outputs": [
        {
          "output_type": "execute_result",
          "data": {
            "text/plain": [
              "'john은 1살입니다.'"
            ]
          },
          "metadata": {
            "tags": []
          },
          "execution_count": 25
        }
      ]
    },
    {
      "cell_type": "markdown",
      "metadata": {
        "id": "dbfceWhRdY9Z"
      },
      "source": [
        "## 키워드 인자 (Keyword Arguments)\n",
        "\n",
        "키워드 인자는 직접 변수의 이름으로 특정 인자를 전달할 수 있습니다."
      ]
    },
    {
      "cell_type": "code",
      "metadata": {
        "id": "9l4FsiUedY9Z"
      },
      "source": [
        "# 키워드 인자 예시\n",
        "def greeting(age, name='john'):\n",
        "    return f'{name}은 {age}살입니다.'"
      ],
      "execution_count": null,
      "outputs": []
    },
    {
      "cell_type": "code",
      "metadata": {
        "id": "fLVjEPSJdY9Z",
        "outputId": "480a5e08-d0b4-4d03-f29d-650a716090b5"
      },
      "source": [
        "greeting(name='철수', age = 24)"
      ],
      "execution_count": null,
      "outputs": [
        {
          "output_type": "execute_result",
          "data": {
            "text/plain": [
              "'철수은 24살입니다.'"
            ]
          },
          "metadata": {
            "tags": []
          },
          "execution_count": 27
        }
      ]
    },
    {
      "cell_type": "code",
      "metadata": {
        "id": "e7UVHsHvdY9Z"
      },
      "source": [
        ""
      ],
      "execution_count": null,
      "outputs": []
    },
    {
      "cell_type": "markdown",
      "metadata": {
        "id": "P60RzIcBdY9a"
      },
      "source": [
        "## **단 아래와 같이 `키워드 인자`를 활용한 뒤에 `위치 인자`를 활용할 수는 없습니다.**"
      ]
    },
    {
      "cell_type": "code",
      "metadata": {
        "id": "cUmYMDPRdY9a",
        "outputId": "7ad7202c-6ca4-4c57-e525-d213816f5968"
      },
      "source": [
        "def greeting(name='john', age):\n",
        "    return f'{name}은 {age}살입니다.'"
      ],
      "execution_count": null,
      "outputs": [
        {
          "output_type": "error",
          "ename": "SyntaxError",
          "evalue": "non-default argument follows default argument (<ipython-input-28-d2844e0bff17>, line 1)",
          "traceback": [
            "\u001b[1;36m  File \u001b[1;32m\"<ipython-input-28-d2844e0bff17>\"\u001b[1;36m, line \u001b[1;32m1\u001b[0m\n\u001b[1;33m    def greeting(name='john', age):\u001b[0m\n\u001b[1;37m                ^\u001b[0m\n\u001b[1;31mSyntaxError\u001b[0m\u001b[1;31m:\u001b[0m non-default argument follows default argument\n"
          ]
        }
      ]
    },
    {
      "cell_type": "markdown",
      "metadata": {
        "id": "Mro_PDoLdY9a"
      },
      "source": [
        "우리가 주로 활용하는 `print()` 함수는 [파이썬 표준 라이브러리의 내장함수](https://docs.python.org/ko/3.6/library/functions.html) 중 하나이며, 다음과 같이 구성되어있습니다.\n",
        "> <center>\n",
        "    <img src=\"https://user-images.githubusercontent.com/18046097/61181751-2b4ec100-a665-11e9-9a7c-a19a8c445cfa.png\", alt=\"print\">\n",
        "</center>"
      ]
    },
    {
      "cell_type": "code",
      "metadata": {
        "id": "WTnvVI8OdY9a",
        "outputId": "69b2ebd1-5881-44c1-b9ed-755824dceb36"
      },
      "source": [
        "print('첫번째 문장')\n",
        "print('두번째 문장')\n",
        "print('세번째 문장', '마지막 문장', sep='/', end = '끝!')"
      ],
      "execution_count": null,
      "outputs": [
        {
          "output_type": "stream",
          "text": [
            "첫번째 문장\n",
            "두번째 문장\n",
            "세번째 문장/마지막 문장끝!"
          ],
          "name": "stdout"
        }
      ]
    },
    {
      "cell_type": "markdown",
      "metadata": {
        "id": "aK_k1CEndY9a"
      },
      "source": [
        "## 가변 인자 리스트 (Arbitrary Argument Lists)\n",
        "\n",
        "앞서 설명한 `print()`처럼 개수가 정해지지 않은 임의의 인자를 받기 위해서는 가변인자를 활용합니다. \n",
        "\n",
        "가변인자는 `tuple` 형태로 처리가 되며, **매개변수에 `*`로 표현합니다.**\n",
        "\n",
        "# 인자의 개수가 정해지지 않을 때 유용할 듯\n",
        "\n",
        "---\n",
        "\n",
        "**활용법**\n",
        "\n",
        "```python\n",
        "def func(a, b, *args):\n",
        "```\n",
        "> `*args` : 임의의 개수의 위치인자를 받음을 의미\n",
        "> \n",
        "> 보통, 이 가변인자 리스트는 형식 인자 목록의 마지막에 옵니다."
      ]
    },
    {
      "cell_type": "code",
      "metadata": {
        "id": "I_5ejpy6dY9b"
      },
      "source": [
        "# 가변 인자 예시\n",
        "# print문은 *obejcts를 통해 임의의 숫자의 인자를 모두 처리합니다."
      ],
      "execution_count": null,
      "outputs": []
    },
    {
      "cell_type": "code",
      "metadata": {
        "id": "lQewwCI9dY9b",
        "outputId": "71a14edf-72f8-428f-8020-aea41222ad14"
      },
      "source": [
        "print('hi','안녕','Giten tag','gonnichiwa',sep=',')\n",
        "\n",
        "### sep 분리해주기~~~~~~~~~~~~"
      ],
      "execution_count": null,
      "outputs": [
        {
          "output_type": "stream",
          "text": [
            "hi,안녕,Giten tag,gonnichiwa\n"
          ],
          "name": "stdout"
        }
      ]
    },
    {
      "cell_type": "code",
      "metadata": {
        "id": "YCAuy23qdY9b"
      },
      "source": [
        "# args는 tuple입니다."
      ],
      "execution_count": null,
      "outputs": []
    },
    {
      "cell_type": "code",
      "metadata": {
        "id": "yb3rjFoHdY9b",
        "outputId": "5cd510c6-bf4a-4024-a8e1-ee6f5b9d1b88"
      },
      "source": [
        "def my_func(*args):\n",
        "    return args\n",
        "\n",
        "print(my_func(1,2,3,4))"
      ],
      "execution_count": null,
      "outputs": [
        {
          "output_type": "stream",
          "text": [
            "(1, 2, 3, 4)\n"
          ],
          "name": "stdout"
        }
      ]
    },
    {
      "cell_type": "markdown",
      "metadata": {
        "id": "W1rlPYVpdY9c"
      },
      "source": [
        "### 가변 인자 리스트를 사용해봅시다.\n",
        "\n",
        "> 정수를 여러 개 받아서 가장 큰 값을 반환(return)하는 함수 `my_max()`를 작성하세요.\n",
        "\n",
        "```python\n",
        "my_max(10, 20, 30, 50)\n",
        "```\n",
        "---\n",
        "```\n",
        "예시출력)\n",
        "50\n",
        "```"
      ]
    },
    {
      "cell_type": "code",
      "metadata": {
        "id": "LsrRpWqKdY9c"
      },
      "source": [
        "max(1, 2, 3, 4)\n",
        "\n",
        "# 아래에 코드를 작성하세요."
      ],
      "execution_count": null,
      "outputs": []
    },
    {
      "cell_type": "code",
      "metadata": {
        "id": "_YzXIIkJdY9c"
      },
      "source": [
        "def test(a,b):\n",
        "    c=a+b\n",
        "    d=a-b\n",
        "    return c,d"
      ],
      "execution_count": null,
      "outputs": []
    },
    {
      "cell_type": "code",
      "metadata": {
        "id": "R88mAxFAdY9c",
        "outputId": "5a5f00ec-86a1-49a4-ced1-633bfdbf4f31"
      },
      "source": [
        "print(test(1,2))"
      ],
      "execution_count": null,
      "outputs": [
        {
          "output_type": "stream",
          "text": [
            "(3, -1)\n"
          ],
          "name": "stdout"
        }
      ]
    },
    {
      "cell_type": "code",
      "metadata": {
        "id": "3Nj_NIt6dY9c"
      },
      "source": [
        "def my_max (*args):\n",
        "    result = 0\n",
        "    for idx, val in enumerate(args): # 내장함수. enumerate란? \n",
        "        if idx == 0:\n",
        "            result =val\n",
        "        else:\n",
        "            if val > result:\n",
        "                result = val\n",
        "    return result"
      ],
      "execution_count": null,
      "outputs": []
    },
    {
      "cell_type": "markdown",
      "metadata": {
        "id": "j4BhsvLKdY9d"
      },
      "source": [
        "### 개념잡기~!!!!!!!!!!!!!!!!!!!!!!!!!!!!!!!!!!!!!!!!!!!!!!!!!!!!!\n",
        "\n",
        "enumerate(iterable, start=0)\n",
        "열거 객체를 돌려줍니다. iterable 은 시퀀스, 이터레이터 또는 이터레이션을 지원하는 다른 객체여야 합니다. enumerate() 에 의해 반환된 이터레이터의 __next__() 메서드는 카운트 (기본값 0을 갖는 start 부터)와 iterable 을 이터레이션 해서 얻어지는 값을 포함하는 튜플을 돌려줍니다.\n",
        "\n",
        "seasons = ['Spring', 'Summer', 'Fall', 'Winter']\n",
        "list(enumerate(seasons))\n",
        "[(0, 'Spring'), (1, 'Summer'), (2, 'Fall'), (3, 'Winter')]\n",
        "list(enumerate(seasons, start=1))\n",
        "[(1, 'Spring'), (2, 'Summer'), (3, 'Fall'), (4, 'Winter')]\n",
        "다음과 동등합니다:\n",
        "\n",
        "def enumerate(sequence, start=0):\n",
        "    n = start\n",
        "    for elem in sequence:\n",
        "        yield n, elem\n",
        "        n += 1"
      ]
    },
    {
      "cell_type": "code",
      "metadata": {
        "id": "ZIesYD9hdY9d",
        "outputId": "65ddf540-88a9-4263-8e76-f79b96869353"
      },
      "source": [
        "# 해당 코드를 통해 올바른 결과가 나오는지 확인하세요.\n",
        "my_max(-1, -2, -3, -4)"
      ],
      "execution_count": null,
      "outputs": [
        {
          "output_type": "execute_result",
          "data": {
            "text/plain": [
              "-1"
            ]
          },
          "metadata": {
            "tags": []
          },
          "execution_count": 47
        }
      ]
    },
    {
      "cell_type": "markdown",
      "metadata": {
        "id": "MHfcJPbCdY9d"
      },
      "source": [
        "## 정의되지 않은 키워드 인자들 처리하기\n",
        "\n",
        "정의되지 않은 키워드 인자들은 `dict` 형태로 처리가 되며, `**`로 표현합니다. \n",
        "\n",
        "주로 `kwagrs`라는 이름을 사용하며, `**kwargs`를 통해 인자를 받아 처리할 수 있습니다.\n",
        "\n",
        "---\n",
        "\n",
        "**활용법**\n",
        "\n",
        "```python\n",
        "def func(**kwargs):\n",
        "```\n",
        "> `**kwargs` : 임의의 개수의 키워드 인자를 받음을 의미"
      ]
    },
    {
      "cell_type": "markdown",
      "metadata": {
        "id": "Py1c-VXadY9d"
      },
      "source": [
        "우리가 dictionary를 만들 때 사용할 수 있는 `dict()` 함수는 [파이썬 표준 라이브러리의 내장함수](https://docs.python.org/ko/3.6/library/functions.html) 중 하나이며, 다음과 같이 구성되어 있습니다.\n",
        "> <center>\n",
        "    <img src=\"https://user-images.githubusercontent.com/18046097/61181740-2984fd80-a665-11e9-94cf-7f5ab41873b1.png\", alt=\"dictionary\">\n",
        "</center>"
      ]
    },
    {
      "cell_type": "markdown",
      "metadata": {
        "id": "e9Wp8O53dY9e"
      },
      "source": [
        "# ??? class 는 또 뭐였을까???"
      ]
    },
    {
      "cell_type": "code",
      "metadata": {
        "id": "7h1pZDzZdY9e"
      },
      "source": [
        "# 딕셔너리 생성 함수 예시(키워드 인자)"
      ],
      "execution_count": null,
      "outputs": []
    },
    {
      "cell_type": "code",
      "metadata": {
        "id": "veC-8szydY9e"
      },
      "source": [
        ""
      ],
      "execution_count": null,
      "outputs": []
    },
    {
      "cell_type": "code",
      "metadata": {
        "id": "1ScdFCYfdY9e"
      },
      "source": [
        "# 주의사항\n",
        "# 식별자는 숫자로 이뤄질 수가 없다.(키워드인자로 넘기면 함수 안에서 식별자로 쓰이기 때문)\n"
      ],
      "execution_count": null,
      "outputs": []
    },
    {
      "cell_type": "code",
      "metadata": {
        "id": "frarxjiddY9f",
        "outputId": "deb426b2-9085-47b8-c2a9-76424ac98424"
      },
      "source": [
        "# 이런 경우 이렇게 사용해야 한다.\n",
        "dict([(1, 1), (2, 2)])\n",
        "\n",
        "# or\n",
        "# dict(((1,1), (2,2)))"
      ],
      "execution_count": null,
      "outputs": [
        {
          "output_type": "execute_result",
          "data": {
            "text/plain": [
              "{1: 1, 2: 2}"
            ]
          },
          "metadata": {
            "tags": []
          },
          "execution_count": 2
        }
      ]
    },
    {
      "cell_type": "markdown",
      "metadata": {
        "id": "VmFUuTRPdY9f"
      },
      "source": [
        "### 정의되지 않은 키워드 인자를 처리해봅시다. \n",
        "\n",
        "> `my_dict()` 함수를 만들어 실제로 dictionary 모습처럼 출력 함수를 작성하세요.\n",
        ">\n",
        ">\n",
        "\n",
        "---\n",
        "\n",
        "```\n",
        "예시 출력)\n",
        "한국어: 안녕, 영어: hi, 독일어: Guten Tag\n",
        "```"
      ]
    },
    {
      "cell_type": "code",
      "metadata": {
        "id": "3tXrcpyvdY9f"
      },
      "source": [
        "# 아래에 코드를 작성한 뒤 호출하세요."
      ],
      "execution_count": null,
      "outputs": []
    },
    {
      "cell_type": "code",
      "metadata": {
        "id": "BDbgPx3AdY9f",
        "outputId": "62f53907-fa97-43de-9f31-99953a6f827a"
      },
      "source": [
        "def my_dict(**kwargs):\n",
        "    r = []\n",
        "    for key, value in kwargs.items():\n",
        "        r.append(f'{key}: {value}')\n",
        "    return ', '.join(r)     #####join 은 리스트를 출력할 때 한 줄씩 띄어서 나오던 것을, 한 줄로 붙여서 써주게함\n",
        "result =my_dict(한국어='안녕', 영어='hi', 독일어='Guten Tag')\n",
        "print(result)"
      ],
      "execution_count": null,
      "outputs": [
        {
          "output_type": "stream",
          "text": [
            "한국어: 안녕, 영어: hi, 독일어: Guten Tag\n"
          ],
          "name": "stdout"
        }
      ]
    },
    {
      "cell_type": "code",
      "metadata": {
        "id": "Op-w3domdY9f"
      },
      "source": [
        "# 사실은 dict()는 출력이 아니라 딕셔너리를 return 합니다. \n",
        "# 딕셔너리를 return 하는 my_fake_dict() 를 작성하세요."
      ],
      "execution_count": null,
      "outputs": []
    },
    {
      "cell_type": "code",
      "metadata": {
        "id": "PFyaUG6ldY9g",
        "outputId": "89348f89-9087-4ffa-c238-28f01b93fef4"
      },
      "source": [
        "def my_fake_dict(**kwargs):\n",
        "    result = []\n",
        "    for key, value in kwargs.items():\n",
        "        result.append(f'{key}: {value}')\n",
        "    return ', '.join(result)                                            \n",
        "result =my_fake_dict(한국어='안녕', 영어='hi', 독일어='Guten Tag')\n",
        "print(result)"
      ],
      "execution_count": null,
      "outputs": [
        {
          "output_type": "stream",
          "text": [
            "한국어: 안녕, 영어: hi, 독일어: Guten Tag\n"
          ],
          "name": "stdout"
        }
      ]
    },
    {
      "cell_type": "markdown",
      "metadata": {
        "id": "P6TXzTr3dY9g"
      },
      "source": [
        "## 인자 리스트 언패킹 (unpacking arguments list)\n",
        "\n",
        "- 패킹(packing) : 여러 개의 값을 하나의 컬렉션으로 묶어 변수에 대입하는 것\n",
        "```python\n",
        "collection = 1, 2, 3\n",
        "```\n",
        "\n",
        "- 언패킹(unpacking) : 컬렉션 속의 요소들을 여러 개의 변수에 나누어 대입하는 것\n",
        "```python\n",
        "a, b, c = collection\n",
        "```"
      ]
    },
    {
      "cell_type": "code",
      "metadata": {
        "id": "_7EgZP08dY9g",
        "outputId": "3365f0df-6776-464a-c8b8-faa3ecfe877c"
      },
      "source": [
        "print(range(3,6))"
      ],
      "execution_count": null,
      "outputs": [
        {
          "output_type": "stream",
          "text": [
            "range(3, 6)\n"
          ],
          "name": "stdout"
        }
      ]
    },
    {
      "cell_type": "code",
      "metadata": {
        "scrolled": true,
        "id": "gfh_PohodY9g",
        "outputId": "89f9f961-51ea-43f4-8a61-5db359edcfd5"
      },
      "source": [
        "args = [3, 6]\n",
        "list(range(*args))"
      ],
      "execution_count": null,
      "outputs": [
        {
          "output_type": "execute_result",
          "data": {
            "text/plain": [
              "[3, 4, 5]"
            ]
          },
          "metadata": {
            "tags": []
          },
          "execution_count": 61
        }
      ]
    },
    {
      "cell_type": "code",
      "metadata": {
        "id": "QcgjQmP8dY9h",
        "outputId": "172c01bc-a4f5-495b-d588-0bbaf63b0ec5"
      },
      "source": [
        "# 다음과 같이 사용할 수도 있습니다.\n",
        "def save_ranking(*args, **kwargs):\n",
        "    return args, kwargs\n",
        "\n",
        "result = save_ranking('ming', 'alice','tom', fourth = 'wilson', fifth = 'roy') \n",
        "print(result)\n",
        "\n",
        "### 무조건 디폴트값의 인자는 맨 뒤로 몰아주기!"
      ],
      "execution_count": null,
      "outputs": [
        {
          "output_type": "stream",
          "text": [
            "(('ming', 'alice', 'tom'), {'fourth': 'wilson', 'fifth': 'roy'})\n"
          ],
          "name": "stdout"
        }
      ]
    },
    {
      "cell_type": "markdown",
      "metadata": {
        "id": "anI8s1pgdY9h"
      },
      "source": [
        "### 로그인 검증 예제\n",
        "\n",
        "> 로그인 로직을 검증하는 함수 `login` 을 작성하세요.\n",
        "* login 함수는 `username`, `password`, `password_confirmation`을 인자로 받는다.\n",
        "* login 함수는 `username`과, `password`가 있는지 확인한다.\n",
        "* `password`가 8자리 이상인지 확인한다.\n",
        "* `password`와 `password_confirmation`이 일치하는지 확인한다."
      ]
    },
    {
      "cell_type": "code",
      "metadata": {
        "id": "T7zv2qbMdY9h"
      },
      "source": [
        "my_account = {\n",
        "    'username': '홍길동',\n",
        "    'password': '1q2w3e4r',\n",
        "    'password_confirmation': '1q2we4r'\n",
        "}"
      ],
      "execution_count": null,
      "outputs": []
    },
    {
      "cell_type": "code",
      "metadata": {
        "id": "NiSrhEzjdY9h"
      },
      "source": [
        "# login 함수를 작성하세요."
      ],
      "execution_count": null,
      "outputs": []
    },
    {
      "cell_type": "code",
      "metadata": {
        "id": "3viWdT_BdY9i"
      },
      "source": [
        "def login(username, password, password_confirmation): ###보통 딕셔너리에서 키값을 불러오려면 for문을 쓰는 식으로 한다.\n",
        "    if username and password:  ### 걍 이렇게 써놓으면 True 면 해당하고 False 면 넘어가는 똑똑이\n",
        "        if len(password) < 8:\n",
        "            return '비밀번호는 8자리 이상이어야 합니다.'\n",
        "        if password == password_confirmation:\n",
        "            return f'{username}님, 회원가입이 완료되었습니다.'\n",
        "        else:\n",
        "            '비밀번호와 비밀번호 확인이 일치하지 않습니다.'\n",
        "        return\n",
        "\n"
      ],
      "execution_count": null,
      "outputs": []
    },
    {
      "cell_type": "code",
      "metadata": {
        "id": "dJbDwSFkdY9i",
        "outputId": "1d506d6e-485c-4be6-bf17-938d2e4b7b54"
      },
      "source": [
        "# login 함수에 my_account를 넘겨 확인하세요.\n",
        "login(**my_account)"
      ],
      "execution_count": null,
      "outputs": [
        {
          "output_type": "error",
          "ename": "NameError",
          "evalue": "name 'my_account' is not defined",
          "traceback": [
            "\u001b[1;31m---------------------------------------------------------------------------\u001b[0m",
            "\u001b[1;31mNameError\u001b[0m                                 Traceback (most recent call last)",
            "\u001b[1;32m<ipython-input-8-8f82b9ef0189>\u001b[0m in \u001b[0;36m<module>\u001b[1;34m\u001b[0m\n\u001b[0;32m      1\u001b[0m \u001b[1;31m# login 함수에 my_account를 넘겨 확인하세요.\u001b[0m\u001b[1;33m\u001b[0m\u001b[1;33m\u001b[0m\u001b[1;33m\u001b[0m\u001b[0m\n\u001b[1;32m----> 2\u001b[1;33m \u001b[0mlogin\u001b[0m\u001b[1;33m(\u001b[0m\u001b[1;33m**\u001b[0m\u001b[0mmy_account\u001b[0m\u001b[1;33m)\u001b[0m\u001b[1;33m\u001b[0m\u001b[1;33m\u001b[0m\u001b[0m\n\u001b[0m",
            "\u001b[1;31mNameError\u001b[0m: name 'my_account' is not defined"
          ]
        }
      ]
    },
    {
      "cell_type": "markdown",
      "metadata": {
        "id": "rKHkZi7QdY9i"
      },
      "source": [
        "# ------------------------------------------------------------------------------ 1/22 (수)"
      ]
    },
    {
      "cell_type": "markdown",
      "metadata": {
        "id": "0VO9WvvpdY9i"
      },
      "source": [
        "###  [실습] URL 편하게 만들기\n",
        "\n",
        "> url 패턴을 만들어 문자열을 반환하는 `my_url` 함수를 작성하세요.\n",
        ">\n",
        "> 영진위에서 제공하는 일별 박스오피스 API 서비스는 다음과 같은 방식으로 요청을 받습니다.\n",
        "* 함수는 아래에서 제공되는 **기본 요청 URL**에 전달되는 키워드 인자들을 `key=value` 의 형태로 붙여서 반환한다.\n",
        "* keyword 인자가 2개 이상일 경우 `&` 문자로 keyword 인자들을 구분한다.\n",
        "\n",
        "```\n",
        "기본 요청 URL : http://www.kobis.or.kr/kobisopenapi/webservice/rest/boxoffice/searchDailyBoxOfficeList.json?\n",
        "key : 발급받은 키 값(abc)\n",
        "targetDt : yyyymmdd\n",
        "itemPerPage : 1 ~ 10 **기본 10**\n",
        "```\n",
        "\n",
        "---\n",
        "\n",
        "```python\n",
        "# 예시)\n",
        "# 1\n",
        "my_url(key='abc', targetDt='yyyymmdd')\n",
        "\n",
        "# 2\n",
        "api = {\n",
        "    'key': 'abc',\n",
        "    'targetDt': 'yyyymmdd'\n",
        "}\n",
        "my_url(**api)\n",
        "\n",
        "# 예시 출력)\n",
        "'http://www.kobis.or.kr/kobisopenapi/webservice/rest/boxoffice/searchDailyBoxOfficeList.json?itemPerPage=10&key=abc&targetDt=yyyymmdd&'\n",
        "```"
      ]
    },
    {
      "cell_type": "code",
      "metadata": {
        "id": "S11LMGXadY9i"
      },
      "source": [
        "# 아래에 코드를 작성해주세요."
      ],
      "execution_count": null,
      "outputs": []
    },
    {
      "cell_type": "code",
      "metadata": {
        "id": "J4Q83tcldY9j",
        "outputId": "97a8d934-7c14-4de0-ef1b-4de0b041ef40"
      },
      "source": [
        ""
      ],
      "execution_count": null,
      "outputs": [
        {
          "output_type": "execute_result",
          "data": {
            "text/plain": [
              "'http://www.kobis.or.kr/kobisopenapi/webservice/rest/boxoffice/searchDailyBoxOfficeList.json?itemPerPage=1&key=430156241533f1d058c603178cc3ca0e&targetDt=20200101&'"
            ]
          },
          "metadata": {
            "tags": []
          },
          "execution_count": 82
        }
      ]
    },
    {
      "cell_type": "markdown",
      "metadata": {
        "id": "F1oau2prdY9j"
      },
      "source": [
        "### [실습] URL 검증하기\n",
        "\n",
        "> 이제 우리는 만들어진 요청 보내기전에 URL을 검증해야합니다. \n",
        ">\n",
        "> 앞선 설명을 참고하여 검증 로직을 구현하고 문자열을 반환하세요.\n",
        "\n",
        "\n",
        "**아래의 두가지 상황만 만들도록 하겠습니다.**\n",
        "\n",
        "1. key 또는 targetDt 가 없으면, `필수 요청변수가 누락되었습니다.` 를 출력\n",
        "\n",
        "\n",
        "2. itemPerPage 의 범위가 1\\~10 을 넘어가면, `1~10 까지의 값을 넣어주세요.` 를 출력\n",
        "\n",
        "---\n",
        "\n",
        "```python\n",
        "# 예시)\n",
        "my_url(11, **api)\n",
        "\n",
        "# 예시 출력)\n",
        "'1~10 까지의 값을 넣어주세요.'\n",
        "```"
      ]
    },
    {
      "cell_type": "code",
      "metadata": {
        "id": "cD4sYOJ5dY9j"
      },
      "source": [
        "# 아래에 코드를 작성해주세요"
      ],
      "execution_count": null,
      "outputs": []
    },
    {
      "cell_type": "code",
      "metadata": {
        "id": "3KzgDpgJdY9j"
      },
      "source": [
        ""
      ],
      "execution_count": null,
      "outputs": []
    },
    {
      "cell_type": "markdown",
      "metadata": {
        "id": "OqtVXWQVdY9j"
      },
      "source": [
        "## 이름공간(namespace)\n",
        "\n",
        "파이썬에서 사용되는 이름들은 이름공간(namespce)에 저장되어 있습니다.\n",
        "\n",
        "그리고, `LEGB Rule` 을 가지고 있습니다. \n",
        "\n",
        "변수에서 값을 찾을 때 아래와 같은 순서대로 이름을 찾아나갑니다.\n",
        "\n",
        "* `L`ocal scope: 정의된 함수\n",
        "\n",
        "\n",
        "* `E`nclosed scope: 상위 함수 \n",
        "\n",
        "\n",
        "* `G`lobal scope: 함수 밖의 변수 혹은 import된 모듈\n",
        "\n",
        "\n",
        "* `B`uilt-in scope: 파이썬안에 내장되어 있는 함수 또는 속성"
      ]
    },
    {
      "cell_type": "code",
      "metadata": {
        "id": "RYxlMcqtdY9k"
      },
      "source": [
        "# 따라서 첫시간에 내장함수의 식별자를 사용할 수 없었던 예제에서 오류가 생기는 이유를 확인할 수 있습니다."
      ],
      "execution_count": null,
      "outputs": []
    },
    {
      "cell_type": "code",
      "metadata": {
        "id": "Rvj5zkE_dY9k"
      },
      "source": [
        ""
      ],
      "execution_count": null,
      "outputs": []
    },
    {
      "cell_type": "markdown",
      "metadata": {
        "id": "AXboAfondY9k"
      },
      "source": [
        "1. `str()` 코드가 실행되면\n",
        "\n",
        "\n",
        "2. 함수에서 실행된 코드가 아니기 때문에 `L`, `E` 를 스킵하고,\n",
        "\n",
        "\n",
        "3. str 을 Global scope에서 찾아서 `str = 4`를 가져오고, \n",
        "\n",
        "\n",
        "4. 이는 함수가 아니라 변수이기 때문에 `not callable`하다라는 오류를 내뱉게 됩니다.\n",
        "\n",
        "\n",
        "5. 우리가 원하는 `str()`은 Built-in scope에 있기 때문입니다."
      ]
    },
    {
      "cell_type": "code",
      "metadata": {
        "id": "GYOECXk9dY9k"
      },
      "source": [
        ""
      ],
      "execution_count": null,
      "outputs": []
    },
    {
      "cell_type": "code",
      "metadata": {
        "id": "udJZXz11dY9k",
        "outputId": "512fdb18-cc8f-4786-87fb-475545ad28e7"
      },
      "source": [
        "# print(a)에 무엇이 출력되는지 확인해보세요.\n"
      ],
      "execution_count": null,
      "outputs": [
        {
          "output_type": "execute_result",
          "data": {
            "text/plain": [
              "3"
            ]
          },
          "metadata": {
            "tags": []
          },
          "execution_count": 86
        }
      ]
    },
    {
      "cell_type": "code",
      "metadata": {
        "id": "3-Str0SidY9l"
      },
      "source": [
        "# 전역 변수를 바꿀 수 있을까요?"
      ],
      "execution_count": null,
      "outputs": []
    },
    {
      "cell_type": "code",
      "metadata": {
        "id": "TC3XQow1dY9l",
        "outputId": "9ab75ee3-1127-480b-a488-ca11180d47ea"
      },
      "source": [
        ""
      ],
      "execution_count": null,
      "outputs": [
        {
          "output_type": "stream",
          "text": [
            "global_num이 5으로 설정되었습니다.\n",
            "global_num: 3\n"
          ],
          "name": "stdout"
        }
      ]
    },
    {
      "cell_type": "code",
      "metadata": {
        "id": "OuMj6RDHdY9l"
      },
      "source": [
        "# 굳이 전역에 있는 변수를 바꾸고 싶다면, 아래와 같이 선언할 수 있습니다."
      ],
      "execution_count": null,
      "outputs": []
    },
    {
      "cell_type": "code",
      "metadata": {
        "id": "47LLS9wldY9l",
        "outputId": "84c38680-ee67-4e6d-849a-a0e37ca4a67b"
      },
      "source": [
        ""
      ],
      "execution_count": null,
      "outputs": [
        {
          "output_type": "stream",
          "text": [
            "5\n"
          ],
          "name": "stdout"
        }
      ]
    },
    {
      "cell_type": "markdown",
      "metadata": {
        "id": "Pa51Ral3dY9l"
      },
      "source": [
        "이름공간은 각자의 `수명주기`가 있습니다.\n",
        "\n",
        "* built-in names: 파이썬이 실행된 이후부터 영원히 유지\n",
        "\n",
        "\n",
        "* global namespace : 모듈이 호출된 시점 이후 혹은 이름 선언된 이후부터 인터프리터가 끝날때 까지 유지\n",
        "\n",
        "\n",
        "* local namespace : 함수가 호출될 때 생성되고, 함수가 가 종료될 때까지 유지 (함수 내에서 처리되지 않는 예외를 일으킬 때 삭제됨)"
      ]
    },
    {
      "cell_type": "markdown",
      "metadata": {
        "id": "mr2fOWQXdY9m"
      },
      "source": [
        "# 재귀 함수(recursive function)\n",
        "\n",
        "재귀 함수는 함수 내부에서 자기 자신을 호출 하는 함수를 뜻합니다.\n",
        "\n",
        "일반적인 상황보다는 알고리즘을 구현할 때 유용하게 사용합니다."
      ]
    },
    {
      "cell_type": "markdown",
      "metadata": {
        "id": "ditW0BbhdY9m"
      },
      "source": [
        "## 팩토리얼 계산\n",
        "> 팩토리얼은 1부터 n 까지 양의 정수를 차례대로 곱한 값이며 `!` 기호로 표기합니다. 예를 들어 3!은 3 * 2 * 1이며 결과는 6 입니다.\n",
        ">\n",
        "> `팩토리얼(factorial)`을 계산하는 함수 `fact(n)`를 작성하세요. \n",
        ">\n",
        "> n은 1보다 큰 정수라고 가정하고, 팩토리얼을 계산한 값을 반환합니다.\n",
        "\n",
        "$$\n",
        "\\displaystyle n! = \\prod_{ k = 1 }^{ n }{ k }\n",
        "$$\n",
        "\n",
        "$$\n",
        "\\displaystyle n! = 1*2*3*...*(n-1)*n\n",
        "$$\n",
        "\n",
        "---\n",
        "```\n",
        "예시 출력)\n",
        "120\n",
        "```"
      ]
    },
    {
      "cell_type": "markdown",
      "metadata": {
        "id": "ICOrBFGHdY9m"
      },
      "source": [
        "### 반복문을 이용한 팩토리얼 계산"
      ]
    },
    {
      "cell_type": "code",
      "metadata": {
        "id": "tY9FKqJjdY9m"
      },
      "source": [
        "# 아래에 코드를 작성해주세요."
      ],
      "execution_count": null,
      "outputs": []
    },
    {
      "cell_type": "code",
      "metadata": {
        "id": "TijIEAIsdY9m"
      },
      "source": [
        ""
      ],
      "execution_count": null,
      "outputs": []
    },
    {
      "cell_type": "code",
      "metadata": {
        "id": "P4yPRcA_dY9m"
      },
      "source": [
        "# 해당 코드를 통해 올바른 결과가 나오는지 확인하세요.\n",
        "fact(5)"
      ],
      "execution_count": null,
      "outputs": []
    },
    {
      "cell_type": "markdown",
      "metadata": {
        "id": "ORV81AmTdY9n"
      },
      "source": [
        "### 재귀를 이용한 팩토리얼 계산\n",
        "\n",
        "```\n",
        "1! = 1\n",
        "2! = 1 * 2 = 1! * 2 \n",
        "3! = 1 * 2 * 3 = 2! * 3\n",
        "```"
      ]
    },
    {
      "cell_type": "code",
      "metadata": {
        "id": "ggl9KMG-dY9n"
      },
      "source": [
        "# 아래에 factorial() 를 작성하세요."
      ],
      "execution_count": null,
      "outputs": []
    },
    {
      "cell_type": "code",
      "metadata": {
        "id": "-tiOIrAGdY9p"
      },
      "source": [
        ""
      ],
      "execution_count": null,
      "outputs": []
    },
    {
      "cell_type": "code",
      "metadata": {
        "id": "n9hamggidY9p"
      },
      "source": [
        "# 해당 코드를 통해 올바른 결과가 나오는지 확인하세요.\n",
        "factorial(5)"
      ],
      "execution_count": null,
      "outputs": []
    },
    {
      "cell_type": "markdown",
      "metadata": {
        "id": "kqNNe5MudY9p"
      },
      "source": [
        "<img width=\"846\" alt=\"팩톨팩톨\" src=\"https://user-images.githubusercontent.com/52446416/61354150-7b6b9480-a8ac-11e9-9172-81a33e092e85.png\">"
      ]
    },
    {
      "cell_type": "markdown",
      "metadata": {
        "id": "Iky6Tv5udY9q"
      },
      "source": [
        "## 반복문과 재귀함수\n",
        "```python\n",
        "factorial(3)\n",
        "3 * factorail(2)\n",
        "3 * 2 * factorial(1)\n",
        "3 * 2 * 1\n",
        "3 * 2\n",
        "6\n",
        "```\n",
        "\n",
        "* 두 코드 모두 원리는 같다! \n",
        "\n",
        "\n",
        "1. 반복문 코드\n",
        "    - n이 1보다 큰 경우 반복문을 돌며, n은 1씩 감소한다. \n",
        "    - 마지막에 n이 1이면 더 이상 반복문을 돌지 않는다.\n",
        "  \n",
        "  \n",
        "2. 재귀 함수 코드\n",
        "    - 재귀 함수를 호출하며, n은 1씩 감소한다. \n",
        "    - 마지막에 n이 1이면 더 이상 추가 함수를 호출하지 않는다.\n"
      ]
    },
    {
      "cell_type": "markdown",
      "metadata": {
        "id": "tMWey2xCdY9q"
      },
      "source": [
        "* 재귀함수는 기본적으로 같은 문제이지만 점점 범위가 줄어드는 문제를 풀게 된다.\n",
        "\n",
        "* 재귀함수를 작성시에는 반드시, `base case`가 존재 하여야 한다. \n",
        "\n",
        "* `base case`는 점점 범위가 줄어들어 반복되지 않는 최종적으로 도달하는 곳이다. \n",
        "\n",
        "* 재귀를 이용한 팩토리얼 계산에서의 base case는 **n이 1일때, 함수가 아닌 정수 반환하는 것**이다."
      ]
    },
    {
      "cell_type": "markdown",
      "metadata": {
        "id": "-o4_bzy-dY9q"
      },
      "source": [
        "* 자기 자신을 호출하는 재귀함수는 알고리즘 구현시 많이 사용된다.\n",
        "* 코드가 더 직관적이고 이해하기 쉬운 경우가 있다. (하지만, 만들기는 어려움)\n",
        "* [Python Tutor](https://goo.gl/k1hQYz)에 보면, 함수가 호출될 때마다 메모리 공간에 쌓이는 것을 볼 수 있다.\n",
        "* 이 경우, 메모리 스택이 넘치거나(Stack overflow) 프로그램 실행 속도가 늘어지는 단점이 생긴다.\n",
        "* 파이썬에서는 이를 방지하기 위해 1,000번이 넘어가게 되면 더이상 함수를 호출하지 않고, 종료된다. (최대 재귀 깊이)"
      ]
    },
    {
      "cell_type": "markdown",
      "metadata": {
        "id": "J8KQagRUdY9q"
      },
      "source": [
        "### 최대 재귀 깊이\n",
        "\n",
        "<img width=\"815\" alt=\"재귀재귀\" src=\"https://user-images.githubusercontent.com/52446416/61354145-79093a80-a8ac-11e9-88e4-3935ccb54703.png\">\n",
        "\n",
        "```python\n",
        "def ssafy():\n",
        "    print('Hello, ssafy!')\n",
        "    ssafy()\n",
        " \n",
        "ssafy()\n",
        "```\n",
        "---\n",
        "\n",
        "`ssafy()`를 호출하면 아래와 같이 문자열이 계속 출력되다가 RecursionError가 발생합니다.\n",
        "\n",
        "파이썬에서는 최대 재귀 깊이(maximum recursion depth)가 1,000으로 정해져 있기 때문입니다.\n",
        "\n",
        "---\n",
        "\n",
        "```bash\n",
        "Hello, world!\n",
        "Hello, world!\n",
        "...\n",
        "Hello, world!\n",
        "---------------------------------------------------------------------------\n",
        "RecursionError                            Traceback (most recent call last)\n",
        "\n",
        "...\n",
        "\n",
        "<ipython-input-11-2bbb40950c86> in hello()\n",
        "      1 def hello():\n",
        "      2     print('Hello, world!')\n",
        "----> 3     hello()\n",
        "      4 \n",
        "      5 hello()\n",
        "\n",
        "RecursionError: maximum recursion depth exceeded while calling a Python object\n",
        "```"
      ]
    },
    {
      "cell_type": "code",
      "metadata": {
        "id": "0Gx_aPnsdY9r"
      },
      "source": [
        "# 직접 오류를 확인하세요."
      ],
      "execution_count": null,
      "outputs": []
    },
    {
      "cell_type": "code",
      "metadata": {
        "id": "hhZnzuE_dY9r"
      },
      "source": [
        ""
      ],
      "execution_count": null,
      "outputs": []
    },
    {
      "cell_type": "markdown",
      "metadata": {
        "id": "SHZGTeCjdY9r"
      },
      "source": [
        "## 피보나치 수열\n",
        "\n",
        "첫째 및 둘째 항이 1이며 그 뒤의 모든 항은 바로 앞 두 항의 합인 수열입니다. \n",
        "\n",
        "(0), 1, 1, 2, 3, 5, 8\n",
        "\n",
        "> 피보나치 수열은 다음과 같은 점화식이 있습니다. \n",
        ">\n",
        "> 피보나치 값을 리턴하는 두가지 방식의 코드를 모두 작성해주세요.\n",
        ">\n",
        "\n",
        "$$\n",
        "\\displaystyle F_0 = F_1 = 1\n",
        "$$\n",
        "\n",
        "$$\n",
        "F_n=F_{n-1}+F_{n-2}\\qquad(n\\in\\{2,3,4,\\dots\\})\n",
        "$$\n",
        "\n",
        "1) `fib(n)` : 재귀함수\n",
        "\n",
        "2) `fib_loop(n)` : 반복문 활용한 함수\n",
        "\n",
        "---\n",
        "```\n",
        "예시 입력)\n",
        "fib(10)\n",
        "\n",
        "예시 호출)\n",
        "55\n",
        "```"
      ]
    },
    {
      "cell_type": "code",
      "metadata": {
        "id": "HF9iEMYFdY9r"
      },
      "source": [
        "# 재귀를 이용한 코드 fib() 를 작성하세요."
      ],
      "execution_count": null,
      "outputs": []
    },
    {
      "cell_type": "code",
      "metadata": {
        "id": "w5Ij5T6-dY9s"
      },
      "source": [
        "# n 이 0이나 1일 때는 값도 0, 1이기 때문에 그대로 반환하면 되고, \n",
        "# 2 이상일 때만 재귀 함수 두개로 분기해 값을 반환합니다.\n"
      ],
      "execution_count": null,
      "outputs": []
    },
    {
      "cell_type": "code",
      "metadata": {
        "id": "u8pYPCtxdY9s",
        "outputId": "425589c0-1465-4f82-9c18-36af892d4d2f"
      },
      "source": [
        "# 해당 코드를 통해 올바른 결과가 나오는지 확인하세요.\n"
      ],
      "execution_count": null,
      "outputs": [
        {
          "output_type": "execute_result",
          "data": {
            "text/plain": [
              "55"
            ]
          },
          "metadata": {
            "tags": []
          },
          "execution_count": 92
        }
      ]
    },
    {
      "cell_type": "code",
      "metadata": {
        "id": "PfPOn16ddY9s"
      },
      "source": [
        "# 반복문을 이용한 코드 fib_loop() 를 작성하세요."
      ],
      "execution_count": null,
      "outputs": []
    },
    {
      "cell_type": "code",
      "metadata": {
        "id": "EMkVgqEVdY9s",
        "outputId": "13c6c9b3-c17e-4052-b102-a21cc1010cde"
      },
      "source": [
        ""
      ],
      "execution_count": null,
      "outputs": [
        {
          "output_type": "stream",
          "text": [
            "0 1 1 2 3 5 8 13 21 "
          ],
          "name": "stdout"
        },
        {
          "output_type": "execute_result",
          "data": {
            "text/plain": [
              "55"
            ]
          },
          "metadata": {
            "tags": []
          },
          "execution_count": 83
        }
      ]
    },
    {
      "cell_type": "code",
      "metadata": {
        "id": "anB6X_HUdY9s"
      },
      "source": [
        "# 해당 코드를 통해 올바른 결과가 나오는지 확인하세요.\n"
      ],
      "execution_count": null,
      "outputs": []
    },
    {
      "cell_type": "markdown",
      "metadata": {
        "id": "xPSrtV8cdY9t"
      },
      "source": [
        "## 반복문과 재귀 함수의 차이\n",
        "\n",
        "* 알고리즘 자체가 재귀적인 표현이 자연스러운 경우 재귀함수를 사용한다.\n",
        "* 재귀 호출은 `변수 사용` 을 줄여줄 수 있다."
      ]
    },
    {
      "cell_type": "code",
      "metadata": {
        "id": "qE--RJ-YdY9t"
      },
      "source": [
        "# 큰 숫자를 재귀로 짜여진 fib() 함수의 인자로 넘겨보세요."
      ],
      "execution_count": null,
      "outputs": []
    },
    {
      "cell_type": "code",
      "metadata": {
        "id": "3-VjknAMdY9t"
      },
      "source": [
        ""
      ],
      "execution_count": null,
      "outputs": []
    },
    {
      "cell_type": "code",
      "metadata": {
        "id": "5IU7XEDndY9t"
      },
      "source": [
        "# 100배 되는 숫자를 반복문으로 짜여진 fib_loop() 인자로 넘겨보세요."
      ],
      "execution_count": null,
      "outputs": []
    },
    {
      "cell_type": "code",
      "metadata": {
        "id": "zXFvIpGjdY9t"
      },
      "source": [
        ""
      ],
      "execution_count": null,
      "outputs": []
    }
  ]
}